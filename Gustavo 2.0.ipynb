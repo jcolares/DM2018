{
 "cells": [
  {
   "cell_type": "code",
   "execution_count": 15,
   "metadata": {},
   "outputs": [],
   "source": [
    "load(\"../DM2018/vrawu17.RData\")"
   ]
  },
  {
   "cell_type": "code",
   "execution_count": 19,
   "metadata": {},
   "outputs": [
    {
     "data": {
      "text/html": [
       "<table>\n",
       "<thead><tr><th scope=col>codigo_tipo_linha</th><th scope=col>cod_justificativa</th><th scope=col>icao_empresa</th><th scope=col>codigo_di</th><th scope=col>icao_destino</th><th scope=col>icao_origem</th><th scope=col>timekey_partida</th><th scope=col>voo</th><th scope=col>partida_prevista</th><th scope=col>partida_real</th><th scope=col>...</th><th scope=col>destino_descricao</th><th scope=col>destino_cidade</th><th scope=col>destino_uf</th><th scope=col>destino_pais</th><th scope=col>destino_continente</th><th scope=col>descricao_codigo_di</th><th scope=col>empresa</th><th scope=col>nacionalidade</th><th scope=col>descricao_justificativa</th><th scope=col>tipo_linha</th></tr></thead>\n",
       "<tbody>\n",
       "\t<tr><td>                                                                     </td><td>XN                                                                   </td><td>LTG                                                                  </td><td>0                                                                    </td><td>SCDA                                                                 </td><td>SBEG                                                                 </td><td>201708131500                                                         </td><td>8484                                                                 </td><td>2017-08-13 15:20:00                                                  </td><td>NA                                                                   </td><td>...                                                                  </td><td>DIEGO ARACENA INTERNATIONAL AIRPORT                                  </td><td>IQUIQUE                                                              </td><td>NA                                                                   </td><td>CHILE                                                                </td><td>AMERICA DO SUL                                                       </td><td>Vôo Regular                                                          </td><td>ABSA                                                                 </td><td>BRASILEIRA                                                           </td><td>CANCELAMENTO POR MOTIVOS TÉCNICOS / OPERACIONAIS                     </td><td>NA                                                                   </td></tr>\n",
       "\t<tr><td>                                                                     </td><td>XB                                                                   </td><td>TPA                                                                  </td><td>0                                                                    </td><td>SBCT                                                                 </td><td>KMIA                                                                 </td><td>201708130900                                                         </td><td> 843                                                                 </td><td>2017-08-13 09:00:00                                                  </td><td>NA                                                                   </td><td>...                                                                  </td><td>AFONSO PENA                                                          </td><td>SÃO JOSÉ DOS PINHAIS                                                 </td><td>PR                                                                   </td><td>BRASIL                                                               </td><td>AMERICA DO SUL                                                       </td><td>Vôo Regular                                                          </td><td>TAMPA S/A                                                            </td><td>ESTRANGEIRA                                                          </td><td>AUTORIZADO                                                           </td><td>NA                                                                   </td></tr>\n",
       "\t<tr><td>                                                                     </td><td>NA                                                                   </td><td>LTG                                                                  </td><td>0                                                                    </td><td>SVMI                                                                 </td><td>SBEG                                                                 </td><td>201708132100                                                         </td><td>8472                                                                 </td><td>2017-08-13 21:42:00                                                  </td><td>2017-08-13 23:46:00                                                  </td><td>...                                                                  </td><td>SIMON BOLIVAR INTERNATIONAL AIRPORT (MAIQUETIA INTERNATIONAL AIRPORT)</td><td>CARACAS/INTL                                                         </td><td>NA                                                                   </td><td>VENEZUELA                                                            </td><td>AMERICA DO SUL                                                       </td><td>Vôo Regular                                                          </td><td>ABSA                                                                 </td><td>BRASILEIRA                                                           </td><td>NA                                                                   </td><td>NA                                                                   </td></tr>\n",
       "\t<tr><td>                                                                     </td><td>XN                                                                   </td><td>LCO                                                                  </td><td>0                                                                    </td><td>SBKP                                                                 </td><td>SBEG                                                                 </td><td>201708140100                                                         </td><td>1509                                                                 </td><td>2017-08-14 01:25:00                                                  </td><td>NA                                                                   </td><td>...                                                                  </td><td>VIRACOPOS                                                            </td><td>CAMPINAS                                                             </td><td>SP                                                                   </td><td>BRASIL                                                               </td><td>AMERICA DO SUL                                                       </td><td>Vôo Regular                                                          </td><td>LAN CARGO S.A                                                        </td><td>ESTRANGEIRA                                                          </td><td>CANCELAMENTO POR MOTIVOS TÉCNICOS / OPERACIONAIS                     </td><td>NA                                                                   </td></tr>\n",
       "\t<tr><td>                                                                     </td><td>XN                                                                   </td><td>GLO                                                                  </td><td>0                                                                    </td><td>SBCT                                                                 </td><td>SBPA                                                                 </td><td>201708131300                                                         </td><td>1986                                                                 </td><td>2017-08-13 13:02:00                                                  </td><td>NA                                                                   </td><td>...                                                                  </td><td>AFONSO PENA                                                          </td><td>SÃO JOSÉ DOS PINHAIS                                                 </td><td>PR                                                                   </td><td>BRASIL                                                               </td><td>AMERICA DO SUL                                                       </td><td>Vôo Regular                                                          </td><td>GOL                                                                  </td><td>BRASILEIRA                                                           </td><td>CANCELAMENTO POR MOTIVOS TÉCNICOS / OPERACIONAIS                     </td><td>NA                                                                   </td></tr>\n",
       "\t<tr><td>                                                                     </td><td>XN                                                                   </td><td>LTG                                                                  </td><td>0                                                                    </td><td>SGES                                                                 </td><td>SGAS                                                                 </td><td>201708130800                                                         </td><td>8443                                                                 </td><td>2017-08-13 08:00:00                                                  </td><td>NA                                                                   </td><td>...                                                                  </td><td>GUARANI INTERNATIONAL AIRPORT                                        </td><td>CIDADE DEL ESTE                                                      </td><td>NA                                                                   </td><td>PARAGUAI                                                             </td><td>AMERICA DO SUL                                                       </td><td>Vôo Regular                                                          </td><td>ABSA                                                                 </td><td>BRASILEIRA                                                           </td><td>CANCELAMENTO POR MOTIVOS TÉCNICOS / OPERACIONAIS                     </td><td>NA                                                                   </td></tr>\n",
       "</tbody>\n",
       "</table>\n"
      ],
      "text/latex": [
       "\\begin{tabular}{r|lllllllllllllllllllllllllllllllllllllllllllllllll}\n",
       " codigo\\_tipo\\_linha & cod\\_justificativa & icao\\_empresa & codigo\\_di & icao\\_destino & icao\\_origem & timekey\\_partida & voo & partida\\_prevista & partida\\_real & ... & destino\\_descricao & destino\\_cidade & destino\\_uf & destino\\_pais & destino\\_continente & descricao\\_codigo\\_di & empresa & nacionalidade & descricao\\_justificativa & tipo\\_linha\\\\\n",
       "\\hline\n",
       "\t                                                                       & XN                                                                    & LTG                                                                   & 0                                                                     & SCDA                                                                  & SBEG                                                                  & 201708131500                                                          & 8484                                                                  & 2017-08-13 15:20:00                                                   & NA                                                                    & ...                                                                   & DIEGO ARACENA INTERNATIONAL AIRPORT                                   & IQUIQUE                                                               & NA                                                                    & CHILE                                                                 & AMERICA DO SUL                                                        & Vôo Regular                                                           & ABSA                                                                  & BRASILEIRA                                                            & CANCELAMENTO POR MOTIVOS TÉCNICOS / OPERACIONAIS                      & NA                                                                   \\\\\n",
       "\t                                                                       & XB                                                                    & TPA                                                                   & 0                                                                     & SBCT                                                                  & KMIA                                                                  & 201708130900                                                          &  843                                                                  & 2017-08-13 09:00:00                                                   & NA                                                                    & ...                                                                   & AFONSO PENA                                                           & SÃO JOSÉ DOS PINHAIS                                                  & PR                                                                    & BRASIL                                                                & AMERICA DO SUL                                                        & Vôo Regular                                                           & TAMPA S/A                                                             & ESTRANGEIRA                                                           & AUTORIZADO                                                            & NA                                                                   \\\\\n",
       "\t                                                                       & NA                                                                    & LTG                                                                   & 0                                                                     & SVMI                                                                  & SBEG                                                                  & 201708132100                                                          & 8472                                                                  & 2017-08-13 21:42:00                                                   & 2017-08-13 23:46:00                                                   & ...                                                                   & SIMON BOLIVAR INTERNATIONAL AIRPORT (MAIQUETIA INTERNATIONAL AIRPORT) & CARACAS/INTL                                                          & NA                                                                    & VENEZUELA                                                             & AMERICA DO SUL                                                        & Vôo Regular                                                           & ABSA                                                                  & BRASILEIRA                                                            & NA                                                                    & NA                                                                   \\\\\n",
       "\t                                                                       & XN                                                                    & LCO                                                                   & 0                                                                     & SBKP                                                                  & SBEG                                                                  & 201708140100                                                          & 1509                                                                  & 2017-08-14 01:25:00                                                   & NA                                                                    & ...                                                                   & VIRACOPOS                                                             & CAMPINAS                                                              & SP                                                                    & BRASIL                                                                & AMERICA DO SUL                                                        & Vôo Regular                                                           & LAN CARGO S.A                                                         & ESTRANGEIRA                                                           & CANCELAMENTO POR MOTIVOS TÉCNICOS / OPERACIONAIS                      & NA                                                                   \\\\\n",
       "\t                                                                       & XN                                                                    & GLO                                                                   & 0                                                                     & SBCT                                                                  & SBPA                                                                  & 201708131300                                                          & 1986                                                                  & 2017-08-13 13:02:00                                                   & NA                                                                    & ...                                                                   & AFONSO PENA                                                           & SÃO JOSÉ DOS PINHAIS                                                  & PR                                                                    & BRASIL                                                                & AMERICA DO SUL                                                        & Vôo Regular                                                           & GOL                                                                   & BRASILEIRA                                                            & CANCELAMENTO POR MOTIVOS TÉCNICOS / OPERACIONAIS                      & NA                                                                   \\\\\n",
       "\t                                                                       & XN                                                                    & LTG                                                                   & 0                                                                     & SGES                                                                  & SGAS                                                                  & 201708130800                                                          & 8443                                                                  & 2017-08-13 08:00:00                                                   & NA                                                                    & ...                                                                   & GUARANI INTERNATIONAL AIRPORT                                         & CIDADE DEL ESTE                                                       & NA                                                                    & PARAGUAI                                                              & AMERICA DO SUL                                                        & Vôo Regular                                                           & ABSA                                                                  & BRASILEIRA                                                            & CANCELAMENTO POR MOTIVOS TÉCNICOS / OPERACIONAIS                      & NA                                                                   \\\\\n",
       "\\end{tabular}\n"
      ],
      "text/markdown": [
       "\n",
       "codigo_tipo_linha | cod_justificativa | icao_empresa | codigo_di | icao_destino | icao_origem | timekey_partida | voo | partida_prevista | partida_real | ... | destino_descricao | destino_cidade | destino_uf | destino_pais | destino_continente | descricao_codigo_di | empresa | nacionalidade | descricao_justificativa | tipo_linha | \n",
       "|---|---|---|---|---|---|\n",
       "|                                                                       | XN                                                                    | LTG                                                                   | 0                                                                     | SCDA                                                                  | SBEG                                                                  | 201708131500                                                          | 8484                                                                  | 2017-08-13 15:20:00                                                   | NA                                                                    | ...                                                                   | DIEGO ARACENA INTERNATIONAL AIRPORT                                   | IQUIQUE                                                               | NA                                                                    | CHILE                                                                 | AMERICA DO SUL                                                        | Vôo Regular                                                           | ABSA                                                                  | BRASILEIRA                                                            | CANCELAMENTO POR MOTIVOS TÉCNICOS / OPERACIONAIS                      | NA                                                                    | \n",
       "|                                                                       | XB                                                                    | TPA                                                                   | 0                                                                     | SBCT                                                                  | KMIA                                                                  | 201708130900                                                          |  843                                                                  | 2017-08-13 09:00:00                                                   | NA                                                                    | ...                                                                   | AFONSO PENA                                                           | SÃO JOSÉ DOS PINHAIS                                                  | PR                                                                    | BRASIL                                                                | AMERICA DO SUL                                                        | Vôo Regular                                                           | TAMPA S/A                                                             | ESTRANGEIRA                                                           | AUTORIZADO                                                            | NA                                                                    | \n",
       "|                                                                       | NA                                                                    | LTG                                                                   | 0                                                                     | SVMI                                                                  | SBEG                                                                  | 201708132100                                                          | 8472                                                                  | 2017-08-13 21:42:00                                                   | 2017-08-13 23:46:00                                                   | ...                                                                   | SIMON BOLIVAR INTERNATIONAL AIRPORT (MAIQUETIA INTERNATIONAL AIRPORT) | CARACAS/INTL                                                          | NA                                                                    | VENEZUELA                                                             | AMERICA DO SUL                                                        | Vôo Regular                                                           | ABSA                                                                  | BRASILEIRA                                                            | NA                                                                    | NA                                                                    | \n",
       "|                                                                       | XN                                                                    | LCO                                                                   | 0                                                                     | SBKP                                                                  | SBEG                                                                  | 201708140100                                                          | 1509                                                                  | 2017-08-14 01:25:00                                                   | NA                                                                    | ...                                                                   | VIRACOPOS                                                             | CAMPINAS                                                              | SP                                                                    | BRASIL                                                                | AMERICA DO SUL                                                        | Vôo Regular                                                           | LAN CARGO S.A                                                         | ESTRANGEIRA                                                           | CANCELAMENTO POR MOTIVOS TÉCNICOS / OPERACIONAIS                      | NA                                                                    | \n",
       "|                                                                       | XN                                                                    | GLO                                                                   | 0                                                                     | SBCT                                                                  | SBPA                                                                  | 201708131300                                                          | 1986                                                                  | 2017-08-13 13:02:00                                                   | NA                                                                    | ...                                                                   | AFONSO PENA                                                           | SÃO JOSÉ DOS PINHAIS                                                  | PR                                                                    | BRASIL                                                                | AMERICA DO SUL                                                        | Vôo Regular                                                           | GOL                                                                   | BRASILEIRA                                                            | CANCELAMENTO POR MOTIVOS TÉCNICOS / OPERACIONAIS                      | NA                                                                    | \n",
       "|                                                                       | XN                                                                    | LTG                                                                   | 0                                                                     | SGES                                                                  | SGAS                                                                  | 201708130800                                                          | 8443                                                                  | 2017-08-13 08:00:00                                                   | NA                                                                    | ...                                                                   | GUARANI INTERNATIONAL AIRPORT                                         | CIDADE DEL ESTE                                                       | NA                                                                    | PARAGUAI                                                              | AMERICA DO SUL                                                        | Vôo Regular                                                           | ABSA                                                                  | BRASILEIRA                                                            | CANCELAMENTO POR MOTIVOS TÉCNICOS / OPERACIONAIS                      | NA                                                                    | \n",
       "\n",
       "\n"
      ],
      "text/plain": [
       "  codigo_tipo_linha cod_justificativa icao_empresa codigo_di icao_destino\n",
       "1                   XN                LTG          0         SCDA        \n",
       "2                   XB                TPA          0         SBCT        \n",
       "3                   NA                LTG          0         SVMI        \n",
       "4                   XN                LCO          0         SBKP        \n",
       "5                   XN                GLO          0         SBCT        \n",
       "6                   XN                LTG          0         SGES        \n",
       "  icao_origem timekey_partida voo  partida_prevista    partida_real        ...\n",
       "1 SBEG        201708131500    8484 2017-08-13 15:20:00 <NA>                ...\n",
       "2 KMIA        201708130900     843 2017-08-13 09:00:00 <NA>                ...\n",
       "3 SBEG        201708132100    8472 2017-08-13 21:42:00 2017-08-13 23:46:00 ...\n",
       "4 SBEG        201708140100    1509 2017-08-14 01:25:00 <NA>                ...\n",
       "5 SBPA        201708131300    1986 2017-08-13 13:02:00 <NA>                ...\n",
       "6 SGAS        201708130800    8443 2017-08-13 08:00:00 <NA>                ...\n",
       "  destino_descricao                                                    \n",
       "1 DIEGO ARACENA INTERNATIONAL AIRPORT                                  \n",
       "2 AFONSO PENA                                                          \n",
       "3 SIMON BOLIVAR INTERNATIONAL AIRPORT (MAIQUETIA INTERNATIONAL AIRPORT)\n",
       "4 VIRACOPOS                                                            \n",
       "5 AFONSO PENA                                                          \n",
       "6 GUARANI INTERNATIONAL AIRPORT                                        \n",
       "  destino_cidade       destino_uf destino_pais destino_continente\n",
       "1 IQUIQUE              NA         CHILE        AMERICA DO SUL    \n",
       "2 SÃO JOSÉ DOS PINHAIS PR         BRASIL       AMERICA DO SUL    \n",
       "3 CARACAS/INTL         NA         VENEZUELA    AMERICA DO SUL    \n",
       "4 CAMPINAS             SP         BRASIL       AMERICA DO SUL    \n",
       "5 SÃO JOSÉ DOS PINHAIS PR         BRASIL       AMERICA DO SUL    \n",
       "6 CIDADE DEL ESTE      NA         PARAGUAI     AMERICA DO SUL    \n",
       "  descricao_codigo_di empresa       nacionalidade\n",
       "1 Vôo Regular         ABSA          BRASILEIRA   \n",
       "2 Vôo Regular         TAMPA S/A     ESTRANGEIRA  \n",
       "3 Vôo Regular         ABSA          BRASILEIRA   \n",
       "4 Vôo Regular         LAN CARGO S.A ESTRANGEIRA  \n",
       "5 Vôo Regular         GOL           BRASILEIRA   \n",
       "6 Vôo Regular         ABSA          BRASILEIRA   \n",
       "  descricao_justificativa                          tipo_linha\n",
       "1 CANCELAMENTO POR MOTIVOS TÉCNICOS / OPERACIONAIS NA        \n",
       "2 AUTORIZADO                                       NA        \n",
       "3 NA                                               NA        \n",
       "4 CANCELAMENTO POR MOTIVOS TÉCNICOS / OPERACIONAIS NA        \n",
       "5 CANCELAMENTO POR MOTIVOS TÉCNICOS / OPERACIONAIS NA        \n",
       "6 CANCELAMENTO POR MOTIVOS TÉCNICOS / OPERACIONAIS NA        "
      ]
     },
     "metadata": {},
     "output_type": "display_data"
    },
    {
     "data": {
      "text/html": [
       "<ol class=list-inline>\n",
       "\t<li>'codigo_tipo_linha'</li>\n",
       "\t<li>'cod_justificativa'</li>\n",
       "\t<li>'icao_empresa'</li>\n",
       "\t<li>'codigo_di'</li>\n",
       "\t<li>'icao_destino'</li>\n",
       "\t<li>'icao_origem'</li>\n",
       "\t<li>'timekey_partida'</li>\n",
       "\t<li>'voo'</li>\n",
       "\t<li>'partida_prevista'</li>\n",
       "\t<li>'partida_real'</li>\n",
       "\t<li>'chegada_prevista'</li>\n",
       "\t<li>'chegada_real'</li>\n",
       "\t<li>'situacao_voo'</li>\n",
       "\t<li>'timekey_chegada'</li>\n",
       "\t<li>'atraso_partida'</li>\n",
       "\t<li>'atraso_chegada'</li>\n",
       "\t<li>'origem_data'</li>\n",
       "\t<li>'origem_hora'</li>\n",
       "\t<li>'origem_temperatura'</li>\n",
       "\t<li>'origem_dew_point'</li>\n",
       "\t<li>'origem_umidade'</li>\n",
       "\t<li>'origem_pressao'</li>\n",
       "\t<li>'origem_visibilidade'</li>\n",
       "\t<li>'origem_eventos'</li>\n",
       "\t<li>'origem_condicoes'</li>\n",
       "\t<li>'destino_data'</li>\n",
       "\t<li>'destino_hora'</li>\n",
       "\t<li>'destino_temperatura'</li>\n",
       "\t<li>'destino_dew_point'</li>\n",
       "\t<li>'destino_umidade'</li>\n",
       "\t<li>'destino_pressao'</li>\n",
       "\t<li>'destino_visibilidade'</li>\n",
       "\t<li>'destino_eventos'</li>\n",
       "\t<li>'destino_condicoes'</li>\n",
       "\t<li>'origem_descricao'</li>\n",
       "\t<li>'origem_cidade'</li>\n",
       "\t<li>'origem_uf'</li>\n",
       "\t<li>'origem_pais'</li>\n",
       "\t<li>'origem_continente'</li>\n",
       "\t<li>'destino_descricao'</li>\n",
       "\t<li>'destino_cidade'</li>\n",
       "\t<li>'destino_uf'</li>\n",
       "\t<li>'destino_pais'</li>\n",
       "\t<li>'destino_continente'</li>\n",
       "\t<li>'descricao_codigo_di'</li>\n",
       "\t<li>'empresa'</li>\n",
       "\t<li>'nacionalidade'</li>\n",
       "\t<li>'descricao_justificativa'</li>\n",
       "\t<li>'tipo_linha'</li>\n",
       "</ol>\n"
      ],
      "text/latex": [
       "\\begin{enumerate*}\n",
       "\\item 'codigo\\_tipo\\_linha'\n",
       "\\item 'cod\\_justificativa'\n",
       "\\item 'icao\\_empresa'\n",
       "\\item 'codigo\\_di'\n",
       "\\item 'icao\\_destino'\n",
       "\\item 'icao\\_origem'\n",
       "\\item 'timekey\\_partida'\n",
       "\\item 'voo'\n",
       "\\item 'partida\\_prevista'\n",
       "\\item 'partida\\_real'\n",
       "\\item 'chegada\\_prevista'\n",
       "\\item 'chegada\\_real'\n",
       "\\item 'situacao\\_voo'\n",
       "\\item 'timekey\\_chegada'\n",
       "\\item 'atraso\\_partida'\n",
       "\\item 'atraso\\_chegada'\n",
       "\\item 'origem\\_data'\n",
       "\\item 'origem\\_hora'\n",
       "\\item 'origem\\_temperatura'\n",
       "\\item 'origem\\_dew\\_point'\n",
       "\\item 'origem\\_umidade'\n",
       "\\item 'origem\\_pressao'\n",
       "\\item 'origem\\_visibilidade'\n",
       "\\item 'origem\\_eventos'\n",
       "\\item 'origem\\_condicoes'\n",
       "\\item 'destino\\_data'\n",
       "\\item 'destino\\_hora'\n",
       "\\item 'destino\\_temperatura'\n",
       "\\item 'destino\\_dew\\_point'\n",
       "\\item 'destino\\_umidade'\n",
       "\\item 'destino\\_pressao'\n",
       "\\item 'destino\\_visibilidade'\n",
       "\\item 'destino\\_eventos'\n",
       "\\item 'destino\\_condicoes'\n",
       "\\item 'origem\\_descricao'\n",
       "\\item 'origem\\_cidade'\n",
       "\\item 'origem\\_uf'\n",
       "\\item 'origem\\_pais'\n",
       "\\item 'origem\\_continente'\n",
       "\\item 'destino\\_descricao'\n",
       "\\item 'destino\\_cidade'\n",
       "\\item 'destino\\_uf'\n",
       "\\item 'destino\\_pais'\n",
       "\\item 'destino\\_continente'\n",
       "\\item 'descricao\\_codigo\\_di'\n",
       "\\item 'empresa'\n",
       "\\item 'nacionalidade'\n",
       "\\item 'descricao\\_justificativa'\n",
       "\\item 'tipo\\_linha'\n",
       "\\end{enumerate*}\n"
      ],
      "text/markdown": [
       "1. 'codigo_tipo_linha'\n",
       "2. 'cod_justificativa'\n",
       "3. 'icao_empresa'\n",
       "4. 'codigo_di'\n",
       "5. 'icao_destino'\n",
       "6. 'icao_origem'\n",
       "7. 'timekey_partida'\n",
       "8. 'voo'\n",
       "9. 'partida_prevista'\n",
       "10. 'partida_real'\n",
       "11. 'chegada_prevista'\n",
       "12. 'chegada_real'\n",
       "13. 'situacao_voo'\n",
       "14. 'timekey_chegada'\n",
       "15. 'atraso_partida'\n",
       "16. 'atraso_chegada'\n",
       "17. 'origem_data'\n",
       "18. 'origem_hora'\n",
       "19. 'origem_temperatura'\n",
       "20. 'origem_dew_point'\n",
       "21. 'origem_umidade'\n",
       "22. 'origem_pressao'\n",
       "23. 'origem_visibilidade'\n",
       "24. 'origem_eventos'\n",
       "25. 'origem_condicoes'\n",
       "26. 'destino_data'\n",
       "27. 'destino_hora'\n",
       "28. 'destino_temperatura'\n",
       "29. 'destino_dew_point'\n",
       "30. 'destino_umidade'\n",
       "31. 'destino_pressao'\n",
       "32. 'destino_visibilidade'\n",
       "33. 'destino_eventos'\n",
       "34. 'destino_condicoes'\n",
       "35. 'origem_descricao'\n",
       "36. 'origem_cidade'\n",
       "37. 'origem_uf'\n",
       "38. 'origem_pais'\n",
       "39. 'origem_continente'\n",
       "40. 'destino_descricao'\n",
       "41. 'destino_cidade'\n",
       "42. 'destino_uf'\n",
       "43. 'destino_pais'\n",
       "44. 'destino_continente'\n",
       "45. 'descricao_codigo_di'\n",
       "46. 'empresa'\n",
       "47. 'nacionalidade'\n",
       "48. 'descricao_justificativa'\n",
       "49. 'tipo_linha'\n",
       "\n",
       "\n"
      ],
      "text/plain": [
       " [1] \"codigo_tipo_linha\"       \"cod_justificativa\"      \n",
       " [3] \"icao_empresa\"            \"codigo_di\"              \n",
       " [5] \"icao_destino\"            \"icao_origem\"            \n",
       " [7] \"timekey_partida\"         \"voo\"                    \n",
       " [9] \"partida_prevista\"        \"partida_real\"           \n",
       "[11] \"chegada_prevista\"        \"chegada_real\"           \n",
       "[13] \"situacao_voo\"            \"timekey_chegada\"        \n",
       "[15] \"atraso_partida\"          \"atraso_chegada\"         \n",
       "[17] \"origem_data\"             \"origem_hora\"            \n",
       "[19] \"origem_temperatura\"      \"origem_dew_point\"       \n",
       "[21] \"origem_umidade\"          \"origem_pressao\"         \n",
       "[23] \"origem_visibilidade\"     \"origem_eventos\"         \n",
       "[25] \"origem_condicoes\"        \"destino_data\"           \n",
       "[27] \"destino_hora\"            \"destino_temperatura\"    \n",
       "[29] \"destino_dew_point\"       \"destino_umidade\"        \n",
       "[31] \"destino_pressao\"         \"destino_visibilidade\"   \n",
       "[33] \"destino_eventos\"         \"destino_condicoes\"      \n",
       "[35] \"origem_descricao\"        \"origem_cidade\"          \n",
       "[37] \"origem_uf\"               \"origem_pais\"            \n",
       "[39] \"origem_continente\"       \"destino_descricao\"      \n",
       "[41] \"destino_cidade\"          \"destino_uf\"             \n",
       "[43] \"destino_pais\"            \"destino_continente\"     \n",
       "[45] \"descricao_codigo_di\"     \"empresa\"                \n",
       "[47] \"nacionalidade\"           \"descricao_justificativa\"\n",
       "[49] \"tipo_linha\"             "
      ]
     },
     "metadata": {},
     "output_type": "display_data"
    }
   ],
   "source": [
    "head(vrawu17)\n",
    "colnames(vrawu17)"
   ]
  },
  {
   "cell_type": "code",
   "execution_count": 42,
   "metadata": {},
   "outputs": [],
   "source": [
    "#library(\"MASS\")\n",
    "#library(\"RColorBrewer\")\n",
    "#library(\"gridExtra\")\n",
    "#library(\"GGally\")\n",
    "\n",
    "#install.packages(\"MASS\")\n",
    "#install.packages(\"RColorBrewer\")\n",
    "#install.packages(\"gridExtra\")\n",
    "#install.packages(\"GGally\")\n",
    "\n",
    "library(ggplot2)\n",
    "library(scales)\n",
    "source(\"https://raw.githubusercontent.com/eogasawara/mylibrary/master/myGraphics.R\")"
   ]
  },
  {
   "cell_type": "markdown",
   "metadata": {},
   "source": [
    "### Densidade de distribuição de atraso de partida com relação aos continentes"
   ]
  },
  {
   "cell_type": "code",
   "execution_count": 91,
   "metadata": {},
   "outputs": [
    {
     "name": "stderr",
     "output_type": "stream",
     "text": [
      "Don't know how to automatically pick scale for object of type difftime. Defaulting to continuous.\n",
      "Warning message:\n",
      "\"Removed 175560 rows containing non-finite values (stat_density).\""
     ]
    },
    {
     "data": {
      "image/png": "[encoded data removed]",
      "text/plain": [
       "plot without title"
      ]
     },
     "metadata": {},
     "output_type": "display_data"
    }
   ],
   "source": [
    "col.set <- brewer.pal(11, 'Spectral')\n",
    "mycolors <- col.set[c(1,3,5,7,9,11)]\n",
    "\n",
    "value=vrawu17[vrawu17$atraso_partida >=-200 & vrawu17$atraso_partida <=200 & vrawu17$atraso_partida != 0 ,]\n",
    "series <- data.frame(variable=value$destino_continente, value=value$atraso_partida)\n",
    "grfB <- plot.density(series, colors=mycolors)\n",
    "\n",
    "options(repr.plot.width=10, repr.plot.height=4)\n",
    "grid.arrange( grfB, ncol=2)"
   ]
  },
  {
   "cell_type": "code",
   "execution_count": 93,
   "metadata": {},
   "outputs": [
    {
     "data": {
      "image/png": "[encoded data removed]",
      "text/plain": [
       "plot without title"
      ]
     },
     "metadata": {},
     "output_type": "display_data"
    },
    {
     "data": {
      "image/png": "[encoded data removed]",
      "text/plain": [
       "plot without title"
      ]
     },
     "metadata": {},
     "output_type": "display_data"
    },
    {
     "data": {
      "image/png": "[encoded data removed]",
      "text/plain": [
       "plot without title"
      ]
     },
     "metadata": {},
     "output_type": "display_data"
    }
   ],
   "source": [
    "options(repr.plot.width=4, repr.plot.height=3)\n",
    "qqplot(value$atraso_partida, value$origem_visibilidade)\n",
    "fm <- lm(value$atraso_partida ~ value$origem_visibilidade)\n",
    "abline(coef(fm), lty=4)\n",
    "\n",
    "options(repr.plot.width=4, repr.plot.height=3)\n",
    "qqplot(value$atraso_partida, value$origem_pressao)\n",
    "fm <- lm(value$atraso_partida ~ value$origem_pressao)\n",
    "abline(coef(fm), lty=4)\n",
    "\n",
    "options(repr.plot.width=4, repr.plot.height=3)\n",
    "qqplot(value$atraso_partida, value$origem_dew_point)\n",
    "fm <- lm(value$atraso_partida ~ value$origem_dew_point)\n",
    "abline(coef(fm), lty=4)"
   ]
  }
 ],
 "metadata": {
  "kernelspec": {
   "display_name": "R",
   "language": "R",
   "name": "ir"
  },
  "language_info": {
   "codemirror_mode": "r",
   "file_extension": ".r",
   "mimetype": "text/x-r-source",
   "name": "R",
   "pygments_lexer": "r",
   "version": "3.4.3"
  }
 },
 "nbformat": 4,
 "nbformat_minor": 2
}
