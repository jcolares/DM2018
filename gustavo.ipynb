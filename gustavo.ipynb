{
 "cells": [
  {
   "cell_type": "code",
   "execution_count": 87,
   "metadata": {},
   "outputs": [],
   "source": [
    "load(\"../../dados/vra-wu.RData\")\n",
    "#load(\"vw.RData\")\n",
    "#vra_wu=vra_wu[0:100000,]"
   ]
  },
  {
   "cell_type": "markdown",
   "metadata": {},
   "source": [
    "###### Removendo algumas colunas que não devem ter utilizadade\n"
   ]
  },
  {
   "cell_type": "code",
   "execution_count": null,
   "metadata": {},
   "outputs": [],
   "source": [
    "#Esse é o data set reduzido 'vw_modified'\n",
    "\n",
    "vra_wu$autho_code = NULL #não sei o que é \n",
    "vra_wu$flight = NULL #Codigo do voo\n",
    "vra_wu$airline = NULL #qual empresa\n",
    "vra_wu$line_type = NULL #não sei o que é\n",
    "vra_wu$observation = NULL #não sei o que é\n",
    "vra_wu$duration_delta = NULL #diferenca de previsão\n",
    "vra_wu$origin.state = NULL #\n",
    "vra_wu$destiny.state = NULL #\n",
    "vra_wu$arrival_expect_date = NULL #arrival_expect\n",
    "vra_wu$arrival_expect_hour = NULL #arrival_expect\n",
    "vra_wu$depart_expect_date = NULL #depart_expect\n",
    "vra_wu$depart_expect_hour = NULL #depart_expect"
   ]
  },
  {
   "cell_type": "markdown",
   "metadata": {},
   "source": [
    "###### Removendo todas as linhas que tem pelo menos um NA"
   ]
  },
  {
   "cell_type": "code",
   "execution_count": 47,
   "metadata": {},
   "outputs": [
    {
     "ename": "ERROR",
     "evalue": "Error in save(vw, \"vw.RData\"): object 'vw.RData' not found\n",
     "output_type": "error",
     "traceback": [
      "Error in save(vw, \"vw.RData\"): object 'vw.RData' not found\nTraceback:\n",
      "1. save(vw, \"vw.RData\")",
      "2. stop(sprintf(ngettext(n, \"object %s not found\", \"objects %s not found\"), \n .     paste(sQuote(list[!ok]), collapse = \", \")), domain = NA)"
     ]
    }
   ],
   "source": [
    "#efetivamente removendo NA\n",
    "vra_wu = vra_wu[rowSums(is.na(vra_wu))==0,]\n",
    "\n",
    "#renomeando\n",
    "vw <- vra_wu"
   ]
  },
  {
   "cell_type": "markdown",
   "metadata": {},
   "source": [
    "###### Removendo data de chegada menor que de partida, efetivo e estimado"
   ]
  },
  {
   "cell_type": "code",
   "execution_count": 60,
   "metadata": {},
   "outputs": [],
   "source": [
    "vw = vw[vw$arrival>vw$depart,]\n",
    "vw = vw[vw$arrival_expect>vw$depart_expect,]"
   ]
  },
  {
   "cell_type": "markdown",
   "metadata": {},
   "source": [
    "###### Validando níveis de temperatura de forma exploratória"
   ]
  },
  {
   "cell_type": "code",
   "execution_count": null,
   "metadata": {},
   "outputs": [],
   "source": [
    "min(vw$depart_temperature) #OK\n",
    "max(vw$depart_temperature) #OK\n",
    "min(vw$arrival_temperature) #OK\n",
    "max(vw$arrival_temperature) #OK"
   ]
  },
  {
   "cell_type": "markdown",
   "metadata": {},
   "source": [
    "###### pegando atrasos somente de 15min até 4 horas e que tem status 'Realizado'"
   ]
  },
  {
   "cell_type": "code",
   "execution_count": 61,
   "metadata": {
    "scrolled": false
   },
   "outputs": [],
   "source": [
    "vw = vw[vw$departure_delay >15 & vw$departure_delay <240 & vw$status==\"Realizado\",]"
   ]
  },
  {
   "cell_type": "markdown",
   "metadata": {},
   "source": [
    "###### Top 5 aeroportos em contagem de atrasos de partida no brasil"
   ]
  },
  {
   "cell_type": "code",
   "execution_count": 64,
   "metadata": {},
   "outputs": [
    {
     "data": {
      "text/html": [
       "<table>\n",
       "<thead><tr><th scope=col>origin</th><th scope=col>Count</th></tr></thead>\n",
       "<tbody>\n",
       "\t<tr><td>SBGR </td><td>65545</td></tr>\n",
       "\t<tr><td>SBBR </td><td>35867</td></tr>\n",
       "\t<tr><td>SBSP </td><td>33740</td></tr>\n",
       "\t<tr><td>SBGL </td><td>32406</td></tr>\n",
       "\t<tr><td>SBSV </td><td>30416</td></tr>\n",
       "\t<tr><td>SBCF </td><td>22318</td></tr>\n",
       "</tbody>\n",
       "</table>\n"
      ],
      "text/latex": [
       "\\begin{tabular}{r|ll}\n",
       " origin & Count\\\\\n",
       "\\hline\n",
       "\t SBGR  & 65545\\\\\n",
       "\t SBBR  & 35867\\\\\n",
       "\t SBSP  & 33740\\\\\n",
       "\t SBGL  & 32406\\\\\n",
       "\t SBSV  & 30416\\\\\n",
       "\t SBCF  & 22318\\\\\n",
       "\\end{tabular}\n"
      ],
      "text/markdown": [
       "\n",
       "origin | Count | \n",
       "|---|---|---|---|---|---|\n",
       "| SBGR  | 65545 | \n",
       "| SBBR  | 35867 | \n",
       "| SBSP  | 33740 | \n",
       "| SBGL  | 32406 | \n",
       "| SBSV  | 30416 | \n",
       "| SBCF  | 22318 | \n",
       "\n",
       "\n"
      ],
      "text/plain": [
       "  origin Count\n",
       "1 SBGR   65545\n",
       "2 SBBR   35867\n",
       "3 SBSP   33740\n",
       "4 SBGL   32406\n",
       "5 SBSV   30416\n",
       "6 SBCF   22318"
      ]
     },
     "metadata": {},
     "output_type": "display_data"
    }
   ],
   "source": [
    "library(dplyr)\n",
    "vw_g = vw[c(\"origin\")]\n",
    "vw_g = vw_g %>% group_by(origin) %>% summarize(Count = n())\n",
    "head(vw_g[order(-vw_g$Count),])\n",
    "#SBGR=guarulhos, SBBR=brasilia, SBSP=congonhas, SBGL=galeão, SBSV=salvador, SBCF=belo horizonte"
   ]
  },
  {
   "cell_type": "markdown",
   "metadata": {},
   "source": [
    "##### Análise do aeroporto de guarulhos"
   ]
  },
  {
   "cell_type": "code",
   "execution_count": 81,
   "metadata": {},
   "outputs": [
    {
     "ename": "ERROR",
     "evalue": "Error in Ops.POSIXt(x, 2): '^' not defined for \"POSIXt\" objects\n",
     "output_type": "error",
     "traceback": [
      "Error in Ops.POSIXt(x, 2): '^' not defined for \"POSIXt\" objects\nTraceback:\n",
      "1. lm(y ~ x + I(x^2) + I(x^3))",
      "2. eval(mf, parent.frame())",
      "3. eval(mf, parent.frame())",
      "4. stats::model.frame(formula = y ~ x + I(x^2) + I(x^3), drop.unused.levels = TRUE)",
      "5. model.frame.default(formula = y ~ x + I(x^2) + I(x^3), drop.unused.levels = TRUE)",
      "6. eval(predvars, data, env)",
      "7. eval(predvars, data, env)",
      "8. I(x^2)",
      "9. structure(x, class = unique(c(\"AsIs\", oldClass(x))))",
      "10. Ops.POSIXt(x, 2)",
      "11. stop(gettextf(\"'%s' not defined for \\\"POSIXt\\\" objects\", .Generic), \n  .     domain = NA)"
     ]
    },
    {
     "data": {
      "image/png": "[encoded data removed]",
      "text/plain": [
       "plot without title"
      ]
     },
     "metadata": {},
     "output_type": "display_data"
    }
   ],
   "source": [
    "#vw_sbgr = vw[vw$origin == 'SBGR',]\n",
    "#Filtrando 2014 pois 2016 e 2016 não estão completos\n",
    "filter = vw_sbgr$depart$year+1900<2014 \n",
    "x = vw_sbgr$depart[filter]\n",
    "y = vw_sbgr$departure_delay[filter]\n",
    "plot(x,y,pch=16 , cex=0.3)\n",
    "#str(vw)"
   ]
  },
  {
   "cell_type": "code",
   "execution_count": 93,
   "metadata": {},
   "outputs": [
    {
     "data": {
      "text/html": [
       "<ol class=list-inline>\n",
       "\t<li>8683195</li>\n",
       "\t<li>37</li>\n",
       "</ol>\n"
      ],
      "text/latex": [
       "\\begin{enumerate*}\n",
       "\\item 8683195\n",
       "\\item 37\n",
       "\\end{enumerate*}\n"
      ],
      "text/markdown": [
       "1. 8683195\n",
       "2. 37\n",
       "\n",
       "\n"
      ],
      "text/plain": [
       "[1] 8683195      37"
      ]
     },
     "metadata": {},
     "output_type": "display_data"
    }
   ],
   "source": [
    "#dim(vra_wu)\n",
    "#a=colSums(is.na(vra_wu))"
   ]
  },
  {
   "cell_type": "code",
   "execution_count": 99,
   "metadata": {},
   "outputs": [
    {
     "data": {
      "text/html": [
       "<dl class=dl-horizontal>\n",
       "\t<dt>arrival_visibility</dt>\n",
       "\t\t<dd>2647816</dd>\n",
       "\t<dt>depart_visibility</dt>\n",
       "\t\t<dd>2630157</dd>\n",
       "\t<dt>depart_events</dt>\n",
       "\t\t<dd>1610187</dd>\n",
       "\t<dt>arrival_events</dt>\n",
       "\t\t<dd>1604697</dd>\n",
       "\t<dt>arrival_delay</dt>\n",
       "\t\t<dd>1207611</dd>\n",
       "\t<dt>duration_delta</dt>\n",
       "\t\t<dd>1207611</dd>\n",
       "\t<dt>departure_delay</dt>\n",
       "\t\t<dd>1207610</dd>\n",
       "\t<dt>depart_pressure</dt>\n",
       "\t\t<dd>951969</dd>\n",
       "\t<dt>arrival_pressure</dt>\n",
       "\t\t<dd>937069</dd>\n",
       "\t<dt>arrival</dt>\n",
       "\t\t<dd>830419</dd>\n",
       "\t<dt>duration</dt>\n",
       "\t\t<dd>830419</dd>\n",
       "\t<dt>depart</dt>\n",
       "\t\t<dd>830418</dd>\n",
       "\t<dt>arrival_dew_point</dt>\n",
       "\t\t<dd>711880</dd>\n",
       "\t<dt>depart_dew_point</dt>\n",
       "\t\t<dd>707385</dd>\n",
       "\t<dt>depart_conditions</dt>\n",
       "\t\t<dd>629570</dd>\n",
       "\t<dt>arrival_conditions</dt>\n",
       "\t\t<dd>625332</dd>\n",
       "\t<dt>arrival_humidity</dt>\n",
       "\t\t<dd>589197</dd>\n",
       "\t<dt>depart_humidity</dt>\n",
       "\t\t<dd>588613</dd>\n",
       "\t<dt>arrival_temperature</dt>\n",
       "\t\t<dd>581796</dd>\n",
       "\t<dt>depart_temperature</dt>\n",
       "\t\t<dd>581273</dd>\n",
       "\t<dt>origin.state</dt>\n",
       "\t\t<dd>455090</dd>\n",
       "\t<dt>destiny.state</dt>\n",
       "\t\t<dd>449946</dd>\n",
       "\t<dt>arrival_expect_date</dt>\n",
       "\t\t<dd>377196</dd>\n",
       "\t<dt>arrival_expect_hour</dt>\n",
       "\t\t<dd>377196</dd>\n",
       "\t<dt>depart_expect_date</dt>\n",
       "\t\t<dd>377196</dd>\n",
       "\t<dt>depart_expect_hour</dt>\n",
       "\t\t<dd>377196</dd>\n",
       "\t<dt>depart_expect</dt>\n",
       "\t\t<dd>377196</dd>\n",
       "\t<dt>arrival_expect</dt>\n",
       "\t\t<dd>377196</dd>\n",
       "\t<dt>duration_expect</dt>\n",
       "\t\t<dd>377196</dd>\n",
       "\t<dt>destiny</dt>\n",
       "\t\t<dd>0</dd>\n",
       "\t<dt>origin</dt>\n",
       "\t\t<dd>0</dd>\n",
       "\t<dt>airline</dt>\n",
       "\t\t<dd>0</dd>\n",
       "\t<dt>flight</dt>\n",
       "\t\t<dd>0</dd>\n",
       "\t<dt>autho_code</dt>\n",
       "\t\t<dd>0</dd>\n",
       "\t<dt>line_type</dt>\n",
       "\t\t<dd>0</dd>\n",
       "\t<dt>status</dt>\n",
       "\t\t<dd>0</dd>\n",
       "\t<dt>observation</dt>\n",
       "\t\t<dd>0</dd>\n",
       "</dl>\n"
      ],
      "text/latex": [
       "\\begin{description*}\n",
       "\\item[arrival\\textbackslash{}\\_visibility] 2647816\n",
       "\\item[depart\\textbackslash{}\\_visibility] 2630157\n",
       "\\item[depart\\textbackslash{}\\_events] 1610187\n",
       "\\item[arrival\\textbackslash{}\\_events] 1604697\n",
       "\\item[arrival\\textbackslash{}\\_delay] 1207611\n",
       "\\item[duration\\textbackslash{}\\_delta] 1207611\n",
       "\\item[departure\\textbackslash{}\\_delay] 1207610\n",
       "\\item[depart\\textbackslash{}\\_pressure] 951969\n",
       "\\item[arrival\\textbackslash{}\\_pressure] 937069\n",
       "\\item[arrival] 830419\n",
       "\\item[duration] 830419\n",
       "\\item[depart] 830418\n",
       "\\item[arrival\\textbackslash{}\\_dew\\textbackslash{}\\_point] 711880\n",
       "\\item[depart\\textbackslash{}\\_dew\\textbackslash{}\\_point] 707385\n",
       "\\item[depart\\textbackslash{}\\_conditions] 629570\n",
       "\\item[arrival\\textbackslash{}\\_conditions] 625332\n",
       "\\item[arrival\\textbackslash{}\\_humidity] 589197\n",
       "\\item[depart\\textbackslash{}\\_humidity] 588613\n",
       "\\item[arrival\\textbackslash{}\\_temperature] 581796\n",
       "\\item[depart\\textbackslash{}\\_temperature] 581273\n",
       "\\item[origin.state] 455090\n",
       "\\item[destiny.state] 449946\n",
       "\\item[arrival\\textbackslash{}\\_expect\\textbackslash{}\\_date] 377196\n",
       "\\item[arrival\\textbackslash{}\\_expect\\textbackslash{}\\_hour] 377196\n",
       "\\item[depart\\textbackslash{}\\_expect\\textbackslash{}\\_date] 377196\n",
       "\\item[depart\\textbackslash{}\\_expect\\textbackslash{}\\_hour] 377196\n",
       "\\item[depart\\textbackslash{}\\_expect] 377196\n",
       "\\item[arrival\\textbackslash{}\\_expect] 377196\n",
       "\\item[duration\\textbackslash{}\\_expect] 377196\n",
       "\\item[destiny] 0\n",
       "\\item[origin] 0\n",
       "\\item[airline] 0\n",
       "\\item[flight] 0\n",
       "\\item[autho\\textbackslash{}\\_code] 0\n",
       "\\item[line\\textbackslash{}\\_type] 0\n",
       "\\item[status] 0\n",
       "\\item[observation] 0\n",
       "\\end{description*}\n"
      ],
      "text/markdown": [
       "arrival_visibility\n",
       ":   2647816depart_visibility\n",
       ":   2630157depart_events\n",
       ":   1610187arrival_events\n",
       ":   1604697arrival_delay\n",
       ":   1207611duration_delta\n",
       ":   1207611departure_delay\n",
       ":   1207610depart_pressure\n",
       ":   951969arrival_pressure\n",
       ":   937069arrival\n",
       ":   830419duration\n",
       ":   830419depart\n",
       ":   830418arrival_dew_point\n",
       ":   711880depart_dew_point\n",
       ":   707385depart_conditions\n",
       ":   629570arrival_conditions\n",
       ":   625332arrival_humidity\n",
       ":   589197depart_humidity\n",
       ":   588613arrival_temperature\n",
       ":   581796depart_temperature\n",
       ":   581273origin.state\n",
       ":   455090destiny.state\n",
       ":   449946arrival_expect_date\n",
       ":   377196arrival_expect_hour\n",
       ":   377196depart_expect_date\n",
       ":   377196depart_expect_hour\n",
       ":   377196depart_expect\n",
       ":   377196arrival_expect\n",
       ":   377196duration_expect\n",
       ":   377196destiny\n",
       ":   0origin\n",
       ":   0airline\n",
       ":   0flight\n",
       ":   0autho_code\n",
       ":   0line_type\n",
       ":   0status\n",
       ":   0observation\n",
       ":   0\n",
       "\n"
      ],
      "text/plain": [
       " arrival_visibility   depart_visibility       depart_events      arrival_events \n",
       "            2647816             2630157             1610187             1604697 \n",
       "      arrival_delay      duration_delta     departure_delay     depart_pressure \n",
       "            1207611             1207611             1207610              951969 \n",
       "   arrival_pressure             arrival            duration              depart \n",
       "             937069              830419              830419              830418 \n",
       "  arrival_dew_point    depart_dew_point   depart_conditions  arrival_conditions \n",
       "             711880              707385              629570              625332 \n",
       "   arrival_humidity     depart_humidity arrival_temperature  depart_temperature \n",
       "             589197              588613              581796              581273 \n",
       "       origin.state       destiny.state arrival_expect_date arrival_expect_hour \n",
       "             455090              449946              377196              377196 \n",
       " depart_expect_date  depart_expect_hour       depart_expect      arrival_expect \n",
       "             377196              377196              377196              377196 \n",
       "    duration_expect             destiny              origin             airline \n",
       "             377196                   0                   0                   0 \n",
       "             flight          autho_code           line_type              status \n",
       "                  0                   0                   0                   0 \n",
       "        observation \n",
       "                  0 "
      ]
     },
     "metadata": {},
     "output_type": "display_data"
    }
   ],
   "source": [
    "a[order(-a)]"
   ]
  },
  {
   "cell_type": "markdown",
   "metadata": {},
   "source": [
    "Small delays < 300 min\n",
    "Only considering flight with a delay, removing delay = 0"
   ]
  },
  {
   "cell_type": "code",
   "execution_count": 2,
   "metadata": {},
   "outputs": [
    {
     "data": {
      "image/png": "[encoded data removed]",
      "text/plain": [
       "Plot with title \"Delayed flights\""
      ]
     },
     "metadata": {},
     "output_type": "display_data"
    }
   ],
   "source": [
    "data=vra_wu[complete.cases(vra_wu$departure_delay),]\n",
    "hist(data$departure_delay[data$status==\"Realizado\" \n",
    "      & data$departure_delay != 0 \n",
    "      & abs(data$departure_delay) < 300]\n",
    "     ,breaks=30\n",
    "     ,xlim=c(-300,300)\n",
    "     ,xlab=\"Delay (min)\"\n",
    "     ,main=\"Delayed flights\"\n",
    "     )\n",
    "rm(data)"
   ]
  },
  {
   "cell_type": "code",
   "execution_count": 5,
   "metadata": {},
   "outputs": [
    {
     "data": {
      "image/png": "[encoded data removed]",
      "text/plain": [
       "Plot with title \"Most frequent departure expected hours\""
      ]
     },
     "metadata": {},
     "output_type": "display_data"
    }
   ],
   "source": [
    "data=vra_wu[complete.cases(vra_wu$depart_expect_hour),]\n",
    "deh = as.POSIXct(data$depart_expect_hour[data$status==\"Realizado\"], format=\"%H:%M\")\n",
    "deh = as.POSIXlt(deh)\n",
    "\n",
    "h=hist(deh$hour+deh$min/60\n",
    "     ,breaks=seq(0, 24, 0.5)\n",
    "     ,xlim=c(0,24)\n",
    "     ,xlab=\"Hour of the day\"\n",
    "     ,main=\"Most frequent departure expected hours\"\n",
    "     )\n",
    "rm(data,deh)"
   ]
  },
  {
   "cell_type": "code",
   "execution_count": 21,
   "metadata": {},
   "outputs": [],
   "source": [
    "library(data.table)\n",
    "airport = fread(\"https://raw.githubusercontent.com/gustavoP/DMcefet/master/airports_simplified.csv\")"
   ]
  },
  {
   "cell_type": "code",
   "execution_count": 22,
   "metadata": {},
   "outputs": [
    {
     "data": {
      "text/html": [
       "<ol class=list-inline>\n",
       "\t<li>1087</li>\n",
       "\t<li>3</li>\n",
       "</ol>\n"
      ],
      "text/latex": [
       "\\begin{enumerate*}\n",
       "\\item 1087\n",
       "\\item 3\n",
       "\\end{enumerate*}\n"
      ],
      "text/markdown": [
       "1. 1087\n",
       "2. 3\n",
       "\n",
       "\n"
      ],
      "text/plain": [
       "[1] 1087    3"
      ]
     },
     "metadata": {},
     "output_type": "display_data"
    }
   ],
   "source": [
    "library(dplyr)\n",
    "vra_wu = vra_wu[c(\"origin\", \"destiny\")]\n",
    "vra_wu = vra_wu %>% group_by(destiny,origin) %>% summarize(Count = n())\n",
    "\n",
    "library(tidyverse)\n",
    "vra_wu$destiny = as.character(vra_wu$destiny)\n",
    "vra_wu$origin = as.character(vra_wu$origin)\n",
    "vra_wu = vra_wu %>%\n",
    "    rowwise() %>%\n",
    "    mutate(grp = paste0(sort(c(destiny, origin)), collapse = \"_\")) %>%\n",
    "    ungroup() %>%\n",
    "    group_by(grp) %>%\n",
    "    summarise(Count = sum(Count)) %>%\n",
    "    separate(grp, into = c(\"destiny\", \"origin\"))\n",
    "\n",
    "dim(vra_wu)"
   ]
  },
  {
   "cell_type": "markdown",
   "metadata": {},
   "source": [
    "Filtrando alguns casos:\n",
    "1) SaÃ­da e destino para o mesmo lugar."
   ]
  },
  {
   "cell_type": "code",
   "execution_count": 23,
   "metadata": {},
   "outputs": [],
   "source": [
    "#Join Departure\n",
    "vra_wu= merge(vra_wu,airport, by.x=\"destiny\", by.y=\"ICAO\")\n",
    "colnames(vra_wu)[colnames(vra_wu) == \"name\"] = \"destiny_airport_name\"\n",
    "colnames(vra_wu)[colnames(vra_wu) == \"city\"] = \"destiny_city\"\n",
    "colnames(vra_wu)[colnames(vra_wu) == \"country\"] = \"destiny_country\"\n",
    "colnames(vra_wu)[colnames(vra_wu) == \"latitude\"] = \"destiny_latitude\"\n",
    "colnames(vra_wu)[colnames(vra_wu) == \"longitude\"] = \"destiny_longitude\"\n",
    "\n",
    "#Join Origin\n",
    "vra_wu= merge(vra_wu,airport, by.x=\"origin\", by.y=\"ICAO\")\n",
    "colnames(vra_wu)[colnames(vra_wu) == \"name\"] = \"origin_airport_name\"\n",
    "colnames(vra_wu)[colnames(vra_wu) == \"city\"] = \"origin_city\"\n",
    "colnames(vra_wu)[colnames(vra_wu) == \"country\"] = \"origin_country\"\n",
    "colnames(vra_wu)[colnames(vra_wu) == \"latitude\"] = \"origin_latitude\"\n",
    "colnames(vra_wu)[colnames(vra_wu) == \"longitude\"] = \"origin_longitude\""
   ]
  },
  {
   "cell_type": "code",
   "execution_count": 12,
   "metadata": {},
   "outputs": [
    {
     "name": "stderr",
     "output_type": "stream",
     "text": [
      "Warning message:\n",
      "\"package 'tidyverse' is in use and will not be installed\"Warning message:\n",
      "\"package 'maps' is in use and will not be installed\"also installing the dependency 'sp'\n",
      "\n"
     ]
    },
    {
     "name": "stdout",
     "output_type": "stream",
     "text": [
      "package 'sp' successfully unpacked and MD5 sums checked\n",
      "package 'geosphere' successfully unpacked and MD5 sums checked\n",
      "\n",
      "The downloaded binary packages are in\n",
      "\tC:\\Users\\g_pac\\AppData\\Local\\Temp\\Rtmp2viOcP\\downloaded_packages\n"
     ]
    }
   ],
   "source": [
    "#install.packages(\"tidyverse\")\n",
    "#install.packages(\"maps\")\n",
    "#install.packages(\"geosphere\")"
   ]
  },
  {
   "cell_type": "code",
   "execution_count": 27,
   "metadata": {},
   "outputs": [
    {
     "data": {
      "image/png": "[encoded data removed]",
      "text/plain": [
       "plot without title"
      ]
     },
     "metadata": {},
     "output_type": "display_data"
    }
   ],
   "source": [
    "library(tidyverse)\n",
    "library(maps)\n",
    "library(geosphere)\n",
    "\n",
    "par(mar=c(0,0,0,0))\n",
    "map('world',col=\"#f2f2f2\", fill=TRUE, bg=\"white\", lwd=0.05,mar=rep(0,4),border=0, resolution=0, ylim = c(-37.580515,47.988991), xlim = c(-121.471841,7.200034))\n",
    "pal <- colorRampPalette(c(\"#666666\", \"black\"))\n",
    "colors <- pal(30)\n",
    "\n",
    "max_cnt = max(vra_wu$Count)\n",
    "min_cnt = min(vra_wu$Count)\n",
    "lwd_max = 10\n",
    "lwd_min = 0.8\n",
    "\n",
    "\n",
    "for (j in 1:dim(vra_wu)[1]) {\n",
    "    #j=15*i\n",
    "    origin = c(vra_wu$origin_longitude[j],vra_wu$origin_latitude[j])\n",
    "    destiny = c(vra_wu$destiny_longitude[j],vra_wu$destiny_latitude[j])\n",
    "     \n",
    "    inter = gcIntermediate(origin, destiny, n=100, addStartEnd=TRUE)\n",
    "    pu = (vra_wu$Count[j] -min_cnt)/(max_cnt-min_cnt)\n",
    "    col_index =1+ round(pu*(length(colors)-1))\n",
    "    lin = pu*(lwd_max-lwd_min)+lwd_min\n",
    "    lines(inter, col=colors[col_index],lwd=lin)\n",
    "    #lines(inter, col=\"#666666\",lwd=0.5)\n",
    "    #min=0.8\n",
    "    #if (i==100){break}\n",
    "}\n"
   ]
  }
 ],
 "metadata": {
  "kernelspec": {
   "display_name": "R",
   "language": "R",
   "name": "ir"
  },
  "language_info": {
   "codemirror_mode": "r",
   "file_extension": ".r",
   "mimetype": "text/x-r-source",
   "name": "R",
   "pygments_lexer": "r",
   "version": "3.4.3"
  }
 },
 "nbformat": 4,
 "nbformat_minor": 2
}
