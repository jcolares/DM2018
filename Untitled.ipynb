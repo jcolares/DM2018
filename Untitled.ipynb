{
 "cells": [
  {
   "cell_type": "markdown",
   "metadata": {},
   "source": [
    "# Análise do dataset vrawu17\n",
    "\n",
    "Existe correlação entre atrasos de voos e fatores climáticos?\n",
    "Se sim, é possível prever atrasos a partir de sequências de variações climáticas? "
   ]
  },
  {
   "cell_type": "code",
   "execution_count": 6,
   "metadata": {},
   "outputs": [],
   "source": [
    "setwd(\"github/DM2018/\")"
   ]
  },
  {
   "cell_type": "code",
   "execution_count": null,
   "metadata": {},
   "outputs": [],
   "source": [
    "load(\"datasets/vrawu17.RData\") "
   ]
  },
  {
   "cell_type": "markdown",
   "metadata": {},
   "source": [
    "Criar uma coluna para identificar voos atrasados ou cancelados"
   ]
  },
  {
   "cell_type": "code",
   "execution_count": null,
   "metadata": {},
   "outputs": [],
   "source": []
  },
  {
   "cell_type": "code",
   "execution_count": null,
   "metadata": {},
   "outputs": [],
   "source": [
    "# apenas voos nacionais\n",
    "vrabr <- vrawu17 %>% filter(origem_pais==\"BRASIL\"& destino_pais==\"BRASIL\") "
   ]
  },
  {
   "cell_type": "code",
   "execution_count": null,
   "metadata": {},
   "outputs": [],
   "source": [
    "# apenas os registros de cancelamento/atraso relacionados ao clima\n",
    "# normativa IAC-1504\n",
    "# http://www.anac.gov.br/assuntos/legislacao/legislacao-1/iac-e-is/iac/iac-1504/@@display-file/arquivo_norma/IAC1504.pdf\n",
    "justificativas = select(vrabr, cod_justificativa, descricao_justificativa)\n",
    "justificativas = unique(justificativas)\n",
    "justificativas = na.exclude(justificativas)\n",
    "justmeteorologicas = filter(justificativas, cod_justificativa %in% c(\"WO\", \"WI\", \"WR\", \"WS\", \"WT\", \"WA\", \"XO\", \"XS\", \"XT\", \"AM\", \"RM\"))"
   ]
  },
  {
   "cell_type": "code",
   "execution_count": null,
   "metadata": {},
   "outputs": [],
   "source": [
    "# apenas os aeródromos com mais de 2 voos por dia (em média)\n",
    "aerop = count(vrabr, icao_origem)\n",
    "aerop = filter(aerop, n > 730)"
   ]
  },
  {
   "cell_type": "code",
   "execution_count": null,
   "metadata": {},
   "outputs": [],
   "source": [
    "\n",
    "test_correl1 = table(vrabr_fail$origem_condicoes, vrabr_fail$destino_condicoes, vrabr_fail$descricao_justificativa)\n",
    "test = as.data.frame(test_correl1)\n",
    "test = subset(test, test$Freq > 0)\n",
    "test$Var1 <- iconv(test$Var1, \"UTF-8\", \"UTF-8\",sub='')"
   ]
  }
 ],
 "metadata": {
  "kernelspec": {
   "display_name": "R",
   "language": "R",
   "name": "ir"
  },
  "language_info": {
   "codemirror_mode": "r",
   "file_extension": ".r",
   "mimetype": "text/x-r-source",
   "name": "R",
   "pygments_lexer": "r",
   "version": "3.5.0"
  }
 },
 "nbformat": 4,
 "nbformat_minor": 2
}
