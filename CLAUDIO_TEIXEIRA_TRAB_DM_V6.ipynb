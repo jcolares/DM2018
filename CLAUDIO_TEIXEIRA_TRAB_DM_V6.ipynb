{
 "cells": [
  {
   "cell_type": "markdown",
   "metadata": {},
   "source": [
    "# Função de Mineração de Dados"
   ]
  },
  {
   "cell_type": "markdown",
   "metadata": {},
   "source": [
    "O objetivo nesta parte do trabalho é identificar regras de propagação de atrasos entre os aeroportos. Isso posto, é utilizado um método de mineração de padrões sequenciais por meio do algoritmo CSPADE."
   ]
  },
  {
   "cell_type": "markdown",
   "metadata": {},
   "source": [
    "### 1. Leitura do dataset"
   ]
  },
  {
   "cell_type": "code",
   "execution_count": 1,
   "metadata": {},
   "outputs": [],
   "source": [
    "load(\"vra-wu-small.RData\")"
   ]
  },
  {
   "cell_type": "markdown",
   "metadata": {},
   "source": [
    "### 2. Limpeza e transformação de dados"
   ]
  },
  {
   "cell_type": "markdown",
   "metadata": {},
   "source": [
    "Inicialmente supre-se as mensagens e carrrega-se algumas bibliotecas que serão utilizadas neste trabalho."
   ]
  },
  {
   "cell_type": "code",
   "execution_count": 180,
   "metadata": {},
   "outputs": [],
   "source": [
    "message=FALSE # Suprimir mensagens de alerta\n",
    "library(\"network\")\n",
    "library(\"plyr\")\n",
    "library(\"proto\")\n",
    "library(\"RSQLite\")\n",
    "library(\"sqldf\")\n",
    "library(\"Matrix\")\n",
    "library(\"grid\")\n",
    "library(\"arules\")\n",
    "library(\"arulesSequences\")\n",
    "library(\"arulesViz\")"
   ]
  },
  {
   "cell_type": "markdown",
   "metadata": {},
   "source": [
    "O arquivo com os dados necessários para executar-se o algoritmo CSPADE deve estar no seguinte formato:\n",
    "**[SID] [EID] [SIZE]** onde: **[SID]** é um identificador sequencial de uma transação,\n",
    "**[EID]** é um identificador do evento de uma transação e **[SIZE]** é composto pelo tamanho do conjunto de itens\n",
    "de uma transação, seguido dos códigos dos itens propriamente dito.<BR><BR>\n",
    "Neste trabalho, considerando-se o conjunto de dados de voos, tem-se:<BR><BR>\n",
    "**[SID]** é composto pelo código ICAO do aeroporto mais a data de partida do voo;<BR>\n",
    "**[EID]** é a hora cheia de partida do voo; e<BR>\n",
    "**[SIZE]** é composto pelo tamanho do conjunto de números dos voos, seguido pelos números dos voos.<BR><BR>\n",
    "Observando-se que somente os voos atrasados em mais de 15 minutos e menos de 240 minutos são considerados."
   ]
  },
  {
   "cell_type": "code",
   "execution_count": 6,
   "metadata": {},
   "outputs": [
    {
     "name": "stdout",
     "output_type": "stream",
     "text": [
      "'data.frame':\t1268561 obs. of  33 variables:\n",
      " $ destiny            : Factor w/ 537 levels \"CYYZ\",\"EDDF\",..: 19 19 19 19 19 19 19 19 19 19 ...\n",
      " $ origin             : Factor w/ 522 levels \"CYYZ\",\"EDDF\",..: 43 79 79 79 79 76 43 76 43 79 ...\n",
      " $ airline            : Factor w/ 119 levels \"AAL\",\"ABJ\",\"ACA\",..: 10 22 60 60 1 1 1 60 10 22 ...\n",
      " $ flight             : Factor w/ 8250 levels \"3\",\"4\",\"14\",\"15\",..: 341 7217 5165 2066 238 244 6232 2064 341 7217 ...\n",
      " $ autho_code         : Factor w/ 11 levels \"0\",\"1\",\"2\",\"3\",..: 1 1 1 1 1 1 1 1 1 1 ...\n",
      " $ line_type          : Factor w/ 10 levels \"C\",\"E\",\"G\",\"I\",..: 4 4 4 4 4 4 4 4 4 4 ...\n",
      " $ depart_expect      : POSIXlt, format: \"2017-01-01 23:00:00\" \"2017-01-01 22:25:00\" ...\n",
      " $ depart             : POSIXlt, format: \"2017-01-01 23:00:00\" \"2017-01-01 22:15:00\" ...\n",
      " $ arrival_expect     : POSIXlt, format: \"2017-01-02 05:05:00\" \"2017-01-02 08:21:00\" ...\n",
      " $ arrival            : POSIXlt, format: \"2017-01-02 05:05:00\" \"2017-01-02 08:22:00\" ...\n",
      " $ status             : Factor w/ 4 levels \"Cancelado\",\"Realizado\",..: 4 4 4 4 4 4 4 4 4 4 ...\n",
      " $ observation        : Factor w/ 52 levels \"  \",\"AA\",\"AF\",..: 49 15 49 49 49 49 49 49 49 15 ...\n",
      " $ departure_delay    : num  0 -10 0 0 0 0 0 0 0 4 ...\n",
      " $ arrival_delay      : num  0 1 0 0 0 0 0 0 0 -2 ...\n",
      " $ duration_expect    : num  365 596 615 615 595 605 649 625 365 596 ...\n",
      " $ duration           : num  365 607 615 615 595 605 649 625 365 590 ...\n",
      " $ duration_delta     : num  0 11 0 0 0 0 0 0 0 -6 ...\n",
      " $ origin.state       : chr  NA \"SP\" \"SP\" \"SP\" ...\n",
      " $ destiny.state      : chr  NA NA NA NA ...\n",
      " $ depart_temperature : num  25 25 24 25 24 31 25 31 25 22 ...\n",
      " $ depart_dew_point   : num  19 21 20 21 20 25 19 23 19 21 ...\n",
      " $ depart_humidity    : num  69 78 78 78 78 70 69 62 69 94 ...\n",
      " $ depart_pressure    : num  1012 1016 1017 1016 1017 ...\n",
      " $ depart_visibility  : num  NA NA NA NA NA 10 NA 10 NA 10 ...\n",
      " $ depart_events      : chr  \"\" \"\" \"\" \"\" ...\n",
      " $ depart_conditions  : chr  \"Clear\" \"Clear\" \"Clear\" \"Clear\" ...\n",
      " $ arrival_temperature: num  3.3 4.4 5 5 5 5 5.6 6.1 5.6 6.7 ...\n",
      " $ arrival_dew_point  : num  0 1.4 1.8 1.8 1.8 1.8 2.3 3.2 1.1 2.5 ...\n",
      " $ arrival_humidity   : num  5 0.6 0.6 0.6 0.6 0.6 1.1 1.7 2.8 3.9 ...\n",
      " $ arrival_pressure   : num  1032 1032 1033 1033 1033 ...\n",
      " $ arrival_visibility : num  55 70 73 73 73 73 73 74 82 82 ...\n",
      " $ arrival_events     : chr  \"Gentle breeze\" \"Gentle breeze\" \"Gentle breeze\" \"Gentle breeze\" ...\n",
      " $ arrival_conditions : chr  \"\" \"Rain\" \"\" \"\" ...\n"
     ]
    }
   ],
   "source": [
    "str(vra_wu_2017)"
   ]
  },
  {
   "cell_type": "code",
   "execution_count": 7,
   "metadata": {},
   "outputs": [
    {
     "data": {
      "text/plain": [
       "    destiny           origin          airline           flight      \n",
       " SBGR   :111020   SBGR   :110583   GLO    :247127   6318   :  1100  \n",
       " SBSP   : 89233   SBSP   : 89207   AZU    :245832   2317   :  1096  \n",
       " SBBR   : 62783   SBBR   : 62962   TAM    :220514   6319   :  1096  \n",
       " SBGL   : 53741   SBGL   : 53182   ONE    : 90068   6312   :  1095  \n",
       " SBKP   : 49479   SBKP   : 50535   PTB    : 14668   6313   :  1095  \n",
       " (Other):525109   (Other):524896   (Other): 73156   (Other):885883  \n",
       " NA's   :377196   NA's   :377196   NA's   :377196   NA's   :377196  \n",
       "   autho_code       line_type      depart_expect                \n",
       " 0      :891365   N      :472063   Min.   :2017-01-01 00:00:00  \n",
       " 1      :     0   R      :244127   1st Qu.:2017-04-01 17:55:00  \n",
       " 2      :     0   I      : 87673   Median :2017-07-04 17:40:00  \n",
       " 3      :     0   E      : 43113   Mean   :2017-07-03 15:31:29  \n",
       " 4      :     0   C      : 22884   3rd Qu.:2017-10-04 06:29:00  \n",
       " (Other):     0   (Other): 21505   Max.   :2017-12-31 23:59:00  \n",
       " NA's   :377196   NA's   :377196   NA's   :377196               \n",
       "     depart                    arrival_expect               \n",
       " Min.   :2016-12-31 02:25:00   Min.   :2017-01-01 01:10:00  \n",
       " 1st Qu.:2017-03-31 12:10:00   1st Qu.:2017-04-01 20:10:00  \n",
       " Median :2017-07-04 01:07:00   Median :2017-07-04 19:40:00  \n",
       " Mean   :2017-07-02 23:40:08   Mean   :2017-07-03 17:38:50  \n",
       " 3rd Qu.:2017-10-03 13:50:00   3rd Qu.:2017-10-04 08:25:00  \n",
       " Max.   :2018-01-01 08:31:00   Max.   :2018-01-01 10:55:00  \n",
       " NA's   :464890                NA's   :377196               \n",
       "    arrival                          status        observation    \n",
       " Min.   :2016-12-31 03:12:00   Cancelado:     0          :539542  \n",
       " 1st Qu.:2017-03-31 14:06:15   Realizado:     0   HD     :111101  \n",
       " Median :2017-07-04 05:50:30   CANCELADO: 87694   XB     : 63079  \n",
       " Mean   :2017-07-03 01:49:35   REALIZADO:803671   AR     : 26894  \n",
       " 3rd Qu.:2017-10-03 15:55:00   NA's     :377196   AT     : 23967  \n",
       " Max.   :2018-01-01 14:00:00                      (Other):126782  \n",
       " NA's   :464891                                   NA's   :377196  \n",
       " departure_delay    arrival_delay      duration_expect     duration      \n",
       " Min.   :-46082.0   Min.   :-46099.0   Min.   :   0.0   Min.   :    0.0  \n",
       " 1st Qu.:     0.0   1st Qu.:     0.0   1st Qu.:  70.0   1st Qu.:   70.0  \n",
       " Median :     0.0   Median :     0.0   Median :  96.0   Median :   97.0  \n",
       " Mean   :     3.6   Mean   :     3.8   Mean   : 127.4   Mean   :  129.5  \n",
       " 3rd Qu.:     0.0   3rd Qu.:     0.0   3rd Qu.: 150.0   3rd Qu.:  153.0  \n",
       " Max.   :  4588.0   Max.   :  4590.0   Max.   :1435.0   Max.   :44964.0  \n",
       " NA's   :464890     NA's   :464891     NA's   :377196   NA's   :464891   \n",
       " duration_delta    origin.state       destiny.state      depart_temperature\n",
       " Min.   : -562.0   Length:1268561     Length:1268561     Min.   : 0.0      \n",
       " 1st Qu.:    0.0   Class :character   Class :character   1st Qu.:20.0      \n",
       " Median :    0.0   Mode  :character   Mode  :character   Median :23.0      \n",
       " Mean   :    0.2                                         Mean   :23.1      \n",
       " 3rd Qu.:    0.0                                         3rd Qu.:27.0      \n",
       " Max.   :44829.0                                         Max.   :40.0      \n",
       " NA's   :464891                                          NA's   :415441    \n",
       " depart_dew_point depart_humidity  depart_pressure  depart_visibility\n",
       " Min.   : 0.0     Min.   :  0.0    Min.   : 907     Min.   :  0      \n",
       " 1st Qu.:14.0     1st Qu.: 59.0    1st Qu.:1013     1st Qu.: 10      \n",
       " Median :18.0     Median : 73.0    Median :1017     Median : 10      \n",
       " Mean   :17.2     Mean   : 70.3    Mean   :1017     Mean   : 12      \n",
       " 3rd Qu.:21.0     3rd Qu.: 88.0    3rd Qu.:1020     3rd Qu.: 10      \n",
       " Max.   :70.0     Max.   :100.0    Max.   :1093     Max.   :100      \n",
       " NA's   :426791   NA's   :416357   NA's   :452987   NA's   :658942   \n",
       " depart_events      depart_conditions  arrival_temperature arrival_dew_point\n",
       " Length:1268561     Length:1268561     Min.   : 0.0        Min.   : 0.0     \n",
       " Class :character   Class :character   1st Qu.:20.0        1st Qu.:14.0     \n",
       " Mode  :character   Mode  :character   Median :24.0        Median :18.0     \n",
       "                                       Mean   :23.2        Mean   :17.2     \n",
       "                                       3rd Qu.:27.0        3rd Qu.:21.0     \n",
       "                                       Max.   :40.0        Max.   :70.0     \n",
       "                                       NA's   :414919      NA's   :426495   \n",
       " arrival_humidity arrival_pressure arrival_visibility arrival_events    \n",
       " Min.   :  0.0    Min.   : 907     Min.   :  0.0      Length:1268561    \n",
       " 1st Qu.: 59.0    1st Qu.:1013     1st Qu.: 10.0      Class :character  \n",
       " Median : 73.0    Median :1017     Median : 10.0      Mode  :character  \n",
       " Mean   : 70.1    Mean   :1017     Mean   : 11.9                        \n",
       " 3rd Qu.: 84.0    3rd Qu.:1020     3rd Qu.: 10.0                        \n",
       " Max.   :100.0    Max.   :1062     Max.   :100.0                        \n",
       " NA's   :415854   NA's   :449746   NA's   :659683                       \n",
       " arrival_conditions\n",
       " Length:1268561    \n",
       " Class :character  \n",
       " Mode  :character  \n",
       "                   \n",
       "                   \n",
       "                   \n",
       "                   "
      ]
     },
     "metadata": {},
     "output_type": "display_data"
    }
   ],
   "source": [
    "summary(vra_wu_2017)"
   ]
  },
  {
   "cell_type": "markdown",
   "metadata": {},
   "source": [
    "Executa-se algumas transformações iniciais para harmonizar o processo."
   ]
  },
  {
   "cell_type": "code",
   "execution_count": 3,
   "metadata": {},
   "outputs": [],
   "source": [
    "# Transforma o formato POSIXlt em chr\n",
    "# para que possa ser trabalhado em conjunto com o sqldf\n",
    "vra_wu_2017$depart_expect <- as.character(vra_wu_2017$depart_expect)\n",
    "vra_wu_2017$depart <- as.character(vra_wu_2017$depart)\n",
    "vra_wu_2017$arrival_expect <- as.character(vra_wu_2017$arrival_expect)\n",
    "vra_wu_2017$arrival <- as.character(vra_wu_2017$arrival)"
   ]
  },
  {
   "cell_type": "markdown",
   "metadata": {},
   "source": [
    "Especifica-se uma query para montar o conjunto treinamento."
   ]
  },
  {
   "cell_type": "code",
   "execution_count": 4,
   "metadata": {},
   "outputs": [],
   "source": [
    "query<-\"select destiny, origin, airline, flight, depart, arrival, departure_delay, arrival_delay,\"\n",
    "query<-paste(query,\"depart_temperature, depart_dew_point, depart_humidity, depart_pressure, depart_visibility, depart_events, depart_conditions,\", sep=\" \")\n",
    "query<-paste(query,\"arrival_temperature, arrival_dew_point, arrival_humidity, arrival_pressure, arrival_visibility, arrival_events, arrival_conditions\", sep=\" \")\n",
    "query<-paste(query, \"from vra_wu_2017 where status = 'Realizado' or status ='REALIZADO'\", sep=\" \")"
   ]
  },
  {
   "cell_type": "markdown",
   "metadata": {},
   "source": [
    "Carrega-se o conjunto treinamento com base na especificação da query acima descrita."
   ]
  },
  {
   "cell_type": "code",
   "execution_count": 5,
   "metadata": {},
   "outputs": [],
   "source": [
    "train_set<-sqldf(query)"
   ]
  },
  {
   "cell_type": "markdown",
   "metadata": {},
   "source": [
    "Considera-se apenas as partidas e as chegadas nos aeroportos domésticos."
   ]
  },
  {
   "cell_type": "code",
   "execution_count": 6,
   "metadata": {},
   "outputs": [],
   "source": [
    "sub_set<-train_set[which(train_set$origin==\"SBBE\"|train_set$origin==\"SBBR\"|train_set$origin==\"SBCF\"|\n",
    "                         train_set$origin==\"SBEG\"|train_set$origin==\"SBFZ\"|train_set$origin==\"SBGL\"|\n",
    "                         train_set$origin==\"SBGR\"|train_set$origin==\"SBKP\"|train_set$origin==\"SBPA\"|\n",
    "                         train_set$origin==\"SBRF\"|train_set$origin==\"SBSV\"),]"
   ]
  },
  {
   "cell_type": "code",
   "execution_count": 7,
   "metadata": {},
   "outputs": [],
   "source": [
    "sub_set<-sub_set[which(sub_set$destiny==\"SBBE\"|sub_set$destiny==\"SBBR\"|sub_set$destiny==\"SBCF\"|\n",
    "                       sub_set$destiny==\"SBEG\"|sub_set$destiny==\"SBFZ\"|sub_set$destiny==\"SBGL\"|\n",
    "                       sub_set$destiny==\"SBGR\"|sub_set$destiny==\"SBKP\"|sub_set$destiny==\"SBPA\"|\n",
    "                       sub_set$destiny==\"SBRF\"|sub_set$destiny==\"SBSV\"),]"
   ]
  },
  {
   "cell_type": "markdown",
   "metadata": {},
   "source": [
    "**Outliers**"
   ]
  },
  {
   "cell_type": "markdown",
   "metadata": {},
   "source": [
    "Remove-se as observações cujos valores dos atrasos nas partidas são negativos."
   ]
  },
  {
   "cell_type": "code",
   "execution_count": 8,
   "metadata": {},
   "outputs": [],
   "source": [
    "sub_set<-sub_set[which(sub_set$departure_delay>=0),]"
   ]
  },
  {
   "cell_type": "markdown",
   "metadata": {},
   "source": [
    "Remove-se as observações cujos valores dos atrasos nas chegadas são negativos."
   ]
  },
  {
   "cell_type": "code",
   "execution_count": 9,
   "metadata": {},
   "outputs": [],
   "source": [
    "sub_set<-sub_set[which(sub_set$arrival_delay>=0),]"
   ]
  },
  {
   "cell_type": "markdown",
   "metadata": {},
   "source": [
    "**Inconsistências**"
   ]
  },
  {
   "cell_type": "markdown",
   "metadata": {},
   "source": [
    "Remove-se as partidas que são maiores que as chegadas para um mesmo voo."
   ]
  },
  {
   "cell_type": "code",
   "execution_count": 10,
   "metadata": {},
   "outputs": [],
   "source": [
    "sub_set<-sub_set[as.Date(sub_set$depart) <= as.Date(sub_set$arrival),]"
   ]
  },
  {
   "cell_type": "markdown",
   "metadata": {},
   "source": [
    "**Regras internacionais de atraso**"
   ]
  },
  {
   "cell_type": "markdown",
   "metadata": {},
   "source": [
    "Mantém-se apenas as partidas com atrasos maiores ou iguais a 15 minutos e menores ou iguais a 240 minutos (4 horas)."
   ]
  },
  {
   "cell_type": "code",
   "execution_count": 11,
   "metadata": {},
   "outputs": [],
   "source": [
    "sub_set<-sub_set[which(sub_set$departure_delay>=15),]"
   ]
  },
  {
   "cell_type": "code",
   "execution_count": 12,
   "metadata": {},
   "outputs": [],
   "source": [
    "sub_set<-sub_set[which(sub_set$departure_delay<=240),]"
   ]
  },
  {
   "cell_type": "markdown",
   "metadata": {},
   "source": [
    "Aplica-se a mesma regra para as chegadas."
   ]
  },
  {
   "cell_type": "code",
   "execution_count": 13,
   "metadata": {},
   "outputs": [],
   "source": [
    "sub_set<-sub_set[which(sub_set$arrival_delay>=15),]"
   ]
  },
  {
   "cell_type": "code",
   "execution_count": 14,
   "metadata": {},
   "outputs": [],
   "source": [
    "sub_set<-sub_set[which(sub_set$arrival_delay<=240),]"
   ]
  },
  {
   "cell_type": "markdown",
   "metadata": {},
   "source": [
    "**Criação de características**"
   ]
  },
  {
   "cell_type": "markdown",
   "metadata": {},
   "source": [
    "Cria-se as variáveis: **depart_date**, **depart_time**, **arrival_date** e **arrival_time**."
   ]
  },
  {
   "cell_type": "code",
   "execution_count": 15,
   "metadata": {},
   "outputs": [],
   "source": [
    "# cria duas listas com todos os valores da coluna depart (index column=5)\n",
    "# já separados nos formatos YYYY-MM-DD e HH:MM:SS respectivamente\n",
    "depart_d<-sapply(strsplit(sub_set[,5], \" \", fixed = TRUE), \"[\", 1)\n",
    "depart_h<-sapply(strsplit(sub_set[,5], \" \", fixed = TRUE), \"[\", 2)\n",
    "\n",
    "# cria duas listas com todos os valores da coluna arrival (index column=6)\n",
    "# já separados nos formatos YYYY-MM-DD e HH:MM:SS respectivamente\n",
    "arrival_d<-sapply(strsplit(sub_set[,6], \" \", fixed = TRUE), \"[\", 1)\n",
    "arrival_h<-sapply(strsplit(sub_set[,6], \" \", fixed = TRUE), \"[\", 2)\n",
    "\n",
    "# cria um dataframe intermediário com essas duas novas colunas\n",
    "intermed_df <- data.frame(\"depart_date\" = depart_d, \"depart_time\" = depart_h,\n",
    "                          \"arrival_date\" = arrival_d, \"arrival_time\" = arrival_h)\n",
    "\n",
    "# cria um dataframe com a combinação do dataframe sub_set e intermed_df\n",
    "flights <- cbind(sub_set,intermed_df)"
   ]
  },
  {
   "cell_type": "code",
   "execution_count": 16,
   "metadata": {},
   "outputs": [],
   "source": [
    "# Para as novas variáveis criadas\n",
    "# Transforma o formato Factor em chr\n",
    "# para que possa ser trabalhado em conjunto com o sqldf\n",
    "flights$depart_date <- as.character(flights$depart_date)\n",
    "flights$arrival_date <- as.character(flights$arrival_date)\n",
    "flights$depart_time <- as.character(flights$depart_time)\n",
    "flights$arrival_time <- as.character(flights$arrival_time)"
   ]
  },
  {
   "cell_type": "markdown",
   "metadata": {},
   "source": [
    "Cria-se as variáveis: **depart_tt** e **arrival_tt** que serão utilizadas na formatação do arquivo\n",
    "que será a entrada do algoritmo CSPADE."
   ]
  },
  {
   "cell_type": "code",
   "execution_count": 17,
   "metadata": {},
   "outputs": [],
   "source": [
    "# cria duas listas com todos os valores da coluna depart (index column=24 e 26)\n",
    "# já separado no formato HH\n",
    "depart_tt<-substring(flights[,24], 1, 2) \n",
    "arrival_tt<-substring(flights[,26], 1, 2)\n",
    "\n",
    "# cria um dataframe intermediário com essas duas novas colunas\n",
    "intermed_df <- data.frame(\"depart_tt\" = depart_tt, \"arrival_tt\" = arrival_tt)\n",
    "\n",
    "# Adiciona-se ao dataframe atual, a combinação com o dataframe intermed_df\n",
    "flights <- cbind(flights,intermed_df)"
   ]
  },
  {
   "cell_type": "code",
   "execution_count": 18,
   "metadata": {},
   "outputs": [],
   "source": [
    "# Para as novas variáveis criadas\n",
    "# Transforma o formato Factor em chr\n",
    "# para que possa ser trabalhado em conjunto com o sqldf\n",
    "flights$depart_tt <- as.character(flights$depart_tt)\n",
    "flights$arrival_tt <- as.character(flights$arrival_tt)"
   ]
  },
  {
   "cell_type": "code",
   "execution_count": 19,
   "metadata": {
    "scrolled": true
   },
   "outputs": [
    {
     "name": "stdout",
     "output_type": "stream",
     "text": [
      "'data.frame':\t24336 obs. of  28 variables:\n",
      " $ destiny            : Factor w/ 537 levels \"CYYZ\",\"EDDF\",..: 48 48 48 48 48 48 48 48 48 48 ...\n",
      " $ origin             : Factor w/ 522 levels \"CYYZ\",\"EDDF\",..: 52 79 119 76 79 76 79 52 79 76 ...\n",
      " $ airline            : Factor w/ 119 levels \"AAL\",\"ABJ\",\"ACA\",..: 60 60 13 28 28 28 28 60 115 28 ...\n",
      " $ flight             : Factor w/ 8250 levels \"3\",\"4\",\"14\",\"15\",..: 5834 3643 6049 6422 548 6422 548 1038 6290 6422 ...\n",
      " $ depart             : chr  \"2017-01-01 15:50:00\" \"2017-01-02 11:12:00\" \"2017-01-02 14:29:00\" \"2017-01-02 22:35:00\" ...\n",
      " $ arrival            : chr  \"2017-01-01 18:10:00\" \"2017-01-02 14:56:00\" \"2017-01-02 17:01:00\" \"2017-01-03 02:08:00\" ...\n",
      " $ departure_delay    : num  120 17 63 20 42 19 24 105 103 60 ...\n",
      " $ arrival_delay      : num  119 34 58 18 37 16 22 83 95 58 ...\n",
      " $ depart_temperature : num  29 25 30 30 20 26 26 24 31 23 ...\n",
      " $ depart_dew_point   : num  11 20 23 22 19 20 21 19 21 21 ...\n",
      " $ depart_humidity    : num  33 74 66 62 94 69 74 73 58 88 ...\n",
      " $ depart_pressure    : num  1020 1016 1012 1011 1016 ...\n",
      " $ depart_visibility  : num  10 10 10 20 9 20 NA NA 10 8 ...\n",
      " $ depart_events      : chr  \"\" \"\" \"\" \"\" ...\n",
      " $ depart_conditions  : chr  \"Mostly Cloudy\" \"Partly Cloudy\" \"Partly Cloudy\" \"Scattered Clouds\" ...\n",
      " $ arrival_temperature: num  25 23 23 23 25 25 25 29 NA 25 ...\n",
      " $ arrival_dew_point  : num  24 21 22 22 24 23 24 25 NA 23 ...\n",
      " $ arrival_humidity   : num  94 88 94 94 94 89 94 89 NA 89 ...\n",
      " $ arrival_pressure   : num  1009 1011 NA 1011 1011 ...\n",
      " $ arrival_visibility : num  10 6 8 NA NA NA NA 10 NA NA ...\n",
      " $ arrival_events     : chr  \"\" \"\" \"\" \"\" ...\n",
      " $ arrival_conditions : chr  \"Thunderstorm\" \"Light Rain\" \"Light Rain\" \"Clear\" ...\n",
      " $ depart_date        : chr  \"2017-01-01\" \"2017-01-02\" \"2017-01-02\" \"2017-01-02\" ...\n",
      " $ depart_time        : chr  \"15:50:00\" \"11:12:00\" \"14:29:00\" \"22:35:00\" ...\n",
      " $ arrival_date       : chr  \"2017-01-01\" \"2017-01-02\" \"2017-01-02\" \"2017-01-03\" ...\n",
      " $ arrival_time       : chr  \"18:10:00\" \"14:56:00\" \"17:01:00\" \"02:08:00\" ...\n",
      " $ depart_tt          : chr  \"15\" \"11\" \"14\" \"22\" ...\n",
      " $ arrival_tt         : chr  \"18\" \"14\" \"17\" \"02\" ...\n"
     ]
    }
   ],
   "source": [
    "str(flights)"
   ]
  },
  {
   "cell_type": "markdown",
   "metadata": {},
   "source": [
    "**Agregação Temporal**"
   ]
  },
  {
   "cell_type": "markdown",
   "metadata": {},
   "source": [
    "Transforma-se a série de voos em uma série temporal com observações hora a hora com os voos agrupados pela concatenação\n",
    "do código ICAO do aeroporto mais a data de realização da partida ou da chegada, ordenados por esse agrupamento e pela\n",
    "agregação temporal considerando-se a hora cheia.<BR>\n",
    "Calcula-se o tamanho de cada agrupamento [SIZE] por meio do somatório dos voos em cada agrupamento."
   ]
  },
  {
   "cell_type": "markdown",
   "metadata": {},
   "source": [
    "Analisando-se a rede de atrasos nas partidas e nas chegadas."
   ]
  },
  {
   "cell_type": "code",
   "execution_count": 48,
   "metadata": {},
   "outputs": [],
   "source": [
    "query<-\"select flight, origin||depart_date as sequenceID, depart_tt as eventID, destiny, arrival_date, arrival_tt,\n",
    "departure_delay, arrival_delay, depart_conditions, arrival_conditions\"\n",
    "query<-paste(query, \"from flights where origin='SBBE' and depart_date='2017-01-01'\", sep=\" \")"
   ]
  },
  {
   "cell_type": "code",
   "execution_count": 49,
   "metadata": {},
   "outputs": [],
   "source": [
    "partidas<-sqldf(query)"
   ]
  },
  {
   "cell_type": "code",
   "execution_count": 50,
   "metadata": {
    "scrolled": true
   },
   "outputs": [
    {
     "data": {
      "text/html": [
       "<table>\n",
       "<thead><tr><th scope=col>flight</th><th scope=col>sequenceID</th><th scope=col>eventID</th><th scope=col>destiny</th><th scope=col>arrival_date</th><th scope=col>arrival_tt</th><th scope=col>departure_delay</th><th scope=col>arrival_delay</th><th scope=col>depart_conditions</th><th scope=col>arrival_conditions</th></tr></thead>\n",
       "<tbody>\n",
       "\t<tr><td>3233          </td><td>SBBE2017-01-01</td><td>18            </td><td>SBBR          </td><td>2017-01-01    </td><td>21            </td><td>123           </td><td>126           </td><td>Thunderstorm  </td><td>Partly Cloudy </td></tr>\n",
       "\t<tr><td>1679          </td><td>SBBE2017-01-01</td><td>17            </td><td>SBGR          </td><td>2017-01-01    </td><td>21            </td><td> 38           </td><td> 68           </td><td>Thunderstorm  </td><td>Clear         </td></tr>\n",
       "</tbody>\n",
       "</table>\n"
      ],
      "text/latex": [
       "\\begin{tabular}{r|llllllllll}\n",
       " flight & sequenceID & eventID & destiny & arrival\\_date & arrival\\_tt & departure\\_delay & arrival\\_delay & depart\\_conditions & arrival\\_conditions\\\\\n",
       "\\hline\n",
       "\t 3233           & SBBE2017-01-01 & 18             & SBBR           & 2017-01-01     & 21             & 123            & 126            & Thunderstorm   & Partly Cloudy \\\\\n",
       "\t 1679           & SBBE2017-01-01 & 17             & SBGR           & 2017-01-01     & 21             &  38            &  68            & Thunderstorm   & Clear         \\\\\n",
       "\\end{tabular}\n"
      ],
      "text/markdown": [
       "\n",
       "flight | sequenceID | eventID | destiny | arrival_date | arrival_tt | departure_delay | arrival_delay | depart_conditions | arrival_conditions | \n",
       "|---|---|\n",
       "| 3233           | SBBE2017-01-01 | 18             | SBBR           | 2017-01-01     | 21             | 123            | 126            | Thunderstorm   | Partly Cloudy  | \n",
       "| 1679           | SBBE2017-01-01 | 17             | SBGR           | 2017-01-01     | 21             |  38            |  68            | Thunderstorm   | Clear          | \n",
       "\n",
       "\n"
      ],
      "text/plain": [
       "  flight sequenceID     eventID destiny arrival_date arrival_tt departure_delay\n",
       "1 3233   SBBE2017-01-01 18      SBBR    2017-01-01   21         123            \n",
       "2 1679   SBBE2017-01-01 17      SBGR    2017-01-01   21          38            \n",
       "  arrival_delay depart_conditions arrival_conditions\n",
       "1 126           Thunderstorm      Partly Cloudy     \n",
       "2  68           Thunderstorm      Clear             "
      ]
     },
     "metadata": {},
     "output_type": "display_data"
    }
   ],
   "source": [
    "partidas"
   ]
  },
  {
   "cell_type": "code",
   "execution_count": 51,
   "metadata": {},
   "outputs": [],
   "source": [
    "query<-\"select flight, destiny||arrival_date as sequenceID, arrival_tt as eventID, origin, depart_date, depart_tt,\n",
    "departure_delay, arrival_delay, depart_conditions, arrival_conditions\"\n",
    "query<-paste(query, \"from flights where destiny='SBBE' and arrival_date='2017-01-01'\", sep=\" \")"
   ]
  },
  {
   "cell_type": "code",
   "execution_count": 52,
   "metadata": {},
   "outputs": [],
   "source": [
    "chegadas<-sqldf(query)"
   ]
  },
  {
   "cell_type": "code",
   "execution_count": 53,
   "metadata": {},
   "outputs": [
    {
     "data": {
      "text/html": [
       "<table>\n",
       "<thead><tr><th scope=col>flight</th><th scope=col>sequenceID</th><th scope=col>eventID</th><th scope=col>origin</th><th scope=col>depart_date</th><th scope=col>depart_tt</th><th scope=col>departure_delay</th><th scope=col>arrival_delay</th><th scope=col>depart_conditions</th><th scope=col>arrival_conditions</th></tr></thead>\n",
       "<tbody>\n",
       "\t<tr><td>3796          </td><td>SBBE2017-01-01</td><td>18            </td><td>SBBR          </td><td>2017-01-01    </td><td>15            </td><td>120           </td><td>119           </td><td>Mostly Cloudy </td><td>Thunderstorm  </td></tr>\n",
       "</tbody>\n",
       "</table>\n"
      ],
      "text/latex": [
       "\\begin{tabular}{r|llllllllll}\n",
       " flight & sequenceID & eventID & origin & depart\\_date & depart\\_tt & departure\\_delay & arrival\\_delay & depart\\_conditions & arrival\\_conditions\\\\\n",
       "\\hline\n",
       "\t 3796           & SBBE2017-01-01 & 18             & SBBR           & 2017-01-01     & 15             & 120            & 119            & Mostly Cloudy  & Thunderstorm  \\\\\n",
       "\\end{tabular}\n"
      ],
      "text/markdown": [
       "\n",
       "flight | sequenceID | eventID | origin | depart_date | depart_tt | departure_delay | arrival_delay | depart_conditions | arrival_conditions | \n",
       "|---|\n",
       "| 3796           | SBBE2017-01-01 | 18             | SBBR           | 2017-01-01     | 15             | 120            | 119            | Mostly Cloudy  | Thunderstorm   | \n",
       "\n",
       "\n"
      ],
      "text/plain": [
       "  flight sequenceID     eventID origin depart_date depart_tt departure_delay\n",
       "1 3796   SBBE2017-01-01 18      SBBR   2017-01-01  15        120            \n",
       "  arrival_delay depart_conditions arrival_conditions\n",
       "1 119           Mostly Cloudy     Thunderstorm      "
      ]
     },
     "metadata": {},
     "output_type": "display_data"
    }
   ],
   "source": [
    "chegadas"
   ]
  },
  {
   "cell_type": "code",
   "execution_count": 61,
   "metadata": {},
   "outputs": [],
   "source": [
    "query<-\"select * from partidas union select * from chegadas\""
   ]
  },
  {
   "cell_type": "code",
   "execution_count": 62,
   "metadata": {},
   "outputs": [],
   "source": [
    "result<-sqldf(query)"
   ]
  },
  {
   "cell_type": "code",
   "execution_count": 56,
   "metadata": {
    "scrolled": true
   },
   "outputs": [
    {
     "data": {
      "text/html": [
       "<table>\n",
       "<thead><tr><th scope=col>flight</th><th scope=col>sequenceID</th><th scope=col>eventID</th><th scope=col>destiny</th><th scope=col>arrival_date</th><th scope=col>arrival_tt</th><th scope=col>departure_delay</th><th scope=col>arrival_delay</th><th scope=col>depart_conditions</th><th scope=col>arrival_conditions</th></tr></thead>\n",
       "<tbody>\n",
       "\t<tr><td>1679          </td><td>SBBE2017-01-01</td><td>17            </td><td>SBGR          </td><td>2017-01-01    </td><td>21            </td><td> 38           </td><td> 68           </td><td>Thunderstorm  </td><td>Clear         </td></tr>\n",
       "\t<tr><td>3233          </td><td>SBBE2017-01-01</td><td>18            </td><td>SBBR          </td><td>2017-01-01    </td><td>21            </td><td>123           </td><td>126           </td><td>Thunderstorm  </td><td>Partly Cloudy </td></tr>\n",
       "\t<tr><td>3796          </td><td>SBBE2017-01-01</td><td>18            </td><td>SBBR          </td><td>2017-01-01    </td><td>15            </td><td>120           </td><td>119           </td><td>Mostly Cloudy </td><td>Thunderstorm  </td></tr>\n",
       "</tbody>\n",
       "</table>\n"
      ],
      "text/latex": [
       "\\begin{tabular}{r|llllllllll}\n",
       " flight & sequenceID & eventID & destiny & arrival\\_date & arrival\\_tt & departure\\_delay & arrival\\_delay & depart\\_conditions & arrival\\_conditions\\\\\n",
       "\\hline\n",
       "\t 1679           & SBBE2017-01-01 & 17             & SBGR           & 2017-01-01     & 21             &  38            &  68            & Thunderstorm   & Clear         \\\\\n",
       "\t 3233           & SBBE2017-01-01 & 18             & SBBR           & 2017-01-01     & 21             & 123            & 126            & Thunderstorm   & Partly Cloudy \\\\\n",
       "\t 3796           & SBBE2017-01-01 & 18             & SBBR           & 2017-01-01     & 15             & 120            & 119            & Mostly Cloudy  & Thunderstorm  \\\\\n",
       "\\end{tabular}\n"
      ],
      "text/markdown": [
       "\n",
       "flight | sequenceID | eventID | destiny | arrival_date | arrival_tt | departure_delay | arrival_delay | depart_conditions | arrival_conditions | \n",
       "|---|---|---|\n",
       "| 1679           | SBBE2017-01-01 | 17             | SBGR           | 2017-01-01     | 21             |  38            |  68            | Thunderstorm   | Clear          | \n",
       "| 3233           | SBBE2017-01-01 | 18             | SBBR           | 2017-01-01     | 21             | 123            | 126            | Thunderstorm   | Partly Cloudy  | \n",
       "| 3796           | SBBE2017-01-01 | 18             | SBBR           | 2017-01-01     | 15             | 120            | 119            | Mostly Cloudy  | Thunderstorm   | \n",
       "\n",
       "\n"
      ],
      "text/plain": [
       "  flight sequenceID     eventID destiny arrival_date arrival_tt departure_delay\n",
       "1 1679   SBBE2017-01-01 17      SBGR    2017-01-01   21          38            \n",
       "2 3233   SBBE2017-01-01 18      SBBR    2017-01-01   21         123            \n",
       "3 3796   SBBE2017-01-01 18      SBBR    2017-01-01   15         120            \n",
       "  arrival_delay depart_conditions arrival_conditions\n",
       "1  68           Thunderstorm      Clear             \n",
       "2 126           Thunderstorm      Partly Cloudy     \n",
       "3 119           Mostly Cloudy     Thunderstorm      "
      ]
     },
     "metadata": {},
     "output_type": "display_data"
    }
   ],
   "source": [
    "result"
   ]
  },
  {
   "cell_type": "markdown",
   "metadata": {},
   "source": [
    "Acima, tem-se um conjunto de dados no formato **single** de todas as partidas e chegadas com atraso.<BR><BR>\n",
    "Quando um conjunto de dados está neste formato, cada observação representa um único item e cada item contém um identificador de transação."
   ]
  },
  {
   "cell_type": "markdown",
   "metadata": {},
   "source": [
    "Cria-se um novo conjunto de dados, apenas com as colunas necessárias para a criação de arquivo TXT no formato **basket**."
   ]
  },
  {
   "cell_type": "code",
   "execution_count": 63,
   "metadata": {},
   "outputs": [],
   "source": [
    "query<-\"select flight as items, sequenceID, eventid, 1 as SIZE from result\""
   ]
  },
  {
   "cell_type": "code",
   "execution_count": 64,
   "metadata": {},
   "outputs": [],
   "source": [
    "agg<-sqldf(query)"
   ]
  },
  {
   "cell_type": "code",
   "execution_count": 65,
   "metadata": {},
   "outputs": [
    {
     "data": {
      "text/html": [
       "<table>\n",
       "<thead><tr><th scope=col>items</th><th scope=col>sequenceID</th><th scope=col>eventID</th><th scope=col>SIZE</th></tr></thead>\n",
       "<tbody>\n",
       "\t<tr><td>1679          </td><td>SBBE2017-01-01</td><td>17            </td><td>1             </td></tr>\n",
       "\t<tr><td>3233          </td><td>SBBE2017-01-01</td><td>18            </td><td>1             </td></tr>\n",
       "\t<tr><td>3796          </td><td>SBBE2017-01-01</td><td>18            </td><td>1             </td></tr>\n",
       "</tbody>\n",
       "</table>\n"
      ],
      "text/latex": [
       "\\begin{tabular}{r|llll}\n",
       " items & sequenceID & eventID & SIZE\\\\\n",
       "\\hline\n",
       "\t 1679           & SBBE2017-01-01 & 17             & 1             \\\\\n",
       "\t 3233           & SBBE2017-01-01 & 18             & 1             \\\\\n",
       "\t 3796           & SBBE2017-01-01 & 18             & 1             \\\\\n",
       "\\end{tabular}\n"
      ],
      "text/markdown": [
       "\n",
       "items | sequenceID | eventID | SIZE | \n",
       "|---|---|---|\n",
       "| 1679           | SBBE2017-01-01 | 17             | 1              | \n",
       "| 3233           | SBBE2017-01-01 | 18             | 1              | \n",
       "| 3796           | SBBE2017-01-01 | 18             | 1              | \n",
       "\n",
       "\n"
      ],
      "text/plain": [
       "  items sequenceID     eventID SIZE\n",
       "1 1679  SBBE2017-01-01 17      1   \n",
       "2 3233  SBBE2017-01-01 18      1   \n",
       "3 3796  SBBE2017-01-01 18      1   "
      ]
     },
     "metadata": {},
     "output_type": "display_data"
    }
   ],
   "source": [
    "agg"
   ]
  },
  {
   "cell_type": "markdown",
   "metadata": {},
   "source": [
    "Quando o arquivo está no formato **basket** cada observação representa uma transação onde os itens estão em uma mesma coluna."
   ]
  },
  {
   "cell_type": "markdown",
   "metadata": {},
   "source": [
    "Cria-se então, um conjunto de dados no formato **basket**."
   ]
  },
  {
   "cell_type": "code",
   "execution_count": 155,
   "metadata": {},
   "outputs": [],
   "source": [
    "basket <- ddply(agg,c(\"sequenceID\",\"eventID\",\"SIZE\"), \n",
    "                       function(df1)paste(df1$items, \n",
    "                       collapse = \" \"))"
   ]
  },
  {
   "cell_type": "code",
   "execution_count": 156,
   "metadata": {},
   "outputs": [
    {
     "data": {
      "text/html": [
       "<table>\n",
       "<thead><tr><th scope=col>sequenceID</th><th scope=col>eventID</th><th scope=col>SIZE</th><th scope=col>V1</th></tr></thead>\n",
       "<tbody>\n",
       "\t<tr><td>SBBE2017-01-01</td><td>17            </td><td>1             </td><td>1679          </td></tr>\n",
       "\t<tr><td>SBBE2017-01-01</td><td>18            </td><td>1             </td><td>3233 3796     </td></tr>\n",
       "</tbody>\n",
       "</table>\n"
      ],
      "text/latex": [
       "\\begin{tabular}{r|llll}\n",
       " sequenceID & eventID & SIZE & V1\\\\\n",
       "\\hline\n",
       "\t SBBE2017-01-01 & 17             & 1              & 1679          \\\\\n",
       "\t SBBE2017-01-01 & 18             & 1              & 3233 3796     \\\\\n",
       "\\end{tabular}\n"
      ],
      "text/markdown": [
       "\n",
       "sequenceID | eventID | SIZE | V1 | \n",
       "|---|---|\n",
       "| SBBE2017-01-01 | 17             | 1              | 1679           | \n",
       "| SBBE2017-01-01 | 18             | 1              | 3233 3796      | \n",
       "\n",
       "\n"
      ],
      "text/plain": [
       "  sequenceID     eventID SIZE V1       \n",
       "1 SBBE2017-01-01 17      1    1679     \n",
       "2 SBBE2017-01-01 18      1    3233 3796"
      ]
     },
     "metadata": {},
     "output_type": "display_data"
    }
   ],
   "source": [
    "basket"
   ]
  },
  {
   "cell_type": "code",
   "execution_count": 157,
   "metadata": {},
   "outputs": [],
   "source": [
    "# Renomeando as colunas com os nomes corretos na sequência\n",
    "colnames(basket) <- c(\"sequenceID\",\"eventID\",\"SIZE\",\"items\")"
   ]
  },
  {
   "cell_type": "code",
   "execution_count": 158,
   "metadata": {},
   "outputs": [
    {
     "data": {
      "text/html": [
       "<table>\n",
       "<thead><tr><th scope=col>sequenceID</th><th scope=col>eventID</th><th scope=col>SIZE</th><th scope=col>items</th></tr></thead>\n",
       "<tbody>\n",
       "\t<tr><td>SBBE2017-01-01</td><td>17            </td><td>1             </td><td>1679          </td></tr>\n",
       "\t<tr><td>SBBE2017-01-01</td><td>18            </td><td>1             </td><td>3233 3796     </td></tr>\n",
       "</tbody>\n",
       "</table>\n"
      ],
      "text/latex": [
       "\\begin{tabular}{r|llll}\n",
       " sequenceID & eventID & SIZE & items\\\\\n",
       "\\hline\n",
       "\t SBBE2017-01-01 & 17             & 1              & 1679          \\\\\n",
       "\t SBBE2017-01-01 & 18             & 1              & 3233 3796     \\\\\n",
       "\\end{tabular}\n"
      ],
      "text/markdown": [
       "\n",
       "sequenceID | eventID | SIZE | items | \n",
       "|---|---|\n",
       "| SBBE2017-01-01 | 17             | 1              | 1679           | \n",
       "| SBBE2017-01-01 | 18             | 1              | 3233 3796      | \n",
       "\n",
       "\n"
      ],
      "text/plain": [
       "  sequenceID     eventID SIZE items    \n",
       "1 SBBE2017-01-01 17      1    1679     \n",
       "2 SBBE2017-01-01 18      1    3233 3796"
      ]
     },
     "metadata": {},
     "output_type": "display_data"
    }
   ],
   "source": [
    "basket"
   ]
  },
  {
   "cell_type": "code",
   "execution_count": 159,
   "metadata": {},
   "outputs": [],
   "source": [
    "# Calculando o SIZE com base nos items\n",
    "basket$SIZE<-sapply(strsplit(basket$items,\" \"),length)"
   ]
  },
  {
   "cell_type": "code",
   "execution_count": 160,
   "metadata": {},
   "outputs": [
    {
     "data": {
      "text/html": [
       "<table>\n",
       "<thead><tr><th scope=col>sequenceID</th><th scope=col>eventID</th><th scope=col>SIZE</th><th scope=col>items</th></tr></thead>\n",
       "<tbody>\n",
       "\t<tr><td>SBBE2017-01-01</td><td>17            </td><td>1             </td><td>1679          </td></tr>\n",
       "\t<tr><td>SBBE2017-01-01</td><td>18            </td><td>2             </td><td>3233 3796     </td></tr>\n",
       "</tbody>\n",
       "</table>\n"
      ],
      "text/latex": [
       "\\begin{tabular}{r|llll}\n",
       " sequenceID & eventID & SIZE & items\\\\\n",
       "\\hline\n",
       "\t SBBE2017-01-01 & 17             & 1              & 1679          \\\\\n",
       "\t SBBE2017-01-01 & 18             & 2              & 3233 3796     \\\\\n",
       "\\end{tabular}\n"
      ],
      "text/markdown": [
       "\n",
       "sequenceID | eventID | SIZE | items | \n",
       "|---|---|\n",
       "| SBBE2017-01-01 | 17             | 1              | 1679           | \n",
       "| SBBE2017-01-01 | 18             | 2              | 3233 3796      | \n",
       "\n",
       "\n"
      ],
      "text/plain": [
       "  sequenceID     eventID SIZE items    \n",
       "1 SBBE2017-01-01 17      1    1679     \n",
       "2 SBBE2017-01-01 18      2    3233 3796"
      ]
     },
     "metadata": {},
     "output_type": "display_data"
    }
   ],
   "source": [
    "basket"
   ]
  },
  {
   "cell_type": "code",
   "execution_count": 161,
   "metadata": {},
   "outputs": [],
   "source": [
    "# Removendo o hífen da coluna sequenceID\n",
    "basket$sequenceID<-gsub(\"-\", \"\", basket$sequenceID)"
   ]
  },
  {
   "cell_type": "code",
   "execution_count": 162,
   "metadata": {},
   "outputs": [
    {
     "data": {
      "text/html": [
       "<table>\n",
       "<thead><tr><th scope=col>sequenceID</th><th scope=col>eventID</th><th scope=col>SIZE</th><th scope=col>items</th></tr></thead>\n",
       "<tbody>\n",
       "\t<tr><td>SBBE20170101</td><td>17          </td><td>1           </td><td>1679        </td></tr>\n",
       "\t<tr><td>SBBE20170101</td><td>18          </td><td>2           </td><td>3233 3796   </td></tr>\n",
       "</tbody>\n",
       "</table>\n"
      ],
      "text/latex": [
       "\\begin{tabular}{r|llll}\n",
       " sequenceID & eventID & SIZE & items\\\\\n",
       "\\hline\n",
       "\t SBBE20170101 & 17           & 1            & 1679        \\\\\n",
       "\t SBBE20170101 & 18           & 2            & 3233 3796   \\\\\n",
       "\\end{tabular}\n"
      ],
      "text/markdown": [
       "\n",
       "sequenceID | eventID | SIZE | items | \n",
       "|---|---|\n",
       "| SBBE20170101 | 17           | 1            | 1679         | \n",
       "| SBBE20170101 | 18           | 2            | 3233 3796    | \n",
       "\n",
       "\n"
      ],
      "text/plain": [
       "  sequenceID   eventID SIZE items    \n",
       "1 SBBE20170101 17      1    1679     \n",
       "2 SBBE20170101 18      2    3233 3796"
      ]
     },
     "metadata": {},
     "output_type": "display_data"
    }
   ],
   "source": [
    "basket"
   ]
  },
  {
   "cell_type": "markdown",
   "metadata": {},
   "source": [
    "**Gravando o arquivo TXT no formato BASKET**"
   ]
  },
  {
   "cell_type": "code",
   "execution_count": 168,
   "metadata": {},
   "outputs": [],
   "source": [
    "write.table(basket, \"basket_flights.txt\", quote = FALSE, eol = \"\\n\", row.names = FALSE,\n",
    "            col.names = FALSE, fileEncoding = \"UTF-8\")"
   ]
  },
  {
   "cell_type": "markdown",
   "metadata": {},
   "source": [
    "**Lendo o arquivo gravado**"
   ]
  },
  {
   "cell_type": "code",
   "execution_count": 169,
   "metadata": {},
   "outputs": [],
   "source": [
    "x <- read_baskets(con = \"basket_flights.txt\", info = c(\"sequenceID\",\"eventID\",\"SIZE\"))"
   ]
  },
  {
   "cell_type": "code",
   "execution_count": 170,
   "metadata": {},
   "outputs": [
    {
     "data": {
      "text/html": [
       "<table>\n",
       "<thead><tr><th scope=col>items</th><th scope=col>sequenceID</th><th scope=col>eventID</th><th scope=col>SIZE</th></tr></thead>\n",
       "<tbody>\n",
       "\t<tr><td>{1679}      </td><td>SBBE20170101</td><td>17          </td><td>1           </td></tr>\n",
       "\t<tr><td>{3233,3796} </td><td>SBBE20170101</td><td>18          </td><td>2           </td></tr>\n",
       "</tbody>\n",
       "</table>\n"
      ],
      "text/latex": [
       "\\begin{tabular}{r|llll}\n",
       " items & sequenceID & eventID & SIZE\\\\\n",
       "\\hline\n",
       "\t \\{1679\\}      & SBBE20170101    & 17              & 1              \\\\\n",
       "\t \\{3233,3796\\} & SBBE20170101    & 18              & 2              \\\\\n",
       "\\end{tabular}\n"
      ],
      "text/markdown": [
       "\n",
       "items | sequenceID | eventID | SIZE | \n",
       "|---|---|\n",
       "| {1679}       | SBBE20170101 | 17           | 1            | \n",
       "| {3233,3796}  | SBBE20170101 | 18           | 2            | \n",
       "\n",
       "\n"
      ],
      "text/plain": [
       "  items       sequenceID   eventID SIZE\n",
       "1 {1679}      SBBE20170101 17      1   \n",
       "2 {3233,3796} SBBE20170101 18      2   "
      ]
     },
     "metadata": {},
     "output_type": "display_data"
    }
   ],
   "source": [
    "as(x, \"data.frame\")"
   ]
  },
  {
   "cell_type": "markdown",
   "metadata": {},
   "source": [
    "**Executando o algoritmo CSPADE**"
   ]
  },
  {
   "cell_type": "markdown",
   "metadata": {},
   "source": [
    "Sequências Frequentes com um suporte mínimo de 50% (ou seja, a sub-sequência ocorre em no mínimo 2 sequências de entrada)."
   ]
  },
  {
   "cell_type": "code",
   "execution_count": 171,
   "metadata": {},
   "outputs": [
    {
     "name": "stdout",
     "output_type": "stream",
     "text": [
      "\n",
      "parameter specification:\n",
      "support : 0.5\n",
      "maxsize :  10\n",
      "maxlen  :  10\n",
      "\n",
      "algorithmic control:\n",
      "bfstype  : FALSE\n",
      "verbose  :  TRUE\n",
      "summary  : FALSE\n",
      "tidLists : FALSE\n",
      "\n",
      "preprocessing ... 1 partition(s), 0 MB [1.2s]\n",
      "mining transactions ... 0 MB [0.53s]\n",
      "reading sequences ... [0.42s]\n",
      "\n",
      "total elapsed time: 2.14s\n"
     ]
    }
   ],
   "source": [
    "s <- cspade(x, parameter = list(support = 0.5), control = list(verbose = TRUE))"
   ]
  },
  {
   "cell_type": "markdown",
   "metadata": {},
   "source": [
    "**Visualizando as sequências**"
   ]
  },
  {
   "cell_type": "code",
   "execution_count": 172,
   "metadata": {},
   "outputs": [],
   "source": [
    "df <- as(s, \"data.frame\")"
   ]
  },
  {
   "cell_type": "code",
   "execution_count": 173,
   "metadata": {},
   "outputs": [
    {
     "data": {
      "text/html": [
       "<table>\n",
       "<thead><tr><th scope=col>sequence</th><th scope=col>support</th></tr></thead>\n",
       "<tbody>\n",
       "\t<tr><td><span style=white-space:pre-wrap>&lt;{1679}&gt;            </span></td><td>1                                                                 </td></tr>\n",
       "\t<tr><td><span style=white-space:pre-wrap>&lt;{3233}&gt;            </span></td><td>1                                                                 </td></tr>\n",
       "\t<tr><td><span style=white-space:pre-wrap>&lt;{3796}&gt;            </span></td><td>1                                                                 </td></tr>\n",
       "\t<tr><td><span style=white-space:pre-wrap>&lt;{1679},{3796}&gt;     </span></td><td>1                                                                 </td></tr>\n",
       "\t<tr><td><span style=white-space:pre-wrap>&lt;{3233,3796}&gt;       </span></td><td>1                                                                 </td></tr>\n",
       "\t<tr><td>&lt;{1679},{3233,3796}&gt;</td><td>1                         </td></tr>\n",
       "\t<tr><td><span style=white-space:pre-wrap>&lt;{1679},{3233}&gt;     </span></td><td>1                                                                 </td></tr>\n",
       "</tbody>\n",
       "</table>\n"
      ],
      "text/latex": [
       "\\begin{tabular}{r|ll}\n",
       " sequence & support\\\\\n",
       "\\hline\n",
       "\t <\\{1679\\}>             & 1                       \\\\\n",
       "\t <\\{3233\\}>             & 1                       \\\\\n",
       "\t <\\{3796\\}>             & 1                       \\\\\n",
       "\t <\\{1679\\},\\{3796\\}>      & 1                           \\\\\n",
       "\t <\\{3233,3796\\}>        & 1                       \\\\\n",
       "\t <\\{1679\\},\\{3233,3796\\}> & 1                           \\\\\n",
       "\t <\\{1679\\},\\{3233\\}>      & 1                           \\\\\n",
       "\\end{tabular}\n"
      ],
      "text/markdown": [
       "\n",
       "sequence | support | \n",
       "|---|---|---|---|---|---|---|\n",
       "| <{1679}>             | 1                    | \n",
       "| <{3233}>             | 1                    | \n",
       "| <{3796}>             | 1                    | \n",
       "| <{1679},{3796}>      | 1                    | \n",
       "| <{3233,3796}>        | 1                    | \n",
       "| <{1679},{3233,3796}> | 1                    | \n",
       "| <{1679},{3233}>      | 1                    | \n",
       "\n",
       "\n"
      ],
      "text/plain": [
       "  sequence             support\n",
       "1 <{1679}>             1      \n",
       "2 <{3233}>             1      \n",
       "3 <{3796}>             1      \n",
       "4 <{1679},{3796}>      1      \n",
       "5 <{3233,3796}>        1      \n",
       "6 <{1679},{3233,3796}> 1      \n",
       "7 <{1679},{3233}>      1      "
      ]
     },
     "metadata": {},
     "output_type": "display_data"
    }
   ],
   "source": [
    "df"
   ]
  },
  {
   "cell_type": "markdown",
   "metadata": {},
   "source": [
    "Tem-se na lista acima, os padrões sequenciais dos voos atrasados."
   ]
  },
  {
   "cell_type": "markdown",
   "metadata": {},
   "source": [
    "**Induzindo a geração das regras de atraso neste aeroporto específico (SBBE)**"
   ]
  },
  {
   "cell_type": "code",
   "execution_count": 174,
   "metadata": {},
   "outputs": [
    {
     "data": {
      "text/plain": [
       "set of 3 sequencerules with\n",
       "\n",
       "rule size distribution (lhs + rhs)\n",
       "sizes\n",
       "2 \n",
       "3 \n",
       "\n",
       "rule length distribution (lhs + rhs)\n",
       "lengths\n",
       "2 3 \n",
       "2 1 \n",
       "\n",
       "summary of quality measures:\n",
       "    support    confidence      lift  \n",
       " Min.   :1   Min.   :1    Min.   :1  \n",
       " 1st Qu.:1   1st Qu.:1    1st Qu.:1  \n",
       " Median :1   Median :1    Median :1  \n",
       " Mean   :1   Mean   :1    Mean   :1  \n",
       " 3rd Qu.:1   3rd Qu.:1    3rd Qu.:1  \n",
       " Max.   :1   Max.   :1    Max.   :1  \n",
       "\n",
       "mining info:\n",
       " data ntransactions nsequences support confidence\n",
       "    x             2          1     0.5       0.95"
      ]
     },
     "metadata": {},
     "output_type": "display_data"
    }
   ],
   "source": [
    "## usando uma confiança elevada\n",
    "sequenceRules <- ruleInduction(s, confidence = .95, control = list(verbose = TRUE))\n",
    "summary(sequenceRules)"
   ]
  },
  {
   "cell_type": "code",
   "execution_count": 175,
   "metadata": {},
   "outputs": [
    {
     "name": "stdout",
     "output_type": "stream",
     "text": [
      "   lhs         rhs      support confidence lift \n",
      " 1 <{1679}> => <{3796}>       1          1    1 \n",
      " 2 <{1679}> => <{3233,        1          1    1 \n",
      "                 3796}>    \n",
      " 3 <{1679}> => <{3233}>       1          1    1 \n",
      " \n"
     ]
    }
   ],
   "source": [
    "inspect(sequenceRules)"
   ]
  },
  {
   "cell_type": "markdown",
   "metadata": {},
   "source": [
    "Considerando-se um suporte de 100% e confiança de 95%, tem-se:<BR><BR>\n",
    "1. O atraso do voo 1679 implica no atraso dos voo 3796;<BR>\n",
    "2. O atraso dos voos 1679, implica no atraso conjunto dos voos 3233 e 3796; e <BR>\n",
    "3. O atraso do voo 1679 implica no atraso do voo 3233;<BR><BR>\n",
    "Logo, tem-se uma propagação de atraso entre esses voos."
   ]
  },
  {
   "cell_type": "markdown",
   "metadata": {},
   "source": [
    "**Exibindo um GRAFO de propagação de atraso no aeroporto SBBE**"
   ]
  },
  {
   "cell_type": "code",
   "execution_count": 179,
   "metadata": {},
   "outputs": [
    {
     "data": {
      "image/png": "[encoded data removed]",
      "text/plain": [
       "plot without title"
      ]
     },
     "metadata": {},
     "output_type": "display_data"
    }
   ],
   "source": [
    "Flight_Graph<-network(df)\n",
    "plot(Flight_Graph, usearrows=TRUE, displaylabels=TRUE)"
   ]
  },
  {
   "cell_type": "code",
   "execution_count": null,
   "metadata": {},
   "outputs": [],
   "source": []
  }
 ],
 "metadata": {
  "kernelspec": {
   "display_name": "R",
   "language": "R",
   "name": "ir"
  },
  "language_info": {
   "codemirror_mode": "r",
   "file_extension": ".r",
   "mimetype": "text/x-r-source",
   "name": "R",
   "pygments_lexer": "r",
   "version": "3.4.3"
  }
 },
 "nbformat": 4,
 "nbformat_minor": 2
}
