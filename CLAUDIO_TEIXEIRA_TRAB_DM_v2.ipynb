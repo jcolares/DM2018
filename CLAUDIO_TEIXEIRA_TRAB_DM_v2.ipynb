{
 "cells": [
  {
   "cell_type": "code",
   "execution_count": 1,
   "metadata": {},
   "outputs": [
    {
     "name": "stderr",
     "output_type": "stream",
     "text": [
      "also installing the dependencies 'memoise', 'gsubfn', 'proto', 'RSQLite', 'chron'\n",
      "\n"
     ]
    },
    {
     "name": "stdout",
     "output_type": "stream",
     "text": [
      "package 'memoise' successfully unpacked and MD5 sums checked\n",
      "package 'gsubfn' successfully unpacked and MD5 sums checked\n",
      "package 'proto' successfully unpacked and MD5 sums checked\n",
      "package 'RSQLite' successfully unpacked and MD5 sums checked\n",
      "package 'chron' successfully unpacked and MD5 sums checked\n",
      "package 'sqldf' successfully unpacked and MD5 sums checked\n",
      "\n",
      "The downloaded binary packages are in\n",
      "\tC:\\Users\\Flora\\AppData\\Local\\Temp\\RtmpKg5qLM\\downloaded_packages\n"
     ]
    }
   ],
   "source": [
    "# instala o pacote sqldf \n",
    "# INSTALLING FROM CRAN\n",
    "# Executar apenas na primeira vez\n",
    "install.packages(\"sqldf\")"
   ]
  },
  {
   "cell_type": "code",
   "execution_count": 3,
   "metadata": {
    "scrolled": true
   },
   "outputs": [
    {
     "name": "stderr",
     "output_type": "stream",
     "text": [
      "Loading required package: gsubfn\n",
      "Loading required package: proto\n",
      "Loading required package: RSQLite\n"
     ]
    }
   ],
   "source": [
    "library(sqldf)"
   ]
  },
  {
   "cell_type": "code",
   "execution_count": 68,
   "metadata": {},
   "outputs": [],
   "source": [
    "# Carrega o dataset criado no RStudio no servidor CEFET\n",
    "# já com todas as cláusulas de data cleaning \n",
    "load(\"flights.Rda\")"
   ]
  },
  {
   "cell_type": "code",
   "execution_count": 69,
   "metadata": {
    "scrolled": true
   },
   "outputs": [
    {
     "data": {
      "text/html": [
       "53705"
      ],
      "text/latex": [
       "53705"
      ],
      "text/markdown": [
       "53705"
      ],
      "text/plain": [
       "[1] 53705"
      ]
     },
     "metadata": {},
     "output_type": "display_data"
    }
   ],
   "source": [
    "nrow(df10)"
   ]
  },
  {
   "cell_type": "code",
   "execution_count": 70,
   "metadata": {
    "scrolled": true
   },
   "outputs": [
    {
     "data": {
      "text/html": [
       "<table>\n",
       "<thead><tr><th></th><th scope=col>destiny</th><th scope=col>arrival_expect_date</th><th scope=col>arrival_expect_hour</th><th scope=col>origin</th><th scope=col>depart_expect_date</th><th scope=col>depart_expect_hour</th><th scope=col>airline</th><th scope=col>flight</th><th scope=col>autho_code</th><th scope=col>line_type</th><th scope=col>...</th><th scope=col>depart_visibility</th><th scope=col>depart_events</th><th scope=col>depart_conditions</th><th scope=col>arrival_temperature</th><th scope=col>arrival_dew_point</th><th scope=col>arrival_humidity</th><th scope=col>arrival_pressure</th><th scope=col>arrival_visibility</th><th scope=col>arrival_events</th><th scope=col>arrival_conditions</th></tr></thead>\n",
       "<tbody>\n",
       "\t<tr><th scope=row>335324</th><td>SBBE            </td><td>2009-01-01      </td><td>07:00           </td><td>SBEG            </td><td>2009-01-01      </td><td>05:00           </td><td>GLO             </td><td>1697            </td><td>0               </td><td>N               </td><td>...             </td><td>10              </td><td>                </td><td>Mostly Cloudy   </td><td>26              </td><td>23              </td><td>83              </td><td>1010            </td><td>10              </td><td>                </td><td>Mostly Cloudy   </td></tr>\n",
       "\t<tr><th scope=row>335331</th><td>SBBE            </td><td>2009-01-01      </td><td>12:00           </td><td>SBBR            </td><td>2009-01-01      </td><td>10:00           </td><td>TAM             </td><td>3716            </td><td>0               </td><td>E               </td><td>...             </td><td>20              </td><td>                </td><td>Scattered Clouds</td><td>31              </td><td>25              </td><td>79              </td><td>1011            </td><td>10              </td><td>Rain            </td><td>Mostly Cloudy   </td></tr>\n",
       "\t<tr><th scope=row>335406</th><td>SBBE            </td><td>2009-01-03      </td><td>12:00           </td><td>SBFZ            </td><td>2009-01-03      </td><td>10:00           </td><td>TAM             </td><td>3890            </td><td>0               </td><td>N               </td><td>...             </td><td>10              </td><td>                </td><td>Mostly Cloudy   </td><td>32              </td><td>22              </td><td>55              </td><td>1010            </td><td>10              </td><td>                </td><td>Scattered Clouds</td></tr>\n",
       "\t<tr><th scope=row>335412</th><td>SBBE            </td><td>2009-01-03      </td><td>13:00           </td><td>SBBR            </td><td>2009-01-03      </td><td>11:00           </td><td>GLO             </td><td>1928            </td><td>0               </td><td>N               </td><td>...             </td><td>10              </td><td>Thunderstorm    </td><td>Thunderstorm    </td><td>30              </td><td>25              </td><td>74              </td><td>1010            </td><td>10              </td><td>                </td><td>Scattered Clouds</td></tr>\n",
       "\t<tr><th scope=row>335421</th><td>SBBE            </td><td>2009-01-03      </td><td>22:00           </td><td>SBFZ            </td><td>2009-01-03      </td><td>20:00           </td><td>GLO             </td><td>1830            </td><td>0               </td><td>N               </td><td>...             </td><td>10              </td><td>                </td><td>Scattered Clouds</td><td>27              </td><td>23              </td><td>79              </td><td>1008            </td><td>10              </td><td>                </td><td>Partly Cloudy   </td></tr>\n",
       "\t<tr><th scope=row>335445</th><td>SBBE            </td><td>2009-01-04      </td><td>15:00           </td><td>SBFZ            </td><td>2009-01-04      </td><td>13:00           </td><td>TAM             </td><td>3454            </td><td>0               </td><td>N               </td><td>...             </td><td>10              </td><td>                </td><td>Scattered Clouds</td><td>26              </td><td>22              </td><td>78              </td><td>1008            </td><td>20              </td><td>Rain            </td><td>Partly Cloudy   </td></tr>\n",
       "</tbody>\n",
       "</table>\n"
      ],
      "text/latex": [
       "\\begin{tabular}{r|lllllllllllllllllllllllllllllllllllll}\n",
       "  & destiny & arrival\\_expect\\_date & arrival\\_expect\\_hour & origin & depart\\_expect\\_date & depart\\_expect\\_hour & airline & flight & autho\\_code & line\\_type & ... & depart\\_visibility & depart\\_events & depart\\_conditions & arrival\\_temperature & arrival\\_dew\\_point & arrival\\_humidity & arrival\\_pressure & arrival\\_visibility & arrival\\_events & arrival\\_conditions\\\\\n",
       "\\hline\n",
       "\t335324 & SBBE             & 2009-01-01       & 07:00            & SBEG             & 2009-01-01       & 05:00            & GLO              & 1697             & 0                & N                & ...              & 10               &                  & Mostly Cloudy    & 26               & 23               & 83               & 1010             & 10               &                  & Mostly Cloudy   \\\\\n",
       "\t335331 & SBBE             & 2009-01-01       & 12:00            & SBBR             & 2009-01-01       & 10:00            & TAM              & 3716             & 0                & E                & ...              & 20               &                  & Scattered Clouds & 31               & 25               & 79               & 1011             & 10               & Rain             & Mostly Cloudy   \\\\\n",
       "\t335406 & SBBE             & 2009-01-03       & 12:00            & SBFZ             & 2009-01-03       & 10:00            & TAM              & 3890             & 0                & N                & ...              & 10               &                  & Mostly Cloudy    & 32               & 22               & 55               & 1010             & 10               &                  & Scattered Clouds\\\\\n",
       "\t335412 & SBBE             & 2009-01-03       & 13:00            & SBBR             & 2009-01-03       & 11:00            & GLO              & 1928             & 0                & N                & ...              & 10               & Thunderstorm     & Thunderstorm     & 30               & 25               & 74               & 1010             & 10               &                  & Scattered Clouds\\\\\n",
       "\t335421 & SBBE             & 2009-01-03       & 22:00            & SBFZ             & 2009-01-03       & 20:00            & GLO              & 1830             & 0                & N                & ...              & 10               &                  & Scattered Clouds & 27               & 23               & 79               & 1008             & 10               &                  & Partly Cloudy   \\\\\n",
       "\t335445 & SBBE             & 2009-01-04       & 15:00            & SBFZ             & 2009-01-04       & 13:00            & TAM              & 3454             & 0                & N                & ...              & 10               &                  & Scattered Clouds & 26               & 22               & 78               & 1008             & 20               & Rain             & Partly Cloudy   \\\\\n",
       "\\end{tabular}\n"
      ],
      "text/markdown": [
       "\n",
       "| <!--/--> | destiny | arrival_expect_date | arrival_expect_hour | origin | depart_expect_date | depart_expect_hour | airline | flight | autho_code | line_type | ... | depart_visibility | depart_events | depart_conditions | arrival_temperature | arrival_dew_point | arrival_humidity | arrival_pressure | arrival_visibility | arrival_events | arrival_conditions | \n",
       "|---|---|---|---|---|---|\n",
       "| 335324 | SBBE             | 2009-01-01       | 07:00            | SBEG             | 2009-01-01       | 05:00            | GLO              | 1697             | 0                | N                | ...              | 10               |                  | Mostly Cloudy    | 26               | 23               | 83               | 1010             | 10               |                  | Mostly Cloudy    | \n",
       "| 335331 | SBBE             | 2009-01-01       | 12:00            | SBBR             | 2009-01-01       | 10:00            | TAM              | 3716             | 0                | E                | ...              | 20               |                  | Scattered Clouds | 31               | 25               | 79               | 1011             | 10               | Rain             | Mostly Cloudy    | \n",
       "| 335406 | SBBE             | 2009-01-03       | 12:00            | SBFZ             | 2009-01-03       | 10:00            | TAM              | 3890             | 0                | N                | ...              | 10               |                  | Mostly Cloudy    | 32               | 22               | 55               | 1010             | 10               |                  | Scattered Clouds | \n",
       "| 335412 | SBBE             | 2009-01-03       | 13:00            | SBBR             | 2009-01-03       | 11:00            | GLO              | 1928             | 0                | N                | ...              | 10               | Thunderstorm     | Thunderstorm     | 30               | 25               | 74               | 1010             | 10               |                  | Scattered Clouds | \n",
       "| 335421 | SBBE             | 2009-01-03       | 22:00            | SBFZ             | 2009-01-03       | 20:00            | GLO              | 1830             | 0                | N                | ...              | 10               |                  | Scattered Clouds | 27               | 23               | 79               | 1008             | 10               |                  | Partly Cloudy    | \n",
       "| 335445 | SBBE             | 2009-01-04       | 15:00            | SBFZ             | 2009-01-04       | 13:00            | TAM              | 3454             | 0                | N                | ...              | 10               |                  | Scattered Clouds | 26               | 22               | 78               | 1008             | 20               | Rain             | Partly Cloudy    | \n",
       "\n",
       "\n"
      ],
      "text/plain": [
       "       destiny arrival_expect_date arrival_expect_hour origin\n",
       "335324 SBBE    2009-01-01          07:00               SBEG  \n",
       "335331 SBBE    2009-01-01          12:00               SBBR  \n",
       "335406 SBBE    2009-01-03          12:00               SBFZ  \n",
       "335412 SBBE    2009-01-03          13:00               SBBR  \n",
       "335421 SBBE    2009-01-03          22:00               SBFZ  \n",
       "335445 SBBE    2009-01-04          15:00               SBFZ  \n",
       "       depart_expect_date depart_expect_hour airline flight autho_code\n",
       "335324 2009-01-01         05:00              GLO     1697   0         \n",
       "335331 2009-01-01         10:00              TAM     3716   0         \n",
       "335406 2009-01-03         10:00              TAM     3890   0         \n",
       "335412 2009-01-03         11:00              GLO     1928   0         \n",
       "335421 2009-01-03         20:00              GLO     1830   0         \n",
       "335445 2009-01-04         13:00              TAM     3454   0         \n",
       "       line_type ... depart_visibility depart_events depart_conditions\n",
       "335324 N         ... 10                              Mostly Cloudy    \n",
       "335331 E         ... 20                              Scattered Clouds \n",
       "335406 N         ... 10                              Mostly Cloudy    \n",
       "335412 N         ... 10                Thunderstorm  Thunderstorm     \n",
       "335421 N         ... 10                              Scattered Clouds \n",
       "335445 N         ... 10                              Scattered Clouds \n",
       "       arrival_temperature arrival_dew_point arrival_humidity arrival_pressure\n",
       "335324 26                  23                83               1010            \n",
       "335331 31                  25                79               1011            \n",
       "335406 32                  22                55               1010            \n",
       "335412 30                  25                74               1010            \n",
       "335421 27                  23                79               1008            \n",
       "335445 26                  22                78               1008            \n",
       "       arrival_visibility arrival_events arrival_conditions\n",
       "335324 10                                Mostly Cloudy     \n",
       "335331 10                 Rain           Mostly Cloudy     \n",
       "335406 10                                Scattered Clouds  \n",
       "335412 10                                Scattered Clouds  \n",
       "335421 10                                Partly Cloudy     \n",
       "335445 20                 Rain           Partly Cloudy     "
      ]
     },
     "metadata": {},
     "output_type": "display_data"
    }
   ],
   "source": [
    "head(df10)"
   ]
  },
  {
   "cell_type": "code",
   "execution_count": 71,
   "metadata": {
    "scrolled": true
   },
   "outputs": [
    {
     "name": "stdout",
     "output_type": "stream",
     "text": [
      "'data.frame':\t53705 obs. of  37 variables:\n",
      " $ destiny            : Factor w/ 537 levels \"CYYZ\",\"EDDF\",..: 48 48 48 48 48 48 48 48 48 48 ...\n",
      " $ arrival_expect_date: chr  \"2009-01-01\" \"2009-01-01\" \"2009-01-03\" \"2009-01-03\" ...\n",
      " $ arrival_expect_hour: chr  \"07:00\" \"12:00\" \"12:00\" \"13:00\" ...\n",
      " $ origin             : Factor w/ 522 levels \"CYYZ\",\"EDDF\",..: 71 52 75 52 75 75 75 71 75 75 ...\n",
      " $ depart_expect_date : chr  \"2009-01-01\" \"2009-01-01\" \"2009-01-03\" \"2009-01-03\" ...\n",
      " $ depart_expect_hour : chr  \"05:00\" \"10:00\" \"10:00\" \"11:00\" ...\n",
      " $ airline            : Factor w/ 119 levels \"AAL\",\"ABJ\",\"ACA\",..: 28 60 60 28 28 60 67 60 28 28 ...\n",
      " $ flight             : Factor w/ 8250 levels \"3\",\"4\",\"14\",\"15\",..: 564 1307 1411 734 666 1197 2009 1412 666 666 ...\n",
      " $ autho_code         : Factor w/ 11 levels \"0\",\"1\",\"2\",\"3\",..: 1 1 1 1 1 1 1 1 1 1 ...\n",
      " $ line_type          : Factor w/ 10 levels \"C\",\"E\",\"G\",\"I\",..: 6 2 6 6 6 6 4 6 6 6 ...\n",
      " $ depart_expect      : POSIXlt, format: \"2009-01-01 05:50:00\" \"2009-01-01 10:20:00\" ...\n",
      " $ depart             : POSIXlt, format: \"2009-01-01 06:51:00\" \"2009-01-01 11:25:00\" ...\n",
      " $ arrival_expect     : POSIXlt, format: \"2009-01-01 07:50:00\" \"2009-01-01 12:45:00\" ...\n",
      " $ arrival            : POSIXlt, format: \"2009-01-01 09:00:00\" \"2009-01-01 14:02:00\" ...\n",
      " $ status             : Factor w/ 4 levels \"Cancelado\",\"Realizado\",..: 2 2 2 2 2 2 2 2 2 2 ...\n",
      " $ observation        : Factor w/ 52 levels \"  \",\"AA\",\"AF\",..: 22 28 29 25 25 33 15 24 25 25 ...\n",
      " $ departure_delay    : num  61 65 63 64 83 87 65 97 167 86 ...\n",
      " $ arrival_delay      : num  70 77 61 81 95 78 65 92 177 102 ...\n",
      " $ duration_expect    : num  120 145 110 145 100 118 110 120 100 100 ...\n",
      " $ duration           : num  129 157 108 162 112 109 110 115 110 116 ...\n",
      " $ duration_delta     : num  9 12 -2 17 12 -9 0 -5 10 16 ...\n",
      " $ origin.state       : chr  \"AM\" \"DF\" \"CE\" \"DF\" ...\n",
      " $ destiny.state      : chr  \"PA\" \"PA\" \"PA\" \"PA\" ...\n",
      " $ depart_temperature : num  22 24 29 25 27 31 28 31 27 27 ...\n",
      " $ depart_dew_point   : num  21 16 22 19 22 22 23 22 24 23 ...\n",
      " $ depart_humidity    : num  94 61 66 69 74 58 74 58 84 79 ...\n",
      " $ depart_pressure    : num  1011 NA 1012 1016 1010 ...\n",
      " $ depart_visibility  : num  10 20 10 10 10 10 10 10 10 10 ...\n",
      " $ depart_events      : chr  \" \" \" \" \" \" \"Thunderstorm\" ...\n",
      " $ depart_conditions  : chr  \"Mostly Cloudy\" \"Scattered Clouds\" \"Mostly Cloudy\" \"Thunderstorm\" ...\n",
      " $ arrival_temperature: num  26 31 32 30 27 26 30 30 27 26 ...\n",
      " $ arrival_dew_point  : num  23 25 22 25 23 22 24 23 23 24 ...\n",
      " $ arrival_humidity   : num  83 79 55 74 79 78 70 66 79 89 ...\n",
      " $ arrival_pressure   : num  1010 1011 1010 1010 1008 ...\n",
      " $ arrival_visibility : num  10 10 10 10 10 20 10 10 10 10 ...\n",
      " $ arrival_events     : chr  \" \" \"Rain\" \" \" \" \" ...\n",
      " $ arrival_conditions : chr  \"Mostly Cloudy\" \"Mostly Cloudy\" \"Scattered Clouds\" \"Scattered Clouds\" ...\n"
     ]
    }
   ],
   "source": [
    "str(df10)"
   ]
  },
  {
   "cell_type": "code",
   "execution_count": 76,
   "metadata": {},
   "outputs": [],
   "source": [
    "# Transforma o formato POSIXlt em chr\n",
    "# para que possa ser trabalhado em conjunto com o sqldf\n",
    "df10$depart_expect <- as.character(df10$depart_expect)\n",
    "df10$depart <- as.character(df10$depart)\n",
    "df10$arrival_expect <- as.character(df10$arrival_expect)\n",
    "df10$arrival <- as.character(df10$arrival)"
   ]
  },
  {
   "cell_type": "code",
   "execution_count": 77,
   "metadata": {},
   "outputs": [
    {
     "name": "stdout",
     "output_type": "stream",
     "text": [
      "'data.frame':\t53705 obs. of  37 variables:\n",
      " $ destiny            : Factor w/ 537 levels \"CYYZ\",\"EDDF\",..: 48 48 48 48 48 48 48 48 48 48 ...\n",
      " $ arrival_expect_date: chr  \"2009-01-01\" \"2009-01-01\" \"2009-01-03\" \"2009-01-03\" ...\n",
      " $ arrival_expect_hour: chr  \"07:00\" \"12:00\" \"12:00\" \"13:00\" ...\n",
      " $ origin             : Factor w/ 522 levels \"CYYZ\",\"EDDF\",..: 71 52 75 52 75 75 75 71 75 75 ...\n",
      " $ depart_expect_date : chr  \"2009-01-01\" \"2009-01-01\" \"2009-01-03\" \"2009-01-03\" ...\n",
      " $ depart_expect_hour : chr  \"05:00\" \"10:00\" \"10:00\" \"11:00\" ...\n",
      " $ airline            : Factor w/ 119 levels \"AAL\",\"ABJ\",\"ACA\",..: 28 60 60 28 28 60 67 60 28 28 ...\n",
      " $ flight             : Factor w/ 8250 levels \"3\",\"4\",\"14\",\"15\",..: 564 1307 1411 734 666 1197 2009 1412 666 666 ...\n",
      " $ autho_code         : Factor w/ 11 levels \"0\",\"1\",\"2\",\"3\",..: 1 1 1 1 1 1 1 1 1 1 ...\n",
      " $ line_type          : Factor w/ 10 levels \"C\",\"E\",\"G\",\"I\",..: 6 2 6 6 6 6 4 6 6 6 ...\n",
      " $ depart_expect      : chr  \"2009-01-01 05:50:00\" \"2009-01-01 10:20:00\" \"2009-01-03 10:15:00\" \"2009-01-03 11:00:00\" ...\n",
      " $ depart             : chr  \"2009-01-01 06:51:00\" \"2009-01-01 11:25:00\" \"2009-01-03 11:18:00\" \"2009-01-03 12:04:00\" ...\n",
      " $ arrival_expect     : chr  \"2009-01-01 07:50:00\" \"2009-01-01 12:45:00\" \"2009-01-03 12:05:00\" \"2009-01-03 13:25:00\" ...\n",
      " $ arrival            : chr  \"2009-01-01 09:00:00\" \"2009-01-01 14:02:00\" \"2009-01-03 13:06:00\" \"2009-01-03 14:46:00\" ...\n",
      " $ status             : Factor w/ 4 levels \"Cancelado\",\"Realizado\",..: 2 2 2 2 2 2 2 2 2 2 ...\n",
      " $ observation        : Factor w/ 52 levels \"  \",\"AA\",\"AF\",..: 22 28 29 25 25 33 15 24 25 25 ...\n",
      " $ departure_delay    : num  61 65 63 64 83 87 65 97 167 86 ...\n",
      " $ arrival_delay      : num  70 77 61 81 95 78 65 92 177 102 ...\n",
      " $ duration_expect    : num  120 145 110 145 100 118 110 120 100 100 ...\n",
      " $ duration           : num  129 157 108 162 112 109 110 115 110 116 ...\n",
      " $ duration_delta     : num  9 12 -2 17 12 -9 0 -5 10 16 ...\n",
      " $ origin.state       : chr  \"AM\" \"DF\" \"CE\" \"DF\" ...\n",
      " $ destiny.state      : chr  \"PA\" \"PA\" \"PA\" \"PA\" ...\n",
      " $ depart_temperature : num  22 24 29 25 27 31 28 31 27 27 ...\n",
      " $ depart_dew_point   : num  21 16 22 19 22 22 23 22 24 23 ...\n",
      " $ depart_humidity    : num  94 61 66 69 74 58 74 58 84 79 ...\n",
      " $ depart_pressure    : num  1011 NA 1012 1016 1010 ...\n",
      " $ depart_visibility  : num  10 20 10 10 10 10 10 10 10 10 ...\n",
      " $ depart_events      : chr  \" \" \" \" \" \" \"Thunderstorm\" ...\n",
      " $ depart_conditions  : chr  \"Mostly Cloudy\" \"Scattered Clouds\" \"Mostly Cloudy\" \"Thunderstorm\" ...\n",
      " $ arrival_temperature: num  26 31 32 30 27 26 30 30 27 26 ...\n",
      " $ arrival_dew_point  : num  23 25 22 25 23 22 24 23 23 24 ...\n",
      " $ arrival_humidity   : num  83 79 55 74 79 78 70 66 79 89 ...\n",
      " $ arrival_pressure   : num  1010 1011 1010 1010 1008 ...\n",
      " $ arrival_visibility : num  10 10 10 10 10 20 10 10 10 10 ...\n",
      " $ arrival_events     : chr  \" \" \"Rain\" \" \" \" \" ...\n",
      " $ arrival_conditions : chr  \"Mostly Cloudy\" \"Mostly Cloudy\" \"Scattered Clouds\" \"Scattered Clouds\" ...\n"
     ]
    }
   ],
   "source": [
    "str(df10)"
   ]
  },
  {
   "cell_type": "code",
   "execution_count": 78,
   "metadata": {},
   "outputs": [
    {
     "name": "stdout",
     "output_type": "stream",
     "text": [
      "[1] \"select destiny, origin, airline, flight, depart, arrival, departure_delay, arrival_delay, depart_temperature, depart_dew_point, depart_humidity, depart_pressure, depart_visibility, depart_conditions, arrival_temperature, arrival_dew_point, arrival_humidity, arrival_pressure, arrival_visibility, arrival_conditions from df10\"\n"
     ]
    }
   ],
   "source": [
    "query<-\"select destiny, origin, airline, flight, depart, arrival, departure_delay, arrival_delay,\"\n",
    "query<-paste(query,\"depart_temperature, depart_dew_point, depart_humidity, depart_pressure, depart_visibility, depart_conditions,\", sep=\" \")\n",
    "query<-paste(query,\"arrival_temperature, arrival_dew_point, arrival_humidity, arrival_pressure, arrival_visibility, arrival_conditions\", sep=\" \")\n",
    "query<-paste(query, \"from df10\", sep=\" \")\n",
    "print(query)"
   ]
  },
  {
   "cell_type": "code",
   "execution_count": 183,
   "metadata": {},
   "outputs": [],
   "source": [
    "train_set<-sqldf(query)"
   ]
  },
  {
   "cell_type": "code",
   "execution_count": 184,
   "metadata": {
    "scrolled": true
   },
   "outputs": [
    {
     "name": "stdout",
     "output_type": "stream",
     "text": [
      "'data.frame':\t53705 obs. of  20 variables:\n",
      " $ destiny            : Factor w/ 537 levels \"CYYZ\",\"EDDF\",..: 48 48 48 48 48 48 48 48 48 48 ...\n",
      " $ origin             : Factor w/ 522 levels \"CYYZ\",\"EDDF\",..: 71 52 75 52 75 75 75 71 75 75 ...\n",
      " $ airline            : Factor w/ 119 levels \"AAL\",\"ABJ\",\"ACA\",..: 28 60 60 28 28 60 67 60 28 28 ...\n",
      " $ flight             : Factor w/ 8250 levels \"3\",\"4\",\"14\",\"15\",..: 564 1307 1411 734 666 1197 2009 1412 666 666 ...\n",
      " $ depart             : chr  \"2009-01-01 06:51:00\" \"2009-01-01 11:25:00\" \"2009-01-03 11:18:00\" \"2009-01-03 12:04:00\" ...\n",
      " $ arrival            : chr  \"2009-01-01 09:00:00\" \"2009-01-01 14:02:00\" \"2009-01-03 13:06:00\" \"2009-01-03 14:46:00\" ...\n",
      " $ departure_delay    : num  61 65 63 64 83 87 65 97 167 86 ...\n",
      " $ arrival_delay      : num  70 77 61 81 95 78 65 92 177 102 ...\n",
      " $ depart_temperature : num  22 24 29 25 27 31 28 31 27 27 ...\n",
      " $ depart_dew_point   : num  21 16 22 19 22 22 23 22 24 23 ...\n",
      " $ depart_humidity    : num  94 61 66 69 74 58 74 58 84 79 ...\n",
      " $ depart_pressure    : num  1011 NA 1012 1016 1010 ...\n",
      " $ depart_visibility  : num  10 20 10 10 10 10 10 10 10 10 ...\n",
      " $ depart_conditions  : chr  \"Mostly Cloudy\" \"Scattered Clouds\" \"Mostly Cloudy\" \"Thunderstorm\" ...\n",
      " $ arrival_temperature: num  26 31 32 30 27 26 30 30 27 26 ...\n",
      " $ arrival_dew_point  : num  23 25 22 25 23 22 24 23 23 24 ...\n",
      " $ arrival_humidity   : num  83 79 55 74 79 78 70 66 79 89 ...\n",
      " $ arrival_pressure   : num  1010 1011 1010 1010 1008 ...\n",
      " $ arrival_visibility : num  10 10 10 10 10 20 10 10 10 10 ...\n",
      " $ arrival_conditions : chr  \"Mostly Cloudy\" \"Mostly Cloudy\" \"Scattered Clouds\" \"Scattered Clouds\" ...\n"
     ]
    }
   ],
   "source": [
    "str(train_set)"
   ]
  },
  {
   "cell_type": "code",
   "execution_count": 185,
   "metadata": {
    "scrolled": true
   },
   "outputs": [],
   "source": [
    "# Carrega as bibliotecas necessárias para trabalhar com as transações e os algoritmos\n",
    "library(\"arules\")\n",
    "library(\"arulesSequences\")\n",
    "library(\"arulesViz\")"
   ]
  },
  {
   "cell_type": "code",
   "execution_count": 186,
   "metadata": {},
   "outputs": [],
   "source": [
    "# Remove as características que não serão analisadas\n",
    "train_set$depart_temperature <- NULL\n",
    "train_set$depart_dew_point <- NULL\n",
    "train_set$depart_humidity <- NULL\n",
    "train_set$depart_pressure <- NULL\n",
    "train_set$depart_visibility <- NULL\n",
    "train_set$arrival_temperature <- NULL\n",
    "train_set$arrival_dew_point <- NULL\n",
    "train_set$arrival_humidity <- NULL\n",
    "train_set$arrival_pressure <- NULL\n",
    "train_set$arrival_visibility <- NULL"
   ]
  },
  {
   "cell_type": "code",
   "execution_count": 187,
   "metadata": {
    "scrolled": true
   },
   "outputs": [
    {
     "name": "stdout",
     "output_type": "stream",
     "text": [
      "'data.frame':\t53705 obs. of  10 variables:\n",
      " $ destiny           : Factor w/ 537 levels \"CYYZ\",\"EDDF\",..: 48 48 48 48 48 48 48 48 48 48 ...\n",
      " $ origin            : Factor w/ 522 levels \"CYYZ\",\"EDDF\",..: 71 52 75 52 75 75 75 71 75 75 ...\n",
      " $ airline           : Factor w/ 119 levels \"AAL\",\"ABJ\",\"ACA\",..: 28 60 60 28 28 60 67 60 28 28 ...\n",
      " $ flight            : Factor w/ 8250 levels \"3\",\"4\",\"14\",\"15\",..: 564 1307 1411 734 666 1197 2009 1412 666 666 ...\n",
      " $ depart            : chr  \"2009-01-01 06:51:00\" \"2009-01-01 11:25:00\" \"2009-01-03 11:18:00\" \"2009-01-03 12:04:00\" ...\n",
      " $ arrival           : chr  \"2009-01-01 09:00:00\" \"2009-01-01 14:02:00\" \"2009-01-03 13:06:00\" \"2009-01-03 14:46:00\" ...\n",
      " $ departure_delay   : num  61 65 63 64 83 87 65 97 167 86 ...\n",
      " $ arrival_delay     : num  70 77 61 81 95 78 65 92 177 102 ...\n",
      " $ depart_conditions : chr  \"Mostly Cloudy\" \"Scattered Clouds\" \"Mostly Cloudy\" \"Thunderstorm\" ...\n",
      " $ arrival_conditions: chr  \"Mostly Cloudy\" \"Mostly Cloudy\" \"Scattered Clouds\" \"Scattered Clouds\" ...\n"
     ]
    }
   ],
   "source": [
    "str(train_set)"
   ]
  },
  {
   "cell_type": "code",
   "execution_count": 188,
   "metadata": {},
   "outputs": [],
   "source": [
    "# cria duas listas com todos os valores da coluna depart (index column=5)\n",
    "# já separados nos formatos YYYY-MM-DD e HH:MM:SS respectivamente\n",
    "depart_d<-sapply(strsplit(train_set[,5], \" \", fixed = TRUE), \"[\", 1)\n",
    "depart_h<-sapply(strsplit(train_set[,5], \" \", fixed = TRUE), \"[\", 2)\n",
    "\n",
    "# cria duas listas com todos os valores da coluna arrival (index column=6)\n",
    "# já separados nos formatos YYYY-MM-DD e HH:MM:SS respectivamente\n",
    "arrival_d<-sapply(strsplit(train_set[,6], \" \", fixed = TRUE), \"[\", 1)\n",
    "arrival_h<-sapply(strsplit(train_set[,6], \" \", fixed = TRUE), \"[\", 2)\n",
    "\n",
    "# cria um novo dataframe com essas duas novas colunas\n",
    "x <- data.frame(\"depart_date\" = depart_d, \"depart_time\" = depart_h, \"arrival_date\" = arrival_d, \"arrival_time\" = arrival_h)\n",
    "\n",
    "# cria um novo dataframe com a combinação do dataframe train_set e x\n",
    "flights <- cbind(train_set,x)"
   ]
  },
  {
   "cell_type": "code",
   "execution_count": 189,
   "metadata": {
    "scrolled": true
   },
   "outputs": [
    {
     "name": "stdout",
     "output_type": "stream",
     "text": [
      "'data.frame':\t53705 obs. of  14 variables:\n",
      " $ destiny           : Factor w/ 537 levels \"CYYZ\",\"EDDF\",..: 48 48 48 48 48 48 48 48 48 48 ...\n",
      " $ origin            : Factor w/ 522 levels \"CYYZ\",\"EDDF\",..: 71 52 75 52 75 75 75 71 75 75 ...\n",
      " $ airline           : Factor w/ 119 levels \"AAL\",\"ABJ\",\"ACA\",..: 28 60 60 28 28 60 67 60 28 28 ...\n",
      " $ flight            : Factor w/ 8250 levels \"3\",\"4\",\"14\",\"15\",..: 564 1307 1411 734 666 1197 2009 1412 666 666 ...\n",
      " $ depart            : chr  \"2009-01-01 06:51:00\" \"2009-01-01 11:25:00\" \"2009-01-03 11:18:00\" \"2009-01-03 12:04:00\" ...\n",
      " $ arrival           : chr  \"2009-01-01 09:00:00\" \"2009-01-01 14:02:00\" \"2009-01-03 13:06:00\" \"2009-01-03 14:46:00\" ...\n",
      " $ departure_delay   : num  61 65 63 64 83 87 65 97 167 86 ...\n",
      " $ arrival_delay     : num  70 77 61 81 95 78 65 92 177 102 ...\n",
      " $ depart_conditions : chr  \"Mostly Cloudy\" \"Scattered Clouds\" \"Mostly Cloudy\" \"Thunderstorm\" ...\n",
      " $ arrival_conditions: chr  \"Mostly Cloudy\" \"Mostly Cloudy\" \"Scattered Clouds\" \"Scattered Clouds\" ...\n",
      " $ depart_date       : Factor w/ 3220 levels \"2009-01-01\",\"2009-01-02\",..: 1 1 3 3 3 4 5 5 5 6 ...\n",
      " $ depart_time       : Factor w/ 1440 levels \"00:00:00\",\"00:01:00\",..: 412 686 679 725 1324 905 576 1063 1408 1327 ...\n",
      " $ arrival_date      : Factor w/ 3214 levels \"2009-01-01\",\"2009-01-02\",..: 1 1 3 3 3 4 5 5 6 7 ...\n",
      " $ arrival_time      : Factor w/ 1440 levels \"00:00:00\",\"00:01:00\",..: 541 843 787 887 1436 1014 686 1178 78 3 ...\n"
     ]
    }
   ],
   "source": [
    "str(flights)"
   ]
  },
  {
   "cell_type": "code",
   "execution_count": 190,
   "metadata": {
    "scrolled": true
   },
   "outputs": [
    {
     "data": {
      "text/html": [
       "<table>\n",
       "<thead><tr><th scope=col>destiny</th><th scope=col>origin</th><th scope=col>airline</th><th scope=col>flight</th><th scope=col>depart</th><th scope=col>arrival</th><th scope=col>departure_delay</th><th scope=col>arrival_delay</th><th scope=col>depart_conditions</th><th scope=col>arrival_conditions</th><th scope=col>depart_date</th><th scope=col>depart_time</th><th scope=col>arrival_date</th><th scope=col>arrival_time</th></tr></thead>\n",
       "<tbody>\n",
       "\t<tr><td>SBBE               </td><td>SBEG               </td><td>GLO                </td><td>1697               </td><td>2009-01-01 06:51:00</td><td>2009-01-01 09:00:00</td><td>61                 </td><td>70                 </td><td>Mostly Cloudy      </td><td>Mostly Cloudy      </td><td>2009-01-01         </td><td>06:51:00           </td><td>2009-01-01         </td><td>09:00:00           </td></tr>\n",
       "\t<tr><td>SBBE               </td><td>SBBR               </td><td>TAM                </td><td>3716               </td><td>2009-01-01 11:25:00</td><td>2009-01-01 14:02:00</td><td>65                 </td><td>77                 </td><td>Scattered Clouds   </td><td>Mostly Cloudy      </td><td>2009-01-01         </td><td>11:25:00           </td><td>2009-01-01         </td><td>14:02:00           </td></tr>\n",
       "\t<tr><td>SBBE               </td><td>SBFZ               </td><td>TAM                </td><td>3890               </td><td>2009-01-03 11:18:00</td><td>2009-01-03 13:06:00</td><td>63                 </td><td>61                 </td><td>Mostly Cloudy      </td><td>Scattered Clouds   </td><td>2009-01-03         </td><td>11:18:00           </td><td>2009-01-03         </td><td>13:06:00           </td></tr>\n",
       "\t<tr><td>SBBE               </td><td>SBBR               </td><td>GLO                </td><td>1928               </td><td>2009-01-03 12:04:00</td><td>2009-01-03 14:46:00</td><td>64                 </td><td>81                 </td><td>Thunderstorm       </td><td>Scattered Clouds   </td><td>2009-01-03         </td><td>12:04:00           </td><td>2009-01-03         </td><td>14:46:00           </td></tr>\n",
       "\t<tr><td>SBBE               </td><td>SBFZ               </td><td>GLO                </td><td>1830               </td><td>2009-01-03 22:03:00</td><td>2009-01-03 23:55:00</td><td>83                 </td><td>95                 </td><td>Scattered Clouds   </td><td>Partly Cloudy      </td><td>2009-01-03         </td><td>22:03:00           </td><td>2009-01-03         </td><td>23:55:00           </td></tr>\n",
       "\t<tr><td>SBBE               </td><td>SBFZ               </td><td>TAM                </td><td>3454               </td><td>2009-01-04 15:04:00</td><td>2009-01-04 16:53:00</td><td>87                 </td><td>78                 </td><td>Scattered Clouds   </td><td>Partly Cloudy      </td><td>2009-01-04         </td><td>15:04:00           </td><td>2009-01-04         </td><td>16:53:00           </td></tr>\n",
       "</tbody>\n",
       "</table>\n"
      ],
      "text/latex": [
       "\\begin{tabular}{r|llllllllllllll}\n",
       " destiny & origin & airline & flight & depart & arrival & departure\\_delay & arrival\\_delay & depart\\_conditions & arrival\\_conditions & depart\\_date & depart\\_time & arrival\\_date & arrival\\_time\\\\\n",
       "\\hline\n",
       "\t SBBE                & SBEG                & GLO                 & 1697                & 2009-01-01 06:51:00 & 2009-01-01 09:00:00 & 61                  & 70                  & Mostly Cloudy       & Mostly Cloudy       & 2009-01-01          & 06:51:00            & 2009-01-01          & 09:00:00           \\\\\n",
       "\t SBBE                & SBBR                & TAM                 & 3716                & 2009-01-01 11:25:00 & 2009-01-01 14:02:00 & 65                  & 77                  & Scattered Clouds    & Mostly Cloudy       & 2009-01-01          & 11:25:00            & 2009-01-01          & 14:02:00           \\\\\n",
       "\t SBBE                & SBFZ                & TAM                 & 3890                & 2009-01-03 11:18:00 & 2009-01-03 13:06:00 & 63                  & 61                  & Mostly Cloudy       & Scattered Clouds    & 2009-01-03          & 11:18:00            & 2009-01-03          & 13:06:00           \\\\\n",
       "\t SBBE                & SBBR                & GLO                 & 1928                & 2009-01-03 12:04:00 & 2009-01-03 14:46:00 & 64                  & 81                  & Thunderstorm        & Scattered Clouds    & 2009-01-03          & 12:04:00            & 2009-01-03          & 14:46:00           \\\\\n",
       "\t SBBE                & SBFZ                & GLO                 & 1830                & 2009-01-03 22:03:00 & 2009-01-03 23:55:00 & 83                  & 95                  & Scattered Clouds    & Partly Cloudy       & 2009-01-03          & 22:03:00            & 2009-01-03          & 23:55:00           \\\\\n",
       "\t SBBE                & SBFZ                & TAM                 & 3454                & 2009-01-04 15:04:00 & 2009-01-04 16:53:00 & 87                  & 78                  & Scattered Clouds    & Partly Cloudy       & 2009-01-04          & 15:04:00            & 2009-01-04          & 16:53:00           \\\\\n",
       "\\end{tabular}\n"
      ],
      "text/markdown": [
       "\n",
       "destiny | origin | airline | flight | depart | arrival | departure_delay | arrival_delay | depart_conditions | arrival_conditions | depart_date | depart_time | arrival_date | arrival_time | \n",
       "|---|---|---|---|---|---|\n",
       "| SBBE                | SBEG                | GLO                 | 1697                | 2009-01-01 06:51:00 | 2009-01-01 09:00:00 | 61                  | 70                  | Mostly Cloudy       | Mostly Cloudy       | 2009-01-01          | 06:51:00            | 2009-01-01          | 09:00:00            | \n",
       "| SBBE                | SBBR                | TAM                 | 3716                | 2009-01-01 11:25:00 | 2009-01-01 14:02:00 | 65                  | 77                  | Scattered Clouds    | Mostly Cloudy       | 2009-01-01          | 11:25:00            | 2009-01-01          | 14:02:00            | \n",
       "| SBBE                | SBFZ                | TAM                 | 3890                | 2009-01-03 11:18:00 | 2009-01-03 13:06:00 | 63                  | 61                  | Mostly Cloudy       | Scattered Clouds    | 2009-01-03          | 11:18:00            | 2009-01-03          | 13:06:00            | \n",
       "| SBBE                | SBBR                | GLO                 | 1928                | 2009-01-03 12:04:00 | 2009-01-03 14:46:00 | 64                  | 81                  | Thunderstorm        | Scattered Clouds    | 2009-01-03          | 12:04:00            | 2009-01-03          | 14:46:00            | \n",
       "| SBBE                | SBFZ                | GLO                 | 1830                | 2009-01-03 22:03:00 | 2009-01-03 23:55:00 | 83                  | 95                  | Scattered Clouds    | Partly Cloudy       | 2009-01-03          | 22:03:00            | 2009-01-03          | 23:55:00            | \n",
       "| SBBE                | SBFZ                | TAM                 | 3454                | 2009-01-04 15:04:00 | 2009-01-04 16:53:00 | 87                  | 78                  | Scattered Clouds    | Partly Cloudy       | 2009-01-04          | 15:04:00            | 2009-01-04          | 16:53:00            | \n",
       "\n",
       "\n"
      ],
      "text/plain": [
       "  destiny origin airline flight depart              arrival            \n",
       "1 SBBE    SBEG   GLO     1697   2009-01-01 06:51:00 2009-01-01 09:00:00\n",
       "2 SBBE    SBBR   TAM     3716   2009-01-01 11:25:00 2009-01-01 14:02:00\n",
       "3 SBBE    SBFZ   TAM     3890   2009-01-03 11:18:00 2009-01-03 13:06:00\n",
       "4 SBBE    SBBR   GLO     1928   2009-01-03 12:04:00 2009-01-03 14:46:00\n",
       "5 SBBE    SBFZ   GLO     1830   2009-01-03 22:03:00 2009-01-03 23:55:00\n",
       "6 SBBE    SBFZ   TAM     3454   2009-01-04 15:04:00 2009-01-04 16:53:00\n",
       "  departure_delay arrival_delay depart_conditions arrival_conditions\n",
       "1 61              70            Mostly Cloudy     Mostly Cloudy     \n",
       "2 65              77            Scattered Clouds  Mostly Cloudy     \n",
       "3 63              61            Mostly Cloudy     Scattered Clouds  \n",
       "4 64              81            Thunderstorm      Scattered Clouds  \n",
       "5 83              95            Scattered Clouds  Partly Cloudy     \n",
       "6 87              78            Scattered Clouds  Partly Cloudy     \n",
       "  depart_date depart_time arrival_date arrival_time\n",
       "1 2009-01-01  06:51:00    2009-01-01   09:00:00    \n",
       "2 2009-01-01  11:25:00    2009-01-01   14:02:00    \n",
       "3 2009-01-03  11:18:00    2009-01-03   13:06:00    \n",
       "4 2009-01-03  12:04:00    2009-01-03   14:46:00    \n",
       "5 2009-01-03  22:03:00    2009-01-03   23:55:00    \n",
       "6 2009-01-04  15:04:00    2009-01-04   16:53:00    "
      ]
     },
     "metadata": {},
     "output_type": "display_data"
    }
   ],
   "source": [
    "head(flights)"
   ]
  },
  {
   "cell_type": "code",
   "execution_count": 191,
   "metadata": {},
   "outputs": [],
   "source": [
    "# Remove as características que não serão analisadas\n",
    "flights$depart <- NULL\n",
    "flights$arrival <- NULL"
   ]
  },
  {
   "cell_type": "code",
   "execution_count": 192,
   "metadata": {},
   "outputs": [
    {
     "name": "stdout",
     "output_type": "stream",
     "text": [
      "'data.frame':\t53705 obs. of  12 variables:\n",
      " $ destiny           : Factor w/ 537 levels \"CYYZ\",\"EDDF\",..: 48 48 48 48 48 48 48 48 48 48 ...\n",
      " $ origin            : Factor w/ 522 levels \"CYYZ\",\"EDDF\",..: 71 52 75 52 75 75 75 71 75 75 ...\n",
      " $ airline           : Factor w/ 119 levels \"AAL\",\"ABJ\",\"ACA\",..: 28 60 60 28 28 60 67 60 28 28 ...\n",
      " $ flight            : Factor w/ 8250 levels \"3\",\"4\",\"14\",\"15\",..: 564 1307 1411 734 666 1197 2009 1412 666 666 ...\n",
      " $ departure_delay   : num  61 65 63 64 83 87 65 97 167 86 ...\n",
      " $ arrival_delay     : num  70 77 61 81 95 78 65 92 177 102 ...\n",
      " $ depart_conditions : chr  \"Mostly Cloudy\" \"Scattered Clouds\" \"Mostly Cloudy\" \"Thunderstorm\" ...\n",
      " $ arrival_conditions: chr  \"Mostly Cloudy\" \"Mostly Cloudy\" \"Scattered Clouds\" \"Scattered Clouds\" ...\n",
      " $ depart_date       : Factor w/ 3220 levels \"2009-01-01\",\"2009-01-02\",..: 1 1 3 3 3 4 5 5 5 6 ...\n",
      " $ depart_time       : Factor w/ 1440 levels \"00:00:00\",\"00:01:00\",..: 412 686 679 725 1324 905 576 1063 1408 1327 ...\n",
      " $ arrival_date      : Factor w/ 3214 levels \"2009-01-01\",\"2009-01-02\",..: 1 1 3 3 3 4 5 5 6 7 ...\n",
      " $ arrival_time      : Factor w/ 1440 levels \"00:00:00\",\"00:01:00\",..: 541 843 787 887 1436 1014 686 1178 78 3 ...\n"
     ]
    }
   ],
   "source": [
    "str(flights)"
   ]
  },
  {
   "cell_type": "code",
   "execution_count": 193,
   "metadata": {
    "scrolled": true
   },
   "outputs": [
    {
     "data": {
      "text/plain": [
       "   Min. 1st Qu.  Median    Mean 3rd Qu.    Max. \n",
       "   60.0    75.0    94.0   124.7   135.0  1138.0 "
      ]
     },
     "metadata": {},
     "output_type": "display_data"
    },
    {
     "data": {
      "text/plain": [
       "   Min. 1st Qu.  Median    Mean 3rd Qu.    Max. \n",
       "   60.0    75.0    95.0   125.8   135.0  1360.0 "
      ]
     },
     "metadata": {},
     "output_type": "display_data"
    }
   ],
   "source": [
    "# Analisa a estatística descritiva das características departure_delay e arrival_delay que serão discretizadas\n",
    "summary(flights$departure_delay)\n",
    "summary(flights$arrival_delay)"
   ]
  },
  {
   "cell_type": "code",
   "execution_count": 194,
   "metadata": {},
   "outputs": [],
   "source": [
    "flights$depart_conditions <- as.factor(flights$depart_conditions)\n",
    "flights$arrival_conditions <- as.factor(flights$arrival_conditions)"
   ]
  },
  {
   "cell_type": "code",
   "execution_count": 195,
   "metadata": {
    "scrolled": true
   },
   "outputs": [
    {
     "name": "stdout",
     "output_type": "stream",
     "text": [
      "'data.frame':\t53705 obs. of  12 variables:\n",
      " $ destiny           : Factor w/ 537 levels \"CYYZ\",\"EDDF\",..: 48 48 48 48 48 48 48 48 48 48 ...\n",
      " $ origin            : Factor w/ 522 levels \"CYYZ\",\"EDDF\",..: 71 52 75 52 75 75 75 71 75 75 ...\n",
      " $ airline           : Factor w/ 119 levels \"AAL\",\"ABJ\",\"ACA\",..: 28 60 60 28 28 60 67 60 28 28 ...\n",
      " $ flight            : Factor w/ 8250 levels \"3\",\"4\",\"14\",\"15\",..: 564 1307 1411 734 666 1197 2009 1412 666 666 ...\n",
      " $ departure_delay   : num  61 65 63 64 83 87 65 97 167 86 ...\n",
      " $ arrival_delay     : num  70 77 61 81 95 78 65 92 177 102 ...\n",
      " $ depart_conditions : Factor w/ 31 levels \" \",\"\\xc2\",\"Clear\",..: 16 24 16 27 24 24 16 24 19 19 ...\n",
      " $ arrival_conditions: Factor w/ 33 levels \" \",\"\\xc2\",\"Clear\",..: 20 20 27 27 23 23 27 20 20 29 ...\n",
      " $ depart_date       : Factor w/ 3220 levels \"2009-01-01\",\"2009-01-02\",..: 1 1 3 3 3 4 5 5 5 6 ...\n",
      " $ depart_time       : Factor w/ 1440 levels \"00:00:00\",\"00:01:00\",..: 412 686 679 725 1324 905 576 1063 1408 1327 ...\n",
      " $ arrival_date      : Factor w/ 3214 levels \"2009-01-01\",\"2009-01-02\",..: 1 1 3 3 3 4 5 5 6 7 ...\n",
      " $ arrival_time      : Factor w/ 1440 levels \"00:00:00\",\"00:01:00\",..: 541 843 787 887 1436 1014 686 1178 78 3 ...\n"
     ]
    }
   ],
   "source": [
    "str(flights)"
   ]
  },
  {
   "cell_type": "code",
   "execution_count": 196,
   "metadata": {},
   "outputs": [],
   "source": [
    "## Discretiza as variáveis departure_delay e arrival_delay\n",
    "flights$departure_delay <- ordered(cut(flights$departure_delay, c(60,75,125,240)),\n",
    "                              labels = c(\"None\", \"Low\", \"High\"))\n",
    "\n",
    "flights$arrival_delay <- ordered(cut(flights$arrival_delay, c(60,75,125,240)),\n",
    "                              labels = c(\"None\", \"Low\", \"High\"))\n"
   ]
  },
  {
   "cell_type": "code",
   "execution_count": 197,
   "metadata": {},
   "outputs": [
    {
     "data": {
      "text/html": [
       "<table>\n",
       "<thead><tr><th scope=col>destiny</th><th scope=col>origin</th><th scope=col>airline</th><th scope=col>flight</th><th scope=col>departure_delay</th><th scope=col>arrival_delay</th><th scope=col>depart_conditions</th><th scope=col>arrival_conditions</th><th scope=col>depart_date</th><th scope=col>depart_time</th><th scope=col>arrival_date</th><th scope=col>arrival_time</th></tr></thead>\n",
       "<tbody>\n",
       "\t<tr><td>SBBE            </td><td>SBEG            </td><td>GLO             </td><td>1697            </td><td>None            </td><td>None            </td><td>Mostly Cloudy   </td><td>Mostly Cloudy   </td><td>2009-01-01      </td><td>06:51:00        </td><td>2009-01-01      </td><td>09:00:00        </td></tr>\n",
       "\t<tr><td>SBBE            </td><td>SBBR            </td><td>TAM             </td><td>3716            </td><td>None            </td><td>Low             </td><td>Scattered Clouds</td><td>Mostly Cloudy   </td><td>2009-01-01      </td><td>11:25:00        </td><td>2009-01-01      </td><td>14:02:00        </td></tr>\n",
       "\t<tr><td>SBBE            </td><td>SBFZ            </td><td>TAM             </td><td>3890            </td><td>None            </td><td>None            </td><td>Mostly Cloudy   </td><td>Scattered Clouds</td><td>2009-01-03      </td><td>11:18:00        </td><td>2009-01-03      </td><td>13:06:00        </td></tr>\n",
       "\t<tr><td>SBBE            </td><td>SBBR            </td><td>GLO             </td><td>1928            </td><td>None            </td><td>Low             </td><td>Thunderstorm    </td><td>Scattered Clouds</td><td>2009-01-03      </td><td>12:04:00        </td><td>2009-01-03      </td><td>14:46:00        </td></tr>\n",
       "\t<tr><td>SBBE            </td><td>SBFZ            </td><td>GLO             </td><td>1830            </td><td>Low             </td><td>Low             </td><td>Scattered Clouds</td><td>Partly Cloudy   </td><td>2009-01-03      </td><td>22:03:00        </td><td>2009-01-03      </td><td>23:55:00        </td></tr>\n",
       "\t<tr><td>SBBE            </td><td>SBFZ            </td><td>TAM             </td><td>3454            </td><td>Low             </td><td>Low             </td><td>Scattered Clouds</td><td>Partly Cloudy   </td><td>2009-01-04      </td><td>15:04:00        </td><td>2009-01-04      </td><td>16:53:00        </td></tr>\n",
       "</tbody>\n",
       "</table>\n"
      ],
      "text/latex": [
       "\\begin{tabular}{r|llllllllllll}\n",
       " destiny & origin & airline & flight & departure\\_delay & arrival\\_delay & depart\\_conditions & arrival\\_conditions & depart\\_date & depart\\_time & arrival\\_date & arrival\\_time\\\\\n",
       "\\hline\n",
       "\t SBBE             & SBEG             & GLO              & 1697             & None             & None             & Mostly Cloudy    & Mostly Cloudy    & 2009-01-01       & 06:51:00         & 2009-01-01       & 09:00:00        \\\\\n",
       "\t SBBE             & SBBR             & TAM              & 3716             & None             & Low              & Scattered Clouds & Mostly Cloudy    & 2009-01-01       & 11:25:00         & 2009-01-01       & 14:02:00        \\\\\n",
       "\t SBBE             & SBFZ             & TAM              & 3890             & None             & None             & Mostly Cloudy    & Scattered Clouds & 2009-01-03       & 11:18:00         & 2009-01-03       & 13:06:00        \\\\\n",
       "\t SBBE             & SBBR             & GLO              & 1928             & None             & Low              & Thunderstorm     & Scattered Clouds & 2009-01-03       & 12:04:00         & 2009-01-03       & 14:46:00        \\\\\n",
       "\t SBBE             & SBFZ             & GLO              & 1830             & Low              & Low              & Scattered Clouds & Partly Cloudy    & 2009-01-03       & 22:03:00         & 2009-01-03       & 23:55:00        \\\\\n",
       "\t SBBE             & SBFZ             & TAM              & 3454             & Low              & Low              & Scattered Clouds & Partly Cloudy    & 2009-01-04       & 15:04:00         & 2009-01-04       & 16:53:00        \\\\\n",
       "\\end{tabular}\n"
      ],
      "text/markdown": [
       "\n",
       "destiny | origin | airline | flight | departure_delay | arrival_delay | depart_conditions | arrival_conditions | depart_date | depart_time | arrival_date | arrival_time | \n",
       "|---|---|---|---|---|---|\n",
       "| SBBE             | SBEG             | GLO              | 1697             | None             | None             | Mostly Cloudy    | Mostly Cloudy    | 2009-01-01       | 06:51:00         | 2009-01-01       | 09:00:00         | \n",
       "| SBBE             | SBBR             | TAM              | 3716             | None             | Low              | Scattered Clouds | Mostly Cloudy    | 2009-01-01       | 11:25:00         | 2009-01-01       | 14:02:00         | \n",
       "| SBBE             | SBFZ             | TAM              | 3890             | None             | None             | Mostly Cloudy    | Scattered Clouds | 2009-01-03       | 11:18:00         | 2009-01-03       | 13:06:00         | \n",
       "| SBBE             | SBBR             | GLO              | 1928             | None             | Low              | Thunderstorm     | Scattered Clouds | 2009-01-03       | 12:04:00         | 2009-01-03       | 14:46:00         | \n",
       "| SBBE             | SBFZ             | GLO              | 1830             | Low              | Low              | Scattered Clouds | Partly Cloudy    | 2009-01-03       | 22:03:00         | 2009-01-03       | 23:55:00         | \n",
       "| SBBE             | SBFZ             | TAM              | 3454             | Low              | Low              | Scattered Clouds | Partly Cloudy    | 2009-01-04       | 15:04:00         | 2009-01-04       | 16:53:00         | \n",
       "\n",
       "\n"
      ],
      "text/plain": [
       "  destiny origin airline flight departure_delay arrival_delay depart_conditions\n",
       "1 SBBE    SBEG   GLO     1697   None            None          Mostly Cloudy    \n",
       "2 SBBE    SBBR   TAM     3716   None            Low           Scattered Clouds \n",
       "3 SBBE    SBFZ   TAM     3890   None            None          Mostly Cloudy    \n",
       "4 SBBE    SBBR   GLO     1928   None            Low           Thunderstorm     \n",
       "5 SBBE    SBFZ   GLO     1830   Low             Low           Scattered Clouds \n",
       "6 SBBE    SBFZ   TAM     3454   Low             Low           Scattered Clouds \n",
       "  arrival_conditions depart_date depart_time arrival_date arrival_time\n",
       "1 Mostly Cloudy      2009-01-01  06:51:00    2009-01-01   09:00:00    \n",
       "2 Mostly Cloudy      2009-01-01  11:25:00    2009-01-01   14:02:00    \n",
       "3 Scattered Clouds   2009-01-03  11:18:00    2009-01-03   13:06:00    \n",
       "4 Scattered Clouds   2009-01-03  12:04:00    2009-01-03   14:46:00    \n",
       "5 Partly Cloudy      2009-01-03  22:03:00    2009-01-03   23:55:00    \n",
       "6 Partly Cloudy      2009-01-04  15:04:00    2009-01-04   16:53:00    "
      ]
     },
     "metadata": {},
     "output_type": "display_data"
    }
   ],
   "source": [
    "head(flights)"
   ]
  },
  {
   "cell_type": "code",
   "execution_count": 198,
   "metadata": {},
   "outputs": [],
   "source": [
    "## Cria as transações\n",
    "train_set_transactions <- as(flights, \"transactions\")"
   ]
  },
  {
   "cell_type": "code",
   "execution_count": 199,
   "metadata": {},
   "outputs": [
    {
     "data": {
      "text/plain": [
       "transactions in sparse format with\n",
       " 53705 transactions (rows) and\n",
       " 18812 items (columns)"
      ]
     },
     "metadata": {},
     "output_type": "display_data"
    }
   ],
   "source": [
    "train_set_transactions"
   ]
  },
  {
   "cell_type": "code",
   "execution_count": 200,
   "metadata": {},
   "outputs": [
    {
     "name": "stdout",
     "output_type": "stream",
     "text": [
      "Formal class 'transactions' [package \"arules\"] with 3 slots\n",
      "  ..@ data       :Formal class 'ngCMatrix' [package \"Matrix\"] with 5 slots\n",
      "  .. .. ..@ i       : int [1:633860] 47 607 1086 1741 9428 9431 9449 9484 9498 13129 ...\n",
      "  .. .. ..@ p       : int [1:53706] 0 12 24 36 48 60 72 84 96 108 ...\n",
      "  .. .. ..@ Dim     : int [1:2] 18812 53705\n",
      "  .. .. ..@ Dimnames:List of 2\n",
      "  .. .. .. ..$ : NULL\n",
      "  .. .. .. ..$ : NULL\n",
      "  .. .. ..@ factors : list()\n",
      "  ..@ itemInfo   :'data.frame':\t18812 obs. of  3 variables:\n",
      "  .. ..$ labels   : chr [1:18812] \"destiny=CYYZ\" \"destiny=EDDF\" \"destiny=EDDM\" \"destiny=EGLL\" ...\n",
      "  .. ..$ variables: Factor w/ 12 levels \"airline\",\"arrival_conditions\",..: 10 10 10 10 10 10 10 10 10 10 ...\n",
      "  .. ..$ levels   : Factor w/ 13630 levels \" \",\"\\xc2\",\"0\",..: 12948 12962 12963 12976 12982 12987 12993 12994 13002 13018 ...\n",
      "  ..@ itemsetInfo:'data.frame':\t53705 obs. of  1 variable:\n",
      "  .. ..$ transactionID: chr [1:53705] \"1\" \"2\" \"3\" \"4\" ...\n"
     ]
    }
   ],
   "source": [
    "str(train_set_transactions)"
   ]
  },
  {
   "cell_type": "code",
   "execution_count": 201,
   "metadata": {},
   "outputs": [
    {
     "data": {
      "text/plain": [
       "6 x 53705 sparse Matrix of class \"ngCMatrix\"\n",
       "                                                                               \n",
       "[1,] . . . . . . . . . . . . . . . . . . . . . . . . . . . . . . . . . . ......\n",
       "[2,] . . . . . . . . . . . . . . . . . . . . . . . . . . . . . . . . . . ......\n",
       "[3,] . . . . . . . . . . . . . . . . . . . . . . . . . . . . . . . . . . ......\n",
       "[4,] . . . . . . . . . . . . . . . . . . . . . . . . . . . . . . . . . . ......\n",
       "[5,] . . . . . . . . . . . . . . . . . . . . . . . . . . . . . . . . . . ......\n",
       "[6,] . . . . . . . . . . . . . . . . . . . . . . . . . . . . . . . . . . ......\n",
       "\n",
       " .....suppressing columns in show(); maybe adjust 'options(max.print= *, width = *)'\n",
       " .............................."
      ]
     },
     "metadata": {},
     "output_type": "display_data"
    },
    {
     "data": {
      "text/html": [
       "<table>\n",
       "<thead><tr><th scope=col>labels</th><th scope=col>variables</th><th scope=col>levels</th></tr></thead>\n",
       "<tbody>\n",
       "\t<tr><td>destiny=CYYZ</td><td>destiny     </td><td>CYYZ        </td></tr>\n",
       "\t<tr><td>destiny=EDDF</td><td>destiny     </td><td>EDDF        </td></tr>\n",
       "\t<tr><td>destiny=EDDM</td><td>destiny     </td><td>EDDM        </td></tr>\n",
       "\t<tr><td>destiny=EGLL</td><td>destiny     </td><td>EGLL        </td></tr>\n",
       "\t<tr><td>destiny=EHAM</td><td>destiny     </td><td>EHAM        </td></tr>\n",
       "\t<tr><td>destiny=ELLX</td><td>destiny     </td><td>ELLX        </td></tr>\n",
       "</tbody>\n",
       "</table>\n"
      ],
      "text/latex": [
       "\\begin{tabular}{r|lll}\n",
       " labels & variables & levels\\\\\n",
       "\\hline\n",
       "\t destiny=CYYZ & destiny      & CYYZ        \\\\\n",
       "\t destiny=EDDF & destiny      & EDDF        \\\\\n",
       "\t destiny=EDDM & destiny      & EDDM        \\\\\n",
       "\t destiny=EGLL & destiny      & EGLL        \\\\\n",
       "\t destiny=EHAM & destiny      & EHAM        \\\\\n",
       "\t destiny=ELLX & destiny      & ELLX        \\\\\n",
       "\\end{tabular}\n"
      ],
      "text/markdown": [
       "\n",
       "labels | variables | levels | \n",
       "|---|---|---|---|---|---|\n",
       "| destiny=CYYZ | destiny      | CYYZ         | \n",
       "| destiny=EDDF | destiny      | EDDF         | \n",
       "| destiny=EDDM | destiny      | EDDM         | \n",
       "| destiny=EGLL | destiny      | EGLL         | \n",
       "| destiny=EHAM | destiny      | EHAM         | \n",
       "| destiny=ELLX | destiny      | ELLX         | \n",
       "\n",
       "\n"
      ],
      "text/plain": [
       "  labels       variables levels\n",
       "1 destiny=CYYZ destiny   CYYZ  \n",
       "2 destiny=EDDF destiny   EDDF  \n",
       "3 destiny=EDDM destiny   EDDM  \n",
       "4 destiny=EGLL destiny   EGLL  \n",
       "5 destiny=EHAM destiny   EHAM  \n",
       "6 destiny=ELLX destiny   ELLX  "
      ]
     },
     "metadata": {},
     "output_type": "display_data"
    },
    {
     "data": {
      "text/html": [
       "<table>\n",
       "<thead><tr><th scope=col>transactionID</th></tr></thead>\n",
       "<tbody>\n",
       "\t<tr><td>1</td></tr>\n",
       "\t<tr><td>2</td></tr>\n",
       "\t<tr><td>3</td></tr>\n",
       "\t<tr><td>4</td></tr>\n",
       "\t<tr><td>5</td></tr>\n",
       "\t<tr><td>6</td></tr>\n",
       "</tbody>\n",
       "</table>\n"
      ],
      "text/latex": [
       "\\begin{tabular}{r|l}\n",
       " transactionID\\\\\n",
       "\\hline\n",
       "\t 1\\\\\n",
       "\t 2\\\\\n",
       "\t 3\\\\\n",
       "\t 4\\\\\n",
       "\t 5\\\\\n",
       "\t 6\\\\\n",
       "\\end{tabular}\n"
      ],
      "text/markdown": [
       "\n",
       "transactionID | \n",
       "|---|---|---|---|---|---|\n",
       "| 1 | \n",
       "| 2 | \n",
       "| 3 | \n",
       "| 4 | \n",
       "| 5 | \n",
       "| 6 | \n",
       "\n",
       "\n"
      ],
      "text/plain": [
       "  transactionID\n",
       "1 1            \n",
       "2 2            \n",
       "3 3            \n",
       "4 4            \n",
       "5 5            \n",
       "6 6            "
      ]
     },
     "metadata": {},
     "output_type": "display_data"
    }
   ],
   "source": [
    "head(train_set_transactions@data)\n",
    "head(train_set_transactions@itemInfo)\n",
    "head(train_set_transactions@itemsetInfo)"
   ]
  },
  {
   "cell_type": "code",
   "execution_count": 206,
   "metadata": {},
   "outputs": [
    {
     "name": "stdout",
     "output_type": "stream",
     "text": [
      "Apriori\n",
      "\n",
      "Parameter specification:\n",
      " confidence minval smax arem  aval originalSupport maxtime support minlen\n",
      "        0.9    0.1    1 none FALSE            TRUE       5     0.5      2\n",
      " maxlen target   ext\n",
      "      3  rules FALSE\n",
      "\n",
      "Algorithmic control:\n",
      " filter tree heap memopt load sort verbose\n",
      "    0.1 TRUE TRUE  FALSE TRUE    2    TRUE\n",
      "\n",
      "Absolute minimum support count: 26852 \n",
      "\n",
      "set item appearances ...[1 item(s)] done [0.00s].\n",
      "set transactions ...[11962 item(s), 53705 transaction(s)] done [0.20s].\n",
      "sorting and recoding items ... [0 item(s)] done [0.01s].\n",
      "creating transaction tree ... done [0.00s].\n",
      "checking subsets of size 1 done [0.00s].\n",
      "writing ... [0 rule(s)] done [0.00s].\n",
      "creating S4 object  ... done [0.01s].\n"
     ]
    },
    {
     "data": {
      "text/html": [],
      "text/latex": [],
      "text/markdown": [],
      "text/plain": [
       "<0 x 0 matrix>"
      ]
     },
     "metadata": {},
     "output_type": "display_data"
    }
   ],
   "source": [
    "# Nesta parte do trabalho, executar-se-á o algoritmo APRIORI\n",
    "# para gerar regras com a seguinte especificcação:\n",
    "#\n",
    "# 1. com suporte de 0,5, confiança de 0,9 e tamanho minimo = 2\n",
    "# 2. com um atributo do lado esquerdo e um do lado direito e tamanho maximo=3\n",
    "# 3. com lado direito limitado ao valor do atributo arrival_delay=None Arrival Delay\n",
    "# 4. e lado esquerdo livre.\n",
    "#\n",
    "# Isso significa que estamos interessados em qualquer causa que provoque\n",
    "# a consequência arrival_delay=High Arrival Delay. \n",
    "rules <- apriori(train_set_transactions, parameter=list(supp = 0.5, conf = 0.9, minlen=2, maxlen= 3, target = \"rules\"), appearance=list(rhs = c(\"arrival_delay=None\"),default=\"lhs\"),control=NULL)\n",
    "rules_a <- as(rules, \"data.frame\")\n",
    "head(rules_a)"
   ]
  },
  {
   "cell_type": "code",
   "execution_count": 207,
   "metadata": {},
   "outputs": [],
   "source": [
    "irules <- inspect(rules)"
   ]
  },
  {
   "cell_type": "code",
   "execution_count": 208,
   "metadata": {},
   "outputs": [],
   "source": [
    "rules.sorted <- sort(rules, by=\"lift\")\n",
    "inspect(rules.sorted)"
   ]
  },
  {
   "cell_type": "code",
   "execution_count": null,
   "metadata": {},
   "outputs": [],
   "source": []
  }
 ],
 "metadata": {
  "kernelspec": {
   "display_name": "R",
   "language": "R",
   "name": "ir"
  },
  "language_info": {
   "codemirror_mode": "r",
   "file_extension": ".r",
   "mimetype": "text/x-r-source",
   "name": "R",
   "pygments_lexer": "r",
   "version": "3.4.3"
  }
 },
 "nbformat": 4,
 "nbformat_minor": 2
}
