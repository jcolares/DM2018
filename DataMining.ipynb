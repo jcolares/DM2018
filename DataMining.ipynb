{
 "cells": [
  {
   "cell_type": "markdown",
   "metadata": {},
   "source": [
    "**Para melhor experiência de visualização desse notebook é recomendado o uso das extensões \"Coldefolding\" e \"Collapsible Headings\", podem ser facilmente encontradas pela extensão  [\"Nbextensions\"](https://github.com/ipython-contrib/jupyter_contrib_nbextensions)**"
   ]
  },
  {
   "cell_type": "markdown",
   "metadata": {
    "heading_collapsed": true
   },
   "source": [
    "# Preprocessamento\n",
    "Primeiro faremos a limpeza inicial dos dados, bem como adicionaremos alguns dados de outras fontes para complementar."
   ]
  },
  {
   "cell_type": "code",
   "execution_count": 1,
   "metadata": {
    "code_folding": [
     0
    ],
    "collapsed": true,
    "hidden": true
   },
   "outputs": [
    {
     "name": "stderr",
     "output_type": "stream",
     "text": [
      "\n",
      "Attaching package: 'dplyr'\n",
      "\n",
      "The following objects are masked from 'package:stats':\n",
      "\n",
      "    filter, lag\n",
      "\n",
      "The following objects are masked from 'package:base':\n",
      "\n",
      "    intersect, setdiff, setequal, union\n",
      "\n",
      "\n",
      "Attaching package: 'lubridate'\n",
      "\n",
      "The following object is masked from 'package:base':\n",
      "\n",
      "    date\n",
      "\n"
     ]
    }
   ],
   "source": [
    "#library\n",
    "options(warn=-1)\n",
    "library(dplyr)\n",
    "library(lubridate)\n",
    "library(readxl)\n",
    "library(repr)"
   ]
  },
  {
   "cell_type": "code",
   "execution_count": 2,
   "metadata": {
    "hidden": true
   },
   "outputs": [],
   "source": [
    "load(\"dataset/vra-wu.RData\")"
   ]
  },
  {
   "cell_type": "code",
   "execution_count": 3,
   "metadata": {
    "code_folding": [
     0
    ],
    "hidden": true
   },
   "outputs": [],
   "source": [
    "#Mudar tipos de dados POSIX\n",
    "vra_wu$depart_expect = as.POSIXct(vra_wu$depart_expect)\n",
    "vra_wu$depart = as.POSIXct(vra_wu$depart)\n",
    "vra_wu$arrival_expect = as.POSIXct(vra_wu$arrival_expect)\n",
    "vra_wu$arrival = as.POSIXct(vra_wu$arrival)"
   ]
  },
  {
   "cell_type": "code",
   "execution_count": 4,
   "metadata": {
    "code_folding": [
     0
    ],
    "hidden": true
   },
   "outputs": [],
   "source": [
    "# Filtrar apenas o ano desejado\n",
    "vrawu17 = vra_wu %>% filter(year(depart_expect) == 2017 | year(arrival_expect)==2017)\n",
    "\n",
    "#Remover o dataframe original da memória\n",
    "rm(vra_wu)"
   ]
  },
  {
   "cell_type": "code",
   "execution_count": 5,
   "metadata": {
    "code_folding": [
     0
    ],
    "hidden": true
   },
   "outputs": [],
   "source": [
    "#Alterar os nomes das colunas já existentes\n",
    "colnames(vrawu17)[colnames(vrawu17)==\"destiny\"] = \"icao_destino\"\n",
    "colnames(vrawu17)[colnames(vrawu17)==\"origin\"] = \"icao_origem\"\n",
    "colnames(vrawu17)[colnames(vrawu17)==\"airline\"] = \"icao_empresa\"\n",
    "colnames(vrawu17)[colnames(vrawu17)==\"flight\"] = \"voo\"\n",
    "#colnames(vrawu17)[colnames(vrawu17)==\"autho_code\"] = \"new_name\"     #n\n",
    "colnames(vrawu17)[colnames(vrawu17)==\"line_type\"] = \"codigo_tipo_linha\"        \n",
    "colnames(vrawu17)[colnames(vrawu17)==\"depart_expect\"] = \"partida_prevista\"\n",
    "colnames(vrawu17)[colnames(vrawu17)==\"depart\"] = \"partida_real\"\n",
    "colnames(vrawu17)[colnames(vrawu17)==\"arrival_expect\"] = \"chegada_prevista\"\n",
    "colnames(vrawu17)[colnames(vrawu17)==\"arrival\"] = \"chegada_real\"\n",
    "colnames(vrawu17)[colnames(vrawu17)==\"status\"] = \"situacao_voo\"\n",
    "colnames(vrawu17)[colnames(vrawu17)==\"observation\"] = \"cod_justificativa\"\n",
    "colnames(vrawu17)[colnames(vrawu17)==\"departure_delay\"] = \"atraso_partida\"\n",
    "colnames(vrawu17)[colnames(vrawu17)==\"arrival_delay\"] = \"atraso_chegada\"\n",
    "#colnames(vrawu17)[colnames(vrawu17)==\"duration_expect\"] = \"duracao_prevista\"   #não existia no nosso vrawu17\n",
    "#colnames(vrawu17)[colnames(vrawu17)==\"duration\"] = \"duracao_real\"    #não existia no nosso vrawu17\n",
    "#colnames(vrawu17)[colnames(vrawu17)==\"duration_delta\"] = \"duracao_delta\"   #não existia no nosso vrawu17\n",
    "colnames(vrawu17)[colnames(vrawu17)==\"origin.state\"] = \"origem_uf\"\n",
    "colnames(vrawu17)[colnames(vrawu17)==\"destiny.state\"] = \"destino_uf\"\n",
    "colnames(vrawu17)[colnames(vrawu17)==\"depart_temperature\"] = \"origem_temperatura\"\n",
    "colnames(vrawu17)[colnames(vrawu17)==\"depart_dew_point\"] = \"origem_dew_point\"\n",
    "colnames(vrawu17)[colnames(vrawu17)==\"depart_humidity\"] = \"origem_umidade\"\n",
    "colnames(vrawu17)[colnames(vrawu17)==\"depart_pressure\"] = \"origem_pressao\"\n",
    "colnames(vrawu17)[colnames(vrawu17)==\"depart_visibility\"] = \"origem_visibilidade\"\n",
    "colnames(vrawu17)[colnames(vrawu17)==\"depart_events\"] = \"origem_eventos\"\n",
    "colnames(vrawu17)[colnames(vrawu17)==\"depart_conditions\"] = \"origem_condicoes\"\n",
    "colnames(vrawu17)[colnames(vrawu17)==\"arrival_temperature\"] = \"destino_temperatura\"\n",
    "colnames(vrawu17)[colnames(vrawu17)==\"arrival_dew_point\"] = \"destino_dew_point\"\n",
    "colnames(vrawu17)[colnames(vrawu17)==\"arrival_humidity\"] = \"destino_umidade\"\n",
    "colnames(vrawu17)[colnames(vrawu17)==\"arrival_pressure\"] = \"destino_pressao\"\n",
    "colnames(vrawu17)[colnames(vrawu17)==\"arrival_visibility\"] = \"destino_visibilidade\"\n",
    "colnames(vrawu17)[colnames(vrawu17)==\"arrival_events\"] = \"destino_eventos\"\n",
    "colnames(vrawu17)[colnames(vrawu17)==\"arrival_conditions\"] = \"destino_condicoes\""
   ]
  },
  {
   "cell_type": "code",
   "execution_count": 6,
   "metadata": {
    "code_folding": [
     0
    ],
    "hidden": true
   },
   "outputs": [],
   "source": [
    "# id de tempo\n",
    "vrawu17$timekey_partida <- paste(substr(vrawu17$partida_prevista,1,4), substr(vrawu17$partida_prevista,6,7), substr(vrawu17$partida_prevista,9,10), substr(vrawu17$partida_prevista,12,13), \"00\", sep = \"\")\n",
    "vrawu17$timekey_chegada <- paste(substr(vrawu17$chegada_prevista,1,4), substr(vrawu17$chegada_prevista,6,7), substr(vrawu17$chegada_prevista,9,10), substr(vrawu17$chegada_prevista,12,13), \"00\", sep = \"\")\n",
    "# datas\n",
    "vrawu17$origem_data = as.Date(vrawu17$partida_prevista)\n",
    "vrawu17$origem_hora = as.numeric(substr(vrawu17$partida_prevista, 12,13))\n",
    "vrawu17$destno_data = as.Date(vrawu17$chegada_prevista)\n",
    "vrawu17$destino_hora = as.numeric(substr(vrawu17$chegada_prevista, 12,13))\n"
   ]
  },
  {
   "cell_type": "code",
   "execution_count": 7,
   "metadata": {
    "code_folding": [
     0
    ],
    "hidden": true
   },
   "outputs": [],
   "source": [
    "# Carregar dimensões - aerodromos\n",
    "# fonte: ANAC http://www.anac.gov.br/assuntos/dados-e-estatisticas\n",
    "aerodromos <- read_excel(\"dataset/aeroportos/Glossario_de_Aerodromo.xls\", skip = 3, col_names = TRUE )\n",
    "origens <- aerodromos\n",
    "colnames(origens) <- c(\"icao_origem\", \"origem_descricao\", \"origem_cidade\",\"origem_uf\", \"origem_pais\", \"origem_continente\")\n",
    "vrawu17$icao_origem = as.character(vrawu17$icao_origem)\n",
    "vrawu17 <- merge(x=vrawu17, y=origens, all.x = TRUE, by.x='icao_origem', by.y='icao_origem')\n",
    "colnames(vrawu17)[colnames(vrawu17)==\"origem_uf.y\"] = \"origem_uf\"\n",
    "vrawu17$origem_uf.x = NULL\n",
    "destinos <- aerodromos\n",
    "colnames(destinos) <- c(\"icao_destino\", \"destino_descricao\", \"destino_cidade\",\"destino_uf\", \"destino_pais\", \"destino_continente\")\n",
    "vrawu17 <- merge(x=vrawu17, y=destinos, all.x = TRUE, by.x='icao_destino', by.y='icao_destino')\n",
    "colnames(vrawu17)[colnames(vrawu17)==\"destino_uf.y\"] = \"destino_uf\"\n",
    "vrawu17$destino_uf.x = NULL\n",
    "#rm(origens, destinos, aerodromos)"
   ]
  },
  {
   "cell_type": "code",
   "execution_count": 8,
   "metadata": {
    "code_folding": [
     0
    ],
    "hidden": true
   },
   "outputs": [],
   "source": [
    "# Carrega dimensoes - DI\n",
    "vrawu17$codigo_di = as.character(vrawu17$autho_code)\n",
    "di <- read_excel(\"dataset/aeroportos/Glossario_de_Digito_Identificador.xls\", skip = 3, \n",
    "    col_names = TRUE)\n",
    "colnames(di) <- c(\"codigo_di\", \"descricao_codigo_di\")\n",
    "vrawu17 <- merge(x = vrawu17, y = di, all.x = TRUE)\n",
    "rm(di)\n",
    "vrawu17$autho_code = NULL"
   ]
  },
  {
   "cell_type": "code",
   "execution_count": 9,
   "metadata": {
    "code_folding": [
     0
    ],
    "hidden": true
   },
   "outputs": [],
   "source": [
    "# Carrega dimensões - empresa\n",
    "empresas <- read_excel(\"dataset/aeroportos/glossario_de_empresas_aereas.xls\", skip = 3, col_names = TRUE )\n",
    "colnames(empresas) <- c(\"icao_empresa\", \"empresa\", \"x1\", \"nacionalidade\")\n",
    "empresas$x1 <- NULL\n",
    "vrawu17 <- merge(x=vrawu17, y=empresas, all.x = TRUE)\n",
    "#rm(empresas)"
   ]
  },
  {
   "cell_type": "code",
   "execution_count": 10,
   "metadata": {
    "code_folding": [
     0
    ],
    "hidden": true
   },
   "outputs": [],
   "source": [
    "# Carrega dimensões - justificativas\n",
    "#Obs: o arquivo original de justificativas continha caracteres estranhos que impediam sua leitura\n",
    "#     foi necessário editar o xls antes de carregar\n",
    "\n",
    "justificativas <- read_excel(\"dataset/aeroportos/Glossario_de_Justificativas.xls\", skip = 3, col_names = TRUE )\n",
    "colnames(justificativas) <- c(\"cod_justificativa\", \"descricao_justificativa\")\n",
    "vrawu17 <- merge(x=vrawu17, y=justificativas, all.x = TRUE)\n",
    "rm(justificativas)\n",
    "\n",
    "# Carrega dimensões - tipo de linha\n",
    "tipo_linha <- read_excel(\"dataset/aeroportos/Glossario_de_Tipo_de_Linha.xls\", skip = 3, col_names = TRUE )\n",
    "colnames(tipo_linha) <- c(\"codigo_tipo_linha\", \"tipo_linha\")\n",
    "vrawu17 <- merge(x=vrawu17, y=tipo_linha, all.x = TRUE)\n",
    "#rm(tipo_linha)"
   ]
  },
  {
   "cell_type": "markdown",
   "metadata": {
    "heading_collapsed": true,
    "hidden": true
   },
   "source": [
    "## Filtrando dados\n",
    "Focaremos as análises nas linhas brasileiras"
   ]
  },
  {
   "cell_type": "code",
   "execution_count": 11,
   "metadata": {
    "hidden": true
   },
   "outputs": [],
   "source": [
    "vrawu17 <- vrawu17 %>% filter(origem_pais==\"BRASIL\"& destino_pais==\"BRASIL\")"
   ]
  },
  {
   "cell_type": "markdown",
   "metadata": {},
   "source": [
    "# Análise Exploratória"
   ]
  },
  {
   "cell_type": "markdown",
   "metadata": {
    "heading_collapsed": true
   },
   "source": [
    "## Análises preliminares"
   ]
  },
  {
   "cell_type": "code",
   "execution_count": 12,
   "metadata": {
    "code_folding": [
     0
    ],
    "collapsed": true,
    "hidden": true
   },
   "outputs": [
    {
     "name": "stderr",
     "output_type": "stream",
     "text": [
      "\n",
      "Attaching package: 'data.table'\n",
      "\n",
      "The following objects are masked from 'package:lubridate':\n",
      "\n",
      "    hour, isoweek, mday, minute, month, quarter, second, wday, week,\n",
      "    yday, year\n",
      "\n",
      "The following objects are masked from 'package:dplyr':\n",
      "\n",
      "    between, first, last\n",
      "\n",
      "\n",
      "Attaching package: 'gridExtra'\n",
      "\n",
      "The following object is masked from 'package:dplyr':\n",
      "\n",
      "    combine\n",
      "\n"
     ]
    }
   ],
   "source": [
    "#carregando bibliotecas\n",
    "library(tools)\n",
    "library(data.table)\n",
    "library(gridExtra)\n",
    "source(\"https://raw.githubusercontent.com/boxuancui/DataExplorer/master/R/helper.r\")\n",
    "source(\"https://raw.githubusercontent.com/boxuancui/DataExplorer/master/R/split_columns.r\")\n",
    "source(\"https://raw.githubusercontent.com/boxuancui/DataExplorer/master/R/plot_bar.r\")\n",
    "source(\"https://raw.githubusercontent.com/boxuancui/DataExplorer/master/R/plot_missing.r\")\n",
    "source(\"https://raw.githubusercontent.com/boxuancui/DataExplorer/master/R/plot_bar.r\")\n",
    "source(\"https://raw.githubusercontent.com/boxuancui/DataExplorer/master/R/plot_histogram.r\")\n",
    "library(ggplot2)\n",
    "library(scales)\n",
    "library(tidyr)"
   ]
  },
  {
   "cell_type": "code",
   "execution_count": 13,
   "metadata": {
    "hidden": true
   },
   "outputs": [
    {
     "data": {
      "text/html": [
       "<table>\n",
       "<thead><tr><th scope=col>codigo_tipo_linha</th><th scope=col>cod_justificativa</th><th scope=col>icao_empresa</th><th scope=col>codigo_di</th><th scope=col>icao_destino</th><th scope=col>icao_origem</th><th scope=col>voo</th><th scope=col>partida_prevista</th><th scope=col>partida_real</th><th scope=col>chegada_prevista</th><th scope=col>...</th><th scope=col>destino_descricao</th><th scope=col>destino_cidade</th><th scope=col>destino_uf</th><th scope=col>destino_pais</th><th scope=col>destino_continente</th><th scope=col>descricao_codigo_di</th><th scope=col>empresa</th><th scope=col>nacionalidade</th><th scope=col>descricao_justificativa</th><th scope=col>tipo_linha</th></tr></thead>\n",
       "<tbody>\n",
       "\t<tr><td>C                                                                     </td><td>                                                                      </td><td>GLO                                                                   </td><td>0                                                                     </td><td>SBCF                                                                  </td><td>SBSV                                                                  </td><td>1833                                                                  </td><td>2017-12-07 22:35:00                                                   </td><td>2017-12-07 22:35:00                                                   </td><td>2017-12-08 00:15:00                                                   </td><td>...                                                                   </td><td>TANCREDO NEVES                                                        </td><td>CONFINS                                                               </td><td>MG                                                                    </td><td>BRASIL                                                                </td><td>AMERICA DO SUL                                                        </td><td>Vôo Regular                                                           </td><td>GOL                                                                   </td><td>BRASILEIRA                                                            </td><td>NA                                                                    </td><td>Cargueiro                                                             </td></tr>\n",
       "\t<tr><td>C                                                                     </td><td>                                                                      </td><td>GLO                                                                   </td><td>0                                                                     </td><td>SBGL                                                                  </td><td>SBKP                                                                  </td><td>1993                                                                  </td><td>2017-01-09 20:05:00                                                   </td><td>2017-01-09 20:05:00                                                   </td><td>2017-01-09 21:10:00                                                   </td><td>...                                                                   </td><td>AEROPORTO INTERNACIONAL DO RIO DE JANEIRO/GALEÃO  ANTONIO CARLOS JOBIM</td><td>RIO DE JANEIRO                                                        </td><td>RJ                                                                    </td><td>BRASIL                                                                </td><td>AMERICA DO SUL                                                        </td><td>Vôo Regular                                                           </td><td>GOL                                                                   </td><td>BRASILEIRA                                                            </td><td>NA                                                                    </td><td>Cargueiro                                                             </td></tr>\n",
       "\t<tr><td>C                                                                     </td><td>                                                                      </td><td>GLO                                                                   </td><td>0                                                                     </td><td>SBGO                                                                  </td><td>SBSP                                                                  </td><td>1428                                                                  </td><td>2017-09-10 10:25:00                                                   </td><td>2017-09-10 10:25:00                                                   </td><td>2017-09-10 12:00:00                                                   </td><td>...                                                                   </td><td>SANTA GENOVEVA                                                        </td><td>GOIANIA                                                               </td><td>GO                                                                    </td><td>BRASIL                                                                </td><td>AMERICA DO SUL                                                        </td><td>Vôo Regular                                                           </td><td>GOL                                                                   </td><td>BRASILEIRA                                                            </td><td>NA                                                                    </td><td>Cargueiro                                                             </td></tr>\n",
       "\t<tr><td>C                                                                     </td><td>MX                                                                    </td><td>LTG                                                                   </td><td>0                                                                     </td><td>SBEG                                                                  </td><td>SBBE                                                                  </td><td>6578                                                                  </td><td>2017-02-11 19:55:00                                                   </td><td>2017-02-11 21:24:00                                                   </td><td>2017-02-11 21:55:00                                                   </td><td>...                                                                   </td><td>EDUARDO GOMES                                                         </td><td>MANAUS                                                                </td><td>AM                                                                    </td><td>BRASIL                                                                </td><td>AMERICA DO SUL                                                        </td><td>Vôo Regular                                                           </td><td>ABSA                                                                  </td><td>BRASILEIRA                                                            </td><td>ATRASOS NÃO ESPECÍFICOS  OUTROS                                       </td><td>Cargueiro                                                             </td></tr>\n",
       "\t<tr><td>C                                                                     </td><td>                                                                      </td><td>GLO                                                                   </td><td>0                                                                     </td><td>SBLO                                                                  </td><td>SBSP                                                                  </td><td>1164                                                                  </td><td>2017-05-23 11:50:00                                                   </td><td>2017-05-23 11:50:00                                                   </td><td>2017-05-23 12:55:00                                                   </td><td>...                                                                   </td><td>GOVERNADOR JOSÉ RICHA                                                 </td><td>LONDRINA                                                              </td><td>PR                                                                    </td><td>BRASIL                                                                </td><td>AMERICA DO SUL                                                        </td><td>Vôo Regular                                                           </td><td>GOL                                                                   </td><td>BRASILEIRA                                                            </td><td>NA                                                                    </td><td>Cargueiro                                                             </td></tr>\n",
       "\t<tr><td>C                                                                     </td><td>                                                                      </td><td>GLO                                                                   </td><td>0                                                                     </td><td>SBGL                                                                  </td><td>SBNF                                                                  </td><td>2151                                                                  </td><td>2017-12-09 06:15:00                                                   </td><td>2017-12-09 06:15:00                                                   </td><td>2017-12-09 07:40:00                                                   </td><td>...                                                                   </td><td>AEROPORTO INTERNACIONAL DO RIO DE JANEIRO/GALEÃO  ANTONIO CARLOS JOBIM</td><td>RIO DE JANEIRO                                                        </td><td>RJ                                                                    </td><td>BRASIL                                                                </td><td>AMERICA DO SUL                                                        </td><td>Vôo Regular                                                           </td><td>GOL                                                                   </td><td>BRASILEIRA                                                            </td><td>NA                                                                    </td><td>Cargueiro                                                             </td></tr>\n",
       "</tbody>\n",
       "</table>\n"
      ],
      "text/latex": [
       "\\begin{tabular}{r|llllllllllllllllllllllllllllllllllllllllllllllllllll}\n",
       " codigo\\_tipo\\_linha & cod\\_justificativa & icao\\_empresa & codigo\\_di & icao\\_destino & icao\\_origem & voo & partida\\_prevista & partida\\_real & chegada\\_prevista & ... & destino\\_descricao & destino\\_cidade & destino\\_uf & destino\\_pais & destino\\_continente & descricao\\_codigo\\_di & empresa & nacionalidade & descricao\\_justificativa & tipo\\_linha\\\\\n",
       "\\hline\n",
       "\t C                                                                      &                                                                        & GLO                                                                    & 0                                                                      & SBCF                                                                   & SBSV                                                                   & 1833                                                                   & 2017-12-07 22:35:00                                                    & 2017-12-07 22:35:00                                                    & 2017-12-08 00:15:00                                                    & ...                                                                    & TANCREDO NEVES                                                         & CONFINS                                                                & MG                                                                     & BRASIL                                                                 & AMERICA DO SUL                                                         & Vôo Regular                                                            & GOL                                                                    & BRASILEIRA                                                             & NA                                                                     & Cargueiro                                                             \\\\\n",
       "\t C                                                                      &                                                                        & GLO                                                                    & 0                                                                      & SBGL                                                                   & SBKP                                                                   & 1993                                                                   & 2017-01-09 20:05:00                                                    & 2017-01-09 20:05:00                                                    & 2017-01-09 21:10:00                                                    & ...                                                                    & AEROPORTO INTERNACIONAL DO RIO DE JANEIRO/GALEÃO  ANTONIO CARLOS JOBIM & RIO DE JANEIRO                                                         & RJ                                                                     & BRASIL                                                                 & AMERICA DO SUL                                                         & Vôo Regular                                                            & GOL                                                                    & BRASILEIRA                                                             & NA                                                                     & Cargueiro                                                             \\\\\n",
       "\t C                                                                      &                                                                        & GLO                                                                    & 0                                                                      & SBGO                                                                   & SBSP                                                                   & 1428                                                                   & 2017-09-10 10:25:00                                                    & 2017-09-10 10:25:00                                                    & 2017-09-10 12:00:00                                                    & ...                                                                    & SANTA GENOVEVA                                                         & GOIANIA                                                                & GO                                                                     & BRASIL                                                                 & AMERICA DO SUL                                                         & Vôo Regular                                                            & GOL                                                                    & BRASILEIRA                                                             & NA                                                                     & Cargueiro                                                             \\\\\n",
       "\t C                                                                      & MX                                                                     & LTG                                                                    & 0                                                                      & SBEG                                                                   & SBBE                                                                   & 6578                                                                   & 2017-02-11 19:55:00                                                    & 2017-02-11 21:24:00                                                    & 2017-02-11 21:55:00                                                    & ...                                                                    & EDUARDO GOMES                                                          & MANAUS                                                                 & AM                                                                     & BRASIL                                                                 & AMERICA DO SUL                                                         & Vôo Regular                                                            & ABSA                                                                   & BRASILEIRA                                                             & ATRASOS NÃO ESPECÍFICOS  OUTROS                                        & Cargueiro                                                             \\\\\n",
       "\t C                                                                      &                                                                        & GLO                                                                    & 0                                                                      & SBLO                                                                   & SBSP                                                                   & 1164                                                                   & 2017-05-23 11:50:00                                                    & 2017-05-23 11:50:00                                                    & 2017-05-23 12:55:00                                                    & ...                                                                    & GOVERNADOR JOSÉ RICHA                                                  & LONDRINA                                                               & PR                                                                     & BRASIL                                                                 & AMERICA DO SUL                                                         & Vôo Regular                                                            & GOL                                                                    & BRASILEIRA                                                             & NA                                                                     & Cargueiro                                                             \\\\\n",
       "\t C                                                                      &                                                                        & GLO                                                                    & 0                                                                      & SBGL                                                                   & SBNF                                                                   & 2151                                                                   & 2017-12-09 06:15:00                                                    & 2017-12-09 06:15:00                                                    & 2017-12-09 07:40:00                                                    & ...                                                                    & AEROPORTO INTERNACIONAL DO RIO DE JANEIRO/GALEÃO  ANTONIO CARLOS JOBIM & RIO DE JANEIRO                                                         & RJ                                                                     & BRASIL                                                                 & AMERICA DO SUL                                                         & Vôo Regular                                                            & GOL                                                                    & BRASILEIRA                                                             & NA                                                                     & Cargueiro                                                             \\\\\n",
       "\\end{tabular}\n"
      ],
      "text/markdown": [
       "\n",
       "codigo_tipo_linha | cod_justificativa | icao_empresa | codigo_di | icao_destino | icao_origem | voo | partida_prevista | partida_real | chegada_prevista | ... | destino_descricao | destino_cidade | destino_uf | destino_pais | destino_continente | descricao_codigo_di | empresa | nacionalidade | descricao_justificativa | tipo_linha | \n",
       "|---|---|---|---|---|---|\n",
       "| C                                                                      |                                                                        | GLO                                                                    | 0                                                                      | SBCF                                                                   | SBSV                                                                   | 1833                                                                   | 2017-12-07 22:35:00                                                    | 2017-12-07 22:35:00                                                    | 2017-12-08 00:15:00                                                    | ...                                                                    | TANCREDO NEVES                                                         | CONFINS                                                                | MG                                                                     | BRASIL                                                                 | AMERICA DO SUL                                                         | Vôo Regular                                                            | GOL                                                                    | BRASILEIRA                                                             | NA                                                                     | Cargueiro                                                              | \n",
       "| C                                                                      |                                                                        | GLO                                                                    | 0                                                                      | SBGL                                                                   | SBKP                                                                   | 1993                                                                   | 2017-01-09 20:05:00                                                    | 2017-01-09 20:05:00                                                    | 2017-01-09 21:10:00                                                    | ...                                                                    | AEROPORTO INTERNACIONAL DO RIO DE JANEIRO/GALEÃO  ANTONIO CARLOS JOBIM | RIO DE JANEIRO                                                         | RJ                                                                     | BRASIL                                                                 | AMERICA DO SUL                                                         | Vôo Regular                                                            | GOL                                                                    | BRASILEIRA                                                             | NA                                                                     | Cargueiro                                                              | \n",
       "| C                                                                      |                                                                        | GLO                                                                    | 0                                                                      | SBGO                                                                   | SBSP                                                                   | 1428                                                                   | 2017-09-10 10:25:00                                                    | 2017-09-10 10:25:00                                                    | 2017-09-10 12:00:00                                                    | ...                                                                    | SANTA GENOVEVA                                                         | GOIANIA                                                                | GO                                                                     | BRASIL                                                                 | AMERICA DO SUL                                                         | Vôo Regular                                                            | GOL                                                                    | BRASILEIRA                                                             | NA                                                                     | Cargueiro                                                              | \n",
       "| C                                                                      | MX                                                                     | LTG                                                                    | 0                                                                      | SBEG                                                                   | SBBE                                                                   | 6578                                                                   | 2017-02-11 19:55:00                                                    | 2017-02-11 21:24:00                                                    | 2017-02-11 21:55:00                                                    | ...                                                                    | EDUARDO GOMES                                                          | MANAUS                                                                 | AM                                                                     | BRASIL                                                                 | AMERICA DO SUL                                                         | Vôo Regular                                                            | ABSA                                                                   | BRASILEIRA                                                             | ATRASOS NÃO ESPECÍFICOS  OUTROS                                        | Cargueiro                                                              | \n",
       "| C                                                                      |                                                                        | GLO                                                                    | 0                                                                      | SBLO                                                                   | SBSP                                                                   | 1164                                                                   | 2017-05-23 11:50:00                                                    | 2017-05-23 11:50:00                                                    | 2017-05-23 12:55:00                                                    | ...                                                                    | GOVERNADOR JOSÉ RICHA                                                  | LONDRINA                                                               | PR                                                                     | BRASIL                                                                 | AMERICA DO SUL                                                         | Vôo Regular                                                            | GOL                                                                    | BRASILEIRA                                                             | NA                                                                     | Cargueiro                                                              | \n",
       "| C                                                                      |                                                                        | GLO                                                                    | 0                                                                      | SBGL                                                                   | SBNF                                                                   | 2151                                                                   | 2017-12-09 06:15:00                                                    | 2017-12-09 06:15:00                                                    | 2017-12-09 07:40:00                                                    | ...                                                                    | AEROPORTO INTERNACIONAL DO RIO DE JANEIRO/GALEÃO  ANTONIO CARLOS JOBIM | RIO DE JANEIRO                                                         | RJ                                                                     | BRASIL                                                                 | AMERICA DO SUL                                                         | Vôo Regular                                                            | GOL                                                                    | BRASILEIRA                                                             | NA                                                                     | Cargueiro                                                              | \n",
       "\n",
       "\n"
      ],
      "text/plain": [
       "  codigo_tipo_linha cod_justificativa icao_empresa codigo_di icao_destino\n",
       "1 C                                   GLO          0         SBCF        \n",
       "2 C                                   GLO          0         SBGL        \n",
       "3 C                                   GLO          0         SBGO        \n",
       "4 C                 MX                LTG          0         SBEG        \n",
       "5 C                                   GLO          0         SBLO        \n",
       "6 C                                   GLO          0         SBGL        \n",
       "  icao_origem voo  partida_prevista    partida_real        chegada_prevista   \n",
       "1 SBSV        1833 2017-12-07 22:35:00 2017-12-07 22:35:00 2017-12-08 00:15:00\n",
       "2 SBKP        1993 2017-01-09 20:05:00 2017-01-09 20:05:00 2017-01-09 21:10:00\n",
       "3 SBSP        1428 2017-09-10 10:25:00 2017-09-10 10:25:00 2017-09-10 12:00:00\n",
       "4 SBBE        6578 2017-02-11 19:55:00 2017-02-11 21:24:00 2017-02-11 21:55:00\n",
       "5 SBSP        1164 2017-05-23 11:50:00 2017-05-23 11:50:00 2017-05-23 12:55:00\n",
       "6 SBNF        2151 2017-12-09 06:15:00 2017-12-09 06:15:00 2017-12-09 07:40:00\n",
       "  ... destino_descricao                                                     \n",
       "1 ... TANCREDO NEVES                                                        \n",
       "2 ... AEROPORTO INTERNACIONAL DO RIO DE JANEIRO/GALEÃO  ANTONIO CARLOS JOBIM\n",
       "3 ... SANTA GENOVEVA                                                        \n",
       "4 ... EDUARDO GOMES                                                         \n",
       "5 ... GOVERNADOR JOSÉ RICHA                                                 \n",
       "6 ... AEROPORTO INTERNACIONAL DO RIO DE JANEIRO/GALEÃO  ANTONIO CARLOS JOBIM\n",
       "  destino_cidade destino_uf destino_pais destino_continente descricao_codigo_di\n",
       "1 CONFINS        MG         BRASIL       AMERICA DO SUL     Vôo Regular        \n",
       "2 RIO DE JANEIRO RJ         BRASIL       AMERICA DO SUL     Vôo Regular        \n",
       "3 GOIANIA        GO         BRASIL       AMERICA DO SUL     Vôo Regular        \n",
       "4 MANAUS         AM         BRASIL       AMERICA DO SUL     Vôo Regular        \n",
       "5 LONDRINA       PR         BRASIL       AMERICA DO SUL     Vôo Regular        \n",
       "6 RIO DE JANEIRO RJ         BRASIL       AMERICA DO SUL     Vôo Regular        \n",
       "  empresa nacionalidade descricao_justificativa         tipo_linha\n",
       "1 GOL     BRASILEIRA    NA                              Cargueiro \n",
       "2 GOL     BRASILEIRA    NA                              Cargueiro \n",
       "3 GOL     BRASILEIRA    NA                              Cargueiro \n",
       "4 ABSA    BRASILEIRA    ATRASOS NÃO ESPECÍFICOS  OUTROS Cargueiro \n",
       "5 GOL     BRASILEIRA    NA                              Cargueiro \n",
       "6 GOL     BRASILEIRA    NA                              Cargueiro "
      ]
     },
     "metadata": {},
     "output_type": "display_data"
    }
   ],
   "source": [
    "head(vrawu17)"
   ]
  },
  {
   "cell_type": "code",
   "execution_count": 14,
   "metadata": {
    "hidden": true,
    "scrolled": true
   },
   "outputs": [
    {
     "data": {
      "image/png": "[encoded data removed]",
      "text/plain": [
       "plot without title"
      ]
     },
     "metadata": {},
     "output_type": "display_data"
    }
   ],
   "source": [
    "plot_missing(vrawu17)"
   ]
  },
  {
   "cell_type": "code",
   "execution_count": 15,
   "metadata": {
    "code_folding": [
     0
    ],
    "hidden": true
   },
   "outputs": [
    {
     "data": {
      "image/png": "[encoded data removed]",
      "text/plain": [
       "plot without title"
      ]
     },
     "metadata": {},
     "output_type": "display_data"
    }
   ],
   "source": [
    "#Tratando dados\n",
    "fl17 <- vrawu17\n",
    "'%!in%' <- function(x,y)!('%in%'(x,y))\n",
    "\n",
    "#Filtrando atrasos com mais de 15 min (partida e chegada)#Filtra \n",
    "fl17 <- fl17[fl17$atraso_partida > 15 & fl17$atraso_chegada > 15 & fl17$atraso_partida > 240 & fl17$atraso_chegada > 240,]\n",
    "\n",
    "#Agregando para \"outros\"\n",
    "fl17[which(fl17$icao_empresa %!in% c(names(sort(table(fl17$icao_empresa), decreasing=T)[1:15]))),]$icao_empresa <- \"OUTRAS\"\n",
    "fl17[which(fl17$icao_origem %!in% c(names(sort(table(fl17$icao_origem), decreasing=T)[1:15]))),]$icao_origem <- \"OUTRAS\"\n",
    "fl17[which(fl17$icao_destino %!in% c(names(sort(table(fl17$icao_destino), decreasing=T)[1:15]))),]$icao_destino <- \"OUTROS\"\n",
    "fl17[which(fl17$destino_cidade %!in% c(names(sort(table(fl17$destino_cidade), decreasing=T)[1:15]))),]$destino_cidade <- \"OUTROS\"\n",
    "fl17[which(fl17$destino_descricao %!in% c(names(sort(table(fl17$destino_descricao), decreasing=T)[1:15]))),]$destino_descricao <- \"OUTROS\"\n",
    "fl17[which(fl17$empresa %!in% c(names(sort(table(fl17$empresa), decreasing=T)[1:15]))),]$empresa <- \"OUTROS\"\n",
    "fl17[which(fl17$origem_descricao %!in% c(names(sort(table(fl17$origem_descricao), decreasing=T)[1:15]))),]$origem_descricao <- \"OUTROS\"\n",
    "fl17[which(fl17$origem_cidade %!in% c(names(sort(table(fl17$origem_cidade), decreasing=T)[1:15]))),]$origem_cidade <- \"OUTROS\"\n",
    "\n",
    "\n",
    "#Convertendo datas\n",
    "fl17$timekey_partida <- strptime(fl17$timekey_partida, '%Y%m%d%H%M')\n",
    "fl17$timekey_chegada <- strptime(fl17$timekey_chegada, '%Y%m%d%H%M')\n",
    "#fl17$origem_data <- as.Date(fl17$origem_data)\n",
    "#fl17$destino_data <- as.Date(fl17$destino_data)\n",
    "\n",
    "plot_histogram(fl17[c(\"origem_temperatura\", \"destino_temperatura\",\"origem_umidade\", \"destino_umidade\")])\n",
    "\n",
    "#rm(fl17,BarDiscrete,HistogramContinuous,plot_bar,plot_histogram,plot_missing,PlotMissing,split_columns,SplitColType)"
   ]
  },
  {
   "cell_type": "markdown",
   "metadata": {
    "heading_collapsed": true
   },
   "source": [
    "##  Analisando os atrasos de partida"
   ]
  },
  {
   "cell_type": "markdown",
   "metadata": {
    "hidden": true
   },
   "source": [
    "Para esta análise utilizaremos atrasos, de voos realizados, em um intervalo de 15m até 4h, pois são os atrasos mais comuns, os maiores que 4 horas apresentão consequências mais severas as empresas de aviação, de acordo com a ANAC as empresas tem que tomar as seguintes providências:\n",
    "\n",
    "> - **A partir de 1 hora**: comunicação (internet, telefonemas, etc).\n",
    ">- **A partir de 2 horas**: alimentação (voucher, lanche, bebidas, etc).\n",
    ">- **A partir de 4 horas**: acomodação ou hospedagem (se for o caso) e transporte do aeroporto ao local de acomodação. Se você estiver no local de seu domicílio, a empresa poderá oferecer apenas o transporte para sua residência e desta para o aeroporto.\n",
    "\n",
    "\n",
    "> **O passageiro pode solicitar reembolso quando ocorrer:**\n",
    "> - a) Atraso do voo por mais de quatro horas;\n",
    "\n",
    "Consideraremos atraso como sendo maior que 15 minutos, internacionalmente é o que praticado\n",
    "\n",
    "Fonte: http://www.anac.gov.br/assuntos/passageiros/atrasos-cancelamento-e-pretericao-de-embarque"
   ]
  },
  {
   "cell_type": "code",
   "execution_count": 16,
   "metadata": {
    "code_folding": [
     0
    ],
    "hidden": true,
    "scrolled": true
   },
   "outputs": [],
   "source": [
    "# Tratamento dos dados\n",
    "atrasos = vrawu17[vrawu17$atraso_partida >15 & \n",
    "                  vrawu17$atraso_partida <240 & \n",
    "                  vrawu17$situacao_voo==\"REALIZADO\" &\n",
    "                  !is.na(vrawu17$icao_origem),]\n",
    "\n",
    "#carregando dados dos aeroportos\n",
    "library(data.table)\n",
    "library(dplyr) #select %>%\n",
    "airport = fread('dataset/aeroportos/airports_simplified.csv')"
   ]
  },
  {
   "cell_type": "markdown",
   "metadata": {
    "heading_collapsed": true,
    "hidden": true
   },
   "source": [
    "#### Top 5 aeroportos em contagem de atrasos de partida no brasil"
   ]
  },
  {
   "cell_type": "code",
   "execution_count": 17,
   "metadata": {
    "code_folding": [
     0
    ],
    "hidden": true
   },
   "outputs": [
    {
     "data": {
      "text/html": [
       "<table>\n",
       "<thead><tr><th></th><th scope=col>icao_origem</th><th scope=col>qnt_atrasados</th><th scope=col>qnt_voos</th><th scope=col>relacao_atrasado</th><th scope=col>name</th></tr></thead>\n",
       "<tbody>\n",
       "\t<tr><th scope=row>19</th><td>SBGR                                                              </td><td>16773                                                             </td><td>90611                                                             </td><td>0.1851100                                                         </td><td>Guarulhos - Governador AndrÃ© Franco Montoro International Airport</td></tr>\n",
       "\t<tr><th scope=row>47</th><td>SBSP                                                              </td><td>13445                                                             </td><td>89210                                                             </td><td>0.1507118                                                         </td><td>Congonhas Airport                                                 </td></tr>\n",
       "\t<tr><th scope=row>4</th><td>SBBR                                                              </td><td> 7639                                                             </td><td>61436                                                             </td><td>0.1243408                                                         </td><td>Presidente Juscelino Kubistschek International Airport            </td></tr>\n",
       "\t<tr><th scope=row>42</th><td>SBRJ                                                              </td><td> 5125                                                             </td><td>49176                                                             </td><td>0.1042175                                                         </td><td>Santos Dumont Airport                                             </td></tr>\n",
       "\t<tr><th scope=row>26</th><td>SBKP                                                              </td><td> 5142                                                             </td><td>48061                                                             </td><td>0.1069890                                                         </td><td>Viracopos International Airport                                   </td></tr>\n",
       "\t<tr><th scope=row>6</th><td>SBCF                                                              </td><td> 4936                                                             </td><td>46819                                                             </td><td>0.1054273                                                         </td><td>Tancredo Neves International Airport                              </td></tr>\n",
       "</tbody>\n",
       "</table>\n"
      ],
      "text/latex": [
       "\\begin{tabular}{r|lllll}\n",
       "  & icao\\_origem & qnt\\_atrasados & qnt\\_voos & relacao\\_atrasado & name\\\\\n",
       "\\hline\n",
       "\t19 & SBGR                                                               & 16773                                                              & 90611                                                              & 0.1851100                                                          & Guarulhos - Governador AndrÃ© Franco Montoro International Airport\\\\\n",
       "\t47 & SBSP                                                               & 13445                                                              & 89210                                                              & 0.1507118                                                          & Congonhas Airport                                                 \\\\\n",
       "\t4 & SBBR                                                               &  7639                                                              & 61436                                                              & 0.1243408                                                          & Presidente Juscelino Kubistschek International Airport            \\\\\n",
       "\t42 & SBRJ                                                               &  5125                                                              & 49176                                                              & 0.1042175                                                          & Santos Dumont Airport                                             \\\\\n",
       "\t26 & SBKP                                                               &  5142                                                              & 48061                                                              & 0.1069890                                                          & Viracopos International Airport                                   \\\\\n",
       "\t6 & SBCF                                                               &  4936                                                              & 46819                                                              & 0.1054273                                                          & Tancredo Neves International Airport                              \\\\\n",
       "\\end{tabular}\n"
      ],
      "text/markdown": [
       "\n",
       "| <!--/--> | icao_origem | qnt_atrasados | qnt_voos | relacao_atrasado | name | \n",
       "|---|---|---|---|---|---|\n",
       "| 19 | SBGR                                                               | 16773                                                              | 90611                                                              | 0.1851100                                                          | Guarulhos - Governador AndrÃ© Franco Montoro International Airport | \n",
       "| 47 | SBSP                                                               | 13445                                                              | 89210                                                              | 0.1507118                                                          | Congonhas Airport                                                  | \n",
       "| 4 | SBBR                                                               |  7639                                                              | 61436                                                              | 0.1243408                                                          | Presidente Juscelino Kubistschek International Airport             | \n",
       "| 42 | SBRJ                                                               |  5125                                                              | 49176                                                              | 0.1042175                                                          | Santos Dumont Airport                                              | \n",
       "| 26 | SBKP                                                               |  5142                                                              | 48061                                                              | 0.1069890                                                          | Viracopos International Airport                                    | \n",
       "| 6 | SBCF                                                               |  4936                                                              | 46819                                                              | 0.1054273                                                          | Tancredo Neves International Airport                               | \n",
       "\n",
       "\n"
      ],
      "text/plain": [
       "   icao_origem qnt_atrasados qnt_voos relacao_atrasado\n",
       "19 SBGR        16773         90611    0.1851100       \n",
       "47 SBSP        13445         89210    0.1507118       \n",
       "4  SBBR         7639         61436    0.1243408       \n",
       "42 SBRJ         5125         49176    0.1042175       \n",
       "26 SBKP         5142         48061    0.1069890       \n",
       "6  SBCF         4936         46819    0.1054273       \n",
       "   name                                                              \n",
       "19 Guarulhos - Governador AndrÃ© Franco Montoro International Airport\n",
       "47 Congonhas Airport                                                 \n",
       "4  Presidente Juscelino Kubistschek International Airport            \n",
       "42 Santos Dumont Airport                                             \n",
       "26 Viracopos International Airport                                   \n",
       "6  Tancredo Neves International Airport                              "
      ]
     },
     "metadata": {},
     "output_type": "display_data"
    }
   ],
   "source": [
    "# Ordenando por atraso\n",
    "library(dplyr) #%>%\n",
    "vw_g = atrasos[c(\"icao_origem\")]\n",
    "vw_g = vw_g %>% group_by(icao_origem) %>% summarize(Count = n())\n",
    "vw_g = vw_g[rowSums(is.na(vw_g))==0,] \n",
    "names(vw_g)[names(vw_g) == 'Count'] = 'qnt_atrasados'\n",
    "\n",
    "vw_t = vrawu17[c(\"icao_origem\")]\n",
    "vw_t = vw_t %>% group_by(icao_origem) %>% summarize(Count = n())\n",
    "vw_t = vw_t[rowSums(is.na(vw_t))==0,] \n",
    "names(vw_t)[names(vw_t) == 'Count'] = 'qnt_voos'\n",
    "\n",
    "vw = merge( vw_g, vw_t, by.x = \"icao_origem\", by.y = \"icao_origem\")\n",
    "vw$relacao_atrasado = vw_g$qnt_atrasados/vw_t$qnt_voos\n",
    "vw = merge( vw, airport[,c(\"ICAO\",\"name\")], by.x = \"icao_origem\", by.y = \"ICAO\")\n",
    "\n",
    "head(vw[order(-vw$qnt_voos),])\n",
    "#rm(vw_g, vw_t, vw)"
   ]
  },
  {
   "cell_type": "markdown",
   "metadata": {
    "heading_collapsed": true,
    "hidden": true
   },
   "source": [
    "##### Atrasos no aeroporto de guarulhos"
   ]
  },
  {
   "cell_type": "markdown",
   "metadata": {
    "hidden": true
   },
   "source": [
    "Era de se esperar que o aeroporto de guarulhos 'SBGR' tenha a maior quantidades de atrasos visto que é o maior também em quantidade de voos. Iremos dar aqui um destaque maior para este em específico."
   ]
  },
  {
   "cell_type": "code",
   "execution_count": 18,
   "metadata": {
    "code_folding": [
     0
    ],
    "hidden": true
   },
   "outputs": [
    {
     "data": {
      "image/png": "[encoded data removed]",
      "text/plain": [
       "plot without title"
      ]
     },
     "metadata": {},
     "output_type": "display_data"
    }
   ],
   "source": [
    "# Tratamento dos dados\n",
    "x = atrasos$partida_real\n",
    "y = atrasos$atraso_partida\n",
    "plot(x,y,pch=16 , cex=0.3, ylab='Atraso (min)', xlab='2017')"
   ]
  },
  {
   "cell_type": "markdown",
   "metadata": {
    "hidden": true
   },
   "source": [
    "Podemos notar neste gráfico que existe uma concentração maior no período de férias escolares, entre dezembro e fevereiro. Também é interessante notar algumas 'linhas' em datas específicas, isso pode ser explciado com algum feríado ou possívelmente algum problema que tenha ocorrido no aeroporto. Ex:\n",
    "\n",
    " - Final de ferereiro - onde acontece o carnaval (dia 28), \n",
    " - Final de abril que pode ser explicado pelo dia do trabalhador em primeiro de maio (segunda feira)"
   ]
  },
  {
   "cell_type": "markdown",
   "metadata": {
    "heading_collapsed": true,
    "hidden": true
   },
   "source": [
    "#### Histograma de atrasos de partida"
   ]
  },
  {
   "cell_type": "code",
   "execution_count": 18,
   "metadata": {
    "code_folding": [
     0
    ],
    "hidden": true
   },
   "outputs": [
    {
     "data": {
      "image/png": "[encoded data removed]",
      "text/plain": [
       "Plot with title \"Voos atrasados\""
      ]
     },
     "metadata": {},
     "output_type": "display_data"
    }
   ],
   "source": [
    "# Tratamento dos dados\n",
    "hist(as.numeric(atrasos$atraso_partida)\n",
    "     ,breaks=seq(15,240,15)\n",
    "     ,ylim=c(0,0.04)\n",
    "     ,xlim=c(0,250)\n",
    "     ,xlab=\"atraso (min)\"\n",
    "     ,main=\"Voos atrasados\"\n",
    "     ,freq=FALSE\n",
    "     )"
   ]
  },
  {
   "cell_type": "markdown",
   "metadata": {
    "heading_collapsed": true,
    "hidden": true
   },
   "source": [
    "#### Histograma de horas mais comuns de voos com atraso"
   ]
  },
  {
   "cell_type": "code",
   "execution_count": 19,
   "metadata": {
    "code_folding": [
     0
    ],
    "hidden": true
   },
   "outputs": [
    {
     "data": {
      "image/png": "[encoded data removed]",
      "text/plain": [
       "Plot with title \"Hora mais frequente de partida\""
      ]
     },
     "metadata": {},
     "output_type": "display_data"
    }
   ],
   "source": [
    "# Tratamento dos dados\n",
    "col = rep(rainbow(4), each=6)\n",
    "deh = as.POSIXlt(atrasos$partida_prevista)\n",
    "h=hist(deh$hour+deh$min/60\n",
    "     ,breaks=seq(0, 24, 1)\n",
    "     ,xlim=c(0,25)\n",
    "     ,xlab=\"Hora do dia\"\n",
    "     ,ylim=c(0,0.08)\n",
    "     ,main=\"Hora mais frequente de partida\"\n",
    "     ,freq=FALSE\n",
    "     ,col = col\n",
    "     )\n",
    "rm(deh)"
   ]
  },
  {
   "cell_type": "markdown",
   "metadata": {
    "heading_collapsed": true,
    "hidden": true
   },
   "source": [
    "#### Horas do dia com maior atraso"
   ]
  },
  {
   "cell_type": "markdown",
   "metadata": {
    "hidden": true
   },
   "source": [
    "Para essa análise foi usado os dados inclusive que tiveram atraso, apenas foi retirado os voos adiantados (atraso negativo), pois essa análise tem como objetivo encontrar quais horários são mais propensos a atraso, para entender qual horário deve ser evitado pelo passageiro na hora de comprar uma passagem.\n",
    "\n",
    "A fim de evitar atrasos tentamos entender melhor qual hora do dia os voos costumam atrasar mais, para isso pegamos os horários de partida previsto e verificamos em média quanto tempo voos nessa hora costumam atrasar\n",
    "\n",
    "Este grráfico é complementar ao anterior, podemos perceber pelo anterior que existe uma maior concentração de atrasos no voos após as 6 horas da manhã, porém pelo próximo gráfico vemos que apesar da quantidade elevada de atrasos os atrasos em sí são pequenos, diferente do periodo da madrugada, que tem poucos atrasos porém com grandes atrasos."
   ]
  },
  {
   "cell_type": "code",
   "execution_count": 54,
   "metadata": {
    "code_folding": [
     0
    ],
    "hidden": true
   },
   "outputs": [
    {
     "data": {
      "image/png": "[encoded data removed]",
      "text/plain": [
       "plot without title"
      ]
     },
     "metadata": {},
     "output_type": "display_data"
    }
   ],
   "source": [
    "# Tratamento dos dados\n",
    "library(dplyr) #%>%\n",
    "d_h = vrawu17[,c('partida_prevista','atraso_partida')]\n",
    "d_h = d_h[rowSums(is.na(d_h))==0,]\n",
    "d_h = d_h[d_h$atraso_partida>=0,]\n",
    "\n",
    "d_h$por_hora_tempo_partida = as.integer(format(d_h$partida_prevista, \"%H\"))\n",
    "d_h = d_h %>% group_by(por_hora_tempo_partida) %>% summarize(avg = mean(atraso_partida))\n",
    "\n",
    "barplot(as.numeric(d_h$avg),names.arg=seq(0,23,1), ylim=c(0,30), ylab='Atraso médio (min)',xlab = 'Hora de previsão de partida',col = col)\n",
    "rm(d_h)"
   ]
  },
  {
   "cell_type": "markdown",
   "metadata": {
    "heading_collapsed": true,
    "hidden": true
   },
   "source": [
    "#### Dia da semana com maior atraso"
   ]
  },
  {
   "cell_type": "code",
   "execution_count": 56,
   "metadata": {
    "code_folding": [
     0
    ],
    "hidden": true
   },
   "outputs": [
    {
     "data": {
      "image/png": "[encoded data removed]",
      "text/plain": [
       "plot without title"
      ]
     },
     "metadata": {},
     "output_type": "display_data"
    }
   ],
   "source": [
    "# Tratamento dos dados\n",
    "library(dplyr) #%>%\n",
    "d_h = vrawu17[,c('partida_prevista','atraso_partida')]\n",
    "d_h = d_h[rowSums(is.na(d_h))==0,]\n",
    "d_h = d_h[d_h$atraso_partida>=0,]\n",
    "d_h$partida_prevista= as.POSIXct(d_h$partida_prevista)\n",
    "\n",
    "d_h$por_diaSem_tempo_partida = format(d_h$partida_prevista, \"%a\")\n",
    "d_h = d_h %>% group_by(por_diaSem_tempo_partida) %>% summarize(avg = mean(atraso_partida))\n",
    "\n",
    "a=c('seg','ter','qua','qui','sex','sáb','dom')\n",
    "d_h=d_h[order(match(d_h$por_diaSem_tempo_partida, a)),] #ordenando por dia de semana\n",
    "\n",
    "barplot(as.numeric(d_h$avg), \n",
    "    names.arg=a, \n",
    "    ylim=c(0,15), \n",
    "    ylab='Atraso médio (min)',\n",
    "    xlab = 'Hora de previsão de partida')\n",
    "\n",
    "rm(d_h)\n",
    "rm(a,col,h,x,y,airport,atrasos,BarDiscrete,aerodromos,'%!in%',destinos,empresas,fl17,HistogramContinuous,origens,plot_bar,plot_histogram,plot_missing,PlotMissing,split_columns,SplitColType,tipo_linha,vw,vw_g,vw_t)"
   ]
  },
  {
   "cell_type": "markdown",
   "metadata": {},
   "source": [
    "## Analisando condições meteorológicas"
   ]
  },
  {
   "cell_type": "markdown",
   "metadata": {
    "heading_collapsed": true
   },
   "source": [
    "### Relação de voos cancelados e atrasados"
   ]
  },
  {
   "cell_type": "markdown",
   "metadata": {
    "hidden": true
   },
   "source": [
    "Quais aeroportos atrasam/cancelam mais voos devido a condções meteorológicas?"
   ]
  },
  {
   "cell_type": "code",
   "execution_count": 59,
   "metadata": {
    "code_folding": [
     0
    ],
    "hidden": true,
    "scrolled": true
   },
   "outputs": [
    {
     "data": {
      "image/png": "[encoded data removed]",
      "text/plain": [
       "plot without title"
      ]
     },
     "metadata": {},
     "output_type": "display_data"
    }
   ],
   "source": [
    "# Aeródromos\n",
    "aerop = count(vrawu17, icao_origem)\n",
    "\n",
    "# Tabela temporaria com detalhes de aerportos\n",
    "aerop = filter(aerop, n > 1460)\n",
    "# Prepara rótulos mais apropriados para o gráfico\n",
    "temp = select(vrawu17, icao_origem, origem_cidade, origem_descricao)\n",
    "temp = unique(temp)\n",
    "temp$aerop = substr(paste(temp$origem_cidade, \" - \", temp$origem_descricao), 1, 40)\n",
    "# Troca o código pelo nome \n",
    "aerop = merge(x = aerop, y = temp, all.x = TRUE)\n",
    "aerop = select(aerop, icao_origem, aerop, n)\n",
    "colnames(aerop) = c(\"Código\", \"Aeroporto\", \"Voos\")\n",
    "# Exibe o gráfico\n",
    "#ggplot(aerop, aes(x=reorder(Aeroporto,Voos,sum ) , y=Voos)) + geom_bar(show.legend = TRUE, stat = \"identity\") + coord_flip()\n",
    "# (não foi possivel usar o Data Explorer pois há mais de 50 categorias na variável)\n",
    "rm(temp)\n",
    "\n",
    "# Filtrar o dataset\n",
    "vrawu17a = vrawu17 %>% \n",
    "     filter(icao_origem %in% aerop$`Código`) %>%\n",
    "     filter(icao_destino %in% aerop$`Código`)\n",
    "\n",
    "\n",
    "# apenas os registros de cancelamento/atraso relacionados ao clima\n",
    "# normativa IAC-1504\n",
    "# http://www.anac.gov.br/assuntos/legislacao/legislacao-1/iac-e-is/iac/iac-1504/@@display-file/arquivo_norma/IAC1504.pdf\n",
    "justificativas = select(vrawu17a, cod_justificativa, descricao_justificativa)\n",
    "justificativas = unique(justificativas)\n",
    "justificativas = na.exclude(justificativas)\n",
    "justmeteorologicas = filter(justificativas, cod_justificativa %in% c(\"WO\", \"WI\", \"WR\", \"WS\", \"WT\", \"WA\", \"XO\", \"XS\", \"XT\", \"AM\", \"RM\"))\n",
    "\n",
    "# Cria coluna target, que identifica os atrasos ou cancelamentos provocados por eventos meteorológicos\n",
    "target = ifelse(vrawu17a$cod_justificativa %in% justmeteorologicas$cod_justificativa, 1, 0)\n",
    "vrawu17a = cbind(vrawu17a, target)\n",
    "\n",
    "# Cria coluna target_ori, que identifica os atrasos ou cancelamentos provocados por eventos meteorológicos no aeroporto de origem\n",
    "justMeteorOrigem = filter(justificativas, cod_justificativa %in% c(\"WO\", \"XO\"))\n",
    "target_ori = ifelse(vrawu17a$cod_justificativa %in% justMeteorOrigem$cod_justificativa, 1, 0)\n",
    "vrawu17a = cbind(vrawu17a, target_ori)\n",
    "\n",
    "# Ordena os aeroportos por percentual de atrasos\n",
    "ranking_aerop_atrasos  = \n",
    "  vrawu17a %>% \n",
    "    group_by(icao_origem) %>% \n",
    "    count(target_ori) %>% \n",
    "    spread(target_ori, n) %>% \n",
    "    mutate(perc = `1`/`0`)\n",
    "\n",
    "# Recupera os nomes dos aeroportos e classifica\n",
    "ranking_aerop_atrasos = merge(x=ranking_aerop_atrasos, y = aerop, by.x = \"icao_origem\", by.y = \"Código\", all.x = TRUE)\n",
    "ranking_aerop_atrasos =ranking_aerop_atrasos %>% select(icao_origem, Aeroporto, `0`, `1`, Voos, perc) %>% arrange(desc(perc))\n",
    "\n",
    "# Exibe o gráfico\n",
    "# Exibe o gráfico\n",
    "g = ggplot(ranking_aerop_atrasos, aes(x=reorder(Aeroporto,perc,sum ) , y=perc*100)) + \n",
    "    geom_bar(show.legend = TRUE, stat = \"identity\") +\n",
    "    coord_flip()\n",
    "g = g + ggtitle(\"Percentual de cancelamentos/atrasos\", subtitle=\"devido a condições meteorológicas\") +\n",
    "        xlab(\"Aeroporto\") +\n",
    "        ylab(\"% cancelamentos/atrasos\")\n",
    "plot(g)\n",
    "\n",
    "rm(aerop,g,justmeteorologicas,justMeteorOrigem,ranking_aerop_atrasos,target,target_ori,vrawu17a)"
   ]
  },
  {
   "cell_type": "markdown",
   "metadata": {
    "heading_collapsed": true,
    "hidden": true
   },
   "source": [
    "#### Correlação de condições climáticas"
   ]
  },
  {
   "cell_type": "code",
   "execution_count": 122,
   "metadata": {
    "code_folding": [
     0
    ],
    "hidden": true
   },
   "outputs": [
    {
     "data": {
      "image/png": "[encoded data removed]",
      "text/plain": [
       "plot without title"
      ]
     },
     "metadata": {},
     "output_type": "display_data"
    },
    {
     "data": {
      "image/png": "[encoded data removed]",
      "text/plain": [
       "plot without title"
      ]
     },
     "metadata": {},
     "output_type": "display_data"
    },
    {
     "data": {
      "image/png": "[encoded data removed]",
      "text/plain": [
       "plot without title"
      ]
     },
     "metadata": {},
     "output_type": "display_data"
    }
   ],
   "source": [
    "# Tratamento dos dados\n",
    "source(\"https://raw.githubusercontent.com/jcolares/DM2018/master/Jeff/myGraphics.R\")\n",
    "library(RColorBrewer)\n",
    "\n",
    "atrasos = vrawu17[vrawu17$atraso_partida >=15  & vrawu17$atraso_partida <= 240,]\n",
    "options(repr.plot.width=4, repr.plot.height=3)\n",
    "#qqplot(atrasos$atraso_partida, atrasos$origem_visibilidade)\n",
    "#fm <- lm(atrasos$atraso_partida ~ atrasos$origem_visibilidade)\n",
    "#abline(coef(fm), lty=4)\n",
    "\n",
    "options(repr.plot.width=4, repr.plot.height=3)\n",
    "qqplot(atrasos$atraso_partida, atrasos$origem_pressao)\n",
    "fm <- lm(atrasos$atraso_partida ~ atrasos$origem_pressao)\n",
    "abline(coef(fm), lty=4)\n",
    "\n",
    "options(repr.plot.width=4, repr.plot.height=3)\n",
    "qqplot(atrasos$atraso_partida, atrasos$origem_dew_point)\n",
    "fm <- lm(atrasos$atraso_partida ~ atrasos$origem_dew_point)\n",
    "abline(coef(fm), lty=4)\n",
    "\n",
    "options(repr.plot.width=4, repr.plot.height=3)\n",
    "qqplot(atrasos$atraso_partida, atrasos$origem_temperatura)\n",
    "fm <- lm(atrasos$atraso_partida ~ atrasos$origem_temperatura)\n",
    "abline(coef(fm), lty=4)\n",
    "\n",
    "rm(atrasos,fm,justificativas,loadlibrary,plot.bar,plot.boxplot,plot.density,plot.hist,plot.pieplot,plot.series,plot.stackedbar,prepare.pieplot)"
   ]
  },
  {
   "cell_type": "markdown",
   "metadata": {},
   "source": [
    "### Classificação dos aeroportos"
   ]
  },
  {
   "cell_type": "markdown",
   "metadata": {},
   "source": [
    "Quais são as combinações de condições meteorológicas que ocorrem com maior frequencia durante os atrasos?\n",
    "Para isso faremos 3 cenários descritos abaixo, em cada um deles será comparado algumas carcaterísticas dos voos que não tiveram atraso para os voos que tiveram atraso devido a condições climáticas\n",
    "\n",
    "    A) Aeroportos com maior movimento\n",
    "    B) Aeroportos com mais atrasos(absolutos)\n",
    "    C) Aeroportos com mais atrasos (proporcionais)\n",
    "    \n",
    "Obs: Para essa análise era ideal que tivesse a maior quantidade de dados então foi utilizado o dataset a partir do ano de 2014, e não só o de 2017 como no resto do trabalho"
   ]
  },
  {
   "cell_type": "code",
   "execution_count": 73,
   "metadata": {
    "code_folding": [
     0
    ]
   },
   "outputs": [],
   "source": [
    "## Exploratory Data Analysis\n",
    "\n",
    "                                                                                                                                                                                                                                                                                                                                                                                                                                                                                                                                                                                                                                                                                                                                                                                                                                                                                                                                                                                        \n",
    "library(dplyr)\n",
    "library(lubridate)\n",
    "\n",
    "load(\"dataset/vra-wu.RData\")\n",
    "\n",
    "source(\"https://raw.githubusercontent.com/jcolares/DM2018/master/Jeff/myGraphics.R\")\n",
    "loadlibrary(\"gridExtra\")\n",
    "\n",
    "miColores=c(\"#c7e9c0\",\"#a1d99b\",\"#74c476\",\"#41ab5d\",\"#238b45\",\n",
    "          \"#c6dbef\",\"#9ecae1\",\"#6baed6\",\"#4292c6\",\"#2171b5\",\n",
    "          \"#fcbba1\",\"#fc9272\",\"#fb6a4a\",\"#ef3b2c\",\"#cb181d\",\n",
    "          \"#fdd0a2\",\"#fdae6b\",\"#fd8d3c\",\"#f16913\",\"#d94801\")"
   ]
  },
  {
   "cell_type": "code",
   "execution_count": 100,
   "metadata": {
    "code_folding": [
     0
    ]
   },
   "outputs": [],
   "source": [
    "## DATA PREPARATION ###\n",
    "# Ajustes de tipos de variáveis\n",
    "#vra_wu$depart_expect = as.POSIXct(vra_wu$depart_expect)\n",
    "#vra_wu$depart = as.POSIXct(vra_wu$depart)\n",
    "#vra_wu$arrival_expect = as.POSIXct(vra_wu$arrival_expect)\n",
    "#vra_wu$arrival = as.POSIXct(vra_wu$arrival)\n",
    "vra_wu$origin = as.character(vra_wu$origin)\n",
    "vra_wu$flight = as.character(vra_wu$flight)\n",
    "vra_wu$status = as.character(vra_wu$status)\n",
    "vra_wu$observation = as.character(vra_wu$observation)\n",
    "\n",
    "vra_wu$arrival_expect = as.character(vra_wu$arrival_expect)\n",
    "vra_wu$arrival = as.character(vra_wu$arrival)\n",
    "vra_wu$depart_expect  = as.character(vra_wu$depart_expect)\n",
    "vra_wu$depart = as.character(vra_wu$depart)\n",
    "\n",
    "# Apenas os voos entre aeroportos brasileiros\n",
    "# (O prefixo icao \"SB\" identifica os aeroportos do Brasil)\n",
    "vra_wu = vra_wu %>% filter(substr(vra_wu$origin, 1,2)==\"SB\" & substr(vra_wu$destiny, 1,2)==\"SB\" )"
   ]
  },
  {
   "cell_type": "code",
   "execution_count": 101,
   "metadata": {
    "code_folding": [
     0
    ],
    "collapsed": true
   },
   "outputs": [
    {
     "name": "stderr",
     "output_type": "stream",
     "text": [
      "Selecting by n\n",
      "Selecting by n\n",
      "Selecting by prop\n"
     ]
    }
   ],
   "source": [
    "# Seleção de:\n",
    "# a) Aeroportos com mais movimento\n",
    "top20_icao = vra_wu %>% count(origin) %>% top_n(20) %>% arrange(desc(n))\n",
    "# b) Aeroportos com mais atrasos\n",
    "top20_icao_atrasos = vra_wu %>% filter(observation %in% c(\"WO\", \"XO\")) %>% count(origin) %>% top_n(20) %>% arrange(desc(n))\n",
    "t1 =  vra_wu %>% count(origin) \n",
    "t2 =  vra_wu %>% filter(observation %in% c(\"WO\", \"XO\")) %>% count(origin)\n",
    "t3 = merge(x=t1, y=t2, by.x = origin, by.y = origin, all.x = TRUE)\n",
    "# c) Aeroportos com mais atrasos (proporcionalmente à quantidade total de voos)\n",
    "top20_icao_atrasos_prop = t3 %>% mutate(prop = n.y/n.x) %>% select(origin.x, prop) %>% top_n(20) %>% arrange(desc(prop))\n",
    "rm(t1, t2, t3)\n",
    "\n",
    "# Geração do dataframe dadosMet, contendo apenas os as variáveis relevantes para\n",
    "# as análises, a partir de 2014\n",
    "#vra_wu$depart_expect = as.POSIXct(vra_wu$depart_expect)\n",
    "dadosMet = vra_wu %>% \n",
    "  mutate(dif_temp_dew = depart_temperature - depart_dew_point,\n",
    "         atrasometorig = ifelse(observation %in% c(\"WO\", \"XO\"), 1, as.numeric(\"\")) ) %>% \n",
    "  select(origin, flight, depart_expect, departure_delay, status, observation, \n",
    "         depart_temperature, depart_dew_point, dif_temp_dew, depart_humidity, \n",
    "         depart_pressure, depart_visibility, depart_events, depart_conditions,\n",
    "         atrasometorig) %>% \n",
    "  filter(year(depart_expect) >= 2014) \n",
    "# Obs: a variavel atrasometorig é um flag que indica se o atraso ou cancelamento foi \n",
    "# causado por razões meteorológicas. \n",
    "# normativa IAC-1504  \n",
    "# http://www.anac.gov.br/assuntos/legislacao/legislacao-1/iac-e-is/iac/iac-1504/@@display-file/arquivo_norma/IAC1504.pdf\n",
    "\n",
    "rm(vra_wu)"
   ]
  },
  {
   "cell_type": "code",
   "execution_count": 102,
   "metadata": {
    "code_folding": [
     0
    ]
   },
   "outputs": [],
   "source": [
    "#Ajustes nos dados\n",
    "\n",
    "# Limites para pressão : de 1000 a 1030\n",
    "dadosMet$depart_pressure = ifelse(dadosMet$depart_pressure >=1030, 1030, dadosMet$depart_pressure)\n",
    "dadosMet$depart_pressure = ifelse(dadosMet$depart_pressure <=1000, 1000, dadosMet$depart_pressure)\n",
    "\n",
    "# Limites para visibilidade : Última faixa é \"10 ou mais milhas\"\n",
    "dadosMet$depart_visibility = ifelse(dadosMet$depart_visibility >=10, 10, dadosMet$depart_visibility)\n",
    "\n",
    "#CHECKPOINT\n",
    "#save(dadosMet, top20_icao, top20_icao_atrasos, top20_icao_atrasos_prop, file = \"datasets/dadosMet.Rdata\")\n",
    "#load(\"datasets/dadosMet.Rdata\")\n",
    "\n",
    "\n",
    "# Análise dos dados meteorológicos\n",
    "# A) nos aeroportos com maiior movimentação\n",
    "# B) nos aeroportos com maior quantidade de atrasos\n",
    "# C) nos aeroportos com maior quantidade proporcional de atrasos\n",
    "\n",
    "# a) em condições normais\n",
    "# b) durante os eventos de atraso/acancelamento"
   ]
  },
  {
   "cell_type": "markdown",
   "metadata": {
    "heading_collapsed": true
   },
   "source": [
    "##### A ) Aeroportos com maior movimento"
   ]
  },
  {
   "cell_type": "code",
   "execution_count": 91,
   "metadata": {
    "code_folding": [
     0
    ],
    "hidden": true
   },
   "outputs": [
    {
     "data": {
      "image/png": "[encoded data removed]",
      "text/plain": [
       "plot without title"
      ]
     },
     "metadata": {},
     "output_type": "display_data"
    }
   ],
   "source": [
    "### A) aeroportos com maior movimento\n",
    "\n",
    "# As análises seguintes contemplam apenas os\n",
    "# 5 aeroportos mais movimentados\n",
    "\n",
    "top5 = top20_icao[1:5,1]  \n",
    "\n",
    "#Gerar os conjunto de dados.  \n",
    "dadosMet5 = dadosMet %>% filter(is.na(atrasometorig)) %>% filter(origin %in% top5$origin)\n",
    "dadosMet5Eventos = dadosMet %>% filter(!is.na(atrasometorig)) %>% filter(origin %in% top5$origin)\n",
    "# a) O dadosMet5 contempla as condições meteorologicas durante voos normais (incl. outros tipos de atraso)\n",
    "# b) O dataframe dadosMet5Eventos contempla apenas as condições meterorologicas nos horarios\n",
    "#    em que ocorreram atrasos/cancelamentos. \n",
    "\n",
    "#HISTOGRAMAS\n",
    "#Temperatura\n",
    "series <- data.frame(variable=dadosMet5$origin, value=dadosMet5$depart_temperature)\n",
    "grfA <- plot.hist(series, colors=miColores[c(1:5)], bin=1, title=\"Temperatura-Todos\")\n",
    "series <- data.frame(variable=dadosMet5Eventos$origin, value=dadosMet5Eventos$depart_temperature)\n",
    "grfB <- plot.hist(series, colors=miColores[c(6:10)], bin=1, title=\"Temperatura-Atrasos/canc\")\n",
    "#DewPoint\n",
    "series <- data.frame(variable=dadosMet5$origin, value=dadosMet5$depart_dew_point)\n",
    "grfC <- plot.hist(series, colors=miColores[c(1:5)], bin=1, title=\"DewPoint-Todos\")\n",
    "series <- data.frame(variable=dadosMet5Eventos$origin, value=dadosMet5Eventos$depart_dew_point)\n",
    "grfD <- plot.hist(series, colors=miColores[c(6:10)], bin=1, title=\"DewPoint-Atrasos/canc\")\n",
    "#Temp-Dew\n",
    "series <- data.frame(variable=dadosMet5$origin, value=dadosMet5$dif_temp_dew)\n",
    "grfE <- plot.hist(series, colors=miColores[c(1:5)], bin=2, title=\"Temp-Dew-Todos\")\n",
    "series <- data.frame(variable=dadosMet5Eventos$origin, value=dadosMet5Eventos$dif_temp_dew)\n",
    "grfF <- plot.hist(series, colors=miColores[c(6:10)], bin=2, title=\"Temp-Dew-Atrasos/canc\")\n",
    "#depart_humidity\n",
    "series <- data.frame(variable=dadosMet5$origin, value=dadosMet5$depart_humidity)\n",
    "grfG <- plot.hist(series, colors=miColores[c(1:5)], bin=4, title=\"Umidade-Todos\")\n",
    "series <- data.frame(variable=dadosMet5Eventos$origin, value=dadosMet5Eventos$depart_humidity)\n",
    "grfH <- plot.hist(series, colors=miColores[c(6:10)], bin=4, title=\"Umidade-Atrasos/canc\")\n",
    "#depart_pressure\n",
    "series <- data.frame(variable=dadosMet5$origin, value=dadosMet5$depart_pressure)\n",
    "grfI <- plot.hist(series, colors=miColores[c(1:5)], bin=2, title=\"Pressão-Todos\")\n",
    "series <- data.frame(variable=dadosMet5Eventos$origin, value=dadosMet5Eventos$depart_pressure)\n",
    "grfJ <- plot.hist(series, colors=miColores[c(6:10)], bin=2, title=\"Pressão-Atrasos/canc\")\n",
    "#depart_visibility\n",
    "series <- data.frame(variable=dadosMet5$origin, value=dadosMet5$depart_visibility)\n",
    "grfK <- plot.hist(series, colors=miColores[c(1:5)], bin=2, title=\"Visibilidade-Todos\")\n",
    "series <- data.frame(variable=dadosMet5Eventos$origin, value=dadosMet5Eventos$depart_visibility)\n",
    "grfL <- plot.hist(series, colors=miColores[c(6:10)], bin=2, title=\"Visibilidade-Atrasos/canc\")\n",
    "options(repr.plot.width=8, repr.plot.height=8)\n",
    "\n",
    "\n",
    "grid.arrange(grfA, grfB, grfC, grfD, grfE, grfF, grfG, grfH, grfI, grfJ, grfK, grfL, ncol=4, top = \"5 aeroportos com maior movimento\")"
   ]
  },
  {
   "cell_type": "markdown",
   "metadata": {
    "heading_collapsed": true
   },
   "source": [
    "##### B) Aeroportos com mais atrasos(absolutos)"
   ]
  },
  {
   "cell_type": "code",
   "execution_count": 92,
   "metadata": {
    "code_folding": [
     0
    ],
    "hidden": true
   },
   "outputs": [
    {
     "data": {
      "image/png": "[encoded data removed]",
      "text/plain": [
       "plot without title"
      ]
     },
     "metadata": {},
     "output_type": "display_data"
    }
   ],
   "source": [
    "### B) Aeroportos com mais atrasos(absolutos)\n",
    "\n",
    "# As análises seguintes contemplam apenas os\n",
    "# 5 aeroportos com mais atrasos\n",
    "top5 = top20_icao_atrasos[1:5,1]  \n",
    "\n",
    "#Gerar os conjunto de dados.  \n",
    "dadosMet5 = dadosMet %>% filter(is.na(atrasometorig)) %>% filter(origin %in% top5$origin)\n",
    "dadosMet5Eventos = dadosMet %>% filter(!is.na(atrasometorig)) %>% filter(origin %in% top5$origin)\n",
    "# a) O dadosMet5 contempla as condições meteorologicas durante voos normais (incl. outros tipos de atraso)\n",
    "# b) O dataframe dadosMet5Eventos contempla apenas as condições meterorologicas nos horarios\n",
    "#    em que ocorreram atrasos/cancelamentos. \n",
    "\n",
    "#HISTOGRAMAS\n",
    "#Temperatura\n",
    "series <- data.frame(variable=dadosMet5$origin, value=dadosMet5$depart_temperature)\n",
    "grfA <- plot.hist(series, colors=miColores[c(1:5)], bin=1, title=\"Temperatura-Todos\")\n",
    "series <- data.frame(variable=dadosMet5Eventos$origin, value=dadosMet5Eventos$depart_temperature)\n",
    "grfB <- plot.hist(series, colors=miColores[c(6:10)], bin=1, title=\"Temperatura-Atrasos/canc\")\n",
    "#DewPoint\n",
    "series <- data.frame(variable=dadosMet5$origin, value=dadosMet5$depart_dew_point)\n",
    "grfC <- plot.hist(series, colors=miColores[c(1:5)], bin=1, title=\"DewPoint-Todos\")\n",
    "series <- data.frame(variable=dadosMet5Eventos$origin, value=dadosMet5Eventos$depart_dew_point)\n",
    "grfD <- plot.hist(series, colors=miColores[c(6:10)], bin=1, title=\"DewPoint-Atrasos/canc\")\n",
    "#Temp-Dew\n",
    "series <- data.frame(variable=dadosMet5$origin, value=dadosMet5$dif_temp_dew)\n",
    "grfE <- plot.hist(series, colors=miColores[c(1:5)], bin=2, title=\"Temp-Dew-Todos\")\n",
    "series <- data.frame(variable=dadosMet5Eventos$origin, value=dadosMet5Eventos$dif_temp_dew)\n",
    "grfF <- plot.hist(series, colors=miColores[c(6:10)], bin=2, title=\"Temp-Dew-Atrasos/canc\")\n",
    "#depart_humidity\n",
    "series <- data.frame(variable=dadosMet5$origin, value=dadosMet5$depart_humidity)\n",
    "grfG <- plot.hist(series, colors=miColores[c(1:5)], bin=4, title=\"Umidade-Todos\")\n",
    "series <- data.frame(variable=dadosMet5Eventos$origin, value=dadosMet5Eventos$depart_humidity)\n",
    "grfH <- plot.hist(series, colors=miColores[c(6:10)], bin=4, title=\"Umidade-Atrasos/canc\")\n",
    "#depart_pressure\n",
    "series <- data.frame(variable=dadosMet5$origin, value=dadosMet5$depart_pressure)\n",
    "grfI <- plot.hist(series, colors=miColores[c(1:5)], bin=2, title=\"Pressão-Todos\")\n",
    "series <- data.frame(variable=dadosMet5Eventos$origin, value=dadosMet5Eventos$depart_pressure)\n",
    "grfJ <- plot.hist(series, colors=miColores[c(6:10)], bin=2, title=\"Pressão-Atrasos/canc\")\n",
    "#depart_visibility\n",
    "series <- data.frame(variable=dadosMet5$origin, value=dadosMet5$depart_visibility)\n",
    "grfK <- plot.hist(series, colors=miColores[c(1:5)], bin=2, title=\"Visibilidade-Todos\")\n",
    "series <- data.frame(variable=dadosMet5Eventos$origin, value=dadosMet5Eventos$depart_visibility)\n",
    "grfL <- plot.hist(series, colors=miColores[c(6:10)], bin=2, title=\"Visibilidade-Atrasos/canc\")\n",
    "options(repr.plot.width=8, repr.plot.height=8)\n",
    "\n",
    "grid.arrange(grfA, grfB, grfC, grfD, grfE, grfF, grfG, grfH, grfI, grfJ, grfK, grfL, ncol=4, top = \"5 aeroportos com mais atrasos\")"
   ]
  },
  {
   "cell_type": "markdown",
   "metadata": {
    "heading_collapsed": true
   },
   "source": [
    "##### C) Aeroportos com mais atrasos (proporcionais)"
   ]
  },
  {
   "cell_type": "code",
   "execution_count": 93,
   "metadata": {
    "code_folding": [
     0
    ],
    "hidden": true
   },
   "outputs": [
    {
     "data": {
      "image/png": "[encoded data removed]",
      "text/plain": [
       "plot without title"
      ]
     },
     "metadata": {},
     "output_type": "display_data"
    }
   ],
   "source": [
    "### C) aeroportos com mais atrasos (proporcionais)\n",
    "\n",
    "# As análises seguintes contemplam apenas os\n",
    "#5 areroportos com mais atrasos, proporcionalmente á qtd total de voos\n",
    "top5 = top20_icao_atrasos_prop[1:5,1]   \n",
    "\n",
    "#Gerar os conjunto de dados.  \n",
    "dadosMet5 = dadosMet %>% filter(is.na(atrasometorig)) %>% filter(origin %in% top5)\n",
    "dadosMet5Eventos = dadosMet %>% filter(!is.na(atrasometorig)) %>% filter(origin %in% top5)\n",
    "# a) O dadosMet5 contempla as condições meteorologicas durante voos normais (incl. outros tipos de atraso)\n",
    "# b) O dataframe dadosMet5Eventos contempla apenas as condições meterorologicas nos horarios\n",
    "#    em que ocorreram atrasos/cancelamentos. \n",
    "\n",
    "#HISTOGRAMAS\n",
    "#Temperatura\n",
    "series <- data.frame(variable=dadosMet5$origin, value=dadosMet5$depart_temperature)\n",
    "grfA <- plot.hist(series, colors=miColores[c(1:5)], bin=1, title=\"Temperatura-Todos\")\n",
    "series <- data.frame(variable=dadosMet5Eventos$origin, value=dadosMet5Eventos$depart_temperature)\n",
    "grfB <- plot.hist(series, colors=miColores[c(6:10)], bin=1, title=\"Temperatura-Atrasos/canc\")\n",
    "#DewPoint\n",
    "series <- data.frame(variable=dadosMet5$origin, value=dadosMet5$depart_dew_point)\n",
    "grfC <- plot.hist(series, colors=miColores[c(1:5)], bin=1, title=\"DewPoint-Todos\")\n",
    "series <- data.frame(variable=dadosMet5Eventos$origin, value=dadosMet5Eventos$depart_dew_point)\n",
    "grfD <- plot.hist(series, colors=miColores[c(6:10)], bin=1, title=\"DewPoint-Atrasos/canc\")\n",
    "#Temp-Dew\n",
    "series <- data.frame(variable=dadosMet5$origin, value=dadosMet5$dif_temp_dew)\n",
    "grfE <- plot.hist(series, colors=miColores[c(1:5)], bin=2, title=\"Temp-Dew-Todos\")\n",
    "series <- data.frame(variable=dadosMet5Eventos$origin, value=dadosMet5Eventos$dif_temp_dew)\n",
    "grfF <- plot.hist(series, colors=miColores[c(6:10)], bin=2, title=\"Temp-Dew-Atrasos/canc\")\n",
    "#depart_humidity\n",
    "series <- data.frame(variable=dadosMet5$origin, value=dadosMet5$depart_humidity)\n",
    "grfG <- plot.hist(series, colors=miColores[c(1:5)], bin=4, title=\"Umidade-Todos\")\n",
    "series <- data.frame(variable=dadosMet5Eventos$origin, value=dadosMet5Eventos$depart_humidity)\n",
    "grfH <- plot.hist(series, colors=miColores[c(6:10)], bin=4, title=\"Umidade-Atrasos/canc\")\n",
    "#depart_pressure\n",
    "series <- data.frame(variable=dadosMet5$origin, value=dadosMet5$depart_pressure)\n",
    "grfI <- plot.hist(series, colors=miColores[c(1:5)], bin=2, title=\"Pressão-Todos\")\n",
    "series <- data.frame(variable=dadosMet5Eventos$origin, value=dadosMet5Eventos$depart_pressure)\n",
    "grfJ <- plot.hist(series, colors=miColores[c(6:10)], bin=2, title=\"Pressão-Atrasos/canc\")\n",
    "#depart_visibility\n",
    "series <- data.frame(variable=dadosMet5$origin, value=dadosMet5$depart_visibility)\n",
    "grfK <- plot.hist(series, colors=miColores[c(1:5)], bin=2, title=\"Visibilidade-Todos\")\n",
    "series <- data.frame(variable=dadosMet5Eventos$origin, value=dadosMet5Eventos$depart_visibility)\n",
    "grfL <- plot.hist(series, colors=miColores[c(6:10)], bin=2, title=\"Visibilidade-Atrasos/canc\")\n",
    "\n",
    "options(repr.plot.width=8, repr.plot.height=8)\n",
    "grid.arrange(grfA, grfB, grfC, grfD, grfE, grfF, grfG, grfH, grfI, grfJ, grfK, grfL, ncol=4, top = \"5 aeroportos com mais atrasos (proporcionais)\")\n",
    "rm(list=setdiff(ls(), c(\"vrawu17\",\"dadosMet\")))"
   ]
  },
  {
   "cell_type": "markdown",
   "metadata": {
    "heading_collapsed": true
   },
   "source": [
    "#### Aplicando Cspade"
   ]
  },
  {
   "cell_type": "code",
   "execution_count": 108,
   "metadata": {
    "code_folding": [
     0
    ],
    "hidden": true
   },
   "outputs": [],
   "source": [
    "#library\n",
    "library(dplyr)\n",
    "library(lubridate)\n",
    "library(arulesSequences)\n",
    "library(arulesViz)\n",
    "\n",
    "source(\"https://raw.githubusercontent.com/jcolares/DM2018/master/Jeff/funkyFunctions.R\")"
   ]
  },
  {
   "cell_type": "code",
   "execution_count": null,
   "metadata": {
    "code_folding": [
     0
    ],
    "hidden": true
   },
   "outputs": [],
   "source": [
    "# Aeroporto Joinville\n",
    "icaoSelect = c(\"SBJV\")"
   ]
  },
  {
   "cell_type": "code",
   "execution_count": 109,
   "metadata": {
    "code_folding": [
     0
    ],
    "hidden": true
   },
   "outputs": [],
   "source": [
    "# Gera o dataset para o ICAO informado\n",
    "\n",
    "dadosMetSBRJ = dadosMet %>% \n",
    "  filter(origin==icaoSelect) %>%\n",
    "  mutate(timekey = as.numeric(paste(substr(depart_expect,1,4), \n",
    "                                    substr(depart_expect,6,7), \n",
    "                                    substr(depart_expect,9,10), \n",
    "                                    substr(depart_expect,12,13), \n",
    "                                    \"00\", sep = \"\")),\n",
    "         cancels = ifelse(observation ==\"XO\", 1, 0),\n",
    "         delays = ifelse(observation == \"WO\", 1, 0)) %>%\n",
    "  mutate(events = ifelse(cancels + delays > 0 , 1, 0)) %>%\n",
    "  mutate(delay_minutes = ifelse(delays == 1, departure_delay, 0)) %>%\n",
    "  group_by(timekey) %>%\n",
    "  summarise(temperature = mean(depart_temperature, na.rm = TRUE),\n",
    "            dif_temp_dew = mean(dif_temp_dew, na.rm = TRUE),\n",
    "            humidity = mean(depart_humidity, na.rm = TRUE),\n",
    "            pressure = mean(depart_pressure, na.rm = TRUE),\n",
    "            visibility = mean(depart_visibility, na.rm = TRUE),\n",
    "            avg_delay = mean(delay_minutes, na.rm = TRUE),\n",
    "            delays = sum(delays),\n",
    "            cancels = sum(cancels))"
   ]
  },
  {
   "cell_type": "code",
   "execution_count": 110,
   "metadata": {
    "code_folding": [
     0
    ],
    "hidden": true
   },
   "outputs": [],
   "source": [
    "# Flag Eventos (atrasos ou cancelamentos)\n",
    "dadosMetSBRJ$flag = ifelse(dadosMetSBRJ$delays + dadosMetSBRJ$cancels > 0, 1, as.numeric(\"\"))\n",
    "\n",
    "# Identifica sequencias de eventos\n",
    "dadosMetSBRJ = dadosMetSBRJ %>%\n",
    "  group_by(flag) %>%\n",
    "  mutate(eventID=cumsum(flag)) \n",
    "\n",
    "# Discretizacao\n",
    "dadosMetSBRJ$temperatureD = ifelse(is.na(dadosMetSBRJ$temperature), \"\", paste(\"T\",.bincode(dadosMetSBRJ$temperature, breaks = seq(0,40,2)), sep = \"\"))\n",
    "dadosMetSBRJ$dif_temp_dewD =  ifelse(is.na(dadosMetSBRJ$dif_temp_dew), \n",
    "                                     \"\",  \n",
    "                                     ifelse(dadosMetSBRJ$dif_temp_dew==0, \n",
    "                                            \"D0\",  \n",
    "                                            paste(\"D\",.bincode(dadosMetSBRJ$dif_temp_dew, breaks = seq(0,40,2)), sep = \"\")))\n",
    "dadosMetSBRJ$humidityD = ifelse(is.na(dadosMetSBRJ$humidity), \"\", paste(\"H\",.bincode(dadosMetSBRJ$humidity, breaks = seq(0,100,4)), sep = \"\"))\n",
    "dadosMetSBRJ$pressureD = ifelse(is.na(dadosMetSBRJ$pressure), \"\", paste(\"P\",.bincode(dadosMetSBRJ$pressure, breaks = seq(1000,1030,2)), sep = \"\"))\n",
    "dadosMetSBRJ$visibilityD = ifelse(is.na(dadosMetSBRJ$visibility), \"\", paste(\"V\",.bincode(dadosMetSBRJ$visibility, breaks = seq(0,10,2)), sep = \"\"))\n",
    "\n",
    "# Gerar sequencias contendo as informaÃ§Ãµes de 3 horas anteriores a cada evento\n",
    "dadosMetSBRJ = get.seq(dadosMetSBRJ, flag_var = \"flag\", buffer_size = 4)\n",
    "\n",
    "# Gerar coluna com a combinaÃ§Ã£o de eventos meteorologicos\n",
    "dadosMetSBRJ$metConditions = paste(dadosMetSBRJ$temperatureD, \n",
    "                                   dadosMetSBRJ$dif_temp_dewD,\n",
    "                                   dadosMetSBRJ$humidityD,\n",
    "                                   dadosMetSBRJ$pressureD,\n",
    "                                   dadosMetSBRJ$visibilityD)\n"
   ]
  },
  {
   "cell_type": "code",
   "execution_count": null,
   "metadata": {
    "code_folding": [
     0
    ],
    "hidden": true
   },
   "outputs": [],
   "source": [
    "# Tratando alguns dados\n",
    "Gerar coluna com a quantidade de itens em cada linha transacaoo \n",
    "dadosMetSBRJ$SIZE = ifelse(gsub(\"\\\\s\", \"\", dadosMetSBRJ$metConditions)==\"\",0, sapply(strsplit(dadosMetSBRJ$metConditions, \" \"), length))\n",
    "\n",
    "#Selecionar colunas relevantes para o CSPADE\n",
    "dadosMetSBRJ = select(dadosMetSBRJ, SID, timekey, SIZE, metConditions)\n",
    "colnames(dadosMetSBRJ) = c(\"sequenceID\", \"eventID\", \"SIZE\", \"metConditions\" )\n",
    "\n",
    "# Gerar Transactios\n",
    "write.table(dadosMetSBRJ, \"dados.temp.txt\", sep=\" \", row.names = FALSE, col.names = FALSE, quote = FALSE)\n",
    "\n",
    "metTransactions = read_baskets(\"dados.temp.txt\", info = c(\"sequenceID\",\"eventID\",\"SIZE\"))\n",
    "\n",
    "# Verificar as transaÃ§Ãµes importadas\n",
    "as(metTransactions, \"data.frame\")"
   ]
  },
  {
   "cell_type": "code",
   "execution_count": 120,
   "metadata": {
    "code_folding": [
     0
    ],
    "hidden": true
   },
   "outputs": [
    {
     "data": {
      "text/html": [
       "<table>\n",
       "<thead><tr><th scope=col>items</th><th scope=col>sequenceID</th><th scope=col>eventID</th><th scope=col>SIZE</th></tr></thead>\n",
       "<tbody>\n",
       "\t<tr><td>{D2,H20,P4,T15,V5} </td><td>1                  </td><td>201401031000       </td><td>5                  </td></tr>\n",
       "\t<tr><td>{D3,H18,P4,T17,V5} </td><td>1                  </td><td>201401031200       </td><td>5                  </td></tr>\n",
       "\t<tr><td>{D1,H23,P4,T14,V5} </td><td>1                  </td><td>201401031800       </td><td>5                  </td></tr>\n",
       "\t<tr><td>{D1,H24,T13,V5}    </td><td>1                  </td><td>201401031900       </td><td>5                  </td></tr>\n",
       "\t<tr><td>{D0,H25,P8,T10,V2} </td><td>2                  </td><td>201401040600       </td><td>5                  </td></tr>\n",
       "\t<tr><td>{D0,H25,P9,T10,V2} </td><td>2                  </td><td>201401040800       </td><td>5                  </td></tr>\n",
       "\t<tr><td>{D0,H25,P10,T10,V2}</td><td>2                  </td><td>201401041000       </td><td>5                  </td></tr>\n",
       "\t<tr><td>{D1,H24,P10,T11,V2}</td><td>2                  </td><td>201401041600       </td><td>5                  </td></tr>\n",
       "\t<tr><td>{D0,H25,P9,T10,V2} </td><td>3                  </td><td>201401040800       </td><td>5                  </td></tr>\n",
       "\t<tr><td>{D0,H25,P10,T10,V2}</td><td>3                  </td><td>201401041000       </td><td>5                  </td></tr>\n",
       "\t<tr><td>{D1,H24,P10,T11,V2}</td><td>3                  </td><td>201401041600       </td><td>5                  </td></tr>\n",
       "\t<tr><td>{D1,H24,P10,T11,V2}</td><td>3                  </td><td>201401041700       </td><td>5                  </td></tr>\n",
       "\t<tr><td>{D1,H23,P8,T12,V5} </td><td>4                  </td><td>201401051900       </td><td>5                  </td></tr>\n",
       "\t<tr><td>{D1,H23,P9,T12,V5} </td><td>4                  </td><td>201401052000       </td><td>5                  </td></tr>\n",
       "\t<tr><td>{D0,H25,P3,T12,V5} </td><td>4                  </td><td>201401060600       </td><td>5                  </td></tr>\n",
       "\t<tr><td>{D1,H24,P9,T12,V1} </td><td>4                  </td><td>201401060800       </td><td>5                  </td></tr>\n",
       "\t<tr><td>{D1,H23,P9,T12,V5} </td><td>5                  </td><td>201401052000       </td><td>5                  </td></tr>\n",
       "\t<tr><td>{D0,H25,P3,T12,V5} </td><td>5                  </td><td>201401060600       </td><td>5                  </td></tr>\n",
       "\t<tr><td>{D1,H24,P9,T12,V1} </td><td>5                  </td><td>201401060800       </td><td>5                  </td></tr>\n",
       "\t<tr><td>{D1,H24,P9,T13,V2} </td><td>5                  </td><td>201401061000       </td><td>5                  </td></tr>\n",
       "\t<tr><td>{D5,H14,P7,T15}    </td><td>6                  </td><td>201401151000       </td><td>4                  </td></tr>\n",
       "\t<tr><td>{D5,H14,P7,T15}    </td><td>6                  </td><td>201401151200       </td><td>4                  </td></tr>\n",
       "\t<tr><td>{D4,H22,P6,T16,V5} </td><td>6                  </td><td>201401151800       </td><td>5                  </td></tr>\n",
       "\t<tr><td>{D1,H24,P6,T12,V4} </td><td>6                  </td><td>201401151900       </td><td>5                  </td></tr>\n",
       "\t<tr><td>{D5,H14,P5,T17,V5} </td><td>7                  </td><td>201402131200       </td><td>5                  </td></tr>\n",
       "\t<tr><td>{D6,H13,P4,T17,V5} </td><td>7                  </td><td>201402131400       </td><td>5                  </td></tr>\n",
       "\t<tr><td>{}                 </td><td>7                  </td><td>201402131700       </td><td>0                  </td></tr>\n",
       "\t<tr><td>{D4,H16,P3,T17,V5} </td><td>7                  </td><td>201402131800       </td><td>5                  </td></tr>\n",
       "\t<tr><td>{D3,H19,P9,T13,V5} </td><td>8                  </td><td>201402161800       </td><td>5                  </td></tr>\n",
       "\t<tr><td>{D2,H20,P9,T12,V5} </td><td>8                  </td><td>201402161900       </td><td>5                  </td></tr>\n",
       "\t<tr><td>...</td><td>...</td><td>...</td><td>...</td></tr>\n",
       "\t<tr><td>{}                 </td><td>303                </td><td>201709050800       </td><td>0                  </td></tr>\n",
       "\t<tr><td>{D2,H21,P10,T11,V2}</td><td>303                </td><td>201709051000       </td><td>5                  </td></tr>\n",
       "\t<tr><td>{D2,H20,P10,T12,V5}</td><td>304                </td><td>201709121500       </td><td>5                  </td></tr>\n",
       "\t<tr><td>{D2,H21,P10,T11,V5}</td><td>304                </td><td>201709121700       </td><td>5                  </td></tr>\n",
       "\t<tr><td>{D1,H22,P11,T11,V5}</td><td>304                </td><td>201709121900       </td><td>5                  </td></tr>\n",
       "\t<tr><td>{D0,H25,P10,T9,V1} </td><td>304                </td><td>201709130600       </td><td>5                  </td></tr>\n",
       "\t<tr><td>{D1,H24,P9,T10,V2} </td><td>305                </td><td>201709291700       </td><td>5                  </td></tr>\n",
       "\t<tr><td>{}                 </td><td>305                </td><td>201709291900       </td><td>0                  </td></tr>\n",
       "\t<tr><td>{D0,H25,P4,T10,V1} </td><td>305                </td><td>201709300600       </td><td>5                  </td></tr>\n",
       "\t<tr><td>{}                 </td><td>305                </td><td>201709300800       </td><td>0                  </td></tr>\n",
       "\t<tr><td>{D1,H22,P4,T11,V4} </td><td>306                </td><td>201709301000       </td><td>5                  </td></tr>\n",
       "\t<tr><td>{D1,H22,P2,T12,V5} </td><td>306                </td><td>201709301800       </td><td>5                  </td></tr>\n",
       "\t<tr><td>{}                 </td><td>306                </td><td>201709301900       </td><td>0                  </td></tr>\n",
       "\t<tr><td>{D0,H25,P2,T9,VNA} </td><td>306                </td><td>201710010600       </td><td>5                  </td></tr>\n",
       "\t<tr><td>{D3,H19,P8,T13,V3} </td><td>307                </td><td>201710061000       </td><td>5                  </td></tr>\n",
       "\t<tr><td>{}                 </td><td>307                </td><td>201710061500       </td><td>0                  </td></tr>\n",
       "\t<tr><td>{}                 </td><td>307                </td><td>201710061700       </td><td>0                  </td></tr>\n",
       "\t<tr><td>{D1,H24,P9,T11,V3} </td><td>307                </td><td>201710061900       </td><td>5                  </td></tr>\n",
       "\t<tr><td>{}                 </td><td>308                </td><td>201710131500       </td><td>0                  </td></tr>\n",
       "\t<tr><td>{}                 </td><td>308                </td><td>201710131700       </td><td>0                  </td></tr>\n",
       "\t<tr><td>{D1,H24,P6,T12,V1} </td><td>308                </td><td>201710131900       </td><td>5                  </td></tr>\n",
       "\t<tr><td>{}                 </td><td>308                </td><td>201710132000       </td><td>0                  </td></tr>\n",
       "\t<tr><td>{}                 </td><td>309                </td><td>201711191900       </td><td>0                  </td></tr>\n",
       "\t<tr><td>{D0,H25,P7,T9,V1}  </td><td>309                </td><td>201711200600       </td><td>5                  </td></tr>\n",
       "\t<tr><td>{}                 </td><td>309                </td><td>201711200800       </td><td>0                  </td></tr>\n",
       "\t<tr><td>{D1,H24,P8,T10,V1} </td><td>309                </td><td>201711201000       </td><td>5                  </td></tr>\n",
       "\t<tr><td>{D4,H16,P6,T16,V5} </td><td>310                </td><td>201712171300       </td><td>5                  </td></tr>\n",
       "\t<tr><td>{}                 </td><td>310                </td><td>201712171400       </td><td>0                  </td></tr>\n",
       "\t<tr><td>{D4,H16,P5,T17,V5} </td><td>310                </td><td>201712171500       </td><td>5                  </td></tr>\n",
       "\t<tr><td>{D4,H16,P5,T15,V5} </td><td>310                </td><td>201712171900       </td><td>5                  </td></tr>\n",
       "</tbody>\n",
       "</table>\n"
      ],
      "text/latex": [
       "\\begin{tabular}{r|llll}\n",
       " items & sequenceID & eventID & SIZE\\\\\n",
       "\\hline\n",
       "\t \\{D2,H20,P4,T15,V5\\}  & 1                       & 201401031000            & 5                      \\\\\n",
       "\t \\{D3,H18,P4,T17,V5\\}  & 1                       & 201401031200            & 5                      \\\\\n",
       "\t \\{D1,H23,P4,T14,V5\\}  & 1                       & 201401031800            & 5                      \\\\\n",
       "\t \\{D1,H24,T13,V5\\}     & 1                       & 201401031900            & 5                      \\\\\n",
       "\t \\{D0,H25,P8,T10,V2\\}  & 2                       & 201401040600            & 5                      \\\\\n",
       "\t \\{D0,H25,P9,T10,V2\\}  & 2                       & 201401040800            & 5                      \\\\\n",
       "\t \\{D0,H25,P10,T10,V2\\} & 2                       & 201401041000            & 5                      \\\\\n",
       "\t \\{D1,H24,P10,T11,V2\\} & 2                       & 201401041600            & 5                      \\\\\n",
       "\t \\{D0,H25,P9,T10,V2\\}  & 3                       & 201401040800            & 5                      \\\\\n",
       "\t \\{D0,H25,P10,T10,V2\\} & 3                       & 201401041000            & 5                      \\\\\n",
       "\t \\{D1,H24,P10,T11,V2\\} & 3                       & 201401041600            & 5                      \\\\\n",
       "\t \\{D1,H24,P10,T11,V2\\} & 3                       & 201401041700            & 5                      \\\\\n",
       "\t \\{D1,H23,P8,T12,V5\\}  & 4                       & 201401051900            & 5                      \\\\\n",
       "\t \\{D1,H23,P9,T12,V5\\}  & 4                       & 201401052000            & 5                      \\\\\n",
       "\t \\{D0,H25,P3,T12,V5\\}  & 4                       & 201401060600            & 5                      \\\\\n",
       "\t \\{D1,H24,P9,T12,V1\\}  & 4                       & 201401060800            & 5                      \\\\\n",
       "\t \\{D1,H23,P9,T12,V5\\}  & 5                       & 201401052000            & 5                      \\\\\n",
       "\t \\{D0,H25,P3,T12,V5\\}  & 5                       & 201401060600            & 5                      \\\\\n",
       "\t \\{D1,H24,P9,T12,V1\\}  & 5                       & 201401060800            & 5                      \\\\\n",
       "\t \\{D1,H24,P9,T13,V2\\}  & 5                       & 201401061000            & 5                      \\\\\n",
       "\t \\{D5,H14,P7,T15\\}     & 6                       & 201401151000            & 4                      \\\\\n",
       "\t \\{D5,H14,P7,T15\\}     & 6                       & 201401151200            & 4                      \\\\\n",
       "\t \\{D4,H22,P6,T16,V5\\}  & 6                       & 201401151800            & 5                      \\\\\n",
       "\t \\{D1,H24,P6,T12,V4\\}  & 6                       & 201401151900            & 5                      \\\\\n",
       "\t \\{D5,H14,P5,T17,V5\\}  & 7                       & 201402131200            & 5                      \\\\\n",
       "\t \\{D6,H13,P4,T17,V5\\}  & 7                       & 201402131400            & 5                      \\\\\n",
       "\t \\{\\}                  & 7                       & 201402131700            & 0                      \\\\\n",
       "\t \\{D4,H16,P3,T17,V5\\}  & 7                       & 201402131800            & 5                      \\\\\n",
       "\t \\{D3,H19,P9,T13,V5\\}  & 8                       & 201402161800            & 5                      \\\\\n",
       "\t \\{D2,H20,P9,T12,V5\\}  & 8                       & 201402161900            & 5                      \\\\\n",
       "\t ... & ... & ... & ...\\\\\n",
       "\t \\{\\}                  & 303                     & 201709050800            & 0                      \\\\\n",
       "\t \\{D2,H21,P10,T11,V2\\} & 303                     & 201709051000            & 5                      \\\\\n",
       "\t \\{D2,H20,P10,T12,V5\\} & 304                     & 201709121500            & 5                      \\\\\n",
       "\t \\{D2,H21,P10,T11,V5\\} & 304                     & 201709121700            & 5                      \\\\\n",
       "\t \\{D1,H22,P11,T11,V5\\} & 304                     & 201709121900            & 5                      \\\\\n",
       "\t \\{D0,H25,P10,T9,V1\\}  & 304                     & 201709130600            & 5                      \\\\\n",
       "\t \\{D1,H24,P9,T10,V2\\}  & 305                     & 201709291700            & 5                      \\\\\n",
       "\t \\{\\}                  & 305                     & 201709291900            & 0                      \\\\\n",
       "\t \\{D0,H25,P4,T10,V1\\}  & 305                     & 201709300600            & 5                      \\\\\n",
       "\t \\{\\}                  & 305                     & 201709300800            & 0                      \\\\\n",
       "\t \\{D1,H22,P4,T11,V4\\}  & 306                     & 201709301000            & 5                      \\\\\n",
       "\t \\{D1,H22,P2,T12,V5\\}  & 306                     & 201709301800            & 5                      \\\\\n",
       "\t \\{\\}                  & 306                     & 201709301900            & 0                      \\\\\n",
       "\t \\{D0,H25,P2,T9,VNA\\}  & 306                     & 201710010600            & 5                      \\\\\n",
       "\t \\{D3,H19,P8,T13,V3\\}  & 307                     & 201710061000            & 5                      \\\\\n",
       "\t \\{\\}                  & 307                     & 201710061500            & 0                      \\\\\n",
       "\t \\{\\}                  & 307                     & 201710061700            & 0                      \\\\\n",
       "\t \\{D1,H24,P9,T11,V3\\}  & 307                     & 201710061900            & 5                      \\\\\n",
       "\t \\{\\}                  & 308                     & 201710131500            & 0                      \\\\\n",
       "\t \\{\\}                  & 308                     & 201710131700            & 0                      \\\\\n",
       "\t \\{D1,H24,P6,T12,V1\\}  & 308                     & 201710131900            & 5                      \\\\\n",
       "\t \\{\\}                  & 308                     & 201710132000            & 0                      \\\\\n",
       "\t \\{\\}                  & 309                     & 201711191900            & 0                      \\\\\n",
       "\t \\{D0,H25,P7,T9,V1\\}   & 309                     & 201711200600            & 5                      \\\\\n",
       "\t \\{\\}                  & 309                     & 201711200800            & 0                      \\\\\n",
       "\t \\{D1,H24,P8,T10,V1\\}  & 309                     & 201711201000            & 5                      \\\\\n",
       "\t \\{D4,H16,P6,T16,V5\\}  & 310                     & 201712171300            & 5                      \\\\\n",
       "\t \\{\\}                  & 310                     & 201712171400            & 0                      \\\\\n",
       "\t \\{D4,H16,P5,T17,V5\\}  & 310                     & 201712171500            & 5                      \\\\\n",
       "\t \\{D4,H16,P5,T15,V5\\}  & 310                     & 201712171900            & 5                      \\\\\n",
       "\\end{tabular}\n"
      ],
      "text/markdown": [
       "\n",
       "items | sequenceID | eventID | SIZE | \n",
       "|---|---|---|---|---|---|---|---|---|---|---|---|---|---|---|---|---|---|---|---|---|---|---|---|---|---|---|---|---|---|---|---|---|---|---|---|---|---|---|---|---|---|---|---|---|---|---|---|---|---|---|---|---|---|---|---|---|---|---|---|---|\n",
       "| {D2,H20,P4,T15,V5}  | 1                   | 201401031000        | 5                   | \n",
       "| {D3,H18,P4,T17,V5}  | 1                   | 201401031200        | 5                   | \n",
       "| {D1,H23,P4,T14,V5}  | 1                   | 201401031800        | 5                   | \n",
       "| {D1,H24,T13,V5}     | 1                   | 201401031900        | 5                   | \n",
       "| {D0,H25,P8,T10,V2}  | 2                   | 201401040600        | 5                   | \n",
       "| {D0,H25,P9,T10,V2}  | 2                   | 201401040800        | 5                   | \n",
       "| {D0,H25,P10,T10,V2} | 2                   | 201401041000        | 5                   | \n",
       "| {D1,H24,P10,T11,V2} | 2                   | 201401041600        | 5                   | \n",
       "| {D0,H25,P9,T10,V2}  | 3                   | 201401040800        | 5                   | \n",
       "| {D0,H25,P10,T10,V2} | 3                   | 201401041000        | 5                   | \n",
       "| {D1,H24,P10,T11,V2} | 3                   | 201401041600        | 5                   | \n",
       "| {D1,H24,P10,T11,V2} | 3                   | 201401041700        | 5                   | \n",
       "| {D1,H23,P8,T12,V5}  | 4                   | 201401051900        | 5                   | \n",
       "| {D1,H23,P9,T12,V5}  | 4                   | 201401052000        | 5                   | \n",
       "| {D0,H25,P3,T12,V5}  | 4                   | 201401060600        | 5                   | \n",
       "| {D1,H24,P9,T12,V1}  | 4                   | 201401060800        | 5                   | \n",
       "| {D1,H23,P9,T12,V5}  | 5                   | 201401052000        | 5                   | \n",
       "| {D0,H25,P3,T12,V5}  | 5                   | 201401060600        | 5                   | \n",
       "| {D1,H24,P9,T12,V1}  | 5                   | 201401060800        | 5                   | \n",
       "| {D1,H24,P9,T13,V2}  | 5                   | 201401061000        | 5                   | \n",
       "| {D5,H14,P7,T15}     | 6                   | 201401151000        | 4                   | \n",
       "| {D5,H14,P7,T15}     | 6                   | 201401151200        | 4                   | \n",
       "| {D4,H22,P6,T16,V5}  | 6                   | 201401151800        | 5                   | \n",
       "| {D1,H24,P6,T12,V4}  | 6                   | 201401151900        | 5                   | \n",
       "| {D5,H14,P5,T17,V5}  | 7                   | 201402131200        | 5                   | \n",
       "| {D6,H13,P4,T17,V5}  | 7                   | 201402131400        | 5                   | \n",
       "| {}                  | 7                   | 201402131700        | 0                   | \n",
       "| {D4,H16,P3,T17,V5}  | 7                   | 201402131800        | 5                   | \n",
       "| {D3,H19,P9,T13,V5}  | 8                   | 201402161800        | 5                   | \n",
       "| {D2,H20,P9,T12,V5}  | 8                   | 201402161900        | 5                   | \n",
       "| ... | ... | ... | ... | \n",
       "| {}                  | 303                 | 201709050800        | 0                   | \n",
       "| {D2,H21,P10,T11,V2} | 303                 | 201709051000        | 5                   | \n",
       "| {D2,H20,P10,T12,V5} | 304                 | 201709121500        | 5                   | \n",
       "| {D2,H21,P10,T11,V5} | 304                 | 201709121700        | 5                   | \n",
       "| {D1,H22,P11,T11,V5} | 304                 | 201709121900        | 5                   | \n",
       "| {D0,H25,P10,T9,V1}  | 304                 | 201709130600        | 5                   | \n",
       "| {D1,H24,P9,T10,V2}  | 305                 | 201709291700        | 5                   | \n",
       "| {}                  | 305                 | 201709291900        | 0                   | \n",
       "| {D0,H25,P4,T10,V1}  | 305                 | 201709300600        | 5                   | \n",
       "| {}                  | 305                 | 201709300800        | 0                   | \n",
       "| {D1,H22,P4,T11,V4}  | 306                 | 201709301000        | 5                   | \n",
       "| {D1,H22,P2,T12,V5}  | 306                 | 201709301800        | 5                   | \n",
       "| {}                  | 306                 | 201709301900        | 0                   | \n",
       "| {D0,H25,P2,T9,VNA}  | 306                 | 201710010600        | 5                   | \n",
       "| {D3,H19,P8,T13,V3}  | 307                 | 201710061000        | 5                   | \n",
       "| {}                  | 307                 | 201710061500        | 0                   | \n",
       "| {}                  | 307                 | 201710061700        | 0                   | \n",
       "| {D1,H24,P9,T11,V3}  | 307                 | 201710061900        | 5                   | \n",
       "| {}                  | 308                 | 201710131500        | 0                   | \n",
       "| {}                  | 308                 | 201710131700        | 0                   | \n",
       "| {D1,H24,P6,T12,V1}  | 308                 | 201710131900        | 5                   | \n",
       "| {}                  | 308                 | 201710132000        | 0                   | \n",
       "| {}                  | 309                 | 201711191900        | 0                   | \n",
       "| {D0,H25,P7,T9,V1}   | 309                 | 201711200600        | 5                   | \n",
       "| {}                  | 309                 | 201711200800        | 0                   | \n",
       "| {D1,H24,P8,T10,V1}  | 309                 | 201711201000        | 5                   | \n",
       "| {D4,H16,P6,T16,V5}  | 310                 | 201712171300        | 5                   | \n",
       "| {}                  | 310                 | 201712171400        | 0                   | \n",
       "| {D4,H16,P5,T17,V5}  | 310                 | 201712171500        | 5                   | \n",
       "| {D4,H16,P5,T15,V5}  | 310                 | 201712171900        | 5                   | \n",
       "\n",
       "\n"
      ],
      "text/plain": [
       "     items               sequenceID eventID      SIZE\n",
       "1    {D2,H20,P4,T15,V5}  1          201401031000 5   \n",
       "2    {D3,H18,P4,T17,V5}  1          201401031200 5   \n",
       "3    {D1,H23,P4,T14,V5}  1          201401031800 5   \n",
       "4    {D1,H24,T13,V5}     1          201401031900 5   \n",
       "5    {D0,H25,P8,T10,V2}  2          201401040600 5   \n",
       "6    {D0,H25,P9,T10,V2}  2          201401040800 5   \n",
       "7    {D0,H25,P10,T10,V2} 2          201401041000 5   \n",
       "8    {D1,H24,P10,T11,V2} 2          201401041600 5   \n",
       "9    {D0,H25,P9,T10,V2}  3          201401040800 5   \n",
       "10   {D0,H25,P10,T10,V2} 3          201401041000 5   \n",
       "11   {D1,H24,P10,T11,V2} 3          201401041600 5   \n",
       "12   {D1,H24,P10,T11,V2} 3          201401041700 5   \n",
       "13   {D1,H23,P8,T12,V5}  4          201401051900 5   \n",
       "14   {D1,H23,P9,T12,V5}  4          201401052000 5   \n",
       "15   {D0,H25,P3,T12,V5}  4          201401060600 5   \n",
       "16   {D1,H24,P9,T12,V1}  4          201401060800 5   \n",
       "17   {D1,H23,P9,T12,V5}  5          201401052000 5   \n",
       "18   {D0,H25,P3,T12,V5}  5          201401060600 5   \n",
       "19   {D1,H24,P9,T12,V1}  5          201401060800 5   \n",
       "20   {D1,H24,P9,T13,V2}  5          201401061000 5   \n",
       "21   {D5,H14,P7,T15}     6          201401151000 4   \n",
       "22   {D5,H14,P7,T15}     6          201401151200 4   \n",
       "23   {D4,H22,P6,T16,V5}  6          201401151800 5   \n",
       "24   {D1,H24,P6,T12,V4}  6          201401151900 5   \n",
       "25   {D5,H14,P5,T17,V5}  7          201402131200 5   \n",
       "26   {D6,H13,P4,T17,V5}  7          201402131400 5   \n",
       "27   {}                  7          201402131700 0   \n",
       "28   {D4,H16,P3,T17,V5}  7          201402131800 5   \n",
       "29   {D3,H19,P9,T13,V5}  8          201402161800 5   \n",
       "30   {D2,H20,P9,T12,V5}  8          201402161900 5   \n",
       "...  ...                 ...        ...          ... \n",
       "1211 {}                  303        201709050800 0   \n",
       "1212 {D2,H21,P10,T11,V2} 303        201709051000 5   \n",
       "1213 {D2,H20,P10,T12,V5} 304        201709121500 5   \n",
       "1214 {D2,H21,P10,T11,V5} 304        201709121700 5   \n",
       "1215 {D1,H22,P11,T11,V5} 304        201709121900 5   \n",
       "1216 {D0,H25,P10,T9,V1}  304        201709130600 5   \n",
       "1217 {D1,H24,P9,T10,V2}  305        201709291700 5   \n",
       "1218 {}                  305        201709291900 0   \n",
       "1219 {D0,H25,P4,T10,V1}  305        201709300600 5   \n",
       "1220 {}                  305        201709300800 0   \n",
       "1221 {D1,H22,P4,T11,V4}  306        201709301000 5   \n",
       "1222 {D1,H22,P2,T12,V5}  306        201709301800 5   \n",
       "1223 {}                  306        201709301900 0   \n",
       "1224 {D0,H25,P2,T9,VNA}  306        201710010600 5   \n",
       "1225 {D3,H19,P8,T13,V3}  307        201710061000 5   \n",
       "1226 {}                  307        201710061500 0   \n",
       "1227 {}                  307        201710061700 0   \n",
       "1228 {D1,H24,P9,T11,V3}  307        201710061900 5   \n",
       "1229 {}                  308        201710131500 0   \n",
       "1230 {}                  308        201710131700 0   \n",
       "1231 {D1,H24,P6,T12,V1}  308        201710131900 5   \n",
       "1232 {}                  308        201710132000 0   \n",
       "1233 {}                  309        201711191900 0   \n",
       "1234 {D0,H25,P7,T9,V1}   309        201711200600 5   \n",
       "1235 {}                  309        201711200800 0   \n",
       "1236 {D1,H24,P8,T10,V1}  309        201711201000 5   \n",
       "1237 {D4,H16,P6,T16,V5}  310        201712171300 5   \n",
       "1238 {}                  310        201712171400 0   \n",
       "1239 {D4,H16,P5,T17,V5}  310        201712171500 5   \n",
       "1240 {D4,H16,P5,T15,V5}  310        201712171900 5   "
      ]
     },
     "metadata": {},
     "output_type": "display_data"
    },
    {
     "name": "stdout",
     "output_type": "stream",
     "text": [
      "\n",
      "parameter specification:\n",
      "support : 0.1\n",
      "maxsize :  10\n",
      "maxlen  :  10\n",
      "\n",
      "algorithmic control:\n",
      "bfstype  : FALSE\n",
      "verbose  :  TRUE\n",
      "summary  : FALSE\n",
      "tidLists : FALSE\n",
      "\n",
      "preprocessing ... 1 partition(s), 0.07 MB [0.3s]\n",
      "mining transactions ... 0.02 MB [0.12s]\n",
      "reading sequences ... [0.13s]\n",
      "\n",
      "total elapsed time: 0.55s\n"
     ]
    }
   ],
   "source": [
    "# Exectuar o Cspade\n",
    "#teste = cspade(metTransactions, parameter = list(support = 0.5), control = list(verbose = TRUE))\n",
    "teste = cspade(metTransactions, control = list(verbose = TRUE))\n",
    "\n",
    "# Verificar o resultado\n",
    "resultSBRJ = as(teste, \"data.frame\")"
   ]
  },
  {
   "cell_type": "code",
   "execution_count": 125,
   "metadata": {
    "code_folding": [
     0
    ],
    "hidden": true,
    "scrolled": true
   },
   "outputs": [
    {
     "name": "stderr",
     "output_type": "stream",
     "text": [
      "Selecting by support\n",
      "Selecting by support\n",
      "Selecting by support\n"
     ]
    },
    {
     "data": {
      "text/html": [
       "<table>\n",
       "<thead><tr><th scope=col>sequence</th><th scope=col>support</th><th scope=col>sequence</th><th scope=col>support</th><th scope=col>sequence</th><th scope=col>support</th></tr></thead>\n",
       "<tbody>\n",
       "\t<tr><td><span style=white-space:pre-wrap>&lt;{D0}&gt;             </span>  </td><td>0.7129032                                                          </td><td><span style=white-space:pre-wrap>&lt;{D0}&gt;               </span></td><td>0.3836207                                                          </td><td><span style=white-space:pre-wrap>&lt;{D0}&gt;              </span> </td><td>0.2676806                                                          </td></tr>\n",
       "\t<tr><td><span style=white-space:pre-wrap>&lt;{D1}&gt;             </span>  </td><td>0.7903226                                                          </td><td><span style=white-space:pre-wrap>&lt;{D1}&gt;               </span></td><td>0.5327586                                                          </td><td><span style=white-space:pre-wrap>&lt;{D1}&gt;              </span> </td><td>0.7300380                                                          </td></tr>\n",
       "\t<tr><td><span style=white-space:pre-wrap>&lt;{D2}&gt;             </span>  </td><td>0.3483871                                                          </td><td><span style=white-space:pre-wrap>&lt;{D2}&gt;               </span></td><td>0.3543103                                                          </td><td><span style=white-space:pre-wrap>&lt;{D2}&gt;              </span> </td><td>0.4098859                                                          </td></tr>\n",
       "\t<tr><td><span style=white-space:pre-wrap>&lt;{H24}&gt;            </span>  </td><td>0.5870968                                                          </td><td><span style=white-space:pre-wrap>&lt;{D3}&gt;               </span></td><td>0.2681034                                                          </td><td><span style=white-space:pre-wrap>&lt;{D3}&gt;              </span> </td><td>0.2646388                                                          </td></tr>\n",
       "\t<tr><td><span style=white-space:pre-wrap>&lt;{H25}&gt;            </span>  </td><td>0.7225806                                                          </td><td><span style=white-space:pre-wrap>&lt;{H22}&gt;              </span></td><td>0.2681034                                                          </td><td><span style=white-space:pre-wrap>&lt;{H21}&gt;             </span> </td><td>0.2768061                                                          </td></tr>\n",
       "\t<tr><td><span style=white-space:pre-wrap>&lt;{P8}&gt;             </span>  </td><td>0.3258065                                                          </td><td><span style=white-space:pre-wrap>&lt;{H24}&gt;              </span></td><td>0.3879310                                                          </td><td><span style=white-space:pre-wrap>&lt;{H22}&gt;             </span> </td><td>0.2593156                                                          </td></tr>\n",
       "\t<tr><td><span style=white-space:pre-wrap>&lt;{T10}&gt;            </span>  </td><td>0.4129032                                                          </td><td><span style=white-space:pre-wrap>&lt;{H25}&gt;              </span></td><td>0.4353448                                                          </td><td><span style=white-space:pre-wrap>&lt;{H24}&gt;             </span> </td><td>0.5779468                                                          </td></tr>\n",
       "\t<tr><td><span style=white-space:pre-wrap>&lt;{T11}&gt;            </span>  </td><td>0.4129032                                                          </td><td><span style=white-space:pre-wrap>&lt;{P10}&gt;              </span></td><td>0.2370690                                                          </td><td><span style=white-space:pre-wrap>&lt;{H25}&gt;             </span> </td><td>0.2935361                                                          </td></tr>\n",
       "\t<tr><td><span style=white-space:pre-wrap>&lt;{T12}&gt;            </span>  </td><td>0.4032258                                                          </td><td><span style=white-space:pre-wrap>&lt;{P7}&gt;               </span></td><td>0.2577586                                                          </td><td><span style=white-space:pre-wrap>&lt;{P7}&gt;              </span> </td><td>0.2699620                                                          </td></tr>\n",
       "\t<tr><td><span style=white-space:pre-wrap>&lt;{T9}&gt;             </span>  </td><td>0.3419355                                                          </td><td><span style=white-space:pre-wrap>&lt;{P8}&gt;               </span></td><td>0.3948276                                                          </td><td><span style=white-space:pre-wrap>&lt;{P8}&gt;              </span> </td><td>0.2707224                                                          </td></tr>\n",
       "\t<tr><td><span style=white-space:pre-wrap>&lt;{V1}&gt;             </span>  </td><td>0.5548387                                                          </td><td><span style=white-space:pre-wrap>&lt;{P9}&gt;               </span></td><td>0.3689655                                                          </td><td><span style=white-space:pre-wrap>&lt;{T11}&gt;             </span> </td><td>0.3764259                                                          </td></tr>\n",
       "\t<tr><td><span style=white-space:pre-wrap>&lt;{V2}&gt;             </span>  </td><td>0.3548387                                                          </td><td><span style=white-space:pre-wrap>&lt;{T10}&gt;              </span></td><td>0.2948276                                                          </td><td><span style=white-space:pre-wrap>&lt;{T12}&gt;             </span> </td><td>0.4509506                                                          </td></tr>\n",
       "\t<tr><td><span style=white-space:pre-wrap>&lt;{V5}&gt;             </span>  </td><td>0.6290323                                                          </td><td><span style=white-space:pre-wrap>&lt;{T11}&gt;              </span></td><td>0.4206897                                                          </td><td><span style=white-space:pre-wrap>&lt;{T13}&gt;             </span> </td><td>0.3490494                                                          </td></tr>\n",
       "\t<tr><td><span style=white-space:pre-wrap>&lt;{D1,V5}&gt;          </span>  </td><td>0.3774194                                                          </td><td><span style=white-space:pre-wrap>&lt;{T12}&gt;              </span></td><td>0.2862069                                                          </td><td><span style=white-space:pre-wrap>&lt;{V2}&gt;              </span> </td><td>0.3391635                                                          </td></tr>\n",
       "\t<tr><td><span style=white-space:pre-wrap>&lt;{V5},{V5}&gt;        </span>  </td><td>0.3967742                                                          </td><td><span style=white-space:pre-wrap>&lt;{T13}&gt;              </span></td><td>0.2422414                                                          </td><td><span style=white-space:pre-wrap>&lt;{V3}&gt;              </span> </td><td>0.5460076                                                          </td></tr>\n",
       "\t<tr><td><span style=white-space:pre-wrap>&lt;{D0,V1}&gt;          </span>  </td><td>0.4774194                                                          </td><td><span style=white-space:pre-wrap>&lt;{V3}&gt;               </span></td><td>0.3068966                                                          </td><td><span style=white-space:pre-wrap>&lt;{V4}&gt;              </span> </td><td>0.3376426                                                          </td></tr>\n",
       "\t<tr><td><span style=white-space:pre-wrap>&lt;{D1},{V1}&gt;        </span>  </td><td>0.3741935                                                          </td><td><span style=white-space:pre-wrap>&lt;{V4}&gt;               </span></td><td>0.2991379                                                          </td><td><span style=white-space:pre-wrap>&lt;{V5}&gt;              </span> </td><td>0.4562738                                                          </td></tr>\n",
       "\t<tr><td><span style=white-space:pre-wrap>&lt;{H25},{V1}&gt;       </span>  </td><td>0.3032258                                                          </td><td><span style=white-space:pre-wrap>&lt;{V5}&gt;               </span></td><td>0.7172414                                                          </td><td><span style=white-space:pre-wrap>&lt;{V5},{V5}&gt;         </span> </td><td>0.3178707                                                          </td></tr>\n",
       "\t<tr><td><span style=white-space:pre-wrap>&lt;{H25,V1}&gt;         </span>  </td><td>0.4806452                                                          </td><td><span style=white-space:pre-wrap>&lt;{D1},{V5}&gt;          </span></td><td>0.2293103                                                          </td><td><span style=white-space:pre-wrap>&lt;{D1},{V3}&gt;         </span> </td><td>0.3832700                                                          </td></tr>\n",
       "\t<tr><td><span style=white-space:pre-wrap>&lt;{D1},{H25,V1}&gt;    </span>  </td><td>0.3161290                                                          </td><td><span style=white-space:pre-wrap>&lt;{D1,V5}&gt;            </span></td><td>0.2793103                                                          </td><td><span style=white-space:pre-wrap>&lt;{D1,V3}&gt;           </span> </td><td>0.4174905                                                          </td></tr>\n",
       "\t<tr><td><span style=white-space:pre-wrap>&lt;{D0,H25,V1}&gt;      </span>  </td><td>0.4774194                                                          </td><td><span style=white-space:pre-wrap>&lt;{P8},{V5}&gt;          </span></td><td>0.2448276                                                          </td><td><span style=white-space:pre-wrap>&lt;{H24},{V3}&gt;        </span> </td><td>0.2882129                                                          </td></tr>\n",
       "\t<tr><td>&lt;{D1},{D0,H25,V1}&gt;                                           </td><td>0.3129032                                                          </td><td><span style=white-space:pre-wrap>&lt;{P8,V5}&gt;            </span></td><td>0.2663793                                                          </td><td><span style=white-space:pre-wrap>&lt;{H24,V3}&gt;          </span> </td><td>0.3209125                                                          </td></tr>\n",
       "\t<tr><td><span style=white-space:pre-wrap>&lt;{D1},{D0,V1}&gt;     </span>  </td><td>0.3129032                                                          </td><td><span style=white-space:pre-wrap>&lt;{P9,V5}&gt;            </span></td><td>0.2310345                                                          </td><td><span style=white-space:pre-wrap>&lt;{V3},{V3}&gt;         </span> </td><td>0.3452471                                                          </td></tr>\n",
       "\t<tr><td><span style=white-space:pre-wrap>&lt;{D0},{H25}&gt;       </span>  </td><td>0.4354839                                                          </td><td><span style=white-space:pre-wrap>&lt;{V5},{V5}&gt;          </span></td><td>0.6008621                                                          </td><td><span style=white-space:pre-wrap>&lt;{D1,H24},{V3}&gt;     </span> </td><td>0.2851711                                                          </td></tr>\n",
       "\t<tr><td><span style=white-space:pre-wrap>&lt;{D0,H25}&gt;         </span>  </td><td>0.7129032                                                          </td><td><span style=white-space:pre-wrap>&lt;{V5},{V5},{V5}&gt;     </span></td><td>0.4362069                                                          </td><td><span style=white-space:pre-wrap>&lt;{D1,H24,V3}&gt;       </span> </td><td>0.3209125                                                          </td></tr>\n",
       "\t<tr><td><span style=white-space:pre-wrap>&lt;{D1},{H25}&gt;       </span> </td><td>0.4709677                                                         </td><td>&lt;{V5},{V5},{V5},{V5}&gt;                                       </td><td>0.2293103                                                         </td><td><span style=white-space:pre-wrap>&lt;{D1},{D1,V3}&gt;      </span></td><td>0.2935361                                                         </td></tr>\n",
       "\t<tr><td><span style=white-space:pre-wrap>&lt;{H24},{H25}&gt;      </span>  </td><td>0.3322581                                                          </td><td><span style=white-space:pre-wrap>&lt;{D1,T11}&gt;           </span></td><td>0.2491379                                                          </td><td><span style=white-space:pre-wrap>&lt;{D1},{T12}&gt;        </span> </td><td>0.2745247                                                          </td></tr>\n",
       "\t<tr><td><span style=white-space:pre-wrap>&lt;{H25},{H25}&gt;      </span>  </td><td>0.4387097                                                          </td><td><span style=white-space:pre-wrap>&lt;{V5},{T11}&gt;         </span></td><td>0.2681034                                                          </td><td><span style=white-space:pre-wrap>&lt;{D1,T12}&gt;          </span> </td><td>0.3041825                                                          </td></tr>\n",
       "\t<tr><td><span style=white-space:pre-wrap>&lt;{V5},{H25}&gt;       </span>  </td><td>0.3677419                                                          </td><td><span style=white-space:pre-wrap>&lt;{P9},{P9}&gt;          </span></td><td>0.2301724                                                          </td><td><span style=white-space:pre-wrap>&lt;{T12},{T12}&gt;       </span> </td><td>0.2692015                                                          </td></tr>\n",
       "\t<tr><td><span style=white-space:pre-wrap>&lt;{D0,H25},{H25}&gt;   </span>  </td><td>0.4354839                                                          </td><td><span style=white-space:pre-wrap>&lt;{P8},{P8}&gt;          </span></td><td>0.2741379                                                          </td><td><span style=white-space:pre-wrap>&lt;{D1,T11}&gt;          </span> </td><td>0.2836502                                                          </td></tr>\n",
       "\t<tr><td><span style=white-space:pre-wrap>&lt;{D1,H24},{H25}&gt;   </span>  </td><td>0.3322581                                                          </td><td><span style=white-space:pre-wrap>&lt;{V5},{P8}&gt;          </span></td><td>0.2508621                                                          </td><td><span style=white-space:pre-wrap>&lt;{D0,H25}&gt;          </span> </td><td>0.2676806                                                          </td></tr>\n",
       "\t<tr><td><span style=white-space:pre-wrap>&lt;{V5},{D0,H25}&gt;    </span>  </td><td>0.3645161                                                          </td><td><span style=white-space:pre-wrap>&lt;{D0},{H25}&gt;         </span></td><td>0.2681034                                                          </td><td><span style=white-space:pre-wrap>&lt;{D1},{H24}&gt;        </span> </td><td>0.4129278                                                          </td></tr>\n",
       "\t<tr><td><span style=white-space:pre-wrap>&lt;{H25},{D0,H25}&gt;   </span>  </td><td>0.4064516                                                          </td><td><span style=white-space:pre-wrap>&lt;{D0,H25}&gt;           </span></td><td>0.3836207                                                          </td><td><span style=white-space:pre-wrap>&lt;{D1,H24}&gt;          </span> </td><td>0.5650190                                                          </td></tr>\n",
       "\t<tr><td><span style=white-space:pre-wrap>&lt;{H24},{D0,H25}&gt;   </span>  </td><td>0.3258065                                                          </td><td><span style=white-space:pre-wrap>&lt;{H25},{H25}&gt;        </span></td><td>0.2974138                                                          </td><td><span style=white-space:pre-wrap>&lt;{H24},{H24}&gt;       </span> </td><td>0.3482890                                                          </td></tr>\n",
       "\t<tr><td><span style=white-space:pre-wrap>&lt;{D1},{D0,H25}&gt;    </span>  </td><td>0.4612903                                                          </td><td><span style=white-space:pre-wrap>&lt;{D0,H25},{H25}&gt;     </span></td><td>0.2681034                                                          </td><td><span style=white-space:pre-wrap>&lt;{V3},{H24}&gt;        </span> </td><td>0.2692015                                                          </td></tr>\n",
       "\t<tr><td><span style=white-space:pre-wrap>&lt;{D0},{D0,H25}&gt;    </span>  </td><td>0.4000000                                                          </td><td><span style=white-space:pre-wrap>&lt;{H25},{D0,H25}&gt;     </span></td><td>0.2801724                                                          </td><td><span style=white-space:pre-wrap>&lt;{D1,H24},{H24}&gt;    </span> </td><td>0.3452471                                                          </td></tr>\n",
       "\t<tr><td>&lt;{D0,H25},{D0,H25}&gt;                                          </td><td>0.4000000                                                          </td><td><span style=white-space:pre-wrap>&lt;{D0},{D0,H25}&gt;      </span></td><td>0.2534483                                                          </td><td><span style=white-space:pre-wrap>&lt;{V3},{D1,H24}&gt;     </span> </td><td>0.2661597                                                          </td></tr>\n",
       "\t<tr><td>&lt;{D1,H24},{D0,H25}&gt;                                          </td><td>0.3258065                                                          </td><td><span style=white-space:pre-wrap>&lt;{D0,H25},{D0,H25}&gt;  </span></td><td>0.2534483                                                          </td><td><span style=white-space:pre-wrap>&lt;{H24},{D1,H24}&gt;    </span> </td><td>0.3452471                                                          </td></tr>\n",
       "\t<tr><td><span style=white-space:pre-wrap>&lt;{D1},{H24}&gt;       </span>  </td><td>0.3387097                                                          </td><td><span style=white-space:pre-wrap>&lt;{D1},{H24}&gt;         </span></td><td>0.2267241                                                          </td><td><span style=white-space:pre-wrap>&lt;{D1},{D1,H24}&gt;     </span> </td><td>0.4121673                                                          </td></tr>\n",
       "\t<tr><td><span style=white-space:pre-wrap>&lt;{D1,H24}&gt;         </span>  </td><td>0.5870968                                                          </td><td><span style=white-space:pre-wrap>&lt;{D1,H24}&gt;           </span></td><td>0.3612069                                                          </td><td>&lt;{D1,H24},{D1,H24}&gt;                                          </td><td>0.3429658                                                          </td></tr>\n",
       "\t<tr><td><span style=white-space:pre-wrap>&lt;{D1},{D1,H24}&gt;    </span>  </td><td>0.3354839                                                          </td><td><span style=white-space:pre-wrap>&lt;{V5},{H24}&gt;         </span></td><td>0.2405172                                                          </td><td><span style=white-space:pre-wrap>&lt;{H21,D2}&gt;          </span> </td><td>0.2661597                                                          </td></tr>\n",
       "\t<tr><td><span style=white-space:pre-wrap>&lt;{D1},{D1}&gt;        </span>  </td><td>0.4129032                                                          </td><td><span style=white-space:pre-wrap>&lt;{D1},{D1,H24}&gt;      </span></td><td>0.2258621                                                          </td><td><span style=white-space:pre-wrap>&lt;{D1},{D1}&gt;         </span> </td><td>0.5368821                                                          </td></tr>\n",
       "\t<tr><td><span style=white-space:pre-wrap>&lt;{V5},{D1}&gt;        </span>  </td><td>0.3612903                                                          </td><td><span style=white-space:pre-wrap>&lt;{D1,H22}&gt;           </span></td><td>0.2439655                                                          </td><td><span style=white-space:pre-wrap>&lt;{H24},{D1}&gt;        </span> </td><td>0.4311787                                                          </td></tr>\n",
       "\t<tr><td><span style=white-space:pre-wrap>&lt;{D0},{D0}&gt;        </span>  </td><td>0.4000000                                                          </td><td><span style=white-space:pre-wrap>&lt;{D1},{D1}&gt;          </span></td><td>0.3137931                                                          </td><td><span style=white-space:pre-wrap>&lt;{T12},{D1}&gt;        </span> </td><td>0.2638783                                                          </td></tr>\n",
       "\t<tr><td><span style=white-space:pre-wrap>&lt;{D1},{D0}&gt;        </span>  </td><td>0.4612903                                                          </td><td><span style=white-space:pre-wrap>&lt;{H24},{D1}&gt;         </span></td><td>0.2250000                                                          </td><td><span style=white-space:pre-wrap>&lt;{V3},{D1}&gt;         </span> </td><td>0.3520913                                                          </td></tr>\n",
       "\t<tr><td><span style=white-space:pre-wrap>&lt;{H24},{D0}&gt;       </span>  </td><td>0.3258065                                                          </td><td><span style=white-space:pre-wrap>&lt;{V5},{D1}&gt;          </span></td><td>0.3405172                                                          </td><td><span style=white-space:pre-wrap>&lt;{D1,V3},{D1}&gt;      </span> </td><td>0.2897338                                                          </td></tr>\n",
       "\t<tr><td><span style=white-space:pre-wrap>&lt;{H25},{D0}&gt;       </span>  </td><td>0.4064516                                                          </td><td><span style=white-space:pre-wrap>&lt;{V5},{V5},{D1}&gt;     </span></td><td>0.2250000                                                          </td><td><span style=white-space:pre-wrap>&lt;{D1,H24},{D1}&gt;     </span> </td><td>0.4258555                                                          </td></tr>\n",
       "\t<tr><td><span style=white-space:pre-wrap>&lt;{V5},{D0}&gt;        </span>  </td><td>0.3645161                                                          </td><td><span style=white-space:pre-wrap>&lt;{D0},{D0}&gt;          </span></td><td>0.2534483                                                          </td><td><span style=white-space:pre-wrap>&lt;{D1},{H24},{D1}&gt;   </span> </td><td>0.2775665                                                          </td></tr>\n",
       "\t<tr><td><span style=white-space:pre-wrap>&lt;{D0,H25},{D0}&gt;    </span>  </td><td>0.4000000                                                          </td><td><span style=white-space:pre-wrap>&lt;{H25},{D0}&gt;         </span></td><td>0.2801724                                                          </td><td>&lt;{D1},{D1,H24},{D1}&gt;                                         </td><td>0.2775665                                                          </td></tr>\n",
       "\t<tr><td><span style=white-space:pre-wrap>&lt;{D1,H24},{D0}&gt;    </span>  </td><td>0.3258065                                                          </td><td><span style=white-space:pre-wrap>&lt;{D0,H25},{D0}&gt;      </span></td><td>0.2534483                                                          </td><td><span style=white-space:pre-wrap>&lt;{D1},{D1},{D1}&gt;    </span> </td><td>0.3543726                                                          </td></tr>\n",
       "</tbody>\n",
       "</table>\n"
      ],
      "text/latex": [
       "\\begin{tabular}{r|llllll}\n",
       " sequence & support & sequence & support & sequence & support\\\\\n",
       "\\hline\n",
       "\t <\\{D0\\}>                & 0.7129032                 & <\\{D0\\}>                & 0.3836207                 & <\\{D0\\}>                & 0.2676806                \\\\\n",
       "\t <\\{D1\\}>                & 0.7903226                 & <\\{D1\\}>                & 0.5327586                 & <\\{D1\\}>                & 0.7300380                \\\\\n",
       "\t <\\{D2\\}>                & 0.3483871                 & <\\{D2\\}>                & 0.3543103                 & <\\{D2\\}>                & 0.4098859                \\\\\n",
       "\t <\\{H24\\}>               & 0.5870968                 & <\\{D3\\}>                & 0.2681034                 & <\\{D3\\}>                & 0.2646388                \\\\\n",
       "\t <\\{H25\\}>               & 0.7225806                 & <\\{H22\\}>               & 0.2681034                 & <\\{H21\\}>               & 0.2768061                \\\\\n",
       "\t <\\{P8\\}>                & 0.3258065                 & <\\{H24\\}>               & 0.3879310                 & <\\{H22\\}>               & 0.2593156                \\\\\n",
       "\t <\\{T10\\}>               & 0.4129032                 & <\\{H25\\}>               & 0.4353448                 & <\\{H24\\}>               & 0.5779468                \\\\\n",
       "\t <\\{T11\\}>               & 0.4129032                 & <\\{P10\\}>               & 0.2370690                 & <\\{H25\\}>               & 0.2935361                \\\\\n",
       "\t <\\{T12\\}>               & 0.4032258                 & <\\{P7\\}>                & 0.2577586                 & <\\{P7\\}>                & 0.2699620                \\\\\n",
       "\t <\\{T9\\}>                & 0.3419355                 & <\\{P8\\}>                & 0.3948276                 & <\\{P8\\}>                & 0.2707224                \\\\\n",
       "\t <\\{V1\\}>                & 0.5548387                 & <\\{P9\\}>                & 0.3689655                 & <\\{T11\\}>               & 0.3764259                \\\\\n",
       "\t <\\{V2\\}>                & 0.3548387                 & <\\{T10\\}>               & 0.2948276                 & <\\{T12\\}>               & 0.4509506                \\\\\n",
       "\t <\\{V5\\}>                & 0.6290323                 & <\\{T11\\}>               & 0.4206897                 & <\\{T13\\}>               & 0.3490494                \\\\\n",
       "\t <\\{D1,V5\\}>             & 0.3774194                 & <\\{T12\\}>               & 0.2862069                 & <\\{V2\\}>                & 0.3391635                \\\\\n",
       "\t <\\{V5\\},\\{V5\\}>         & 0.3967742                   & <\\{T13\\}>                 & 0.2422414                   & <\\{V3\\}>                  & 0.5460076                  \\\\\n",
       "\t <\\{D0,V1\\}>             & 0.4774194                 & <\\{V3\\}>                & 0.3068966                 & <\\{V4\\}>                & 0.3376426                \\\\\n",
       "\t <\\{D1\\},\\{V1\\}>         & 0.3741935                   & <\\{V4\\}>                  & 0.2991379                   & <\\{V5\\}>                  & 0.4562738                  \\\\\n",
       "\t <\\{H25\\},\\{V1\\}>         & 0.3032258                    & <\\{V5\\}>                   & 0.7172414                    & <\\{V5\\},\\{V5\\}>          & 0.3178707                   \\\\\n",
       "\t <\\{H25,V1\\}>                & 0.4806452                     & <\\{D1\\},\\{V5\\}>           & 0.2293103                     & <\\{D1\\},\\{V3\\}>           & 0.3832700                    \\\\\n",
       "\t <\\{D1\\},\\{H25,V1\\}>     & 0.3161290                   & <\\{D1,V5\\}>               & 0.2793103                   & <\\{D1,V3\\}>               & 0.4174905                  \\\\\n",
       "\t <\\{D0,H25,V1\\}>             & 0.4774194                     & <\\{P8\\},\\{V5\\}>           & 0.2448276                     & <\\{H24\\},\\{V3\\}>          & 0.2882129                    \\\\\n",
       "\t <\\{D1\\},\\{D0,H25,V1\\}>  & 0.3129032                   & <\\{P8,V5\\}>               & 0.2663793                   & <\\{H24,V3\\}>              & 0.3209125                  \\\\\n",
       "\t <\\{D1\\},\\{D0,V1\\}>       & 0.3129032                    & <\\{P9,V5\\}>                & 0.2310345                    & <\\{V3\\},\\{V3\\}>          & 0.3452471                   \\\\\n",
       "\t <\\{D0\\},\\{H25\\}>          & 0.4354839                     & <\\{V5\\},\\{V5\\}>           & 0.6008621                     & <\\{D1,H24\\},\\{V3\\}>       & 0.2851711                    \\\\\n",
       "\t <\\{D0,H25\\}>                    & 0.7129032                         & <\\{V5\\},\\{V5\\},\\{V5\\}>      & 0.4362069                         & <\\{D1,H24,V3\\}>                 & 0.3209125                        \\\\\n",
       "\t <\\{D1\\},\\{H25\\}>                  & 0.4709677                             & <\\{V5\\},\\{V5\\},\\{V5\\},\\{V5\\}> & 0.2293103                             & <\\{D1\\},\\{D1,V3\\}>                & 0.2935361                            \\\\\n",
       "\t <\\{H24\\},\\{H25\\}>        & 0.3322581                    & <\\{D1,T11\\}>               & 0.2491379                    & <\\{D1\\},\\{T12\\}>         & 0.2745247                   \\\\\n",
       "\t <\\{H25\\},\\{H25\\}>         & 0.4387097                     & <\\{V5\\},\\{T11\\}>          & 0.2681034                     & <\\{D1,T12\\}>                & 0.3041825                    \\\\\n",
       "\t <\\{V5\\},\\{H25\\}>          & 0.3677419                     & <\\{P9\\},\\{P9\\}>           & 0.2301724                     & <\\{T12\\},\\{T12\\}>         & 0.2692015                    \\\\\n",
       "\t <\\{D0,H25\\},\\{H25\\}>      & 0.4354839                     & <\\{P8\\},\\{P8\\}>           & 0.2741379                     & <\\{D1,T11\\}>                & 0.2836502                    \\\\\n",
       "\t <\\{D1,H24\\},\\{H25\\}>      & 0.3322581                     & <\\{V5\\},\\{P8\\}>           & 0.2508621                     & <\\{D0,H25\\}>                & 0.2676806                    \\\\\n",
       "\t <\\{V5\\},\\{D0,H25\\}>       & 0.3645161                     & <\\{D0\\},\\{H25\\}>          & 0.2681034                     & <\\{D1\\},\\{H24\\}>          & 0.4129278                    \\\\\n",
       "\t <\\{H25\\},\\{D0,H25\\}>    & 0.4064516                   & <\\{D0,H25\\}>              & 0.3836207                   & <\\{D1,H24\\}>              & 0.5650190                  \\\\\n",
       "\t <\\{H24\\},\\{D0,H25\\}>      & 0.3258065                     & <\\{H25\\},\\{H25\\}>         & 0.2974138                     & <\\{H24\\},\\{H24\\}>         & 0.3482890                    \\\\\n",
       "\t <\\{D1\\},\\{D0,H25\\}>       & 0.4612903                     & <\\{D0,H25\\},\\{H25\\}>      & 0.2681034                     & <\\{V3\\},\\{H24\\}>          & 0.2692015                    \\\\\n",
       "\t <\\{D0\\},\\{D0,H25\\}>       & 0.4000000                     & <\\{H25\\},\\{D0,H25\\}>      & 0.2801724                     & <\\{D1,H24\\},\\{H24\\}>      & 0.3452471                    \\\\\n",
       "\t <\\{D0,H25\\},\\{D0,H25\\}>   & 0.4000000                     & <\\{D0\\},\\{D0,H25\\}>       & 0.2534483                     & <\\{V3\\},\\{D1,H24\\}>       & 0.2661597                    \\\\\n",
       "\t <\\{D1,H24\\},\\{D0,H25\\}>   & 0.3258065                     & <\\{D0,H25\\},\\{D0,H25\\}>   & 0.2534483                     & <\\{H24\\},\\{D1,H24\\}>      & 0.3452471                    \\\\\n",
       "\t <\\{D1\\},\\{H24\\}>          & 0.3387097                     & <\\{D1\\},\\{H24\\}>          & 0.2267241                     & <\\{D1\\},\\{D1,H24\\}>       & 0.4121673                    \\\\\n",
       "\t <\\{D1,H24\\}>               & 0.5870968                    & <\\{D1,H24\\}>               & 0.3612069                    & <\\{D1,H24\\},\\{D1,H24\\}>  & 0.3429658                   \\\\\n",
       "\t <\\{D1\\},\\{D1,H24\\}>       & 0.3354839                     & <\\{V5\\},\\{H24\\}>          & 0.2405172                     & <\\{H21,D2\\}>                & 0.2661597                    \\\\\n",
       "\t <\\{D1\\},\\{D1\\}>           & 0.4129032                     & <\\{D1\\},\\{D1,H24\\}>       & 0.2258621                     & <\\{D1\\},\\{D1\\}>           & 0.5368821                    \\\\\n",
       "\t <\\{V5\\},\\{D1\\}>          & 0.3612903                    & <\\{D1,H22\\}>               & 0.2439655                    & <\\{H24\\},\\{D1\\}>         & 0.4311787                   \\\\\n",
       "\t <\\{D0\\},\\{D0\\}>           & 0.4000000                     & <\\{D1\\},\\{D1\\}>           & 0.3137931                     & <\\{T12\\},\\{D1\\}>          & 0.2638783                    \\\\\n",
       "\t <\\{D1\\},\\{D0\\}>           & 0.4612903                     & <\\{H24\\},\\{D1\\}>          & 0.2250000                     & <\\{V3\\},\\{D1\\}>           & 0.3520913                    \\\\\n",
       "\t <\\{H24\\},\\{D0\\}>          & 0.3258065                     & <\\{V5\\},\\{D1\\}>           & 0.3405172                     & <\\{D1,V3\\},\\{D1\\}>        & 0.2897338                    \\\\\n",
       "\t <\\{H25\\},\\{D0\\}>              & 0.4064516                         & <\\{V5\\},\\{V5\\},\\{D1\\}>      & 0.2250000                         & <\\{D1,H24\\},\\{D1\\}>           & 0.4258555                        \\\\\n",
       "\t <\\{V5\\},\\{D0\\}>              & 0.3645161                        & <\\{D0\\},\\{D0\\}>              & 0.2534483                        & <\\{D1\\},\\{H24\\},\\{D1\\}>    & 0.2775665                       \\\\\n",
       "\t <\\{D0,H25\\},\\{D0\\}>          & 0.4000000                        & <\\{H25\\},\\{D0\\}>             & 0.2801724                        & <\\{D1\\},\\{D1,H24\\},\\{D1\\}> & 0.2775665                       \\\\\n",
       "\t <\\{D1,H24\\},\\{D0\\}>          & 0.3258065                        & <\\{D0,H25\\},\\{D0\\}>          & 0.2534483                        & <\\{D1\\},\\{D1\\},\\{D1\\}>     & 0.3543726                       \\\\\n",
       "\\end{tabular}\n"
      ],
      "text/markdown": [
       "\n",
       "sequence | support | sequence | support | sequence | support | \n",
       "|---|---|---|---|---|---|---|---|---|---|---|---|---|---|---|---|---|---|---|---|---|---|---|---|---|---|---|---|---|---|---|---|---|---|---|---|---|---|---|---|---|---|---|---|---|---|---|---|---|---|\n",
       "| <{D0}>                | 0.7129032             | <{D0}>                | 0.3836207             | <{D0}>                | 0.2676806             | \n",
       "| <{D1}>                | 0.7903226             | <{D1}>                | 0.5327586             | <{D1}>                | 0.7300380             | \n",
       "| <{D2}>                | 0.3483871             | <{D2}>                | 0.3543103             | <{D2}>                | 0.4098859             | \n",
       "| <{H24}>               | 0.5870968             | <{D3}>                | 0.2681034             | <{D3}>                | 0.2646388             | \n",
       "| <{H25}>               | 0.7225806             | <{H22}>               | 0.2681034             | <{H21}>               | 0.2768061             | \n",
       "| <{P8}>                | 0.3258065             | <{H24}>               | 0.3879310             | <{H22}>               | 0.2593156             | \n",
       "| <{T10}>               | 0.4129032             | <{H25}>               | 0.4353448             | <{H24}>               | 0.5779468             | \n",
       "| <{T11}>               | 0.4129032             | <{P10}>               | 0.2370690             | <{H25}>               | 0.2935361             | \n",
       "| <{T12}>               | 0.4032258             | <{P7}>                | 0.2577586             | <{P7}>                | 0.2699620             | \n",
       "| <{T9}>                | 0.3419355             | <{P8}>                | 0.3948276             | <{P8}>                | 0.2707224             | \n",
       "| <{V1}>                | 0.5548387             | <{P9}>                | 0.3689655             | <{T11}>               | 0.3764259             | \n",
       "| <{V2}>                | 0.3548387             | <{T10}>               | 0.2948276             | <{T12}>               | 0.4509506             | \n",
       "| <{V5}>                | 0.6290323             | <{T11}>               | 0.4206897             | <{T13}>               | 0.3490494             | \n",
       "| <{D1,V5}>             | 0.3774194             | <{T12}>               | 0.2862069             | <{V2}>                | 0.3391635             | \n",
       "| <{V5},{V5}>           | 0.3967742             | <{T13}>               | 0.2422414             | <{V3}>                | 0.5460076             | \n",
       "| <{D0,V1}>             | 0.4774194             | <{V3}>                | 0.3068966             | <{V4}>                | 0.3376426             | \n",
       "| <{D1},{V1}>           | 0.3741935             | <{V4}>                | 0.2991379             | <{V5}>                | 0.4562738             | \n",
       "| <{H25},{V1}>          | 0.3032258             | <{V5}>                | 0.7172414             | <{V5},{V5}>           | 0.3178707             | \n",
       "| <{H25,V1}>            | 0.4806452             | <{D1},{V5}>           | 0.2293103             | <{D1},{V3}>           | 0.3832700             | \n",
       "| <{D1},{H25,V1}>       | 0.3161290             | <{D1,V5}>             | 0.2793103             | <{D1,V3}>             | 0.4174905             | \n",
       "| <{D0,H25,V1}>         | 0.4774194             | <{P8},{V5}>           | 0.2448276             | <{H24},{V3}>          | 0.2882129             | \n",
       "| <{D1},{D0,H25,V1}>    | 0.3129032             | <{P8,V5}>             | 0.2663793             | <{H24,V3}>            | 0.3209125             | \n",
       "| <{D1},{D0,V1}>        | 0.3129032             | <{P9,V5}>             | 0.2310345             | <{V3},{V3}>           | 0.3452471             | \n",
       "| <{D0},{H25}>          | 0.4354839             | <{V5},{V5}>           | 0.6008621             | <{D1,H24},{V3}>       | 0.2851711             | \n",
       "| <{D0,H25}>            | 0.7129032             | <{V5},{V5},{V5}>      | 0.4362069             | <{D1,H24,V3}>         | 0.3209125             | \n",
       "| <{D1},{H25}>          | 0.4709677             | <{V5},{V5},{V5},{V5}> | 0.2293103             | <{D1},{D1,V3}>        | 0.2935361             | \n",
       "| <{H24},{H25}>         | 0.3322581             | <{D1,T11}>            | 0.2491379             | <{D1},{T12}>          | 0.2745247             | \n",
       "| <{H25},{H25}>         | 0.4387097             | <{V5},{T11}>          | 0.2681034             | <{D1,T12}>            | 0.3041825             | \n",
       "| <{V5},{H25}>          | 0.3677419             | <{P9},{P9}>           | 0.2301724             | <{T12},{T12}>         | 0.2692015             | \n",
       "| <{D0,H25},{H25}>      | 0.4354839             | <{P8},{P8}>           | 0.2741379             | <{D1,T11}>            | 0.2836502             | \n",
       "| <{D1,H24},{H25}>      | 0.3322581             | <{V5},{P8}>           | 0.2508621             | <{D0,H25}>            | 0.2676806             | \n",
       "| <{V5},{D0,H25}>       | 0.3645161             | <{D0},{H25}>          | 0.2681034             | <{D1},{H24}>          | 0.4129278             | \n",
       "| <{H25},{D0,H25}>      | 0.4064516             | <{D0,H25}>            | 0.3836207             | <{D1,H24}>            | 0.5650190             | \n",
       "| <{H24},{D0,H25}>      | 0.3258065             | <{H25},{H25}>         | 0.2974138             | <{H24},{H24}>         | 0.3482890             | \n",
       "| <{D1},{D0,H25}>       | 0.4612903             | <{D0,H25},{H25}>      | 0.2681034             | <{V3},{H24}>          | 0.2692015             | \n",
       "| <{D0},{D0,H25}>       | 0.4000000             | <{H25},{D0,H25}>      | 0.2801724             | <{D1,H24},{H24}>      | 0.3452471             | \n",
       "| <{D0,H25},{D0,H25}>   | 0.4000000             | <{D0},{D0,H25}>       | 0.2534483             | <{V3},{D1,H24}>       | 0.2661597             | \n",
       "| <{D1,H24},{D0,H25}>   | 0.3258065             | <{D0,H25},{D0,H25}>   | 0.2534483             | <{H24},{D1,H24}>      | 0.3452471             | \n",
       "| <{D1},{H24}>          | 0.3387097             | <{D1},{H24}>          | 0.2267241             | <{D1},{D1,H24}>       | 0.4121673             | \n",
       "| <{D1,H24}>            | 0.5870968             | <{D1,H24}>            | 0.3612069             | <{D1,H24},{D1,H24}>   | 0.3429658             | \n",
       "| <{D1},{D1,H24}>       | 0.3354839             | <{V5},{H24}>          | 0.2405172             | <{H21,D2}>            | 0.2661597             | \n",
       "| <{D1},{D1}>           | 0.4129032             | <{D1},{D1,H24}>       | 0.2258621             | <{D1},{D1}>           | 0.5368821             | \n",
       "| <{V5},{D1}>           | 0.3612903             | <{D1,H22}>            | 0.2439655             | <{H24},{D1}>          | 0.4311787             | \n",
       "| <{D0},{D0}>           | 0.4000000             | <{D1},{D1}>           | 0.3137931             | <{T12},{D1}>          | 0.2638783             | \n",
       "| <{D1},{D0}>           | 0.4612903             | <{H24},{D1}>          | 0.2250000             | <{V3},{D1}>           | 0.3520913             | \n",
       "| <{H24},{D0}>          | 0.3258065             | <{V5},{D1}>           | 0.3405172             | <{D1,V3},{D1}>        | 0.2897338             | \n",
       "| <{H25},{D0}>          | 0.4064516             | <{V5},{V5},{D1}>      | 0.2250000             | <{D1,H24},{D1}>       | 0.4258555             | \n",
       "| <{V5},{D0}>           | 0.3645161             | <{D0},{D0}>           | 0.2534483             | <{D1},{H24},{D1}>     | 0.2775665             | \n",
       "| <{D0,H25},{D0}>       | 0.4000000             | <{H25},{D0}>          | 0.2801724             | <{D1},{D1,H24},{D1}>  | 0.2775665             | \n",
       "| <{D1,H24},{D0}>       | 0.3258065             | <{D0,H25},{D0}>       | 0.2534483             | <{D1},{D1},{D1}>      | 0.3543726             | \n",
       "\n",
       "\n"
      ],
      "text/plain": [
       "   sequence            support   sequence              support  \n",
       "1  <{D0}>              0.7129032 <{D0}>                0.3836207\n",
       "2  <{D1}>              0.7903226 <{D1}>                0.5327586\n",
       "3  <{D2}>              0.3483871 <{D2}>                0.3543103\n",
       "4  <{H24}>             0.5870968 <{D3}>                0.2681034\n",
       "5  <{H25}>             0.7225806 <{H22}>               0.2681034\n",
       "6  <{P8}>              0.3258065 <{H24}>               0.3879310\n",
       "7  <{T10}>             0.4129032 <{H25}>               0.4353448\n",
       "8  <{T11}>             0.4129032 <{P10}>               0.2370690\n",
       "9  <{T12}>             0.4032258 <{P7}>                0.2577586\n",
       "10 <{T9}>              0.3419355 <{P8}>                0.3948276\n",
       "11 <{V1}>              0.5548387 <{P9}>                0.3689655\n",
       "12 <{V2}>              0.3548387 <{T10}>               0.2948276\n",
       "13 <{V5}>              0.6290323 <{T11}>               0.4206897\n",
       "14 <{D1,V5}>           0.3774194 <{T12}>               0.2862069\n",
       "15 <{V5},{V5}>         0.3967742 <{T13}>               0.2422414\n",
       "16 <{D0,V1}>           0.4774194 <{V3}>                0.3068966\n",
       "17 <{D1},{V1}>         0.3741935 <{V4}>                0.2991379\n",
       "18 <{H25},{V1}>        0.3032258 <{V5}>                0.7172414\n",
       "19 <{H25,V1}>          0.4806452 <{D1},{V5}>           0.2293103\n",
       "20 <{D1},{H25,V1}>     0.3161290 <{D1,V5}>             0.2793103\n",
       "21 <{D0,H25,V1}>       0.4774194 <{P8},{V5}>           0.2448276\n",
       "22 <{D1},{D0,H25,V1}>  0.3129032 <{P8,V5}>             0.2663793\n",
       "23 <{D1},{D0,V1}>      0.3129032 <{P9,V5}>             0.2310345\n",
       "24 <{D0},{H25}>        0.4354839 <{V5},{V5}>           0.6008621\n",
       "25 <{D0,H25}>          0.7129032 <{V5},{V5},{V5}>      0.4362069\n",
       "26 <{D1},{H25}>        0.4709677 <{V5},{V5},{V5},{V5}> 0.2293103\n",
       "27 <{H24},{H25}>       0.3322581 <{D1,T11}>            0.2491379\n",
       "28 <{H25},{H25}>       0.4387097 <{V5},{T11}>          0.2681034\n",
       "29 <{V5},{H25}>        0.3677419 <{P9},{P9}>           0.2301724\n",
       "30 <{D0,H25},{H25}>    0.4354839 <{P8},{P8}>           0.2741379\n",
       "31 <{D1,H24},{H25}>    0.3322581 <{V5},{P8}>           0.2508621\n",
       "32 <{V5},{D0,H25}>     0.3645161 <{D0},{H25}>          0.2681034\n",
       "33 <{H25},{D0,H25}>    0.4064516 <{D0,H25}>            0.3836207\n",
       "34 <{H24},{D0,H25}>    0.3258065 <{H25},{H25}>         0.2974138\n",
       "35 <{D1},{D0,H25}>     0.4612903 <{D0,H25},{H25}>      0.2681034\n",
       "36 <{D0},{D0,H25}>     0.4000000 <{H25},{D0,H25}>      0.2801724\n",
       "37 <{D0,H25},{D0,H25}> 0.4000000 <{D0},{D0,H25}>       0.2534483\n",
       "38 <{D1,H24},{D0,H25}> 0.3258065 <{D0,H25},{D0,H25}>   0.2534483\n",
       "39 <{D1},{H24}>        0.3387097 <{D1},{H24}>          0.2267241\n",
       "40 <{D1,H24}>          0.5870968 <{D1,H24}>            0.3612069\n",
       "41 <{D1},{D1,H24}>     0.3354839 <{V5},{H24}>          0.2405172\n",
       "42 <{D1},{D1}>         0.4129032 <{D1},{D1,H24}>       0.2258621\n",
       "43 <{V5},{D1}>         0.3612903 <{D1,H22}>            0.2439655\n",
       "44 <{D0},{D0}>         0.4000000 <{D1},{D1}>           0.3137931\n",
       "45 <{D1},{D0}>         0.4612903 <{H24},{D1}>          0.2250000\n",
       "46 <{H24},{D0}>        0.3258065 <{V5},{D1}>           0.3405172\n",
       "47 <{H25},{D0}>        0.4064516 <{V5},{V5},{D1}>      0.2250000\n",
       "48 <{V5},{D0}>         0.3645161 <{D0},{D0}>           0.2534483\n",
       "49 <{D0,H25},{D0}>     0.4000000 <{H25},{D0}>          0.2801724\n",
       "50 <{D1,H24},{D0}>     0.3258065 <{D0,H25},{D0}>       0.2534483\n",
       "   sequence             support  \n",
       "1  <{D0}>               0.2676806\n",
       "2  <{D1}>               0.7300380\n",
       "3  <{D2}>               0.4098859\n",
       "4  <{D3}>               0.2646388\n",
       "5  <{H21}>              0.2768061\n",
       "6  <{H22}>              0.2593156\n",
       "7  <{H24}>              0.5779468\n",
       "8  <{H25}>              0.2935361\n",
       "9  <{P7}>               0.2699620\n",
       "10 <{P8}>               0.2707224\n",
       "11 <{T11}>              0.3764259\n",
       "12 <{T12}>              0.4509506\n",
       "13 <{T13}>              0.3490494\n",
       "14 <{V2}>               0.3391635\n",
       "15 <{V3}>               0.5460076\n",
       "16 <{V4}>               0.3376426\n",
       "17 <{V5}>               0.4562738\n",
       "18 <{V5},{V5}>          0.3178707\n",
       "19 <{D1},{V3}>          0.3832700\n",
       "20 <{D1,V3}>            0.4174905\n",
       "21 <{H24},{V3}>         0.2882129\n",
       "22 <{H24,V3}>           0.3209125\n",
       "23 <{V3},{V3}>          0.3452471\n",
       "24 <{D1,H24},{V3}>      0.2851711\n",
       "25 <{D1,H24,V3}>        0.3209125\n",
       "26 <{D1},{D1,V3}>       0.2935361\n",
       "27 <{D1},{T12}>         0.2745247\n",
       "28 <{D1,T12}>           0.3041825\n",
       "29 <{T12},{T12}>        0.2692015\n",
       "30 <{D1,T11}>           0.2836502\n",
       "31 <{D0,H25}>           0.2676806\n",
       "32 <{D1},{H24}>         0.4129278\n",
       "33 <{D1,H24}>           0.5650190\n",
       "34 <{H24},{H24}>        0.3482890\n",
       "35 <{V3},{H24}>         0.2692015\n",
       "36 <{D1,H24},{H24}>     0.3452471\n",
       "37 <{V3},{D1,H24}>      0.2661597\n",
       "38 <{H24},{D1,H24}>     0.3452471\n",
       "39 <{D1},{D1,H24}>      0.4121673\n",
       "40 <{D1,H24},{D1,H24}>  0.3429658\n",
       "41 <{H21,D2}>           0.2661597\n",
       "42 <{D1},{D1}>          0.5368821\n",
       "43 <{H24},{D1}>         0.4311787\n",
       "44 <{T12},{D1}>         0.2638783\n",
       "45 <{V3},{D1}>          0.3520913\n",
       "46 <{D1,V3},{D1}>       0.2897338\n",
       "47 <{D1,H24},{D1}>      0.4258555\n",
       "48 <{D1},{H24},{D1}>    0.2775665\n",
       "49 <{D1},{D1,H24},{D1}> 0.2775665\n",
       "50 <{D1},{D1},{D1}>     0.3543726"
      ]
     },
     "metadata": {},
     "output_type": "display_data"
    }
   ],
   "source": [
    "# SBJV -> SBGR -> SBRJ\n",
    "# IdentificaÃ§Ã£o das condiÃ§Ãµes meteorolÃ³gicas que causam atrasos em voos em cada aeroporto\n",
    "# utilizando dados curado fornecidos pelo prof.\n",
    "\n",
    "# Quais sÃ£o as combinaÃ§Ãµes de condiÃ§Ãµes meteorolÃ³gicas que ocorrem com maior frequencia durante os atrasos?\n",
    "# Baixa pressÃ£o + temperatura?\n",
    "\n",
    "# PARTE 3 - Visualização\n",
    "\n",
    "#library(dplyr)\n",
    "#library(lubridate)\n",
    "#library(zoo)\n",
    "library(arules)\n",
    "library(arulesSequences)\n",
    "library(arulesViz)\n",
    "\n",
    "# Linux:\n",
    "# setwd(\"~/github/DM2018\")\n",
    "# Windows:\n",
    "load(\"dataset/rules_cspade.RData\")\n",
    "\n",
    "closedRulesSBRJ = ruleInduction(rulesSBRJ)\n",
    "\n",
    "#inspect(head(closedRulesSBRJ, n = 5, by =\"lift\"))\n",
    "\n",
    "resultSBJV = as(rulesSBJV, \"data.frame\")\n",
    "resultSBGR = as(rulesSBGR, \"data.frame\")\n",
    "resultSBRJ = as(rulesSBRJ, \"data.frame\")\n",
    "\n",
    "topSBJV = top_n(resultSBJV, 50)\n",
    "topSBGR = top_n(resultSBGR, 50)\n",
    "topSBRJ = top_n(resultSBRJ, 50)\n",
    "\n",
    "vis = cbind(topSBJV, topSBGR, topSBRJ)\n",
    "vis"
   ]
  },
  {
   "cell_type": "markdown",
   "metadata": {},
   "source": [
    "#### Distribuição geográfica dos atrasos"
   ]
  },
  {
   "cell_type": "markdown",
   "metadata": {},
   "source": [
    "Nesta análise verificamos onde estão posicionados no mapa brasileiro os aeroportos que mais tem atrasos ou cancelamentos devido a condições climáticas.\n",
    "\n",
    "Fonte do mapa: https://downloads.ibge.gov.br/downloads_geociencias.htm"
   ]
  },
  {
   "cell_type": "code",
   "execution_count": 97,
   "metadata": {
    "code_folding": [
     0
    ]
   },
   "outputs": [],
   "source": [
    "# Tratamento dos dados\n",
    "\n",
    "library(data.table) #fread\n",
    "library(dplyr) #select %>% \n",
    "ranking_mov = count(vrawu17, icao_origem) %>% arrange(desc(n))\n",
    "\n",
    "vrawu17$atrasometorig = ifelse(vrawu17$cod_justificativa %in% c(\"WO\", \"XO\"), 1, 0)\n",
    "ranking_atrasos_met = (vrawu17 \n",
    "    %>% filter(atrasometorig==1)\n",
    "    %>% filter(substr(icao_origem,1,2)==\"SB\")\n",
    "    %>% count(icao_origem) \n",
    "    %>% arrange(desc(n)))\n",
    "atrasos = merge(x = ranking_mov, y = ranking_atrasos_met , by.x = \"icao_origem\", by.y = \"icao_origem\", all.x = TRUE) \n",
    "atrasos$proporcional = atrasos$n.y / atrasos$n.x\n",
    "colnames(atrasos) = c(\"icao\", \"voos\", \"atrasos\", \"prop\")\n",
    "top20 = top_n(atrasos, 50, atrasos)\n",
    "eventos = (vrawu17 \n",
    "    %>% filter(atrasometorig==1) \n",
    "    %>% filter(icao_origem %in% top20$icao) \n",
    "    %>% select(icao_origem, partida_prevista, situacao_voo, atraso_partida) \n",
    "    %>% group_by(icao_origem) \n",
    "    %>% summarize(Count = n()))\n",
    "rm(ranking_atrasos_met, ranking_mov)\n",
    "\n",
    "airport = fread(\"dataset/aeroportos/airports_simplified.csv\",encoding = 'UTF-8')\n",
    "\n",
    "eventos= merge(eventos,airport, by.x=\"icao_origem\", by.y=\"ICAO\")"
   ]
  },
  {
   "cell_type": "code",
   "execution_count": 98,
   "metadata": {
    "code_folding": [
     0
    ]
   },
   "outputs": [
    {
     "name": "stderr",
     "output_type": "stream",
     "text": [
      "Loading required package: sp\n",
      "Checking rgeos availability: FALSE\n",
      " \tNote: when rgeos is not available, polygon geometry \tcomputations in maptools depend on gpclib,\n",
      " \twhich has a restricted licence. It is disabled by default;\n",
      " \tto enable gpclib, type gpclibPermit()\n",
      "Regions defined for each Polygons\n"
     ]
    },
    {
     "data": {},
     "metadata": {},
     "output_type": "display_data"
    },
    {
     "data": {
      "image/png": "[encoded data removed]",
      "text/plain": [
       "plot without title"
      ]
     },
     "metadata": {},
     "output_type": "display_data"
    }
   ],
   "source": [
    "# mapa\n",
    "library(maptools)\n",
    "\n",
    "mapa <- borders(database =\"world\", regions = \"Brazil\", fill = \"grey95\", colour = \"black\")\n",
    "\n",
    "brazil <- ggplot() + mapa + theme_bw() + xlab(\"Longitude (decimals)\") + ylab(\"Latitude (decimals)\") + \n",
    "  theme(panel.border = element_blank(), panel.grid.major = element_line(colour = \"grey80\"), panel.grid.minor = element_blank())\n",
    "\n",
    "estados <- readShapePoly(\"dataset/br_unidades_da_federacao/BRUFE250GC_SIR.shp\")\n",
    "estados1 <- fortify(estados)\n",
    "\n",
    "br_est <- brazil + geom_path(data = estados1, aes(x = long, y = lat, group = group), colour = \"black\")\n",
    "\n",
    "\n",
    "update_geom_defaults(\"point\", list(size = 25))\n",
    "maps = (br_est \n",
    "        + geom_point(data = eventos, aes(x=longitude, y=latitude, size=Count),colour='blue', alpha = .4,)\n",
    "        + scale_size_area(max_size = 17,name = \"Quantidade de atraso\",limits=c(0, 600), breaks=seq(150, 600, by=150))\n",
    "        + theme(legend.position=c(0.9,0.2), legend.key.width = unit(0.5, \"cm\"))\n",
    "       )\n",
    "\n",
    "maps = maps + ggtitle('Aeroportos que mais atrasam por razões climáticas') #+ scale_size_manual(name = \"Quantidade de atraso\",labels = c(\"100\", \"300\", \"600\"),values = c(\"blue\", \"red\", \"green\"))\n",
    "maps\n",
    "\n",
    "rm(list=setdiff(ls(), \"vrawu17\"))"
   ]
  },
  {
   "cell_type": "markdown",
   "metadata": {},
   "source": [
    "# Geração das regras de atraso"
   ]
  },
  {
   "cell_type": "markdown",
   "metadata": {},
   "source": [
    "## Aplicando o CSPADE"
   ]
  },
  {
   "cell_type": "markdown",
   "metadata": {},
   "source": [
    "O objetivo nesta parte do trabalho é identificar regras de propagação de atrasos entre os aeroportos. Isso posto, é utilizado um método de mineração de padrões sequenciais por meio do algoritmo CSPADE."
   ]
  },
  {
   "cell_type": "markdown",
   "metadata": {},
   "source": [
    "O arquivo com os dados necessários para executar-se o algoritmo CSPADE deve estar no seguinte formato:\n",
    "**[SID] [EID] [SIZE]** onde: **[SID]** é um identificador sequencial de uma transação,\n",
    "**[EID]** é um identificador do evento de uma transação e **[SIZE]** é composto pelo tamanho do conjunto de itens\n",
    "de uma transação, seguido dos códigos dos itens propriamente dito.<BR><BR>\n",
    "Neste trabalho, considerando-se o conjunto de dados de voos, tem-se:<BR><BR>\n",
    "**[SID]** é composto pelo código ICAO do aeroporto mais a data de partida do voo;<BR>\n",
    "**[EID]** é a hora cheia de partida do voo; e<BR>\n",
    "**[SIZE]** é composto pelo tamanho do conjunto de números dos voos, seguido pelos números dos voos.<BR><BR>\n",
    "Observando-se que somente os voos atrasados em mais de 15 minutos e menos de 240 minutos são considerados."
   ]
  },
  {
   "cell_type": "code",
   "execution_count": 12,
   "metadata": {
    "code_folding": [
     0
    ],
    "collapsed": true
   },
   "outputs": [
    {
     "name": "stderr",
     "output_type": "stream",
     "text": [
      "network: Classes for Relational Data\n",
      "Version 1.13.0 created on 2015-08-31.\n",
      "copyright (c) 2005, Carter T. Butts, University of California-Irvine\n",
      "                    Mark S. Handcock, University of California -- Los Angeles\n",
      "                    David R. Hunter, Penn State University\n",
      "                    Martina Morris, University of Washington\n",
      "                    Skye Bender-deMoll, University of Washington\n",
      " For citation information, type citation(\"network\").\n",
      " Type help(\"network-package\") to get started.\n",
      "\n",
      "------------------------------------------------------------------------------\n",
      "You have loaded plyr after dplyr - this is likely to cause problems.\n",
      "If you need functions from both plyr and dplyr, please load plyr first, then dplyr:\n",
      "library(plyr); library(dplyr)\n",
      "------------------------------------------------------------------------------\n",
      "\n",
      "Attaching package: 'plyr'\n",
      "\n",
      "The following object is masked from 'package:network':\n",
      "\n",
      "    is.discrete\n",
      "\n",
      "The following object is masked from 'package:lubridate':\n",
      "\n",
      "    here\n",
      "\n",
      "The following objects are masked from 'package:dplyr':\n",
      "\n",
      "    arrange, count, desc, failwith, id, mutate, rename, summarise,\n",
      "    summarize\n",
      "\n",
      "Loading required package: gsubfn\n",
      "\n",
      "Attaching package: 'arules'\n",
      "\n",
      "The following object is masked from 'package:dplyr':\n",
      "\n",
      "    recode\n",
      "\n",
      "The following objects are masked from 'package:base':\n",
      "\n",
      "    abbreviate, write\n",
      "\n"
     ]
    }
   ],
   "source": [
    "# Algumas bibliotecas\n",
    "library(\"network\")\n",
    "library(\"plyr\")\n",
    "library(\"proto\")\n",
    "library(\"RSQLite\")\n",
    "library(\"sqldf\")\n",
    "library(\"Matrix\")\n",
    "library(\"grid\")\n",
    "library(\"arules\")\n",
    "library(\"arulesSequences\")\n",
    "library(\"arulesViz\")"
   ]
  },
  {
   "cell_type": "markdown",
   "metadata": {},
   "source": [
    "### Filtrando os dados"
   ]
  },
  {
   "cell_type": "markdown",
   "metadata": {
    "heading_collapsed": true
   },
   "source": [
    "##### Gerando conjunto de treinamento"
   ]
  },
  {
   "cell_type": "code",
   "execution_count": 13,
   "metadata": {
    "code_folding": [
     0
    ],
    "hidden": true
   },
   "outputs": [],
   "source": [
    "# Transforma o formato POSIXlt em chr\n",
    "# para que possa ser trabalhado em conjunto com o sqldf\n",
    "vra_wu_2017 = vrawu17\n",
    "vra_wu_2017$partida_prevista <- as.character(vra_wu_2017$partida_prevista)\n",
    "vra_wu_2017$partida_real <- as.character(vra_wu_2017$partida_real)\n",
    "vra_wu_2017$chegada_prevista <- as.character(vra_wu_2017$chegada_prevista)\n",
    "vra_wu_2017$chegada_real <- as.character(vra_wu_2017$chegada_real)\n",
    "\n",
    "# Especifica-se uma query para montar o conjunto treinamento.\n",
    "query<-\"select icao_destino, icao_origem, icao_empresa, voo, partida_real, chegada_real, atraso_partida, atraso_chegada,\"\n",
    "query<-paste(query,\"origem_temperatura, origem_dew_point, origem_umidade, origem_pressao, origem_visibilidade, origem_eventos, origem_condicoes,\", sep=\" \")\n",
    "query<-paste(query,\"destino_temperatura, destino_dew_point, destino_umidade, destino_pressao, destino_visibilidade, destino_eventos, destino_condicoes\", sep=\" \")\n",
    "query<-paste(query, \"from vra_wu_2017 where situacao_voo = 'Realizado' or situacao_voo ='REALIZADO'\", sep=\" \")\n",
    "\n",
    "# Carrega-se o conjunto treinamento com base na especificação da query acima descrita.\n",
    "train_set<-sqldf(query)"
   ]
  },
  {
   "cell_type": "markdown",
   "metadata": {
    "hidden": true
   },
   "source": [
    "Considera-se apenas as partidas e as chegadas nos aeroportos domésticos."
   ]
  },
  {
   "cell_type": "code",
   "execution_count": 14,
   "metadata": {
    "code_folding": [
     0,
     5
    ],
    "hidden": true
   },
   "outputs": [],
   "source": [
    "sub_set<-train_set[which(train_set$icao_origem==\"SBBE\"|train_set$icao_origem==\"SBBR\"|train_set$icao_origem==\"SBCF\"|\n",
    "                         train_set$icao_origem==\"SBEG\"|train_set$icao_origem==\"SBFZ\"|train_set$icao_origem==\"SBGL\"|\n",
    "                         train_set$icao_origem==\"SBGR\"|train_set$icao_origem==\"SBKP\"|train_set$icao_origem==\"SBPA\"|\n",
    "                         train_set$icao_origem==\"SBRF\"|train_set$icao_origem==\"SBSV\"),]\n",
    "\n",
    "sub_set<-sub_set[which(sub_set$icao_destino==\"SBBE\"|sub_set$icao_destino==\"SBBR\"|sub_set$icao_destino==\"SBCF\"|\n",
    "                       sub_set$icao_destino==\"SBEG\"|sub_set$icao_destino==\"SBFZ\"|sub_set$icao_destino==\"SBGL\"|\n",
    "                       sub_set$icao_destino==\"SBGR\"|sub_set$icao_destino==\"SBKP\"|sub_set$icao_destino==\"SBPA\"|\n",
    "                       sub_set$icao_destino==\"SBRF\"|sub_set$icao_destino==\"SBSV\"),]"
   ]
  },
  {
   "cell_type": "markdown",
   "metadata": {
    "heading_collapsed": true
   },
   "source": [
    "##### Outliers"
   ]
  },
  {
   "cell_type": "markdown",
   "metadata": {
    "hidden": true
   },
   "source": [
    "Remove-se as observações cujos valores dos atrasos nas partidas são negativos."
   ]
  },
  {
   "cell_type": "code",
   "execution_count": 15,
   "metadata": {
    "code_folding": [],
    "hidden": true
   },
   "outputs": [],
   "source": [
    "sub_set<-sub_set[which(sub_set$atraso_partida>=0),]"
   ]
  },
  {
   "cell_type": "markdown",
   "metadata": {
    "hidden": true
   },
   "source": [
    "Remove-se as observações cujos valores dos atrasos nas chegadas são negativos."
   ]
  },
  {
   "cell_type": "code",
   "execution_count": 16,
   "metadata": {
    "hidden": true
   },
   "outputs": [],
   "source": [
    "sub_set<-sub_set[which(sub_set$atraso_chegada>=0),]"
   ]
  },
  {
   "cell_type": "markdown",
   "metadata": {
    "heading_collapsed": true
   },
   "source": [
    "##### Inconsistências"
   ]
  },
  {
   "cell_type": "code",
   "execution_count": 17,
   "metadata": {
    "code_folding": [
     0
    ],
    "hidden": true
   },
   "outputs": [],
   "source": [
    "# Remove-se as partidas que são maiores que as chegadas para um mesmo voo.\n",
    "sub_set<-sub_set[as.Date(sub_set$partida_real) <= as.Date(sub_set$chegada_real),]\n",
    "\n",
    "#Mantém-se apenas as partidas com atrasos maiores ou iguais a 15 minutos e menores ou iguais a 240 minutos (4 horas).\n",
    "sub_set<-sub_set[which(sub_set$atraso_partida>=15),]\n",
    "sub_set<-sub_set[which(sub_set$atraso_partida<=240),]\n",
    "\n",
    "sub_set<-sub_set[which(sub_set$atraso_chegada>=15),]\n",
    "sub_set<-sub_set[which(sub_set$atraso_chegada<=240),]"
   ]
  },
  {
   "cell_type": "markdown",
   "metadata": {
    "heading_collapsed": true
   },
   "source": [
    "##### Criação de características"
   ]
  },
  {
   "cell_type": "markdown",
   "metadata": {
    "hidden": true
   },
   "source": [
    "Cria-se as variáveis: **depart_date**, **depart_time**, **arrival_date** e **arrival_time**."
   ]
  },
  {
   "cell_type": "code",
   "execution_count": 18,
   "metadata": {
    "code_folding": [
     0
    ],
    "hidden": true
   },
   "outputs": [],
   "source": [
    "# cria duas listas com todos os valores da coluna partida_real (index column=5)\n",
    "# já separados nos formatos YYYY-MM-DD e HH:MM:SS respectivamente\n",
    "depart_d<-sapply(strsplit(sub_set[,5], \" \", fixed = TRUE), \"[\", 1)\n",
    "depart_h<-sapply(strsplit(sub_set[,5], \" \", fixed = TRUE), \"[\", 2)\n",
    "\n",
    "# cria duas listas com todos os valores da coluna chegada_real (index column=6)\n",
    "# já separados nos formatos YYYY-MM-DD e HH:MM:SS respectivamente\n",
    "arrival_d<-sapply(strsplit(sub_set[,6], \" \", fixed = TRUE), \"[\", 1)\n",
    "arrival_h<-sapply(strsplit(sub_set[,6], \" \", fixed = TRUE), \"[\", 2)\n",
    "\n",
    "# cria um dataframe intermediário com essas duas novas colunas\n",
    "intermed_df <- data.frame(\"depart_date\" = depart_d, \"depart_time\" = depart_h,\n",
    "                          \"arrival_date\" = arrival_d, \"arrival_time\" = arrival_h)\n",
    "\n",
    "# cria um dataframe com a combinação do dataframe sub_set e intermed_df\n",
    "voos <- cbind(sub_set,intermed_df)\n",
    "\n",
    "# Para as novas variáveis criadas\n",
    "# Transforma o formato Factor em chr\n",
    "# para que possa ser trabalhado em conjunto com o sqldf\n",
    "voos$depart_date <- as.character(voos$depart_date)\n",
    "voos$arrival_date <- as.character(voos$arrival_date)\n",
    "voos$depart_time <- as.character(voos$depart_time)\n",
    "voos$arrival_time <- as.character(voos$arrival_time)"
   ]
  },
  {
   "cell_type": "markdown",
   "metadata": {
    "hidden": true
   },
   "source": [
    "Cria-se as variáveis: **depart_tt** e **arrival_tt** que serão utilizadas na formatação do arquivo\n",
    "que será a entrada do algoritmo CSPADE."
   ]
  },
  {
   "cell_type": "code",
   "execution_count": 19,
   "metadata": {
    "code_folding": [
     0
    ],
    "hidden": true
   },
   "outputs": [],
   "source": [
    "# cria duas listas com todos os valores da coluna partida_real (index column=24 e 26)\n",
    "# já separado no formato HH\n",
    "depart_tt<-substring(voos[,24], 1, 2) \n",
    "arrival_tt<-substring(voos[,26], 1, 2)\n",
    "\n",
    "# cria um dataframe intermediário com essas duas novas colunas\n",
    "intermed_df <- data.frame(\"depart_tt\" = depart_tt, \"arrival_tt\" = arrival_tt)\n",
    "\n",
    "# Adiciona-se ao dataframe atual, a combinação com o dataframe intermed_df\n",
    "voos <- cbind(voos,intermed_df)\n",
    "\n",
    "# Para as novas variáveis criadas\n",
    "# Transforma o formato Factor em chr\n",
    "# para que possa ser trabalhado em conjunto com o sqldf\n",
    "voos$depart_tt <- as.character(voos$depart_tt)\n",
    "voos$arrival_tt <- as.character(voos$arrival_tt)"
   ]
  },
  {
   "cell_type": "markdown",
   "metadata": {},
   "source": [
    "### Agregação Temporal"
   ]
  },
  {
   "cell_type": "markdown",
   "metadata": {},
   "source": [
    "Transforma-se a série de voos em uma série temporal com observações hora a hora com os voos agrupados pela concatenação\n",
    "do código ICAO do aeroporto mais a data de realização da partida ou da chegada, ordenados por esse agrupamento e pela\n",
    "agregação temporal considerando-se a hora cheia.<BR>\n",
    "Calcula-se o tamanho de cada agrupamento [SIZE] por meio do somatório dos voos em cada agrupamento."
   ]
  },
  {
   "cell_type": "markdown",
   "metadata": {},
   "source": [
    "Analisando-se a rede de atrasos nas partidas e nas chegadas."
   ]
  },
  {
   "cell_type": "code",
   "execution_count": 20,
   "metadata": {
    "code_folding": [
     0
    ]
   },
   "outputs": [
    {
     "data": {
      "text/html": [
       "<table>\n",
       "<thead><tr><th scope=col>voo</th><th scope=col>sequenceID</th><th scope=col>eventID</th><th scope=col>icao_destino</th><th scope=col>arrival_date</th><th scope=col>arrival_tt</th><th scope=col>atraso_partida</th><th scope=col>atraso_chegada</th><th scope=col>origem_condicoes</th><th scope=col>destino_condicoes</th></tr></thead>\n",
       "<tbody>\n",
       "\t<tr><td>3233          </td><td>SBBE2017-01-01</td><td>18            </td><td>SBBR          </td><td>2017-01-01    </td><td>21            </td><td>123           </td><td>126           </td><td>Thunderstorm  </td><td>Partly Cloudy </td></tr>\n",
       "\t<tr><td>1679          </td><td>SBBE2017-01-01</td><td>17            </td><td>SBGR          </td><td>2017-01-01    </td><td>21            </td><td> 38           </td><td> 68           </td><td>Thunderstorm  </td><td>Clear         </td></tr>\n",
       "</tbody>\n",
       "</table>\n"
      ],
      "text/latex": [
       "\\begin{tabular}{r|llllllllll}\n",
       " voo & sequenceID & eventID & icao\\_destino & arrival\\_date & arrival\\_tt & atraso\\_partida & atraso\\_chegada & origem\\_condicoes & destino\\_condicoes\\\\\n",
       "\\hline\n",
       "\t 3233           & SBBE2017-01-01 & 18             & SBBR           & 2017-01-01     & 21             & 123            & 126            & Thunderstorm   & Partly Cloudy \\\\\n",
       "\t 1679           & SBBE2017-01-01 & 17             & SBGR           & 2017-01-01     & 21             &  38            &  68            & Thunderstorm   & Clear         \\\\\n",
       "\\end{tabular}\n"
      ],
      "text/markdown": [
       "\n",
       "voo | sequenceID | eventID | icao_destino | arrival_date | arrival_tt | atraso_partida | atraso_chegada | origem_condicoes | destino_condicoes | \n",
       "|---|---|\n",
       "| 3233           | SBBE2017-01-01 | 18             | SBBR           | 2017-01-01     | 21             | 123            | 126            | Thunderstorm   | Partly Cloudy  | \n",
       "| 1679           | SBBE2017-01-01 | 17             | SBGR           | 2017-01-01     | 21             |  38            |  68            | Thunderstorm   | Clear          | \n",
       "\n",
       "\n"
      ],
      "text/plain": [
       "  voo  sequenceID     eventID icao_destino arrival_date arrival_tt\n",
       "1 3233 SBBE2017-01-01 18      SBBR         2017-01-01   21        \n",
       "2 1679 SBBE2017-01-01 17      SBGR         2017-01-01   21        \n",
       "  atraso_partida atraso_chegada origem_condicoes destino_condicoes\n",
       "1 123            126            Thunderstorm     Partly Cloudy    \n",
       "2  38             68            Thunderstorm     Clear            "
      ]
     },
     "metadata": {},
     "output_type": "display_data"
    }
   ],
   "source": [
    "# partidas\n",
    "query<-\"select voo, icao_origem||depart_date as sequenceID, depart_tt as eventID, icao_destino, arrival_date, arrival_tt,\n",
    "atraso_partida, atraso_chegada, origem_condicoes, destino_condicoes\"\n",
    "query<-paste(query, \"from voos where icao_origem='SBBE' and depart_date='2017-01-01'\", sep=\" \")\n",
    "\n",
    "partidas<-sqldf(query)\n",
    "partidas"
   ]
  },
  {
   "cell_type": "code",
   "execution_count": 21,
   "metadata": {
    "code_folding": [
     0
    ]
   },
   "outputs": [
    {
     "data": {
      "text/html": [
       "<table>\n",
       "<thead><tr><th scope=col>voo</th><th scope=col>sequenceID</th><th scope=col>eventID</th><th scope=col>icao_origem</th><th scope=col>depart_date</th><th scope=col>depart_tt</th><th scope=col>atraso_partida</th><th scope=col>atraso_chegada</th><th scope=col>origem_condicoes</th><th scope=col>destino_condicoes</th></tr></thead>\n",
       "<tbody>\n",
       "\t<tr><td>3796          </td><td>SBBE2017-01-01</td><td>18            </td><td>SBBR          </td><td>2017-01-01    </td><td>15            </td><td>120           </td><td>119           </td><td>Mostly Cloudy </td><td>Thunderstorm  </td></tr>\n",
       "</tbody>\n",
       "</table>\n"
      ],
      "text/latex": [
       "\\begin{tabular}{r|llllllllll}\n",
       " voo & sequenceID & eventID & icao\\_origem & depart\\_date & depart\\_tt & atraso\\_partida & atraso\\_chegada & origem\\_condicoes & destino\\_condicoes\\\\\n",
       "\\hline\n",
       "\t 3796           & SBBE2017-01-01 & 18             & SBBR           & 2017-01-01     & 15             & 120            & 119            & Mostly Cloudy  & Thunderstorm  \\\\\n",
       "\\end{tabular}\n"
      ],
      "text/markdown": [
       "\n",
       "voo | sequenceID | eventID | icao_origem | depart_date | depart_tt | atraso_partida | atraso_chegada | origem_condicoes | destino_condicoes | \n",
       "|---|\n",
       "| 3796           | SBBE2017-01-01 | 18             | SBBR           | 2017-01-01     | 15             | 120            | 119            | Mostly Cloudy  | Thunderstorm   | \n",
       "\n",
       "\n"
      ],
      "text/plain": [
       "  voo  sequenceID     eventID icao_origem depart_date depart_tt atraso_partida\n",
       "1 3796 SBBE2017-01-01 18      SBBR        2017-01-01  15        120           \n",
       "  atraso_chegada origem_condicoes destino_condicoes\n",
       "1 119            Mostly Cloudy    Thunderstorm     "
      ]
     },
     "metadata": {},
     "output_type": "display_data"
    }
   ],
   "source": [
    "# chegadas\n",
    "query<-\"select voo, icao_destino||arrival_date as sequenceID, arrival_tt as eventID, icao_origem, depart_date, depart_tt,\n",
    "atraso_partida, atraso_chegada, origem_condicoes, destino_condicoes\"\n",
    "query<-paste(query, \"from voos where icao_destino='SBBE' and arrival_date='2017-01-01'\", sep=\" \")\n",
    "\n",
    "chegadas<-sqldf(query)\n",
    "chegadas"
   ]
  },
  {
   "cell_type": "code",
   "execution_count": 22,
   "metadata": {
    "code_folding": [
     0
    ]
   },
   "outputs": [
    {
     "data": {
      "text/html": [
       "<table>\n",
       "<thead><tr><th scope=col>voo</th><th scope=col>sequenceID</th><th scope=col>eventID</th><th scope=col>icao_destino</th><th scope=col>arrival_date</th><th scope=col>arrival_tt</th><th scope=col>atraso_partida</th><th scope=col>atraso_chegada</th><th scope=col>origem_condicoes</th><th scope=col>destino_condicoes</th></tr></thead>\n",
       "<tbody>\n",
       "\t<tr><td>1679          </td><td>SBBE2017-01-01</td><td>17            </td><td>SBGR          </td><td>2017-01-01    </td><td>21            </td><td> 38           </td><td> 68           </td><td>Thunderstorm  </td><td>Clear         </td></tr>\n",
       "\t<tr><td>3233          </td><td>SBBE2017-01-01</td><td>18            </td><td>SBBR          </td><td>2017-01-01    </td><td>21            </td><td>123           </td><td>126           </td><td>Thunderstorm  </td><td>Partly Cloudy </td></tr>\n",
       "\t<tr><td>3796          </td><td>SBBE2017-01-01</td><td>18            </td><td>SBBR          </td><td>2017-01-01    </td><td>15            </td><td>120           </td><td>119           </td><td>Mostly Cloudy </td><td>Thunderstorm  </td></tr>\n",
       "</tbody>\n",
       "</table>\n"
      ],
      "text/latex": [
       "\\begin{tabular}{r|llllllllll}\n",
       " voo & sequenceID & eventID & icao\\_destino & arrival\\_date & arrival\\_tt & atraso\\_partida & atraso\\_chegada & origem\\_condicoes & destino\\_condicoes\\\\\n",
       "\\hline\n",
       "\t 1679           & SBBE2017-01-01 & 17             & SBGR           & 2017-01-01     & 21             &  38            &  68            & Thunderstorm   & Clear         \\\\\n",
       "\t 3233           & SBBE2017-01-01 & 18             & SBBR           & 2017-01-01     & 21             & 123            & 126            & Thunderstorm   & Partly Cloudy \\\\\n",
       "\t 3796           & SBBE2017-01-01 & 18             & SBBR           & 2017-01-01     & 15             & 120            & 119            & Mostly Cloudy  & Thunderstorm  \\\\\n",
       "\\end{tabular}\n"
      ],
      "text/markdown": [
       "\n",
       "voo | sequenceID | eventID | icao_destino | arrival_date | arrival_tt | atraso_partida | atraso_chegada | origem_condicoes | destino_condicoes | \n",
       "|---|---|---|\n",
       "| 1679           | SBBE2017-01-01 | 17             | SBGR           | 2017-01-01     | 21             |  38            |  68            | Thunderstorm   | Clear          | \n",
       "| 3233           | SBBE2017-01-01 | 18             | SBBR           | 2017-01-01     | 21             | 123            | 126            | Thunderstorm   | Partly Cloudy  | \n",
       "| 3796           | SBBE2017-01-01 | 18             | SBBR           | 2017-01-01     | 15             | 120            | 119            | Mostly Cloudy  | Thunderstorm   | \n",
       "\n",
       "\n"
      ],
      "text/plain": [
       "  voo  sequenceID     eventID icao_destino arrival_date arrival_tt\n",
       "1 1679 SBBE2017-01-01 17      SBGR         2017-01-01   21        \n",
       "2 3233 SBBE2017-01-01 18      SBBR         2017-01-01   21        \n",
       "3 3796 SBBE2017-01-01 18      SBBR         2017-01-01   15        \n",
       "  atraso_partida atraso_chegada origem_condicoes destino_condicoes\n",
       "1  38             68            Thunderstorm     Clear            \n",
       "2 123            126            Thunderstorm     Partly Cloudy    \n",
       "3 120            119            Mostly Cloudy    Thunderstorm     "
      ]
     },
     "metadata": {},
     "output_type": "display_data"
    }
   ],
   "source": [
    "# resultado\n",
    "query<-\"select * from partidas union select * from chegadas\"\n",
    "\n",
    "result<-sqldf(query)\n",
    "result"
   ]
  },
  {
   "cell_type": "markdown",
   "metadata": {},
   "source": [
    "Acima, tem-se um conjunto de dados no formato **single** de todas as partidas e chegadas com atraso.<BR><BR>\n",
    "Quando um conjunto de dados está neste formato, cada observação representa um único item e cada item contém um identificador de transação."
   ]
  },
  {
   "cell_type": "markdown",
   "metadata": {},
   "source": [
    "Cria-se um novo conjunto de dados, apenas com as colunas necessárias para a criação de arquivo TXT no formato **basket**."
   ]
  },
  {
   "cell_type": "code",
   "execution_count": 23,
   "metadata": {
    "code_folding": [
     0
    ]
   },
   "outputs": [
    {
     "data": {
      "text/html": [
       "<table>\n",
       "<thead><tr><th scope=col>items</th><th scope=col>sequenceID</th><th scope=col>eventID</th><th scope=col>SIZE</th></tr></thead>\n",
       "<tbody>\n",
       "\t<tr><td>1679          </td><td>SBBE2017-01-01</td><td>17            </td><td>1             </td></tr>\n",
       "\t<tr><td>3233          </td><td>SBBE2017-01-01</td><td>18            </td><td>1             </td></tr>\n",
       "\t<tr><td>3796          </td><td>SBBE2017-01-01</td><td>18            </td><td>1             </td></tr>\n",
       "</tbody>\n",
       "</table>\n"
      ],
      "text/latex": [
       "\\begin{tabular}{r|llll}\n",
       " items & sequenceID & eventID & SIZE\\\\\n",
       "\\hline\n",
       "\t 1679           & SBBE2017-01-01 & 17             & 1             \\\\\n",
       "\t 3233           & SBBE2017-01-01 & 18             & 1             \\\\\n",
       "\t 3796           & SBBE2017-01-01 & 18             & 1             \\\\\n",
       "\\end{tabular}\n"
      ],
      "text/markdown": [
       "\n",
       "items | sequenceID | eventID | SIZE | \n",
       "|---|---|---|\n",
       "| 1679           | SBBE2017-01-01 | 17             | 1              | \n",
       "| 3233           | SBBE2017-01-01 | 18             | 1              | \n",
       "| 3796           | SBBE2017-01-01 | 18             | 1              | \n",
       "\n",
       "\n"
      ],
      "text/plain": [
       "  items sequenceID     eventID SIZE\n",
       "1 1679  SBBE2017-01-01 17      1   \n",
       "2 3233  SBBE2017-01-01 18      1   \n",
       "3 3796  SBBE2017-01-01 18      1   "
      ]
     },
     "metadata": {},
     "output_type": "display_data"
    }
   ],
   "source": [
    "# agg\n",
    "query<-\"select voo as items, sequenceID, eventid, 1 as SIZE from result\"\n",
    "agg<-sqldf(query)\n",
    "agg"
   ]
  },
  {
   "cell_type": "markdown",
   "metadata": {},
   "source": [
    "Quando o arquivo está no formato **basket** cada observação representa uma transação onde os itens estão em uma mesma coluna."
   ]
  },
  {
   "cell_type": "markdown",
   "metadata": {},
   "source": [
    "Cria-se então, um conjunto de dados no formato **basket**."
   ]
  },
  {
   "cell_type": "code",
   "execution_count": 24,
   "metadata": {
    "code_folding": [
     0
    ]
   },
   "outputs": [
    {
     "data": {
      "text/html": [
       "<table>\n",
       "<thead><tr><th scope=col>items</th><th scope=col>sequenceID</th><th scope=col>eventID</th><th scope=col>SIZE</th></tr></thead>\n",
       "<tbody>\n",
       "\t<tr><td>{1679}      </td><td>SBBE20170101</td><td>17          </td><td>1           </td></tr>\n",
       "\t<tr><td>{3233,3796} </td><td>SBBE20170101</td><td>18          </td><td>2           </td></tr>\n",
       "</tbody>\n",
       "</table>\n"
      ],
      "text/latex": [
       "\\begin{tabular}{r|llll}\n",
       " items & sequenceID & eventID & SIZE\\\\\n",
       "\\hline\n",
       "\t \\{1679\\}      & SBBE20170101    & 17              & 1              \\\\\n",
       "\t \\{3233,3796\\} & SBBE20170101    & 18              & 2              \\\\\n",
       "\\end{tabular}\n"
      ],
      "text/markdown": [
       "\n",
       "items | sequenceID | eventID | SIZE | \n",
       "|---|---|\n",
       "| {1679}       | SBBE20170101 | 17           | 1            | \n",
       "| {3233,3796}  | SBBE20170101 | 18           | 2            | \n",
       "\n",
       "\n"
      ],
      "text/plain": [
       "  items       sequenceID   eventID SIZE\n",
       "1 {1679}      SBBE20170101 17      1   \n",
       "2 {3233,3796} SBBE20170101 18      2   "
      ]
     },
     "metadata": {},
     "output_type": "display_data"
    }
   ],
   "source": [
    "# Basket\n",
    "basket <- ddply(agg,c(\"sequenceID\",\"eventID\",\"SIZE\"), \n",
    "                       function(df1)paste(df1$items, \n",
    "                       collapse = \" \"))\n",
    "                \n",
    "# Renomeando as colunas com os nomes corretos na sequência\n",
    "colnames(basket) <- c(\"sequenceID\",\"eventID\",\"SIZE\",\"items\")\n",
    "\n",
    "# Calculando o SIZE com base nos items\n",
    "basket$SIZE<-sapply(strsplit(basket$items,\" \"),length)\n",
    "\n",
    "# Removendo o hífen da coluna sequenceID\n",
    "basket$sequenceID<-gsub(\"-\", \"\", basket$sequenceID)\n",
    " \n",
    "                \n",
    "\n",
    "write.table(basket, \"basket_voos.txt\", quote = FALSE, eol = \"\\n\", row.names = FALSE,\n",
    "            col.names = FALSE, fileEncoding = \"UTF-8\")\n",
    "x <- read_baskets(con = \"basket_voos.txt\", info = c(\"sequenceID\",\"eventID\",\"SIZE\"))\n",
    "\n",
    "as(x, \"data.frame\")"
   ]
  },
  {
   "cell_type": "markdown",
   "metadata": {},
   "source": [
    "### Executando o algoritmo CSPADE"
   ]
  },
  {
   "cell_type": "markdown",
   "metadata": {},
   "source": [
    "Sequências Frequentes com um suporte mínimo de 50% (ou seja, a sub-sequência ocorre em no mínimo 2 sequências de entrada)."
   ]
  },
  {
   "cell_type": "code",
   "execution_count": 25,
   "metadata": {},
   "outputs": [
    {
     "name": "stdout",
     "output_type": "stream",
     "text": [
      "\n",
      "parameter specification:\n",
      "support : 0.5\n",
      "maxsize :  10\n",
      "maxlen  :  10\n",
      "\n",
      "algorithmic control:\n",
      "bfstype  : FALSE\n",
      "verbose  :  TRUE\n",
      "summary  : FALSE\n",
      "tidLists : FALSE\n",
      "\n",
      "preprocessing ... 1 partition(s), 0 MB [0.12s]\n",
      "mining transactions ... 0 MB [0.11s]\n",
      "reading sequences ... [0.02s]\n",
      "\n",
      "total elapsed time: 0.25s\n"
     ]
    }
   ],
   "source": [
    "s <- cspade(x, parameter = list(support = 0.5), control = list(verbose = TRUE))"
   ]
  },
  {
   "cell_type": "markdown",
   "metadata": {},
   "source": [
    "**Visualizando as sequências**"
   ]
  },
  {
   "cell_type": "code",
   "execution_count": 26,
   "metadata": {},
   "outputs": [
    {
     "data": {
      "text/html": [
       "<table>\n",
       "<thead><tr><th scope=col>sequence</th><th scope=col>support</th></tr></thead>\n",
       "<tbody>\n",
       "\t<tr><td><span style=white-space:pre-wrap>&lt;{1679}&gt;            </span></td><td>1                                                                 </td></tr>\n",
       "\t<tr><td><span style=white-space:pre-wrap>&lt;{3233}&gt;            </span></td><td>1                                                                 </td></tr>\n",
       "\t<tr><td><span style=white-space:pre-wrap>&lt;{3796}&gt;            </span></td><td>1                                                                 </td></tr>\n",
       "\t<tr><td><span style=white-space:pre-wrap>&lt;{1679},{3796}&gt;     </span></td><td>1                                                                 </td></tr>\n",
       "\t<tr><td><span style=white-space:pre-wrap>&lt;{3233,3796}&gt;       </span></td><td>1                                                                 </td></tr>\n",
       "\t<tr><td>&lt;{1679},{3233,3796}&gt;</td><td>1                         </td></tr>\n",
       "\t<tr><td><span style=white-space:pre-wrap>&lt;{1679},{3233}&gt;     </span></td><td>1                                                                 </td></tr>\n",
       "</tbody>\n",
       "</table>\n"
      ],
      "text/latex": [
       "\\begin{tabular}{r|ll}\n",
       " sequence & support\\\\\n",
       "\\hline\n",
       "\t <\\{1679\\}>             & 1                       \\\\\n",
       "\t <\\{3233\\}>             & 1                       \\\\\n",
       "\t <\\{3796\\}>             & 1                       \\\\\n",
       "\t <\\{1679\\},\\{3796\\}>      & 1                           \\\\\n",
       "\t <\\{3233,3796\\}>        & 1                       \\\\\n",
       "\t <\\{1679\\},\\{3233,3796\\}> & 1                           \\\\\n",
       "\t <\\{1679\\},\\{3233\\}>      & 1                           \\\\\n",
       "\\end{tabular}\n"
      ],
      "text/markdown": [
       "\n",
       "sequence | support | \n",
       "|---|---|---|---|---|---|---|\n",
       "| <{1679}>             | 1                    | \n",
       "| <{3233}>             | 1                    | \n",
       "| <{3796}>             | 1                    | \n",
       "| <{1679},{3796}>      | 1                    | \n",
       "| <{3233,3796}>        | 1                    | \n",
       "| <{1679},{3233,3796}> | 1                    | \n",
       "| <{1679},{3233}>      | 1                    | \n",
       "\n",
       "\n"
      ],
      "text/plain": [
       "  sequence             support\n",
       "1 <{1679}>             1      \n",
       "2 <{3233}>             1      \n",
       "3 <{3796}>             1      \n",
       "4 <{1679},{3796}>      1      \n",
       "5 <{3233,3796}>        1      \n",
       "6 <{1679},{3233,3796}> 1      \n",
       "7 <{1679},{3233}>      1      "
      ]
     },
     "metadata": {},
     "output_type": "display_data"
    }
   ],
   "source": [
    "df <- as(s, \"data.frame\")\n",
    "df"
   ]
  },
  {
   "cell_type": "markdown",
   "metadata": {},
   "source": [
    "Tem-se na lista acima, os padrões sequenciais dos voos atrasados."
   ]
  },
  {
   "cell_type": "markdown",
   "metadata": {},
   "source": [
    "**Induzindo a geração das regras de atraso neste aeroporto específico (SBBE)**"
   ]
  },
  {
   "cell_type": "code",
   "execution_count": 27,
   "metadata": {
    "code_folding": [
     0
    ]
   },
   "outputs": [
    {
     "data": {
      "text/plain": [
       "set of 3 sequencerules with\n",
       "\n",
       "rule size distribution (lhs + rhs)\n",
       "sizes\n",
       "2 \n",
       "3 \n",
       "\n",
       "rule length distribution (lhs + rhs)\n",
       "lengths\n",
       "2 3 \n",
       "2 1 \n",
       "\n",
       "summary of quality measures:\n",
       "    support    confidence      lift  \n",
       " Min.   :1   Min.   :1    Min.   :1  \n",
       " 1st Qu.:1   1st Qu.:1    1st Qu.:1  \n",
       " Median :1   Median :1    Median :1  \n",
       " Mean   :1   Mean   :1    Mean   :1  \n",
       " 3rd Qu.:1   3rd Qu.:1    3rd Qu.:1  \n",
       " Max.   :1   Max.   :1    Max.   :1  \n",
       "\n",
       "mining info:\n",
       " data ntransactions nsequences support confidence\n",
       "    x             2          1     0.5       0.95"
      ]
     },
     "metadata": {},
     "output_type": "display_data"
    }
   ],
   "source": [
    "## usando uma confiança elevada\n",
    "sequenceRules <- ruleInduction(s, confidence = .95, control = list(verbose = TRUE))\n",
    "summary(sequenceRules)"
   ]
  },
  {
   "cell_type": "code",
   "execution_count": 28,
   "metadata": {},
   "outputs": [
    {
     "name": "stdout",
     "output_type": "stream",
     "text": [
      "   lhs         rhs      support confidence lift \n",
      " 1 <{1679}> => <{3796}>       1          1    1 \n",
      " 2 <{1679}> => <{3233,        1          1    1 \n",
      "                 3796}>    \n",
      " 3 <{1679}> => <{3233}>       1          1    1 \n",
      " \n"
     ]
    }
   ],
   "source": [
    "inspect(sequenceRules)"
   ]
  },
  {
   "cell_type": "markdown",
   "metadata": {},
   "source": [
    "Considerando-se um suporte de 100% e confiança de 95%, tem-se:<BR><BR>\n",
    "1. O atraso do voo 1679 implica no atraso dos voo 3796;<BR>\n",
    "2. O atraso dos voos 1679, implica no atraso conjunto dos voos 3233 e 3796; e <BR>\n",
    "3. O atraso do voo 1679 implica no atraso do voo 3233;<BR><BR>\n",
    "Logo, tem-se uma propagação de atraso entre esses voos."
   ]
  },
  {
   "cell_type": "markdown",
   "metadata": {},
   "source": [
    "**Exibindo um GRAFO de propagação de atraso no aeroporto SBBE**"
   ]
  },
  {
   "cell_type": "code",
   "execution_count": 29,
   "metadata": {
    "scrolled": false
   },
   "outputs": [
    {
     "data": {
      "image/png": "[encoded data removed]",
      "text/plain": [
       "plot without title"
      ]
     },
     "metadata": {},
     "output_type": "display_data"
    }
   ],
   "source": [
    "voo_Graph<-network(df)\n",
    "\n",
    "options(repr.plot.width=7, repr.plot.height=6)\n",
    "plot(voo_Graph, usearrows=TRUE, displaylabels=TRUE)\n",
    "\n",
    "#rm(ls())"
   ]
  },
  {
   "cell_type": "markdown",
   "metadata": {},
   "source": [
    "#### Induzindo a geração das regras de atraso entre os aeroportos SBGR e SBCF**"
   ]
  },
  {
   "cell_type": "markdown",
   "metadata": {},
   "source": [
    "Selecionando-se as partidas dos aeroportos SBGR e SBCF em uma data específica."
   ]
  },
  {
   "cell_type": "code",
   "execution_count": 37,
   "metadata": {
    "code_folding": [
     0
    ],
    "scrolled": false
   },
   "outputs": [
    {
     "data": {
      "text/html": [
       "<table>\n",
       "<thead><tr><th scope=col>voo</th><th scope=col>sequenceID</th><th scope=col>eventID</th><th scope=col>icao_destino</th><th scope=col>arrival_date</th><th scope=col>arrival_tt</th><th scope=col>atraso_partida</th><th scope=col>atraso_chegada</th><th scope=col>origem_condicoes</th><th scope=col>destino_condicoes</th></tr></thead>\n",
       "<tbody>\n",
       "\t<tr><td>6578                  </td><td>SBGR2017-01-05        </td><td>16                    </td><td>SBBE                  </td><td>2017-01-05            </td><td>20                    </td><td>103                   </td><td>95                    </td><td>Partly Cloudy         </td><td>Thunderstorms and Rain</td></tr>\n",
       "\t<tr><td>3378                  </td><td>SBCF2017-01-05        </td><td>11                    </td><td>SBRF                  </td><td>2017-01-05            </td><td>14                    </td><td> 35                   </td><td>33                    </td><td>Partly Cloudy         </td><td>Scattered Clouds      </td></tr>\n",
       "\t<tr><td>5019                  </td><td>SBGR2017-01-05        </td><td>13                    </td><td>SBPA                  </td><td>2017-01-05            </td><td>15                    </td><td> 17                   </td><td>20                    </td><td>Scattered Clouds      </td><td>Mostly Cloudy         </td></tr>\n",
       "\t<tr><td>6312                  </td><td>SBGR2017-01-05        </td><td>07                    </td><td>SBSV                  </td><td>2017-01-05            </td><td>09                    </td><td> 92                   </td><td>81                    </td><td>Clear                 </td><td>Scattered Clouds      </td></tr>\n",
       "\t<tr><td>3345                  </td><td>SBCF2017-01-05        </td><td>10                    </td><td>SBGR                  </td><td>2017-01-05            </td><td>12                    </td><td> 29                   </td><td>32                    </td><td>Clear                 </td><td>Scattered Clouds      </td></tr>\n",
       "\t<tr><td>3326                  </td><td>SBGR2017-01-05        </td><td>18                    </td><td>SBCF                  </td><td>2017-01-05            </td><td>19                    </td><td> 26                   </td><td>15                    </td><td>Partly Cloudy         </td><td>Partly Cloudy         </td></tr>\n",
       "\t<tr><td>4846                  </td><td>SBGR2017-01-05        </td><td>16                    </td><td>SBSV                  </td><td>2017-01-05            </td><td>19                    </td><td> 22                   </td><td>40                    </td><td>Partly Cloudy         </td><td>Scattered Clouds      </td></tr>\n",
       "\t<tr><td>3516                  </td><td>SBGR2017-01-05        </td><td>17                    </td><td>SBRF                  </td><td>2017-01-05            </td><td>20                    </td><td> 15                   </td><td>22                    </td><td>Partly Cloudy         </td><td>Scattered Clouds      </td></tr>\n",
       "\t<tr><td>3299                  </td><td>SBGR2017-01-05        </td><td>08                    </td><td>SBPA                  </td><td>2017-01-05            </td><td>10                    </td><td> 16                   </td><td>20                    </td><td>Clear                 </td><td>Clear                 </td></tr>\n",
       "\t<tr><td>3804                  </td><td>SBGR2017-01-05        </td><td>11                    </td><td>SBSV                  </td><td>2017-01-05            </td><td>14                    </td><td> 19                   </td><td>26                    </td><td>Scattered Clouds      </td><td>Scattered Clouds      </td></tr>\n",
       "\t<tr><td>2185                  </td><td>SBCF2017-01-05        </td><td>12                    </td><td>SBGL                  </td><td>2017-01-05            </td><td>13                    </td><td> 46                   </td><td>36                    </td><td>Partly Cloudy         </td><td>Scattered Clouds      </td></tr>\n",
       "\t<tr><td>3662                  </td><td>SBGR2017-01-05        </td><td>18                    </td><td>SBSV                  </td><td>2017-01-05            </td><td>21                    </td><td> 33                   </td><td>31                    </td><td>Clear                 </td><td>Scattered Clouds      </td></tr>\n",
       "\t<tr><td>1913                  </td><td>SBCF2017-01-05        </td><td>20                    </td><td>SBGL                  </td><td>2017-01-05            </td><td>21                    </td><td> 36                   </td><td>50                    </td><td>Partly Cloudy         </td><td>Thunderstorms and Rain</td></tr>\n",
       "\t<tr><td>4120                  </td><td>SBCF2017-01-05        </td><td>16                    </td><td>SBKP                  </td><td>2017-01-05            </td><td>17                    </td><td> 25                   </td><td>23                    </td><td>Partly Cloudy         </td><td>Scattered Clouds      </td></tr>\n",
       "\t<tr><td>1098                  </td><td>SBGR2017-01-05        </td><td>21                    </td><td>SBGL                  </td><td>2017-01-05            </td><td>22                    </td><td> 70                   </td><td>50                    </td><td>Clear                 </td><td>Thunderstorm          </td></tr>\n",
       "\t<tr><td>3896                  </td><td>SBGR2017-01-05        </td><td>08                    </td><td>SBSV                  </td><td>2017-01-05            </td><td>11                    </td><td> 34                   </td><td>36                    </td><td>Clear                 </td><td>Scattered Clouds      </td></tr>\n",
       "\t<tr><td>1329                  </td><td>SBCF2017-01-05        </td><td>19                    </td><td>SBGR                  </td><td>2017-01-05            </td><td>21                    </td><td> 15                   </td><td>42                    </td><td>Partly Cloudy         </td><td>Clear                 </td></tr>\n",
       "\t<tr><td>1703                  </td><td>SBCF2017-01-05        </td><td>11                    </td><td>SBBR                  </td><td>2017-01-05            </td><td>13                    </td><td> 26                   </td><td>16                    </td><td>Partly Cloudy         </td><td>Partly Cloudy         </td></tr>\n",
       "\t<tr><td>1408                  </td><td>SBGR2017-01-05        </td><td>06                    </td><td>SBBR                  </td><td>2017-01-05            </td><td>08                    </td><td> 16                   </td><td>18                    </td><td>Clear                 </td><td>Clear                 </td></tr>\n",
       "\t<tr><td>1620                  </td><td>SBGR2017-01-05        </td><td>22                    </td><td>SBRF                  </td><td>2017-01-06            </td><td>01                    </td><td> 18                   </td><td>17                    </td><td>Clear                 </td><td>Scattered Clouds      </td></tr>\n",
       "\t<tr><td>4488                  </td><td>SBGR2017-01-05        </td><td>18                    </td><td>SBRF                  </td><td>2017-01-05            </td><td>22                    </td><td> 32                   </td><td>53                    </td><td>Clear                 </td><td>Scattered Clouds      </td></tr>\n",
       "\t<tr><td>2700                  </td><td>SBGR2017-01-05        </td><td>09                    </td><td>SBRF                  </td><td>2017-01-05            </td><td>12                    </td><td> 26                   </td><td>33                    </td><td>Clear                 </td><td>Mostly Cloudy         </td></tr>\n",
       "\t<tr><td>3408                  </td><td>SBGR2017-01-05        </td><td>10                    </td><td>SBEG                  </td><td>2017-01-05            </td><td>14                    </td><td> 48                   </td><td>31                    </td><td>Clear                 </td><td>Scattered Clouds      </td></tr>\n",
       "\t<tr><td>3344                  </td><td>SBGR2017-01-05        </td><td>09                    </td><td>SBCF                  </td><td>2017-01-05            </td><td>10                    </td><td> 21                   </td><td>29                    </td><td>Clear                 </td><td>Clear                 </td></tr>\n",
       "</tbody>\n",
       "</table>\n"
      ],
      "text/latex": [
       "\\begin{tabular}{r|llllllllll}\n",
       " voo & sequenceID & eventID & icao\\_destino & arrival\\_date & arrival\\_tt & atraso\\_partida & atraso\\_chegada & origem\\_condicoes & destino\\_condicoes\\\\\n",
       "\\hline\n",
       "\t 6578                   & SBGR2017-01-05         & 16                     & SBBE                   & 2017-01-05             & 20                     & 103                    & 95                     & Partly Cloudy          & Thunderstorms and Rain\\\\\n",
       "\t 3378                   & SBCF2017-01-05         & 11                     & SBRF                   & 2017-01-05             & 14                     &  35                    & 33                     & Partly Cloudy          & Scattered Clouds      \\\\\n",
       "\t 5019                   & SBGR2017-01-05         & 13                     & SBPA                   & 2017-01-05             & 15                     &  17                    & 20                     & Scattered Clouds       & Mostly Cloudy         \\\\\n",
       "\t 6312                   & SBGR2017-01-05         & 07                     & SBSV                   & 2017-01-05             & 09                     &  92                    & 81                     & Clear                  & Scattered Clouds      \\\\\n",
       "\t 3345                   & SBCF2017-01-05         & 10                     & SBGR                   & 2017-01-05             & 12                     &  29                    & 32                     & Clear                  & Scattered Clouds      \\\\\n",
       "\t 3326                   & SBGR2017-01-05         & 18                     & SBCF                   & 2017-01-05             & 19                     &  26                    & 15                     & Partly Cloudy          & Partly Cloudy         \\\\\n",
       "\t 4846                   & SBGR2017-01-05         & 16                     & SBSV                   & 2017-01-05             & 19                     &  22                    & 40                     & Partly Cloudy          & Scattered Clouds      \\\\\n",
       "\t 3516                   & SBGR2017-01-05         & 17                     & SBRF                   & 2017-01-05             & 20                     &  15                    & 22                     & Partly Cloudy          & Scattered Clouds      \\\\\n",
       "\t 3299                   & SBGR2017-01-05         & 08                     & SBPA                   & 2017-01-05             & 10                     &  16                    & 20                     & Clear                  & Clear                 \\\\\n",
       "\t 3804                   & SBGR2017-01-05         & 11                     & SBSV                   & 2017-01-05             & 14                     &  19                    & 26                     & Scattered Clouds       & Scattered Clouds      \\\\\n",
       "\t 2185                   & SBCF2017-01-05         & 12                     & SBGL                   & 2017-01-05             & 13                     &  46                    & 36                     & Partly Cloudy          & Scattered Clouds      \\\\\n",
       "\t 3662                   & SBGR2017-01-05         & 18                     & SBSV                   & 2017-01-05             & 21                     &  33                    & 31                     & Clear                  & Scattered Clouds      \\\\\n",
       "\t 1913                   & SBCF2017-01-05         & 20                     & SBGL                   & 2017-01-05             & 21                     &  36                    & 50                     & Partly Cloudy          & Thunderstorms and Rain\\\\\n",
       "\t 4120                   & SBCF2017-01-05         & 16                     & SBKP                   & 2017-01-05             & 17                     &  25                    & 23                     & Partly Cloudy          & Scattered Clouds      \\\\\n",
       "\t 1098                   & SBGR2017-01-05         & 21                     & SBGL                   & 2017-01-05             & 22                     &  70                    & 50                     & Clear                  & Thunderstorm          \\\\\n",
       "\t 3896                   & SBGR2017-01-05         & 08                     & SBSV                   & 2017-01-05             & 11                     &  34                    & 36                     & Clear                  & Scattered Clouds      \\\\\n",
       "\t 1329                   & SBCF2017-01-05         & 19                     & SBGR                   & 2017-01-05             & 21                     &  15                    & 42                     & Partly Cloudy          & Clear                 \\\\\n",
       "\t 1703                   & SBCF2017-01-05         & 11                     & SBBR                   & 2017-01-05             & 13                     &  26                    & 16                     & Partly Cloudy          & Partly Cloudy         \\\\\n",
       "\t 1408                   & SBGR2017-01-05         & 06                     & SBBR                   & 2017-01-05             & 08                     &  16                    & 18                     & Clear                  & Clear                 \\\\\n",
       "\t 1620                   & SBGR2017-01-05         & 22                     & SBRF                   & 2017-01-06             & 01                     &  18                    & 17                     & Clear                  & Scattered Clouds      \\\\\n",
       "\t 4488                   & SBGR2017-01-05         & 18                     & SBRF                   & 2017-01-05             & 22                     &  32                    & 53                     & Clear                  & Scattered Clouds      \\\\\n",
       "\t 2700                   & SBGR2017-01-05         & 09                     & SBRF                   & 2017-01-05             & 12                     &  26                    & 33                     & Clear                  & Mostly Cloudy         \\\\\n",
       "\t 3408                   & SBGR2017-01-05         & 10                     & SBEG                   & 2017-01-05             & 14                     &  48                    & 31                     & Clear                  & Scattered Clouds      \\\\\n",
       "\t 3344                   & SBGR2017-01-05         & 09                     & SBCF                   & 2017-01-05             & 10                     &  21                    & 29                     & Clear                  & Clear                 \\\\\n",
       "\\end{tabular}\n"
      ],
      "text/markdown": [
       "\n",
       "voo | sequenceID | eventID | icao_destino | arrival_date | arrival_tt | atraso_partida | atraso_chegada | origem_condicoes | destino_condicoes | \n",
       "|---|---|---|---|---|---|---|---|---|---|---|---|---|---|---|---|---|---|---|---|---|---|---|---|\n",
       "| 6578                   | SBGR2017-01-05         | 16                     | SBBE                   | 2017-01-05             | 20                     | 103                    | 95                     | Partly Cloudy          | Thunderstorms and Rain | \n",
       "| 3378                   | SBCF2017-01-05         | 11                     | SBRF                   | 2017-01-05             | 14                     |  35                    | 33                     | Partly Cloudy          | Scattered Clouds       | \n",
       "| 5019                   | SBGR2017-01-05         | 13                     | SBPA                   | 2017-01-05             | 15                     |  17                    | 20                     | Scattered Clouds       | Mostly Cloudy          | \n",
       "| 6312                   | SBGR2017-01-05         | 07                     | SBSV                   | 2017-01-05             | 09                     |  92                    | 81                     | Clear                  | Scattered Clouds       | \n",
       "| 3345                   | SBCF2017-01-05         | 10                     | SBGR                   | 2017-01-05             | 12                     |  29                    | 32                     | Clear                  | Scattered Clouds       | \n",
       "| 3326                   | SBGR2017-01-05         | 18                     | SBCF                   | 2017-01-05             | 19                     |  26                    | 15                     | Partly Cloudy          | Partly Cloudy          | \n",
       "| 4846                   | SBGR2017-01-05         | 16                     | SBSV                   | 2017-01-05             | 19                     |  22                    | 40                     | Partly Cloudy          | Scattered Clouds       | \n",
       "| 3516                   | SBGR2017-01-05         | 17                     | SBRF                   | 2017-01-05             | 20                     |  15                    | 22                     | Partly Cloudy          | Scattered Clouds       | \n",
       "| 3299                   | SBGR2017-01-05         | 08                     | SBPA                   | 2017-01-05             | 10                     |  16                    | 20                     | Clear                  | Clear                  | \n",
       "| 3804                   | SBGR2017-01-05         | 11                     | SBSV                   | 2017-01-05             | 14                     |  19                    | 26                     | Scattered Clouds       | Scattered Clouds       | \n",
       "| 2185                   | SBCF2017-01-05         | 12                     | SBGL                   | 2017-01-05             | 13                     |  46                    | 36                     | Partly Cloudy          | Scattered Clouds       | \n",
       "| 3662                   | SBGR2017-01-05         | 18                     | SBSV                   | 2017-01-05             | 21                     |  33                    | 31                     | Clear                  | Scattered Clouds       | \n",
       "| 1913                   | SBCF2017-01-05         | 20                     | SBGL                   | 2017-01-05             | 21                     |  36                    | 50                     | Partly Cloudy          | Thunderstorms and Rain | \n",
       "| 4120                   | SBCF2017-01-05         | 16                     | SBKP                   | 2017-01-05             | 17                     |  25                    | 23                     | Partly Cloudy          | Scattered Clouds       | \n",
       "| 1098                   | SBGR2017-01-05         | 21                     | SBGL                   | 2017-01-05             | 22                     |  70                    | 50                     | Clear                  | Thunderstorm           | \n",
       "| 3896                   | SBGR2017-01-05         | 08                     | SBSV                   | 2017-01-05             | 11                     |  34                    | 36                     | Clear                  | Scattered Clouds       | \n",
       "| 1329                   | SBCF2017-01-05         | 19                     | SBGR                   | 2017-01-05             | 21                     |  15                    | 42                     | Partly Cloudy          | Clear                  | \n",
       "| 1703                   | SBCF2017-01-05         | 11                     | SBBR                   | 2017-01-05             | 13                     |  26                    | 16                     | Partly Cloudy          | Partly Cloudy          | \n",
       "| 1408                   | SBGR2017-01-05         | 06                     | SBBR                   | 2017-01-05             | 08                     |  16                    | 18                     | Clear                  | Clear                  | \n",
       "| 1620                   | SBGR2017-01-05         | 22                     | SBRF                   | 2017-01-06             | 01                     |  18                    | 17                     | Clear                  | Scattered Clouds       | \n",
       "| 4488                   | SBGR2017-01-05         | 18                     | SBRF                   | 2017-01-05             | 22                     |  32                    | 53                     | Clear                  | Scattered Clouds       | \n",
       "| 2700                   | SBGR2017-01-05         | 09                     | SBRF                   | 2017-01-05             | 12                     |  26                    | 33                     | Clear                  | Mostly Cloudy          | \n",
       "| 3408                   | SBGR2017-01-05         | 10                     | SBEG                   | 2017-01-05             | 14                     |  48                    | 31                     | Clear                  | Scattered Clouds       | \n",
       "| 3344                   | SBGR2017-01-05         | 09                     | SBCF                   | 2017-01-05             | 10                     |  21                    | 29                     | Clear                  | Clear                  | \n",
       "\n",
       "\n"
      ],
      "text/plain": [
       "   voo  sequenceID     eventID icao_destino arrival_date arrival_tt\n",
       "1  6578 SBGR2017-01-05 16      SBBE         2017-01-05   20        \n",
       "2  3378 SBCF2017-01-05 11      SBRF         2017-01-05   14        \n",
       "3  5019 SBGR2017-01-05 13      SBPA         2017-01-05   15        \n",
       "4  6312 SBGR2017-01-05 07      SBSV         2017-01-05   09        \n",
       "5  3345 SBCF2017-01-05 10      SBGR         2017-01-05   12        \n",
       "6  3326 SBGR2017-01-05 18      SBCF         2017-01-05   19        \n",
       "7  4846 SBGR2017-01-05 16      SBSV         2017-01-05   19        \n",
       "8  3516 SBGR2017-01-05 17      SBRF         2017-01-05   20        \n",
       "9  3299 SBGR2017-01-05 08      SBPA         2017-01-05   10        \n",
       "10 3804 SBGR2017-01-05 11      SBSV         2017-01-05   14        \n",
       "11 2185 SBCF2017-01-05 12      SBGL         2017-01-05   13        \n",
       "12 3662 SBGR2017-01-05 18      SBSV         2017-01-05   21        \n",
       "13 1913 SBCF2017-01-05 20      SBGL         2017-01-05   21        \n",
       "14 4120 SBCF2017-01-05 16      SBKP         2017-01-05   17        \n",
       "15 1098 SBGR2017-01-05 21      SBGL         2017-01-05   22        \n",
       "16 3896 SBGR2017-01-05 08      SBSV         2017-01-05   11        \n",
       "17 1329 SBCF2017-01-05 19      SBGR         2017-01-05   21        \n",
       "18 1703 SBCF2017-01-05 11      SBBR         2017-01-05   13        \n",
       "19 1408 SBGR2017-01-05 06      SBBR         2017-01-05   08        \n",
       "20 1620 SBGR2017-01-05 22      SBRF         2017-01-06   01        \n",
       "21 4488 SBGR2017-01-05 18      SBRF         2017-01-05   22        \n",
       "22 2700 SBGR2017-01-05 09      SBRF         2017-01-05   12        \n",
       "23 3408 SBGR2017-01-05 10      SBEG         2017-01-05   14        \n",
       "24 3344 SBGR2017-01-05 09      SBCF         2017-01-05   10        \n",
       "   atraso_partida atraso_chegada origem_condicoes destino_condicoes     \n",
       "1  103            95             Partly Cloudy    Thunderstorms and Rain\n",
       "2   35            33             Partly Cloudy    Scattered Clouds      \n",
       "3   17            20             Scattered Clouds Mostly Cloudy         \n",
       "4   92            81             Clear            Scattered Clouds      \n",
       "5   29            32             Clear            Scattered Clouds      \n",
       "6   26            15             Partly Cloudy    Partly Cloudy         \n",
       "7   22            40             Partly Cloudy    Scattered Clouds      \n",
       "8   15            22             Partly Cloudy    Scattered Clouds      \n",
       "9   16            20             Clear            Clear                 \n",
       "10  19            26             Scattered Clouds Scattered Clouds      \n",
       "11  46            36             Partly Cloudy    Scattered Clouds      \n",
       "12  33            31             Clear            Scattered Clouds      \n",
       "13  36            50             Partly Cloudy    Thunderstorms and Rain\n",
       "14  25            23             Partly Cloudy    Scattered Clouds      \n",
       "15  70            50             Clear            Thunderstorm          \n",
       "16  34            36             Clear            Scattered Clouds      \n",
       "17  15            42             Partly Cloudy    Clear                 \n",
       "18  26            16             Partly Cloudy    Partly Cloudy         \n",
       "19  16            18             Clear            Clear                 \n",
       "20  18            17             Clear            Scattered Clouds      \n",
       "21  32            53             Clear            Scattered Clouds      \n",
       "22  26            33             Clear            Mostly Cloudy         \n",
       "23  48            31             Clear            Scattered Clouds      \n",
       "24  21            29             Clear            Clear                 "
      ]
     },
     "metadata": {},
     "output_type": "display_data"
    }
   ],
   "source": [
    "# partidasSBGR_SBCF\n",
    "query<-\"select voo, icao_origem||depart_date as sequenceID, depart_tt as eventID, icao_destino, arrival_date, arrival_tt,\n",
    "atraso_partida, atraso_chegada, origem_condicoes, destino_condicoes\"\n",
    "query<-paste(query, \"from voos where (icao_origem='SBGR' or icao_origem='SBCF') and depart_date='2017-01-05'\", sep=\" \")\n",
    "\n",
    "partidasSBGR_SBCF<-sqldf(query)\n",
    "\n",
    "partidasSBGR_SBCF"
   ]
  },
  {
   "cell_type": "markdown",
   "metadata": {},
   "source": [
    "Selecionando-se as chegadas nos aeroportos SBGR e SBCF em uma data específica."
   ]
  },
  {
   "cell_type": "code",
   "execution_count": 40,
   "metadata": {
    "code_folding": [
     0
    ]
   },
   "outputs": [
    {
     "data": {
      "text/html": [
       "<table>\n",
       "<thead><tr><th scope=col>voo</th><th scope=col>sequenceID</th><th scope=col>eventID</th><th scope=col>icao_origem</th><th scope=col>depart_date</th><th scope=col>depart_tt</th><th scope=col>atraso_partida</th><th scope=col>atraso_chegada</th><th scope=col>origem_condicoes</th><th scope=col>destino_condicoes</th></tr></thead>\n",
       "<tbody>\n",
       "\t<tr><td>6577                  </td><td>SBGR2017-01-05        </td><td>15                    </td><td>SBEG                  </td><td>2017-01-05            </td><td>11                    </td><td>102                   </td><td>114                   </td><td>Partly Cloudy         </td><td>Scattered Clouds      </td></tr>\n",
       "\t<tr><td>3815                  </td><td>SBGR2017-01-05        </td><td>00                    </td><td>SBSV                  </td><td>2017-01-04            </td><td>21                    </td><td> 19                   </td><td> 15                   </td><td>Scattered Clouds      </td><td>Clear                 </td></tr>\n",
       "\t<tr><td>6305                  </td><td>SBGR2017-01-05        </td><td>14                    </td><td>SBRF                  </td><td>2017-01-05            </td><td>11                    </td><td> 73                   </td><td> 67                   </td><td>Mostly Cloudy         </td><td>Scattered Clouds      </td></tr>\n",
       "\t<tr><td>4847                  </td><td>SBGR2017-01-05        </td><td>21                    </td><td>SBSV                  </td><td>2017-01-05            </td><td>19                    </td><td> 23                   </td><td> 23                   </td><td>Scattered Clouds      </td><td>Clear                 </td></tr>\n",
       "\t<tr><td>1095                  </td><td>SBGR2017-01-05        </td><td>19                    </td><td>SBGL                  </td><td>2017-01-05            </td><td>18                    </td><td> 90                   </td><td> 84                   </td><td>Thunderstorms and Rain</td><td>Clear                 </td></tr>\n",
       "\t<tr><td>3345                  </td><td>SBGR2017-01-05        </td><td>12                    </td><td>SBCF                  </td><td>2017-01-05            </td><td>10                    </td><td> 29                   </td><td> 32                   </td><td>Clear                 </td><td>Scattered Clouds      </td></tr>\n",
       "\t<tr><td>1833                  </td><td>SBCF2017-01-05        </td><td>22                    </td><td>SBSV                  </td><td>2017-01-05            </td><td>20                    </td><td> 18                   </td><td> 20                   </td><td>Scattered Clouds      </td><td>Partly Cloudy         </td></tr>\n",
       "\t<tr><td>3326                  </td><td>SBCF2017-01-05        </td><td>19                    </td><td>SBGR                  </td><td>2017-01-05            </td><td>18                    </td><td> 26                   </td><td> 15                   </td><td>Partly Cloudy         </td><td>Partly Cloudy         </td></tr>\n",
       "\t<tr><td>1700                  </td><td>SBCF2017-01-05        </td><td>11                    </td><td>SBBR                  </td><td>2017-01-05            </td><td>10                    </td><td> 27                   </td><td> 19                   </td><td>Clear                 </td><td>Partly Cloudy         </td></tr>\n",
       "\t<tr><td>6315                  </td><td>SBGR2017-01-05        </td><td>17                    </td><td>SBSV                  </td><td>2017-01-05            </td><td>15                    </td><td> 53                   </td><td> 34                   </td><td>Light Rain Showers    </td><td>Partly Cloudy         </td></tr>\n",
       "\t<tr><td>1419                  </td><td>SBGR2017-01-05        </td><td>23                    </td><td>SBBR                  </td><td>2017-01-05            </td><td>22                    </td><td> 61                   </td><td> 51                   </td><td>Partly Cloudy         </td><td>Clear                 </td></tr>\n",
       "\t<tr><td>1233                  </td><td>SBGR2017-01-05        </td><td>12                    </td><td>SBPA                  </td><td>2017-01-05            </td><td>10                    </td><td> 17                   </td><td> 23                   </td><td>Clear                 </td><td>Scattered Clouds      </td></tr>\n",
       "\t<tr><td>1677                  </td><td>SBGR2017-01-05        </td><td>10                    </td><td>SBBE                  </td><td>2017-01-05            </td><td>06                    </td><td> 48                   </td><td> 55                   </td><td>Clear                 </td><td>Clear                 </td></tr>\n",
       "\t<tr><td>1679                  </td><td>SBGR2017-01-05        </td><td>20                    </td><td>SBBE                  </td><td>2017-01-05            </td><td>16                    </td><td> 19                   </td><td> 34                   </td><td>Partly Cloudy         </td><td>Clear                 </td></tr>\n",
       "\t<tr><td>1329                  </td><td>SBGR2017-01-05        </td><td>21                    </td><td>SBCF                  </td><td>2017-01-05            </td><td>19                    </td><td> 15                   </td><td> 42                   </td><td>Partly Cloudy         </td><td>Clear                 </td></tr>\n",
       "\t<tr><td>3895                  </td><td>SBGR2017-01-05        </td><td>14                    </td><td>SBSV                  </td><td>2017-01-05            </td><td>11                    </td><td> 38                   </td><td> 24                   </td><td>Scattered Clouds      </td><td>Scattered Clouds      </td></tr>\n",
       "\t<tr><td>5187                  </td><td>SBGR2017-01-05        </td><td>13                    </td><td>SBPA                  </td><td>2017-01-05            </td><td>11                    </td><td> 16                   </td><td> 21                   </td><td>Clear                 </td><td>Scattered Clouds      </td></tr>\n",
       "\t<tr><td>1525                  </td><td>SBGR2017-01-05        </td><td>20                    </td><td>SBFZ                  </td><td>2017-01-05            </td><td>16                    </td><td> 18                   </td><td> 29                   </td><td>Clear                 </td><td>Clear                 </td></tr>\n",
       "\t<tr><td>3344                  </td><td>SBCF2017-01-05        </td><td>10                    </td><td>SBGR                  </td><td>2017-01-05            </td><td>09                    </td><td> 21                   </td><td> 29                   </td><td>Clear                 </td><td>Clear                 </td></tr>\n",
       "\t<tr><td>3669                  </td><td>SBGR2017-01-05        </td><td>23                    </td><td>SBGL                  </td><td>2017-01-05            </td><td>22                    </td><td> 21                   </td><td> 35                   </td><td>Thunderstorm          </td><td>Clear                 </td></tr>\n",
       "\t<tr><td>3291                  </td><td>SBGR2017-01-05        </td><td>03                    </td><td>SBRF                  </td><td>2017-01-05            </td><td>00                    </td><td> 41                   </td><td> 29                   </td><td>Scattered Clouds      </td><td>Clear                 </td></tr>\n",
       "</tbody>\n",
       "</table>\n"
      ],
      "text/latex": [
       "\\begin{tabular}{r|llllllllll}\n",
       " voo & sequenceID & eventID & icao\\_origem & depart\\_date & depart\\_tt & atraso\\_partida & atraso\\_chegada & origem\\_condicoes & destino\\_condicoes\\\\\n",
       "\\hline\n",
       "\t 6577                   & SBGR2017-01-05         & 15                     & SBEG                   & 2017-01-05             & 11                     & 102                    & 114                    & Partly Cloudy          & Scattered Clouds      \\\\\n",
       "\t 3815                   & SBGR2017-01-05         & 00                     & SBSV                   & 2017-01-04             & 21                     &  19                    &  15                    & Scattered Clouds       & Clear                 \\\\\n",
       "\t 6305                   & SBGR2017-01-05         & 14                     & SBRF                   & 2017-01-05             & 11                     &  73                    &  67                    & Mostly Cloudy          & Scattered Clouds      \\\\\n",
       "\t 4847                   & SBGR2017-01-05         & 21                     & SBSV                   & 2017-01-05             & 19                     &  23                    &  23                    & Scattered Clouds       & Clear                 \\\\\n",
       "\t 1095                   & SBGR2017-01-05         & 19                     & SBGL                   & 2017-01-05             & 18                     &  90                    &  84                    & Thunderstorms and Rain & Clear                 \\\\\n",
       "\t 3345                   & SBGR2017-01-05         & 12                     & SBCF                   & 2017-01-05             & 10                     &  29                    &  32                    & Clear                  & Scattered Clouds      \\\\\n",
       "\t 1833                   & SBCF2017-01-05         & 22                     & SBSV                   & 2017-01-05             & 20                     &  18                    &  20                    & Scattered Clouds       & Partly Cloudy         \\\\\n",
       "\t 3326                   & SBCF2017-01-05         & 19                     & SBGR                   & 2017-01-05             & 18                     &  26                    &  15                    & Partly Cloudy          & Partly Cloudy         \\\\\n",
       "\t 1700                   & SBCF2017-01-05         & 11                     & SBBR                   & 2017-01-05             & 10                     &  27                    &  19                    & Clear                  & Partly Cloudy         \\\\\n",
       "\t 6315                   & SBGR2017-01-05         & 17                     & SBSV                   & 2017-01-05             & 15                     &  53                    &  34                    & Light Rain Showers     & Partly Cloudy         \\\\\n",
       "\t 1419                   & SBGR2017-01-05         & 23                     & SBBR                   & 2017-01-05             & 22                     &  61                    &  51                    & Partly Cloudy          & Clear                 \\\\\n",
       "\t 1233                   & SBGR2017-01-05         & 12                     & SBPA                   & 2017-01-05             & 10                     &  17                    &  23                    & Clear                  & Scattered Clouds      \\\\\n",
       "\t 1677                   & SBGR2017-01-05         & 10                     & SBBE                   & 2017-01-05             & 06                     &  48                    &  55                    & Clear                  & Clear                 \\\\\n",
       "\t 1679                   & SBGR2017-01-05         & 20                     & SBBE                   & 2017-01-05             & 16                     &  19                    &  34                    & Partly Cloudy          & Clear                 \\\\\n",
       "\t 1329                   & SBGR2017-01-05         & 21                     & SBCF                   & 2017-01-05             & 19                     &  15                    &  42                    & Partly Cloudy          & Clear                 \\\\\n",
       "\t 3895                   & SBGR2017-01-05         & 14                     & SBSV                   & 2017-01-05             & 11                     &  38                    &  24                    & Scattered Clouds       & Scattered Clouds      \\\\\n",
       "\t 5187                   & SBGR2017-01-05         & 13                     & SBPA                   & 2017-01-05             & 11                     &  16                    &  21                    & Clear                  & Scattered Clouds      \\\\\n",
       "\t 1525                   & SBGR2017-01-05         & 20                     & SBFZ                   & 2017-01-05             & 16                     &  18                    &  29                    & Clear                  & Clear                 \\\\\n",
       "\t 3344                   & SBCF2017-01-05         & 10                     & SBGR                   & 2017-01-05             & 09                     &  21                    &  29                    & Clear                  & Clear                 \\\\\n",
       "\t 3669                   & SBGR2017-01-05         & 23                     & SBGL                   & 2017-01-05             & 22                     &  21                    &  35                    & Thunderstorm           & Clear                 \\\\\n",
       "\t 3291                   & SBGR2017-01-05         & 03                     & SBRF                   & 2017-01-05             & 00                     &  41                    &  29                    & Scattered Clouds       & Clear                 \\\\\n",
       "\\end{tabular}\n"
      ],
      "text/markdown": [
       "\n",
       "voo | sequenceID | eventID | icao_origem | depart_date | depart_tt | atraso_partida | atraso_chegada | origem_condicoes | destino_condicoes | \n",
       "|---|---|---|---|---|---|---|---|---|---|---|---|---|---|---|---|---|---|---|---|---|\n",
       "| 6577                   | SBGR2017-01-05         | 15                     | SBEG                   | 2017-01-05             | 11                     | 102                    | 114                    | Partly Cloudy          | Scattered Clouds       | \n",
       "| 3815                   | SBGR2017-01-05         | 00                     | SBSV                   | 2017-01-04             | 21                     |  19                    |  15                    | Scattered Clouds       | Clear                  | \n",
       "| 6305                   | SBGR2017-01-05         | 14                     | SBRF                   | 2017-01-05             | 11                     |  73                    |  67                    | Mostly Cloudy          | Scattered Clouds       | \n",
       "| 4847                   | SBGR2017-01-05         | 21                     | SBSV                   | 2017-01-05             | 19                     |  23                    |  23                    | Scattered Clouds       | Clear                  | \n",
       "| 1095                   | SBGR2017-01-05         | 19                     | SBGL                   | 2017-01-05             | 18                     |  90                    |  84                    | Thunderstorms and Rain | Clear                  | \n",
       "| 3345                   | SBGR2017-01-05         | 12                     | SBCF                   | 2017-01-05             | 10                     |  29                    |  32                    | Clear                  | Scattered Clouds       | \n",
       "| 1833                   | SBCF2017-01-05         | 22                     | SBSV                   | 2017-01-05             | 20                     |  18                    |  20                    | Scattered Clouds       | Partly Cloudy          | \n",
       "| 3326                   | SBCF2017-01-05         | 19                     | SBGR                   | 2017-01-05             | 18                     |  26                    |  15                    | Partly Cloudy          | Partly Cloudy          | \n",
       "| 1700                   | SBCF2017-01-05         | 11                     | SBBR                   | 2017-01-05             | 10                     |  27                    |  19                    | Clear                  | Partly Cloudy          | \n",
       "| 6315                   | SBGR2017-01-05         | 17                     | SBSV                   | 2017-01-05             | 15                     |  53                    |  34                    | Light Rain Showers     | Partly Cloudy          | \n",
       "| 1419                   | SBGR2017-01-05         | 23                     | SBBR                   | 2017-01-05             | 22                     |  61                    |  51                    | Partly Cloudy          | Clear                  | \n",
       "| 1233                   | SBGR2017-01-05         | 12                     | SBPA                   | 2017-01-05             | 10                     |  17                    |  23                    | Clear                  | Scattered Clouds       | \n",
       "| 1677                   | SBGR2017-01-05         | 10                     | SBBE                   | 2017-01-05             | 06                     |  48                    |  55                    | Clear                  | Clear                  | \n",
       "| 1679                   | SBGR2017-01-05         | 20                     | SBBE                   | 2017-01-05             | 16                     |  19                    |  34                    | Partly Cloudy          | Clear                  | \n",
       "| 1329                   | SBGR2017-01-05         | 21                     | SBCF                   | 2017-01-05             | 19                     |  15                    |  42                    | Partly Cloudy          | Clear                  | \n",
       "| 3895                   | SBGR2017-01-05         | 14                     | SBSV                   | 2017-01-05             | 11                     |  38                    |  24                    | Scattered Clouds       | Scattered Clouds       | \n",
       "| 5187                   | SBGR2017-01-05         | 13                     | SBPA                   | 2017-01-05             | 11                     |  16                    |  21                    | Clear                  | Scattered Clouds       | \n",
       "| 1525                   | SBGR2017-01-05         | 20                     | SBFZ                   | 2017-01-05             | 16                     |  18                    |  29                    | Clear                  | Clear                  | \n",
       "| 3344                   | SBCF2017-01-05         | 10                     | SBGR                   | 2017-01-05             | 09                     |  21                    |  29                    | Clear                  | Clear                  | \n",
       "| 3669                   | SBGR2017-01-05         | 23                     | SBGL                   | 2017-01-05             | 22                     |  21                    |  35                    | Thunderstorm           | Clear                  | \n",
       "| 3291                   | SBGR2017-01-05         | 03                     | SBRF                   | 2017-01-05             | 00                     |  41                    |  29                    | Scattered Clouds       | Clear                  | \n",
       "\n",
       "\n"
      ],
      "text/plain": [
       "   voo  sequenceID     eventID icao_origem depart_date depart_tt atraso_partida\n",
       "1  6577 SBGR2017-01-05 15      SBEG        2017-01-05  11        102           \n",
       "2  3815 SBGR2017-01-05 00      SBSV        2017-01-04  21         19           \n",
       "3  6305 SBGR2017-01-05 14      SBRF        2017-01-05  11         73           \n",
       "4  4847 SBGR2017-01-05 21      SBSV        2017-01-05  19         23           \n",
       "5  1095 SBGR2017-01-05 19      SBGL        2017-01-05  18         90           \n",
       "6  3345 SBGR2017-01-05 12      SBCF        2017-01-05  10         29           \n",
       "7  1833 SBCF2017-01-05 22      SBSV        2017-01-05  20         18           \n",
       "8  3326 SBCF2017-01-05 19      SBGR        2017-01-05  18         26           \n",
       "9  1700 SBCF2017-01-05 11      SBBR        2017-01-05  10         27           \n",
       "10 6315 SBGR2017-01-05 17      SBSV        2017-01-05  15         53           \n",
       "11 1419 SBGR2017-01-05 23      SBBR        2017-01-05  22         61           \n",
       "12 1233 SBGR2017-01-05 12      SBPA        2017-01-05  10         17           \n",
       "13 1677 SBGR2017-01-05 10      SBBE        2017-01-05  06         48           \n",
       "14 1679 SBGR2017-01-05 20      SBBE        2017-01-05  16         19           \n",
       "15 1329 SBGR2017-01-05 21      SBCF        2017-01-05  19         15           \n",
       "16 3895 SBGR2017-01-05 14      SBSV        2017-01-05  11         38           \n",
       "17 5187 SBGR2017-01-05 13      SBPA        2017-01-05  11         16           \n",
       "18 1525 SBGR2017-01-05 20      SBFZ        2017-01-05  16         18           \n",
       "19 3344 SBCF2017-01-05 10      SBGR        2017-01-05  09         21           \n",
       "20 3669 SBGR2017-01-05 23      SBGL        2017-01-05  22         21           \n",
       "21 3291 SBGR2017-01-05 03      SBRF        2017-01-05  00         41           \n",
       "   atraso_chegada origem_condicoes       destino_condicoes\n",
       "1  114            Partly Cloudy          Scattered Clouds \n",
       "2   15            Scattered Clouds       Clear            \n",
       "3   67            Mostly Cloudy          Scattered Clouds \n",
       "4   23            Scattered Clouds       Clear            \n",
       "5   84            Thunderstorms and Rain Clear            \n",
       "6   32            Clear                  Scattered Clouds \n",
       "7   20            Scattered Clouds       Partly Cloudy    \n",
       "8   15            Partly Cloudy          Partly Cloudy    \n",
       "9   19            Clear                  Partly Cloudy    \n",
       "10  34            Light Rain Showers     Partly Cloudy    \n",
       "11  51            Partly Cloudy          Clear            \n",
       "12  23            Clear                  Scattered Clouds \n",
       "13  55            Clear                  Clear            \n",
       "14  34            Partly Cloudy          Clear            \n",
       "15  42            Partly Cloudy          Clear            \n",
       "16  24            Scattered Clouds       Scattered Clouds \n",
       "17  21            Clear                  Scattered Clouds \n",
       "18  29            Clear                  Clear            \n",
       "19  29            Clear                  Clear            \n",
       "20  35            Thunderstorm           Clear            \n",
       "21  29            Scattered Clouds       Clear            "
      ]
     },
     "metadata": {},
     "output_type": "display_data"
    }
   ],
   "source": [
    "# chegadasSBGR_SBCF\n",
    "query<-\"select voo, icao_destino||arrival_date as sequenceID, arrival_tt as eventID, icao_origem, depart_date, depart_tt,\n",
    "atraso_partida, atraso_chegada, origem_condicoes, destino_condicoes\"\n",
    "query<-paste(query, \"from voos where (icao_destino='SBGR' or icao_destino='SBCF') and arrival_date='2017-01-05'\", sep=\" \")\n",
    "\n",
    "chegadasSBGR_SBCF<-sqldf(query)\n",
    "\n",
    "chegadasSBGR_SBCF"
   ]
  },
  {
   "cell_type": "code",
   "execution_count": 43,
   "metadata": {
    "code_folding": [
     0
    ],
    "scrolled": true
   },
   "outputs": [
    {
     "data": {
      "text/html": [
       "<table>\n",
       "<thead><tr><th scope=col>voo</th><th scope=col>sequenceID</th><th scope=col>eventID</th><th scope=col>icao_destino</th><th scope=col>arrival_date</th><th scope=col>arrival_tt</th><th scope=col>atraso_partida</th><th scope=col>atraso_chegada</th><th scope=col>origem_condicoes</th><th scope=col>destino_condicoes</th></tr></thead>\n",
       "<tbody>\n",
       "\t<tr><td>1095                  </td><td>SBGR2017-01-05        </td><td>19                    </td><td>SBGL                  </td><td>2017-01-05            </td><td>18                    </td><td> 90                   </td><td> 84                   </td><td>Thunderstorms and Rain</td><td>Clear                 </td></tr>\n",
       "\t<tr><td>1098                  </td><td>SBGR2017-01-05        </td><td>21                    </td><td>SBGL                  </td><td>2017-01-05            </td><td>22                    </td><td> 70                   </td><td> 50                   </td><td>Clear                 </td><td>Thunderstorm          </td></tr>\n",
       "\t<tr><td>1233                  </td><td>SBGR2017-01-05        </td><td>12                    </td><td>SBPA                  </td><td>2017-01-05            </td><td>10                    </td><td> 17                   </td><td> 23                   </td><td>Clear                 </td><td>Scattered Clouds      </td></tr>\n",
       "\t<tr><td>1329                  </td><td>SBCF2017-01-05        </td><td>19                    </td><td>SBGR                  </td><td>2017-01-05            </td><td>21                    </td><td> 15                   </td><td> 42                   </td><td>Partly Cloudy         </td><td>Clear                 </td></tr>\n",
       "\t<tr><td>1329                  </td><td>SBGR2017-01-05        </td><td>21                    </td><td>SBCF                  </td><td>2017-01-05            </td><td>19                    </td><td> 15                   </td><td> 42                   </td><td>Partly Cloudy         </td><td>Clear                 </td></tr>\n",
       "\t<tr><td>1408                  </td><td>SBGR2017-01-05        </td><td>06                    </td><td>SBBR                  </td><td>2017-01-05            </td><td>08                    </td><td> 16                   </td><td> 18                   </td><td>Clear                 </td><td>Clear                 </td></tr>\n",
       "\t<tr><td>1419                  </td><td>SBGR2017-01-05        </td><td>23                    </td><td>SBBR                  </td><td>2017-01-05            </td><td>22                    </td><td> 61                   </td><td> 51                   </td><td>Partly Cloudy         </td><td>Clear                 </td></tr>\n",
       "\t<tr><td>1525                  </td><td>SBGR2017-01-05        </td><td>20                    </td><td>SBFZ                  </td><td>2017-01-05            </td><td>16                    </td><td> 18                   </td><td> 29                   </td><td>Clear                 </td><td>Clear                 </td></tr>\n",
       "\t<tr><td>1620                  </td><td>SBGR2017-01-05        </td><td>22                    </td><td>SBRF                  </td><td>2017-01-06            </td><td>01                    </td><td> 18                   </td><td> 17                   </td><td>Clear                 </td><td>Scattered Clouds      </td></tr>\n",
       "\t<tr><td>1677                  </td><td>SBGR2017-01-05        </td><td>10                    </td><td>SBBE                  </td><td>2017-01-05            </td><td>06                    </td><td> 48                   </td><td> 55                   </td><td>Clear                 </td><td>Clear                 </td></tr>\n",
       "\t<tr><td>1679                  </td><td>SBGR2017-01-05        </td><td>20                    </td><td>SBBE                  </td><td>2017-01-05            </td><td>16                    </td><td> 19                   </td><td> 34                   </td><td>Partly Cloudy         </td><td>Clear                 </td></tr>\n",
       "\t<tr><td>1700                  </td><td>SBCF2017-01-05        </td><td>11                    </td><td>SBBR                  </td><td>2017-01-05            </td><td>10                    </td><td> 27                   </td><td> 19                   </td><td>Clear                 </td><td>Partly Cloudy         </td></tr>\n",
       "\t<tr><td>1703                  </td><td>SBCF2017-01-05        </td><td>11                    </td><td>SBBR                  </td><td>2017-01-05            </td><td>13                    </td><td> 26                   </td><td> 16                   </td><td>Partly Cloudy         </td><td>Partly Cloudy         </td></tr>\n",
       "\t<tr><td>1833                  </td><td>SBCF2017-01-05        </td><td>22                    </td><td>SBSV                  </td><td>2017-01-05            </td><td>20                    </td><td> 18                   </td><td> 20                   </td><td>Scattered Clouds      </td><td>Partly Cloudy         </td></tr>\n",
       "\t<tr><td>1913                  </td><td>SBCF2017-01-05        </td><td>20                    </td><td>SBGL                  </td><td>2017-01-05            </td><td>21                    </td><td> 36                   </td><td> 50                   </td><td>Partly Cloudy         </td><td>Thunderstorms and Rain</td></tr>\n",
       "\t<tr><td>2185                  </td><td>SBCF2017-01-05        </td><td>12                    </td><td>SBGL                  </td><td>2017-01-05            </td><td>13                    </td><td> 46                   </td><td> 36                   </td><td>Partly Cloudy         </td><td>Scattered Clouds      </td></tr>\n",
       "\t<tr><td>2700                  </td><td>SBGR2017-01-05        </td><td>09                    </td><td>SBRF                  </td><td>2017-01-05            </td><td>12                    </td><td> 26                   </td><td> 33                   </td><td>Clear                 </td><td>Mostly Cloudy         </td></tr>\n",
       "\t<tr><td>3291                  </td><td>SBGR2017-01-05        </td><td>03                    </td><td>SBRF                  </td><td>2017-01-05            </td><td>00                    </td><td> 41                   </td><td> 29                   </td><td>Scattered Clouds      </td><td>Clear                 </td></tr>\n",
       "\t<tr><td>3299                  </td><td>SBGR2017-01-05        </td><td>08                    </td><td>SBPA                  </td><td>2017-01-05            </td><td>10                    </td><td> 16                   </td><td> 20                   </td><td>Clear                 </td><td>Clear                 </td></tr>\n",
       "\t<tr><td>3326                  </td><td>SBCF2017-01-05        </td><td>19                    </td><td>SBGR                  </td><td>2017-01-05            </td><td>18                    </td><td> 26                   </td><td> 15                   </td><td>Partly Cloudy         </td><td>Partly Cloudy         </td></tr>\n",
       "\t<tr><td>3326                  </td><td>SBGR2017-01-05        </td><td>18                    </td><td>SBCF                  </td><td>2017-01-05            </td><td>19                    </td><td> 26                   </td><td> 15                   </td><td>Partly Cloudy         </td><td>Partly Cloudy         </td></tr>\n",
       "\t<tr><td>3344                  </td><td>SBCF2017-01-05        </td><td>10                    </td><td>SBGR                  </td><td>2017-01-05            </td><td>09                    </td><td> 21                   </td><td> 29                   </td><td>Clear                 </td><td>Clear                 </td></tr>\n",
       "\t<tr><td>3344                  </td><td>SBGR2017-01-05        </td><td>09                    </td><td>SBCF                  </td><td>2017-01-05            </td><td>10                    </td><td> 21                   </td><td> 29                   </td><td>Clear                 </td><td>Clear                 </td></tr>\n",
       "\t<tr><td>3345                  </td><td>SBCF2017-01-05        </td><td>10                    </td><td>SBGR                  </td><td>2017-01-05            </td><td>12                    </td><td> 29                   </td><td> 32                   </td><td>Clear                 </td><td>Scattered Clouds      </td></tr>\n",
       "\t<tr><td>3345                  </td><td>SBGR2017-01-05        </td><td>12                    </td><td>SBCF                  </td><td>2017-01-05            </td><td>10                    </td><td> 29                   </td><td> 32                   </td><td>Clear                 </td><td>Scattered Clouds      </td></tr>\n",
       "\t<tr><td>3378                  </td><td>SBCF2017-01-05        </td><td>11                    </td><td>SBRF                  </td><td>2017-01-05            </td><td>14                    </td><td> 35                   </td><td> 33                   </td><td>Partly Cloudy         </td><td>Scattered Clouds      </td></tr>\n",
       "\t<tr><td>3408                  </td><td>SBGR2017-01-05        </td><td>10                    </td><td>SBEG                  </td><td>2017-01-05            </td><td>14                    </td><td> 48                   </td><td> 31                   </td><td>Clear                 </td><td>Scattered Clouds      </td></tr>\n",
       "\t<tr><td>3516                  </td><td>SBGR2017-01-05        </td><td>17                    </td><td>SBRF                  </td><td>2017-01-05            </td><td>20                    </td><td> 15                   </td><td> 22                   </td><td>Partly Cloudy         </td><td>Scattered Clouds      </td></tr>\n",
       "\t<tr><td>3662                  </td><td>SBGR2017-01-05        </td><td>18                    </td><td>SBSV                  </td><td>2017-01-05            </td><td>21                    </td><td> 33                   </td><td> 31                   </td><td>Clear                 </td><td>Scattered Clouds      </td></tr>\n",
       "\t<tr><td>3669                  </td><td>SBGR2017-01-05        </td><td>23                    </td><td>SBGL                  </td><td>2017-01-05            </td><td>22                    </td><td> 21                   </td><td> 35                   </td><td>Thunderstorm          </td><td>Clear                 </td></tr>\n",
       "\t<tr><td>3804                  </td><td>SBGR2017-01-05        </td><td>11                    </td><td>SBSV                  </td><td>2017-01-05            </td><td>14                    </td><td> 19                   </td><td> 26                   </td><td>Scattered Clouds      </td><td>Scattered Clouds      </td></tr>\n",
       "\t<tr><td>3815                  </td><td>SBGR2017-01-05        </td><td>00                    </td><td>SBSV                  </td><td>2017-01-04            </td><td>21                    </td><td> 19                   </td><td> 15                   </td><td>Scattered Clouds      </td><td>Clear                 </td></tr>\n",
       "\t<tr><td>3895                  </td><td>SBGR2017-01-05        </td><td>14                    </td><td>SBSV                  </td><td>2017-01-05            </td><td>11                    </td><td> 38                   </td><td> 24                   </td><td>Scattered Clouds      </td><td>Scattered Clouds      </td></tr>\n",
       "\t<tr><td>3896                  </td><td>SBGR2017-01-05        </td><td>08                    </td><td>SBSV                  </td><td>2017-01-05            </td><td>11                    </td><td> 34                   </td><td> 36                   </td><td>Clear                 </td><td>Scattered Clouds      </td></tr>\n",
       "\t<tr><td>4120                  </td><td>SBCF2017-01-05        </td><td>16                    </td><td>SBKP                  </td><td>2017-01-05            </td><td>17                    </td><td> 25                   </td><td> 23                   </td><td>Partly Cloudy         </td><td>Scattered Clouds      </td></tr>\n",
       "\t<tr><td>4488                  </td><td>SBGR2017-01-05        </td><td>18                    </td><td>SBRF                  </td><td>2017-01-05            </td><td>22                    </td><td> 32                   </td><td> 53                   </td><td>Clear                 </td><td>Scattered Clouds      </td></tr>\n",
       "\t<tr><td>4846                  </td><td>SBGR2017-01-05        </td><td>16                    </td><td>SBSV                  </td><td>2017-01-05            </td><td>19                    </td><td> 22                   </td><td> 40                   </td><td>Partly Cloudy         </td><td>Scattered Clouds      </td></tr>\n",
       "\t<tr><td>4847                  </td><td>SBGR2017-01-05        </td><td>21                    </td><td>SBSV                  </td><td>2017-01-05            </td><td>19                    </td><td> 23                   </td><td> 23                   </td><td>Scattered Clouds      </td><td>Clear                 </td></tr>\n",
       "\t<tr><td>5019                  </td><td>SBGR2017-01-05        </td><td>13                    </td><td>SBPA                  </td><td>2017-01-05            </td><td>15                    </td><td> 17                   </td><td> 20                   </td><td>Scattered Clouds      </td><td>Mostly Cloudy         </td></tr>\n",
       "\t<tr><td>5187                  </td><td>SBGR2017-01-05        </td><td>13                    </td><td>SBPA                  </td><td>2017-01-05            </td><td>11                    </td><td> 16                   </td><td> 21                   </td><td>Clear                 </td><td>Scattered Clouds      </td></tr>\n",
       "\t<tr><td>6305                  </td><td>SBGR2017-01-05        </td><td>14                    </td><td>SBRF                  </td><td>2017-01-05            </td><td>11                    </td><td> 73                   </td><td> 67                   </td><td>Mostly Cloudy         </td><td>Scattered Clouds      </td></tr>\n",
       "\t<tr><td>6312                  </td><td>SBGR2017-01-05        </td><td>07                    </td><td>SBSV                  </td><td>2017-01-05            </td><td>09                    </td><td> 92                   </td><td> 81                   </td><td>Clear                 </td><td>Scattered Clouds      </td></tr>\n",
       "\t<tr><td>6315                  </td><td>SBGR2017-01-05        </td><td>17                    </td><td>SBSV                  </td><td>2017-01-05            </td><td>15                    </td><td> 53                   </td><td> 34                   </td><td>Light Rain Showers    </td><td>Partly Cloudy         </td></tr>\n",
       "\t<tr><td>6577                  </td><td>SBGR2017-01-05        </td><td>15                    </td><td>SBEG                  </td><td>2017-01-05            </td><td>11                    </td><td>102                   </td><td>114                   </td><td>Partly Cloudy         </td><td>Scattered Clouds      </td></tr>\n",
       "\t<tr><td>6578                  </td><td>SBGR2017-01-05        </td><td>16                    </td><td>SBBE                  </td><td>2017-01-05            </td><td>20                    </td><td>103                   </td><td> 95                   </td><td>Partly Cloudy         </td><td>Thunderstorms and Rain</td></tr>\n",
       "</tbody>\n",
       "</table>\n"
      ],
      "text/latex": [
       "\\begin{tabular}{r|llllllllll}\n",
       " voo & sequenceID & eventID & icao\\_destino & arrival\\_date & arrival\\_tt & atraso\\_partida & atraso\\_chegada & origem\\_condicoes & destino\\_condicoes\\\\\n",
       "\\hline\n",
       "\t 1095                   & SBGR2017-01-05         & 19                     & SBGL                   & 2017-01-05             & 18                     &  90                    &  84                    & Thunderstorms and Rain & Clear                 \\\\\n",
       "\t 1098                   & SBGR2017-01-05         & 21                     & SBGL                   & 2017-01-05             & 22                     &  70                    &  50                    & Clear                  & Thunderstorm          \\\\\n",
       "\t 1233                   & SBGR2017-01-05         & 12                     & SBPA                   & 2017-01-05             & 10                     &  17                    &  23                    & Clear                  & Scattered Clouds      \\\\\n",
       "\t 1329                   & SBCF2017-01-05         & 19                     & SBGR                   & 2017-01-05             & 21                     &  15                    &  42                    & Partly Cloudy          & Clear                 \\\\\n",
       "\t 1329                   & SBGR2017-01-05         & 21                     & SBCF                   & 2017-01-05             & 19                     &  15                    &  42                    & Partly Cloudy          & Clear                 \\\\\n",
       "\t 1408                   & SBGR2017-01-05         & 06                     & SBBR                   & 2017-01-05             & 08                     &  16                    &  18                    & Clear                  & Clear                 \\\\\n",
       "\t 1419                   & SBGR2017-01-05         & 23                     & SBBR                   & 2017-01-05             & 22                     &  61                    &  51                    & Partly Cloudy          & Clear                 \\\\\n",
       "\t 1525                   & SBGR2017-01-05         & 20                     & SBFZ                   & 2017-01-05             & 16                     &  18                    &  29                    & Clear                  & Clear                 \\\\\n",
       "\t 1620                   & SBGR2017-01-05         & 22                     & SBRF                   & 2017-01-06             & 01                     &  18                    &  17                    & Clear                  & Scattered Clouds      \\\\\n",
       "\t 1677                   & SBGR2017-01-05         & 10                     & SBBE                   & 2017-01-05             & 06                     &  48                    &  55                    & Clear                  & Clear                 \\\\\n",
       "\t 1679                   & SBGR2017-01-05         & 20                     & SBBE                   & 2017-01-05             & 16                     &  19                    &  34                    & Partly Cloudy          & Clear                 \\\\\n",
       "\t 1700                   & SBCF2017-01-05         & 11                     & SBBR                   & 2017-01-05             & 10                     &  27                    &  19                    & Clear                  & Partly Cloudy         \\\\\n",
       "\t 1703                   & SBCF2017-01-05         & 11                     & SBBR                   & 2017-01-05             & 13                     &  26                    &  16                    & Partly Cloudy          & Partly Cloudy         \\\\\n",
       "\t 1833                   & SBCF2017-01-05         & 22                     & SBSV                   & 2017-01-05             & 20                     &  18                    &  20                    & Scattered Clouds       & Partly Cloudy         \\\\\n",
       "\t 1913                   & SBCF2017-01-05         & 20                     & SBGL                   & 2017-01-05             & 21                     &  36                    &  50                    & Partly Cloudy          & Thunderstorms and Rain\\\\\n",
       "\t 2185                   & SBCF2017-01-05         & 12                     & SBGL                   & 2017-01-05             & 13                     &  46                    &  36                    & Partly Cloudy          & Scattered Clouds      \\\\\n",
       "\t 2700                   & SBGR2017-01-05         & 09                     & SBRF                   & 2017-01-05             & 12                     &  26                    &  33                    & Clear                  & Mostly Cloudy         \\\\\n",
       "\t 3291                   & SBGR2017-01-05         & 03                     & SBRF                   & 2017-01-05             & 00                     &  41                    &  29                    & Scattered Clouds       & Clear                 \\\\\n",
       "\t 3299                   & SBGR2017-01-05         & 08                     & SBPA                   & 2017-01-05             & 10                     &  16                    &  20                    & Clear                  & Clear                 \\\\\n",
       "\t 3326                   & SBCF2017-01-05         & 19                     & SBGR                   & 2017-01-05             & 18                     &  26                    &  15                    & Partly Cloudy          & Partly Cloudy         \\\\\n",
       "\t 3326                   & SBGR2017-01-05         & 18                     & SBCF                   & 2017-01-05             & 19                     &  26                    &  15                    & Partly Cloudy          & Partly Cloudy         \\\\\n",
       "\t 3344                   & SBCF2017-01-05         & 10                     & SBGR                   & 2017-01-05             & 09                     &  21                    &  29                    & Clear                  & Clear                 \\\\\n",
       "\t 3344                   & SBGR2017-01-05         & 09                     & SBCF                   & 2017-01-05             & 10                     &  21                    &  29                    & Clear                  & Clear                 \\\\\n",
       "\t 3345                   & SBCF2017-01-05         & 10                     & SBGR                   & 2017-01-05             & 12                     &  29                    &  32                    & Clear                  & Scattered Clouds      \\\\\n",
       "\t 3345                   & SBGR2017-01-05         & 12                     & SBCF                   & 2017-01-05             & 10                     &  29                    &  32                    & Clear                  & Scattered Clouds      \\\\\n",
       "\t 3378                   & SBCF2017-01-05         & 11                     & SBRF                   & 2017-01-05             & 14                     &  35                    &  33                    & Partly Cloudy          & Scattered Clouds      \\\\\n",
       "\t 3408                   & SBGR2017-01-05         & 10                     & SBEG                   & 2017-01-05             & 14                     &  48                    &  31                    & Clear                  & Scattered Clouds      \\\\\n",
       "\t 3516                   & SBGR2017-01-05         & 17                     & SBRF                   & 2017-01-05             & 20                     &  15                    &  22                    & Partly Cloudy          & Scattered Clouds      \\\\\n",
       "\t 3662                   & SBGR2017-01-05         & 18                     & SBSV                   & 2017-01-05             & 21                     &  33                    &  31                    & Clear                  & Scattered Clouds      \\\\\n",
       "\t 3669                   & SBGR2017-01-05         & 23                     & SBGL                   & 2017-01-05             & 22                     &  21                    &  35                    & Thunderstorm           & Clear                 \\\\\n",
       "\t 3804                   & SBGR2017-01-05         & 11                     & SBSV                   & 2017-01-05             & 14                     &  19                    &  26                    & Scattered Clouds       & Scattered Clouds      \\\\\n",
       "\t 3815                   & SBGR2017-01-05         & 00                     & SBSV                   & 2017-01-04             & 21                     &  19                    &  15                    & Scattered Clouds       & Clear                 \\\\\n",
       "\t 3895                   & SBGR2017-01-05         & 14                     & SBSV                   & 2017-01-05             & 11                     &  38                    &  24                    & Scattered Clouds       & Scattered Clouds      \\\\\n",
       "\t 3896                   & SBGR2017-01-05         & 08                     & SBSV                   & 2017-01-05             & 11                     &  34                    &  36                    & Clear                  & Scattered Clouds      \\\\\n",
       "\t 4120                   & SBCF2017-01-05         & 16                     & SBKP                   & 2017-01-05             & 17                     &  25                    &  23                    & Partly Cloudy          & Scattered Clouds      \\\\\n",
       "\t 4488                   & SBGR2017-01-05         & 18                     & SBRF                   & 2017-01-05             & 22                     &  32                    &  53                    & Clear                  & Scattered Clouds      \\\\\n",
       "\t 4846                   & SBGR2017-01-05         & 16                     & SBSV                   & 2017-01-05             & 19                     &  22                    &  40                    & Partly Cloudy          & Scattered Clouds      \\\\\n",
       "\t 4847                   & SBGR2017-01-05         & 21                     & SBSV                   & 2017-01-05             & 19                     &  23                    &  23                    & Scattered Clouds       & Clear                 \\\\\n",
       "\t 5019                   & SBGR2017-01-05         & 13                     & SBPA                   & 2017-01-05             & 15                     &  17                    &  20                    & Scattered Clouds       & Mostly Cloudy         \\\\\n",
       "\t 5187                   & SBGR2017-01-05         & 13                     & SBPA                   & 2017-01-05             & 11                     &  16                    &  21                    & Clear                  & Scattered Clouds      \\\\\n",
       "\t 6305                   & SBGR2017-01-05         & 14                     & SBRF                   & 2017-01-05             & 11                     &  73                    &  67                    & Mostly Cloudy          & Scattered Clouds      \\\\\n",
       "\t 6312                   & SBGR2017-01-05         & 07                     & SBSV                   & 2017-01-05             & 09                     &  92                    &  81                    & Clear                  & Scattered Clouds      \\\\\n",
       "\t 6315                   & SBGR2017-01-05         & 17                     & SBSV                   & 2017-01-05             & 15                     &  53                    &  34                    & Light Rain Showers     & Partly Cloudy         \\\\\n",
       "\t 6577                   & SBGR2017-01-05         & 15                     & SBEG                   & 2017-01-05             & 11                     & 102                    & 114                    & Partly Cloudy          & Scattered Clouds      \\\\\n",
       "\t 6578                   & SBGR2017-01-05         & 16                     & SBBE                   & 2017-01-05             & 20                     & 103                    &  95                    & Partly Cloudy          & Thunderstorms and Rain\\\\\n",
       "\\end{tabular}\n"
      ],
      "text/markdown": [
       "\n",
       "voo | sequenceID | eventID | icao_destino | arrival_date | arrival_tt | atraso_partida | atraso_chegada | origem_condicoes | destino_condicoes | \n",
       "|---|---|---|---|---|---|---|---|---|---|---|---|---|---|---|---|---|---|---|---|---|---|---|---|---|---|---|---|---|---|---|---|---|---|---|---|---|---|---|---|---|---|---|---|---|\n",
       "| 1095                   | SBGR2017-01-05         | 19                     | SBGL                   | 2017-01-05             | 18                     |  90                    |  84                    | Thunderstorms and Rain | Clear                  | \n",
       "| 1098                   | SBGR2017-01-05         | 21                     | SBGL                   | 2017-01-05             | 22                     |  70                    |  50                    | Clear                  | Thunderstorm           | \n",
       "| 1233                   | SBGR2017-01-05         | 12                     | SBPA                   | 2017-01-05             | 10                     |  17                    |  23                    | Clear                  | Scattered Clouds       | \n",
       "| 1329                   | SBCF2017-01-05         | 19                     | SBGR                   | 2017-01-05             | 21                     |  15                    |  42                    | Partly Cloudy          | Clear                  | \n",
       "| 1329                   | SBGR2017-01-05         | 21                     | SBCF                   | 2017-01-05             | 19                     |  15                    |  42                    | Partly Cloudy          | Clear                  | \n",
       "| 1408                   | SBGR2017-01-05         | 06                     | SBBR                   | 2017-01-05             | 08                     |  16                    |  18                    | Clear                  | Clear                  | \n",
       "| 1419                   | SBGR2017-01-05         | 23                     | SBBR                   | 2017-01-05             | 22                     |  61                    |  51                    | Partly Cloudy          | Clear                  | \n",
       "| 1525                   | SBGR2017-01-05         | 20                     | SBFZ                   | 2017-01-05             | 16                     |  18                    |  29                    | Clear                  | Clear                  | \n",
       "| 1620                   | SBGR2017-01-05         | 22                     | SBRF                   | 2017-01-06             | 01                     |  18                    |  17                    | Clear                  | Scattered Clouds       | \n",
       "| 1677                   | SBGR2017-01-05         | 10                     | SBBE                   | 2017-01-05             | 06                     |  48                    |  55                    | Clear                  | Clear                  | \n",
       "| 1679                   | SBGR2017-01-05         | 20                     | SBBE                   | 2017-01-05             | 16                     |  19                    |  34                    | Partly Cloudy          | Clear                  | \n",
       "| 1700                   | SBCF2017-01-05         | 11                     | SBBR                   | 2017-01-05             | 10                     |  27                    |  19                    | Clear                  | Partly Cloudy          | \n",
       "| 1703                   | SBCF2017-01-05         | 11                     | SBBR                   | 2017-01-05             | 13                     |  26                    |  16                    | Partly Cloudy          | Partly Cloudy          | \n",
       "| 1833                   | SBCF2017-01-05         | 22                     | SBSV                   | 2017-01-05             | 20                     |  18                    |  20                    | Scattered Clouds       | Partly Cloudy          | \n",
       "| 1913                   | SBCF2017-01-05         | 20                     | SBGL                   | 2017-01-05             | 21                     |  36                    |  50                    | Partly Cloudy          | Thunderstorms and Rain | \n",
       "| 2185                   | SBCF2017-01-05         | 12                     | SBGL                   | 2017-01-05             | 13                     |  46                    |  36                    | Partly Cloudy          | Scattered Clouds       | \n",
       "| 2700                   | SBGR2017-01-05         | 09                     | SBRF                   | 2017-01-05             | 12                     |  26                    |  33                    | Clear                  | Mostly Cloudy          | \n",
       "| 3291                   | SBGR2017-01-05         | 03                     | SBRF                   | 2017-01-05             | 00                     |  41                    |  29                    | Scattered Clouds       | Clear                  | \n",
       "| 3299                   | SBGR2017-01-05         | 08                     | SBPA                   | 2017-01-05             | 10                     |  16                    |  20                    | Clear                  | Clear                  | \n",
       "| 3326                   | SBCF2017-01-05         | 19                     | SBGR                   | 2017-01-05             | 18                     |  26                    |  15                    | Partly Cloudy          | Partly Cloudy          | \n",
       "| 3326                   | SBGR2017-01-05         | 18                     | SBCF                   | 2017-01-05             | 19                     |  26                    |  15                    | Partly Cloudy          | Partly Cloudy          | \n",
       "| 3344                   | SBCF2017-01-05         | 10                     | SBGR                   | 2017-01-05             | 09                     |  21                    |  29                    | Clear                  | Clear                  | \n",
       "| 3344                   | SBGR2017-01-05         | 09                     | SBCF                   | 2017-01-05             | 10                     |  21                    |  29                    | Clear                  | Clear                  | \n",
       "| 3345                   | SBCF2017-01-05         | 10                     | SBGR                   | 2017-01-05             | 12                     |  29                    |  32                    | Clear                  | Scattered Clouds       | \n",
       "| 3345                   | SBGR2017-01-05         | 12                     | SBCF                   | 2017-01-05             | 10                     |  29                    |  32                    | Clear                  | Scattered Clouds       | \n",
       "| 3378                   | SBCF2017-01-05         | 11                     | SBRF                   | 2017-01-05             | 14                     |  35                    |  33                    | Partly Cloudy          | Scattered Clouds       | \n",
       "| 3408                   | SBGR2017-01-05         | 10                     | SBEG                   | 2017-01-05             | 14                     |  48                    |  31                    | Clear                  | Scattered Clouds       | \n",
       "| 3516                   | SBGR2017-01-05         | 17                     | SBRF                   | 2017-01-05             | 20                     |  15                    |  22                    | Partly Cloudy          | Scattered Clouds       | \n",
       "| 3662                   | SBGR2017-01-05         | 18                     | SBSV                   | 2017-01-05             | 21                     |  33                    |  31                    | Clear                  | Scattered Clouds       | \n",
       "| 3669                   | SBGR2017-01-05         | 23                     | SBGL                   | 2017-01-05             | 22                     |  21                    |  35                    | Thunderstorm           | Clear                  | \n",
       "| 3804                   | SBGR2017-01-05         | 11                     | SBSV                   | 2017-01-05             | 14                     |  19                    |  26                    | Scattered Clouds       | Scattered Clouds       | \n",
       "| 3815                   | SBGR2017-01-05         | 00                     | SBSV                   | 2017-01-04             | 21                     |  19                    |  15                    | Scattered Clouds       | Clear                  | \n",
       "| 3895                   | SBGR2017-01-05         | 14                     | SBSV                   | 2017-01-05             | 11                     |  38                    |  24                    | Scattered Clouds       | Scattered Clouds       | \n",
       "| 3896                   | SBGR2017-01-05         | 08                     | SBSV                   | 2017-01-05             | 11                     |  34                    |  36                    | Clear                  | Scattered Clouds       | \n",
       "| 4120                   | SBCF2017-01-05         | 16                     | SBKP                   | 2017-01-05             | 17                     |  25                    |  23                    | Partly Cloudy          | Scattered Clouds       | \n",
       "| 4488                   | SBGR2017-01-05         | 18                     | SBRF                   | 2017-01-05             | 22                     |  32                    |  53                    | Clear                  | Scattered Clouds       | \n",
       "| 4846                   | SBGR2017-01-05         | 16                     | SBSV                   | 2017-01-05             | 19                     |  22                    |  40                    | Partly Cloudy          | Scattered Clouds       | \n",
       "| 4847                   | SBGR2017-01-05         | 21                     | SBSV                   | 2017-01-05             | 19                     |  23                    |  23                    | Scattered Clouds       | Clear                  | \n",
       "| 5019                   | SBGR2017-01-05         | 13                     | SBPA                   | 2017-01-05             | 15                     |  17                    |  20                    | Scattered Clouds       | Mostly Cloudy          | \n",
       "| 5187                   | SBGR2017-01-05         | 13                     | SBPA                   | 2017-01-05             | 11                     |  16                    |  21                    | Clear                  | Scattered Clouds       | \n",
       "| 6305                   | SBGR2017-01-05         | 14                     | SBRF                   | 2017-01-05             | 11                     |  73                    |  67                    | Mostly Cloudy          | Scattered Clouds       | \n",
       "| 6312                   | SBGR2017-01-05         | 07                     | SBSV                   | 2017-01-05             | 09                     |  92                    |  81                    | Clear                  | Scattered Clouds       | \n",
       "| 6315                   | SBGR2017-01-05         | 17                     | SBSV                   | 2017-01-05             | 15                     |  53                    |  34                    | Light Rain Showers     | Partly Cloudy          | \n",
       "| 6577                   | SBGR2017-01-05         | 15                     | SBEG                   | 2017-01-05             | 11                     | 102                    | 114                    | Partly Cloudy          | Scattered Clouds       | \n",
       "| 6578                   | SBGR2017-01-05         | 16                     | SBBE                   | 2017-01-05             | 20                     | 103                    |  95                    | Partly Cloudy          | Thunderstorms and Rain | \n",
       "\n",
       "\n"
      ],
      "text/plain": [
       "   voo  sequenceID     eventID icao_destino arrival_date arrival_tt\n",
       "1  1095 SBGR2017-01-05 19      SBGL         2017-01-05   18        \n",
       "2  1098 SBGR2017-01-05 21      SBGL         2017-01-05   22        \n",
       "3  1233 SBGR2017-01-05 12      SBPA         2017-01-05   10        \n",
       "4  1329 SBCF2017-01-05 19      SBGR         2017-01-05   21        \n",
       "5  1329 SBGR2017-01-05 21      SBCF         2017-01-05   19        \n",
       "6  1408 SBGR2017-01-05 06      SBBR         2017-01-05   08        \n",
       "7  1419 SBGR2017-01-05 23      SBBR         2017-01-05   22        \n",
       "8  1525 SBGR2017-01-05 20      SBFZ         2017-01-05   16        \n",
       "9  1620 SBGR2017-01-05 22      SBRF         2017-01-06   01        \n",
       "10 1677 SBGR2017-01-05 10      SBBE         2017-01-05   06        \n",
       "11 1679 SBGR2017-01-05 20      SBBE         2017-01-05   16        \n",
       "12 1700 SBCF2017-01-05 11      SBBR         2017-01-05   10        \n",
       "13 1703 SBCF2017-01-05 11      SBBR         2017-01-05   13        \n",
       "14 1833 SBCF2017-01-05 22      SBSV         2017-01-05   20        \n",
       "15 1913 SBCF2017-01-05 20      SBGL         2017-01-05   21        \n",
       "16 2185 SBCF2017-01-05 12      SBGL         2017-01-05   13        \n",
       "17 2700 SBGR2017-01-05 09      SBRF         2017-01-05   12        \n",
       "18 3291 SBGR2017-01-05 03      SBRF         2017-01-05   00        \n",
       "19 3299 SBGR2017-01-05 08      SBPA         2017-01-05   10        \n",
       "20 3326 SBCF2017-01-05 19      SBGR         2017-01-05   18        \n",
       "21 3326 SBGR2017-01-05 18      SBCF         2017-01-05   19        \n",
       "22 3344 SBCF2017-01-05 10      SBGR         2017-01-05   09        \n",
       "23 3344 SBGR2017-01-05 09      SBCF         2017-01-05   10        \n",
       "24 3345 SBCF2017-01-05 10      SBGR         2017-01-05   12        \n",
       "25 3345 SBGR2017-01-05 12      SBCF         2017-01-05   10        \n",
       "26 3378 SBCF2017-01-05 11      SBRF         2017-01-05   14        \n",
       "27 3408 SBGR2017-01-05 10      SBEG         2017-01-05   14        \n",
       "28 3516 SBGR2017-01-05 17      SBRF         2017-01-05   20        \n",
       "29 3662 SBGR2017-01-05 18      SBSV         2017-01-05   21        \n",
       "30 3669 SBGR2017-01-05 23      SBGL         2017-01-05   22        \n",
       "31 3804 SBGR2017-01-05 11      SBSV         2017-01-05   14        \n",
       "32 3815 SBGR2017-01-05 00      SBSV         2017-01-04   21        \n",
       "33 3895 SBGR2017-01-05 14      SBSV         2017-01-05   11        \n",
       "34 3896 SBGR2017-01-05 08      SBSV         2017-01-05   11        \n",
       "35 4120 SBCF2017-01-05 16      SBKP         2017-01-05   17        \n",
       "36 4488 SBGR2017-01-05 18      SBRF         2017-01-05   22        \n",
       "37 4846 SBGR2017-01-05 16      SBSV         2017-01-05   19        \n",
       "38 4847 SBGR2017-01-05 21      SBSV         2017-01-05   19        \n",
       "39 5019 SBGR2017-01-05 13      SBPA         2017-01-05   15        \n",
       "40 5187 SBGR2017-01-05 13      SBPA         2017-01-05   11        \n",
       "41 6305 SBGR2017-01-05 14      SBRF         2017-01-05   11        \n",
       "42 6312 SBGR2017-01-05 07      SBSV         2017-01-05   09        \n",
       "43 6315 SBGR2017-01-05 17      SBSV         2017-01-05   15        \n",
       "44 6577 SBGR2017-01-05 15      SBEG         2017-01-05   11        \n",
       "45 6578 SBGR2017-01-05 16      SBBE         2017-01-05   20        \n",
       "   atraso_partida atraso_chegada origem_condicoes       destino_condicoes     \n",
       "1   90             84            Thunderstorms and Rain Clear                 \n",
       "2   70             50            Clear                  Thunderstorm          \n",
       "3   17             23            Clear                  Scattered Clouds      \n",
       "4   15             42            Partly Cloudy          Clear                 \n",
       "5   15             42            Partly Cloudy          Clear                 \n",
       "6   16             18            Clear                  Clear                 \n",
       "7   61             51            Partly Cloudy          Clear                 \n",
       "8   18             29            Clear                  Clear                 \n",
       "9   18             17            Clear                  Scattered Clouds      \n",
       "10  48             55            Clear                  Clear                 \n",
       "11  19             34            Partly Cloudy          Clear                 \n",
       "12  27             19            Clear                  Partly Cloudy         \n",
       "13  26             16            Partly Cloudy          Partly Cloudy         \n",
       "14  18             20            Scattered Clouds       Partly Cloudy         \n",
       "15  36             50            Partly Cloudy          Thunderstorms and Rain\n",
       "16  46             36            Partly Cloudy          Scattered Clouds      \n",
       "17  26             33            Clear                  Mostly Cloudy         \n",
       "18  41             29            Scattered Clouds       Clear                 \n",
       "19  16             20            Clear                  Clear                 \n",
       "20  26             15            Partly Cloudy          Partly Cloudy         \n",
       "21  26             15            Partly Cloudy          Partly Cloudy         \n",
       "22  21             29            Clear                  Clear                 \n",
       "23  21             29            Clear                  Clear                 \n",
       "24  29             32            Clear                  Scattered Clouds      \n",
       "25  29             32            Clear                  Scattered Clouds      \n",
       "26  35             33            Partly Cloudy          Scattered Clouds      \n",
       "27  48             31            Clear                  Scattered Clouds      \n",
       "28  15             22            Partly Cloudy          Scattered Clouds      \n",
       "29  33             31            Clear                  Scattered Clouds      \n",
       "30  21             35            Thunderstorm           Clear                 \n",
       "31  19             26            Scattered Clouds       Scattered Clouds      \n",
       "32  19             15            Scattered Clouds       Clear                 \n",
       "33  38             24            Scattered Clouds       Scattered Clouds      \n",
       "34  34             36            Clear                  Scattered Clouds      \n",
       "35  25             23            Partly Cloudy          Scattered Clouds      \n",
       "36  32             53            Clear                  Scattered Clouds      \n",
       "37  22             40            Partly Cloudy          Scattered Clouds      \n",
       "38  23             23            Scattered Clouds       Clear                 \n",
       "39  17             20            Scattered Clouds       Mostly Cloudy         \n",
       "40  16             21            Clear                  Scattered Clouds      \n",
       "41  73             67            Mostly Cloudy          Scattered Clouds      \n",
       "42  92             81            Clear                  Scattered Clouds      \n",
       "43  53             34            Light Rain Showers     Partly Cloudy         \n",
       "44 102            114            Partly Cloudy          Scattered Clouds      \n",
       "45 103             95            Partly Cloudy          Thunderstorms and Rain"
      ]
     },
     "metadata": {},
     "output_type": "display_data"
    }
   ],
   "source": [
    "# result\n",
    "query<-\"select * from partidasSBGR_SBCF union select * from chegadasSBGR_SBCF\"\n",
    "\n",
    "result<-sqldf(query)\n",
    "\n",
    "result"
   ]
  },
  {
   "cell_type": "markdown",
   "metadata": {},
   "source": [
    "Observa-se no resultado acima, que ainda temos alguns problemas de limpeza de dados a serem tratados.<BR>\n",
    "Por exemplo, temos o mesmo número de voo em partidas e/ou chegadas em aeroportos distintos.<BR><BR>\n",
    "Para solucionar este problema, ao gerar-se o conjunto de dados **agg** abaixo, **agrupou-se pelo número do voo**\n",
    "e depois **selecionou-se pelo maior valor do eventID**."
   ]
  },
  {
   "cell_type": "markdown",
   "metadata": {},
   "source": [
    "Acima, tem-se um conjunto de dados no formato **single** de todas as partidas e chegadas com atraso\n",
    "nos aeroportos de Guarulhos(SBGR) e Belo Horizonte-CONFINS(SBCF)."
   ]
  },
  {
   "cell_type": "markdown",
   "metadata": {},
   "source": [
    "Transformando-se o resultado acima para o formato **basket**."
   ]
  },
  {
   "cell_type": "code",
   "execution_count": 46,
   "metadata": {
    "code_folding": [
     0
    ],
    "scrolled": true
   },
   "outputs": [
    {
     "data": {
      "text/html": [
       "<table>\n",
       "<thead><tr><th scope=col>items</th><th scope=col>sequenceID</th><th scope=col>eventID</th><th scope=col>SIZE</th></tr></thead>\n",
       "<tbody>\n",
       "\t<tr><td>1095          </td><td>SBGR2017-01-05</td><td>19            </td><td>1             </td></tr>\n",
       "\t<tr><td>1098          </td><td>SBGR2017-01-05</td><td>21            </td><td>1             </td></tr>\n",
       "\t<tr><td>1233          </td><td>SBGR2017-01-05</td><td>12            </td><td>1             </td></tr>\n",
       "\t<tr><td>1329          </td><td>SBGR2017-01-05</td><td>21            </td><td>1             </td></tr>\n",
       "\t<tr><td>1408          </td><td>SBGR2017-01-05</td><td>06            </td><td>1             </td></tr>\n",
       "\t<tr><td>1419          </td><td>SBGR2017-01-05</td><td>23            </td><td>1             </td></tr>\n",
       "\t<tr><td>1525          </td><td>SBGR2017-01-05</td><td>20            </td><td>1             </td></tr>\n",
       "\t<tr><td>1620          </td><td>SBGR2017-01-05</td><td>22            </td><td>1             </td></tr>\n",
       "\t<tr><td>1677          </td><td>SBGR2017-01-05</td><td>10            </td><td>1             </td></tr>\n",
       "\t<tr><td>1679          </td><td>SBGR2017-01-05</td><td>20            </td><td>1             </td></tr>\n",
       "\t<tr><td>1700          </td><td>SBCF2017-01-05</td><td>11            </td><td>1             </td></tr>\n",
       "\t<tr><td>1703          </td><td>SBCF2017-01-05</td><td>11            </td><td>1             </td></tr>\n",
       "\t<tr><td>1833          </td><td>SBCF2017-01-05</td><td>22            </td><td>1             </td></tr>\n",
       "\t<tr><td>1913          </td><td>SBCF2017-01-05</td><td>20            </td><td>1             </td></tr>\n",
       "\t<tr><td>2185          </td><td>SBCF2017-01-05</td><td>12            </td><td>1             </td></tr>\n",
       "\t<tr><td>2700          </td><td>SBGR2017-01-05</td><td>09            </td><td>1             </td></tr>\n",
       "\t<tr><td>3291          </td><td>SBGR2017-01-05</td><td>03            </td><td>1             </td></tr>\n",
       "\t<tr><td>3299          </td><td>SBGR2017-01-05</td><td>08            </td><td>1             </td></tr>\n",
       "\t<tr><td>3326          </td><td>SBCF2017-01-05</td><td>19            </td><td>1             </td></tr>\n",
       "\t<tr><td>3344          </td><td>SBCF2017-01-05</td><td>10            </td><td>1             </td></tr>\n",
       "\t<tr><td>3345          </td><td>SBGR2017-01-05</td><td>12            </td><td>1             </td></tr>\n",
       "\t<tr><td>3378          </td><td>SBCF2017-01-05</td><td>11            </td><td>1             </td></tr>\n",
       "\t<tr><td>3408          </td><td>SBGR2017-01-05</td><td>10            </td><td>1             </td></tr>\n",
       "\t<tr><td>3516          </td><td>SBGR2017-01-05</td><td>17            </td><td>1             </td></tr>\n",
       "\t<tr><td>3662          </td><td>SBGR2017-01-05</td><td>18            </td><td>1             </td></tr>\n",
       "\t<tr><td>3669          </td><td>SBGR2017-01-05</td><td>23            </td><td>1             </td></tr>\n",
       "\t<tr><td>3804          </td><td>SBGR2017-01-05</td><td>11            </td><td>1             </td></tr>\n",
       "\t<tr><td>3815          </td><td>SBGR2017-01-05</td><td>00            </td><td>1             </td></tr>\n",
       "\t<tr><td>3895          </td><td>SBGR2017-01-05</td><td>14            </td><td>1             </td></tr>\n",
       "\t<tr><td>3896          </td><td>SBGR2017-01-05</td><td>08            </td><td>1             </td></tr>\n",
       "\t<tr><td>4120          </td><td>SBCF2017-01-05</td><td>16            </td><td>1             </td></tr>\n",
       "\t<tr><td>4488          </td><td>SBGR2017-01-05</td><td>18            </td><td>1             </td></tr>\n",
       "\t<tr><td>4846          </td><td>SBGR2017-01-05</td><td>16            </td><td>1             </td></tr>\n",
       "\t<tr><td>4847          </td><td>SBGR2017-01-05</td><td>21            </td><td>1             </td></tr>\n",
       "\t<tr><td>5019          </td><td>SBGR2017-01-05</td><td>13            </td><td>1             </td></tr>\n",
       "\t<tr><td>5187          </td><td>SBGR2017-01-05</td><td>13            </td><td>1             </td></tr>\n",
       "\t<tr><td>6305          </td><td>SBGR2017-01-05</td><td>14            </td><td>1             </td></tr>\n",
       "\t<tr><td>6312          </td><td>SBGR2017-01-05</td><td>07            </td><td>1             </td></tr>\n",
       "\t<tr><td>6315          </td><td>SBGR2017-01-05</td><td>17            </td><td>1             </td></tr>\n",
       "\t<tr><td>6577          </td><td>SBGR2017-01-05</td><td>15            </td><td>1             </td></tr>\n",
       "\t<tr><td>6578          </td><td>SBGR2017-01-05</td><td>16            </td><td>1             </td></tr>\n",
       "</tbody>\n",
       "</table>\n"
      ],
      "text/latex": [
       "\\begin{tabular}{r|llll}\n",
       " items & sequenceID & eventID & SIZE\\\\\n",
       "\\hline\n",
       "\t 1095           & SBGR2017-01-05 & 19             & 1             \\\\\n",
       "\t 1098           & SBGR2017-01-05 & 21             & 1             \\\\\n",
       "\t 1233           & SBGR2017-01-05 & 12             & 1             \\\\\n",
       "\t 1329           & SBGR2017-01-05 & 21             & 1             \\\\\n",
       "\t 1408           & SBGR2017-01-05 & 06             & 1             \\\\\n",
       "\t 1419           & SBGR2017-01-05 & 23             & 1             \\\\\n",
       "\t 1525           & SBGR2017-01-05 & 20             & 1             \\\\\n",
       "\t 1620           & SBGR2017-01-05 & 22             & 1             \\\\\n",
       "\t 1677           & SBGR2017-01-05 & 10             & 1             \\\\\n",
       "\t 1679           & SBGR2017-01-05 & 20             & 1             \\\\\n",
       "\t 1700           & SBCF2017-01-05 & 11             & 1             \\\\\n",
       "\t 1703           & SBCF2017-01-05 & 11             & 1             \\\\\n",
       "\t 1833           & SBCF2017-01-05 & 22             & 1             \\\\\n",
       "\t 1913           & SBCF2017-01-05 & 20             & 1             \\\\\n",
       "\t 2185           & SBCF2017-01-05 & 12             & 1             \\\\\n",
       "\t 2700           & SBGR2017-01-05 & 09             & 1             \\\\\n",
       "\t 3291           & SBGR2017-01-05 & 03             & 1             \\\\\n",
       "\t 3299           & SBGR2017-01-05 & 08             & 1             \\\\\n",
       "\t 3326           & SBCF2017-01-05 & 19             & 1             \\\\\n",
       "\t 3344           & SBCF2017-01-05 & 10             & 1             \\\\\n",
       "\t 3345           & SBGR2017-01-05 & 12             & 1             \\\\\n",
       "\t 3378           & SBCF2017-01-05 & 11             & 1             \\\\\n",
       "\t 3408           & SBGR2017-01-05 & 10             & 1             \\\\\n",
       "\t 3516           & SBGR2017-01-05 & 17             & 1             \\\\\n",
       "\t 3662           & SBGR2017-01-05 & 18             & 1             \\\\\n",
       "\t 3669           & SBGR2017-01-05 & 23             & 1             \\\\\n",
       "\t 3804           & SBGR2017-01-05 & 11             & 1             \\\\\n",
       "\t 3815           & SBGR2017-01-05 & 00             & 1             \\\\\n",
       "\t 3895           & SBGR2017-01-05 & 14             & 1             \\\\\n",
       "\t 3896           & SBGR2017-01-05 & 08             & 1             \\\\\n",
       "\t 4120           & SBCF2017-01-05 & 16             & 1             \\\\\n",
       "\t 4488           & SBGR2017-01-05 & 18             & 1             \\\\\n",
       "\t 4846           & SBGR2017-01-05 & 16             & 1             \\\\\n",
       "\t 4847           & SBGR2017-01-05 & 21             & 1             \\\\\n",
       "\t 5019           & SBGR2017-01-05 & 13             & 1             \\\\\n",
       "\t 5187           & SBGR2017-01-05 & 13             & 1             \\\\\n",
       "\t 6305           & SBGR2017-01-05 & 14             & 1             \\\\\n",
       "\t 6312           & SBGR2017-01-05 & 07             & 1             \\\\\n",
       "\t 6315           & SBGR2017-01-05 & 17             & 1             \\\\\n",
       "\t 6577           & SBGR2017-01-05 & 15             & 1             \\\\\n",
       "\t 6578           & SBGR2017-01-05 & 16             & 1             \\\\\n",
       "\\end{tabular}\n"
      ],
      "text/markdown": [
       "\n",
       "items | sequenceID | eventID | SIZE | \n",
       "|---|---|---|---|---|---|---|---|---|---|---|---|---|---|---|---|---|---|---|---|---|---|---|---|---|---|---|---|---|---|---|---|---|---|---|---|---|---|---|---|---|\n",
       "| 1095           | SBGR2017-01-05 | 19             | 1              | \n",
       "| 1098           | SBGR2017-01-05 | 21             | 1              | \n",
       "| 1233           | SBGR2017-01-05 | 12             | 1              | \n",
       "| 1329           | SBGR2017-01-05 | 21             | 1              | \n",
       "| 1408           | SBGR2017-01-05 | 06             | 1              | \n",
       "| 1419           | SBGR2017-01-05 | 23             | 1              | \n",
       "| 1525           | SBGR2017-01-05 | 20             | 1              | \n",
       "| 1620           | SBGR2017-01-05 | 22             | 1              | \n",
       "| 1677           | SBGR2017-01-05 | 10             | 1              | \n",
       "| 1679           | SBGR2017-01-05 | 20             | 1              | \n",
       "| 1700           | SBCF2017-01-05 | 11             | 1              | \n",
       "| 1703           | SBCF2017-01-05 | 11             | 1              | \n",
       "| 1833           | SBCF2017-01-05 | 22             | 1              | \n",
       "| 1913           | SBCF2017-01-05 | 20             | 1              | \n",
       "| 2185           | SBCF2017-01-05 | 12             | 1              | \n",
       "| 2700           | SBGR2017-01-05 | 09             | 1              | \n",
       "| 3291           | SBGR2017-01-05 | 03             | 1              | \n",
       "| 3299           | SBGR2017-01-05 | 08             | 1              | \n",
       "| 3326           | SBCF2017-01-05 | 19             | 1              | \n",
       "| 3344           | SBCF2017-01-05 | 10             | 1              | \n",
       "| 3345           | SBGR2017-01-05 | 12             | 1              | \n",
       "| 3378           | SBCF2017-01-05 | 11             | 1              | \n",
       "| 3408           | SBGR2017-01-05 | 10             | 1              | \n",
       "| 3516           | SBGR2017-01-05 | 17             | 1              | \n",
       "| 3662           | SBGR2017-01-05 | 18             | 1              | \n",
       "| 3669           | SBGR2017-01-05 | 23             | 1              | \n",
       "| 3804           | SBGR2017-01-05 | 11             | 1              | \n",
       "| 3815           | SBGR2017-01-05 | 00             | 1              | \n",
       "| 3895           | SBGR2017-01-05 | 14             | 1              | \n",
       "| 3896           | SBGR2017-01-05 | 08             | 1              | \n",
       "| 4120           | SBCF2017-01-05 | 16             | 1              | \n",
       "| 4488           | SBGR2017-01-05 | 18             | 1              | \n",
       "| 4846           | SBGR2017-01-05 | 16             | 1              | \n",
       "| 4847           | SBGR2017-01-05 | 21             | 1              | \n",
       "| 5019           | SBGR2017-01-05 | 13             | 1              | \n",
       "| 5187           | SBGR2017-01-05 | 13             | 1              | \n",
       "| 6305           | SBGR2017-01-05 | 14             | 1              | \n",
       "| 6312           | SBGR2017-01-05 | 07             | 1              | \n",
       "| 6315           | SBGR2017-01-05 | 17             | 1              | \n",
       "| 6577           | SBGR2017-01-05 | 15             | 1              | \n",
       "| 6578           | SBGR2017-01-05 | 16             | 1              | \n",
       "\n",
       "\n"
      ],
      "text/plain": [
       "   items sequenceID     eventID SIZE\n",
       "1  1095  SBGR2017-01-05 19      1   \n",
       "2  1098  SBGR2017-01-05 21      1   \n",
       "3  1233  SBGR2017-01-05 12      1   \n",
       "4  1329  SBGR2017-01-05 21      1   \n",
       "5  1408  SBGR2017-01-05 06      1   \n",
       "6  1419  SBGR2017-01-05 23      1   \n",
       "7  1525  SBGR2017-01-05 20      1   \n",
       "8  1620  SBGR2017-01-05 22      1   \n",
       "9  1677  SBGR2017-01-05 10      1   \n",
       "10 1679  SBGR2017-01-05 20      1   \n",
       "11 1700  SBCF2017-01-05 11      1   \n",
       "12 1703  SBCF2017-01-05 11      1   \n",
       "13 1833  SBCF2017-01-05 22      1   \n",
       "14 1913  SBCF2017-01-05 20      1   \n",
       "15 2185  SBCF2017-01-05 12      1   \n",
       "16 2700  SBGR2017-01-05 09      1   \n",
       "17 3291  SBGR2017-01-05 03      1   \n",
       "18 3299  SBGR2017-01-05 08      1   \n",
       "19 3326  SBCF2017-01-05 19      1   \n",
       "20 3344  SBCF2017-01-05 10      1   \n",
       "21 3345  SBGR2017-01-05 12      1   \n",
       "22 3378  SBCF2017-01-05 11      1   \n",
       "23 3408  SBGR2017-01-05 10      1   \n",
       "24 3516  SBGR2017-01-05 17      1   \n",
       "25 3662  SBGR2017-01-05 18      1   \n",
       "26 3669  SBGR2017-01-05 23      1   \n",
       "27 3804  SBGR2017-01-05 11      1   \n",
       "28 3815  SBGR2017-01-05 00      1   \n",
       "29 3895  SBGR2017-01-05 14      1   \n",
       "30 3896  SBGR2017-01-05 08      1   \n",
       "31 4120  SBCF2017-01-05 16      1   \n",
       "32 4488  SBGR2017-01-05 18      1   \n",
       "33 4846  SBGR2017-01-05 16      1   \n",
       "34 4847  SBGR2017-01-05 21      1   \n",
       "35 5019  SBGR2017-01-05 13      1   \n",
       "36 5187  SBGR2017-01-05 13      1   \n",
       "37 6305  SBGR2017-01-05 14      1   \n",
       "38 6312  SBGR2017-01-05 07      1   \n",
       "39 6315  SBGR2017-01-05 17      1   \n",
       "40 6577  SBGR2017-01-05 15      1   \n",
       "41 6578  SBGR2017-01-05 16      1   "
      ]
     },
     "metadata": {},
     "output_type": "display_data"
    }
   ],
   "source": [
    "#agg\n",
    "query<-\"select voo as items, sequenceID, max(eventid) as eventID, 1 as SIZE\n",
    "from result group by voo\"\n",
    "\n",
    "agg<-sqldf(query)\n",
    "\n",
    "agg"
   ]
  },
  {
   "cell_type": "markdown",
   "metadata": {},
   "source": [
    "Cria-se então, um conjunto de dados no formato **basket**."
   ]
  },
  {
   "cell_type": "code",
   "execution_count": 52,
   "metadata": {
    "code_folding": [
     0
    ],
    "scrolled": true
   },
   "outputs": [
    {
     "data": {
      "text/html": [
       "<table>\n",
       "<thead><tr><th scope=col>items</th><th scope=col>sequenceID</th><th scope=col>eventID</th><th scope=col>SIZE</th></tr></thead>\n",
       "<tbody>\n",
       "\t<tr><td>{3344}          </td><td>SBCF20170105    </td><td>10              </td><td>1               </td></tr>\n",
       "\t<tr><td>{1700,1703,3378}</td><td>SBCF20170105    </td><td>11              </td><td>3               </td></tr>\n",
       "\t<tr><td>{2185}          </td><td>SBCF20170105    </td><td>12              </td><td>1               </td></tr>\n",
       "\t<tr><td>{4120}          </td><td>SBCF20170105    </td><td>16              </td><td>1               </td></tr>\n",
       "\t<tr><td>{3326}          </td><td>SBCF20170105    </td><td>19              </td><td>1               </td></tr>\n",
       "\t<tr><td>{1913}          </td><td>SBCF20170105    </td><td>20              </td><td>1               </td></tr>\n",
       "\t<tr><td>{1833}          </td><td>SBCF20170105    </td><td>22              </td><td>1               </td></tr>\n",
       "\t<tr><td>{3291}          </td><td>SBGR20170105    </td><td> 3              </td><td>1               </td></tr>\n",
       "\t<tr><td>{1408}          </td><td>SBGR20170105    </td><td> 6              </td><td>1               </td></tr>\n",
       "\t<tr><td>{6312}          </td><td>SBGR20170105    </td><td> 7              </td><td>1               </td></tr>\n",
       "\t<tr><td>{3299,3896}     </td><td>SBGR20170105    </td><td> 8              </td><td>2               </td></tr>\n",
       "\t<tr><td>{2700}          </td><td>SBGR20170105    </td><td> 9              </td><td>1               </td></tr>\n",
       "\t<tr><td>{1677,3408}     </td><td>SBGR20170105    </td><td>10              </td><td>2               </td></tr>\n",
       "\t<tr><td>{3804}          </td><td>SBGR20170105    </td><td>11              </td><td>1               </td></tr>\n",
       "\t<tr><td>{1233,3345}     </td><td>SBGR20170105    </td><td>12              </td><td>2               </td></tr>\n",
       "\t<tr><td>{5019,5187}     </td><td>SBGR20170105    </td><td>13              </td><td>2               </td></tr>\n",
       "\t<tr><td>{3895,6305}     </td><td>SBGR20170105    </td><td>14              </td><td>2               </td></tr>\n",
       "\t<tr><td>{6577}          </td><td>SBGR20170105    </td><td>15              </td><td>1               </td></tr>\n",
       "\t<tr><td>{4846,6578}     </td><td>SBGR20170105    </td><td>16              </td><td>2               </td></tr>\n",
       "\t<tr><td>{3516,6315}     </td><td>SBGR20170105    </td><td>17              </td><td>2               </td></tr>\n",
       "\t<tr><td>{3662,4488}     </td><td>SBGR20170105    </td><td>18              </td><td>2               </td></tr>\n",
       "\t<tr><td>{1095}          </td><td>SBGR20170105    </td><td>19              </td><td>1               </td></tr>\n",
       "\t<tr><td>{1525,1679}     </td><td>SBGR20170105    </td><td>20              </td><td>2               </td></tr>\n",
       "\t<tr><td>{1098,1329,4847}</td><td>SBGR20170105    </td><td>21              </td><td>3               </td></tr>\n",
       "\t<tr><td>{1620}          </td><td>SBGR20170105    </td><td>22              </td><td>1               </td></tr>\n",
       "\t<tr><td>{1419,3669}     </td><td>SBGR20170105    </td><td>23              </td><td>2               </td></tr>\n",
       "</tbody>\n",
       "</table>\n"
      ],
      "text/latex": [
       "\\begin{tabular}{r|llll}\n",
       " items & sequenceID & eventID & SIZE\\\\\n",
       "\\hline\n",
       "\t \\{3344\\}           & SBCF20170105         & 10                   & 1                   \\\\\n",
       "\t \\{1700,1703,3378\\} & SBCF20170105         & 11                   & 3                   \\\\\n",
       "\t \\{2185\\}           & SBCF20170105         & 12                   & 1                   \\\\\n",
       "\t \\{4120\\}           & SBCF20170105         & 16                   & 1                   \\\\\n",
       "\t \\{3326\\}           & SBCF20170105         & 19                   & 1                   \\\\\n",
       "\t \\{1913\\}           & SBCF20170105         & 20                   & 1                   \\\\\n",
       "\t \\{1833\\}           & SBCF20170105         & 22                   & 1                   \\\\\n",
       "\t \\{3291\\}           & SBGR20170105         &  3                   & 1                   \\\\\n",
       "\t \\{1408\\}           & SBGR20170105         &  6                   & 1                   \\\\\n",
       "\t \\{6312\\}           & SBGR20170105         &  7                   & 1                   \\\\\n",
       "\t \\{3299,3896\\}      & SBGR20170105         &  8                   & 2                   \\\\\n",
       "\t \\{2700\\}           & SBGR20170105         &  9                   & 1                   \\\\\n",
       "\t \\{1677,3408\\}      & SBGR20170105         & 10                   & 2                   \\\\\n",
       "\t \\{3804\\}           & SBGR20170105         & 11                   & 1                   \\\\\n",
       "\t \\{1233,3345\\}      & SBGR20170105         & 12                   & 2                   \\\\\n",
       "\t \\{5019,5187\\}      & SBGR20170105         & 13                   & 2                   \\\\\n",
       "\t \\{3895,6305\\}      & SBGR20170105         & 14                   & 2                   \\\\\n",
       "\t \\{6577\\}           & SBGR20170105         & 15                   & 1                   \\\\\n",
       "\t \\{4846,6578\\}      & SBGR20170105         & 16                   & 2                   \\\\\n",
       "\t \\{3516,6315\\}      & SBGR20170105         & 17                   & 2                   \\\\\n",
       "\t \\{3662,4488\\}      & SBGR20170105         & 18                   & 2                   \\\\\n",
       "\t \\{1095\\}           & SBGR20170105         & 19                   & 1                   \\\\\n",
       "\t \\{1525,1679\\}      & SBGR20170105         & 20                   & 2                   \\\\\n",
       "\t \\{1098,1329,4847\\} & SBGR20170105         & 21                   & 3                   \\\\\n",
       "\t \\{1620\\}           & SBGR20170105         & 22                   & 1                   \\\\\n",
       "\t \\{1419,3669\\}      & SBGR20170105         & 23                   & 2                   \\\\\n",
       "\\end{tabular}\n"
      ],
      "text/markdown": [
       "\n",
       "items | sequenceID | eventID | SIZE | \n",
       "|---|---|---|---|---|---|---|---|---|---|---|---|---|---|---|---|---|---|---|---|---|---|---|---|---|---|\n",
       "| {3344}           | SBCF20170105     | 10               | 1                | \n",
       "| {1700,1703,3378} | SBCF20170105     | 11               | 3                | \n",
       "| {2185}           | SBCF20170105     | 12               | 1                | \n",
       "| {4120}           | SBCF20170105     | 16               | 1                | \n",
       "| {3326}           | SBCF20170105     | 19               | 1                | \n",
       "| {1913}           | SBCF20170105     | 20               | 1                | \n",
       "| {1833}           | SBCF20170105     | 22               | 1                | \n",
       "| {3291}           | SBGR20170105     |  3               | 1                | \n",
       "| {1408}           | SBGR20170105     |  6               | 1                | \n",
       "| {6312}           | SBGR20170105     |  7               | 1                | \n",
       "| {3299,3896}      | SBGR20170105     |  8               | 2                | \n",
       "| {2700}           | SBGR20170105     |  9               | 1                | \n",
       "| {1677,3408}      | SBGR20170105     | 10               | 2                | \n",
       "| {3804}           | SBGR20170105     | 11               | 1                | \n",
       "| {1233,3345}      | SBGR20170105     | 12               | 2                | \n",
       "| {5019,5187}      | SBGR20170105     | 13               | 2                | \n",
       "| {3895,6305}      | SBGR20170105     | 14               | 2                | \n",
       "| {6577}           | SBGR20170105     | 15               | 1                | \n",
       "| {4846,6578}      | SBGR20170105     | 16               | 2                | \n",
       "| {3516,6315}      | SBGR20170105     | 17               | 2                | \n",
       "| {3662,4488}      | SBGR20170105     | 18               | 2                | \n",
       "| {1095}           | SBGR20170105     | 19               | 1                | \n",
       "| {1525,1679}      | SBGR20170105     | 20               | 2                | \n",
       "| {1098,1329,4847} | SBGR20170105     | 21               | 3                | \n",
       "| {1620}           | SBGR20170105     | 22               | 1                | \n",
       "| {1419,3669}      | SBGR20170105     | 23               | 2                | \n",
       "\n",
       "\n"
      ],
      "text/plain": [
       "   items            sequenceID   eventID SIZE\n",
       "1  {3344}           SBCF20170105 10      1   \n",
       "2  {1700,1703,3378} SBCF20170105 11      3   \n",
       "3  {2185}           SBCF20170105 12      1   \n",
       "4  {4120}           SBCF20170105 16      1   \n",
       "5  {3326}           SBCF20170105 19      1   \n",
       "6  {1913}           SBCF20170105 20      1   \n",
       "7  {1833}           SBCF20170105 22      1   \n",
       "8  {3291}           SBGR20170105  3      1   \n",
       "9  {1408}           SBGR20170105  6      1   \n",
       "10 {6312}           SBGR20170105  7      1   \n",
       "11 {3299,3896}      SBGR20170105  8      2   \n",
       "12 {2700}           SBGR20170105  9      1   \n",
       "13 {1677,3408}      SBGR20170105 10      2   \n",
       "14 {3804}           SBGR20170105 11      1   \n",
       "15 {1233,3345}      SBGR20170105 12      2   \n",
       "16 {5019,5187}      SBGR20170105 13      2   \n",
       "17 {3895,6305}      SBGR20170105 14      2   \n",
       "18 {6577}           SBGR20170105 15      1   \n",
       "19 {4846,6578}      SBGR20170105 16      2   \n",
       "20 {3516,6315}      SBGR20170105 17      2   \n",
       "21 {3662,4488}      SBGR20170105 18      2   \n",
       "22 {1095}           SBGR20170105 19      1   \n",
       "23 {1525,1679}      SBGR20170105 20      2   \n",
       "24 {1098,1329,4847} SBGR20170105 21      3   \n",
       "25 {1620}           SBGR20170105 22      1   \n",
       "26 {1419,3669}      SBGR20170105 23      2   "
      ]
     },
     "metadata": {},
     "output_type": "display_data"
    }
   ],
   "source": [
    "# Basket\n",
    "basket <- ddply(agg,c(\"sequenceID\",\"eventID\",\"SIZE\"), \n",
    "                       function(df1)paste(df1$items, \n",
    "                       collapse = \" \"))\n",
    "# Renomeando as colunas com os nomes corretos na sequência\n",
    "colnames(basket) <- c(\"sequenceID\",\"eventID\",\"SIZE\",\"items\")\n",
    "# Calculando o SIZE com base nos items\n",
    "basket$SIZE<-sapply(strsplit(basket$items,\" \"),length)\n",
    "# Removendo o hífen da coluna sequenceID\n",
    "basket$sequenceID<-gsub(\"-\", \"\", basket$sequenceID)\n",
    "# eventID tem que ser do tipo integer\n",
    "basket$eventID <- as.integer(basket$eventID)\n",
    "# eventID tem que ser positivo\n",
    "basket<-basket[which(basket$eventID>'00'),]\n",
    "#basket\n",
    " \n",
    "#Gravando o arquivo TXT no formato **BASKET**.\n",
    "write.table(basket, \"basket_voos_SBGR_SBCF.txt\", quote = FALSE, eol = \"\\n\", row.names = FALSE,\n",
    "            col.names = FALSE, fileEncoding = \"UTF-8\")  \n",
    "\n",
    "#Lendo o arquivo gravado.\n",
    "x <- read_baskets(con = \"basket_voos_SBGR_SBCF.txt\", info = c(\"sequenceID\",\"eventID\",\"SIZE\"))\n",
    "as(x, \"data.frame\")"
   ]
  },
  {
   "cell_type": "markdown",
   "metadata": {},
   "source": [
    "Executando-se o algoritmo **CSPADE**<BR>\n",
    "Sequências Frequentes com um suporte mínimo de 50% (ou seja, a sub-sequência ocorre em no mínimo 2 sequências de entrada).<BR>\n",
    "maxsize = 2 (dois itens em um elemento de uma sequência)<BR>\n",
    "maxlen = 2 (dois elementos de uma sequência)    "
   ]
  },
  {
   "cell_type": "code",
   "execution_count": 53,
   "metadata": {},
   "outputs": [
    {
     "name": "stdout",
     "output_type": "stream",
     "text": [
      "\n",
      "parameter specification:\n",
      "support : 0.5\n",
      "maxsize :   2\n",
      "maxlen  :   2\n",
      "\n",
      "algorithmic control:\n",
      "bfstype  : FALSE\n",
      "verbose  :  TRUE\n",
      "summary  : FALSE\n",
      "tidLists : FALSE\n",
      "\n",
      "preprocessing ... 1 partition(s), 0 MB [0.08s]\n",
      "mining transactions ... 0.02 MB [0.04s]\n",
      "reading sequences ... [0.33s]\n",
      "\n",
      "total elapsed time: 0.45s\n"
     ]
    }
   ],
   "source": [
    "s <- cspade(x, parameter = list(support = 0.5, maxsize = 2, maxlen = 2), control = list(verbose = TRUE))"
   ]
  },
  {
   "cell_type": "markdown",
   "metadata": {},
   "source": [
    "Induzindo a geração das regras de atraso entre os aeroportos SBGR e SBCF."
   ]
  },
  {
   "cell_type": "code",
   "execution_count": 54,
   "metadata": {
    "code_folding": [
     0
    ]
   },
   "outputs": [
    {
     "data": {
      "text/plain": [
       "set of 952 sequencerules with\n",
       "\n",
       "rule size distribution (lhs + rhs)\n",
       "sizes\n",
       "  2 \n",
       "952 \n",
       "\n",
       "rule length distribution (lhs + rhs)\n",
       "lengths\n",
       "  2   3   4 \n",
       "485 392  75 \n",
       "\n",
       "summary of quality measures:\n",
       "    support      confidence      lift  \n",
       " Min.   :0.5   Min.   :1    Min.   :2  \n",
       " 1st Qu.:0.5   1st Qu.:1    1st Qu.:2  \n",
       " Median :0.5   Median :1    Median :2  \n",
       " Mean   :0.5   Mean   :1    Mean   :2  \n",
       " 3rd Qu.:0.5   3rd Qu.:1    3rd Qu.:2  \n",
       " Max.   :0.5   Max.   :1    Max.   :2  \n",
       "\n",
       "mining info:\n",
       " data ntransactions nsequences support confidence\n",
       "    x            26          2     0.5       0.95"
      ]
     },
     "metadata": {},
     "output_type": "display_data"
    }
   ],
   "source": [
    "## usando uma confiança elevada\n",
    "sequenceRules <- ruleInduction(s, confidence = .95, control = list(verbose = TRUE))\n",
    "summary(sequenceRules)"
   ]
  },
  {
   "cell_type": "code",
   "execution_count": 55,
   "metadata": {},
   "outputs": [
    {
     "name": "stdout",
     "output_type": "stream",
     "text": [
      "     lhs         rhs      support confidence lift \n",
      "   1 <{1233}> => <{6578}>     0.5          1    2 \n",
      "   2 <{1408}> => <{6578}>     0.5          1    2 \n",
      "   3 <{1677}> => <{6578}>     0.5          1    2 \n",
      "   4 <{2700}> => <{6578}>     0.5          1    2 \n",
      "   5 <{3291}> => <{6578}>     0.5          1    2 \n",
      "   6 <{3299}> => <{6578}>     0.5          1    2 \n",
      "   7 <{3345}> => <{6578}>     0.5          1    2 \n",
      "   8 <{3408}> => <{6578}>     0.5          1    2 \n",
      "   9 <{3804}> => <{6578}>     0.5          1    2 \n",
      "  10 <{3895}> => <{6578}>     0.5          1    2 \n",
      "  11 <{3896}> => <{6578}>     0.5          1    2 \n",
      "  12 <{5019}> => <{6578}>     0.5          1    2 \n",
      "  13 <{5187}> => <{6578}>     0.5          1    2 \n",
      "  14 <{6305}> => <{6578}>     0.5          1    2 \n",
      "  15 <{6312}> => <{6578}>     0.5          1    2 \n",
      "  16 <{6577}> => <{6578}>     0.5          1    2 \n",
      "  17 <{3895,                 \n",
      "       6305}> => <{6578}>     0.5          1    2 \n",
      "  18 <{5019,                 \n",
      "       5187}> => <{6578}>     0.5          1    2 \n",
      "  19 <{3299,                 \n",
      "       3896}> => <{6578}>     0.5          1    2 \n",
      "  20 <{3408,                 \n",
      "       1677}> => <{6578}>     0.5          1    2 \n",
      "  21 <{3345,                 \n",
      "       1233}> => <{6578}>     0.5          1    2 \n",
      "  22 <{6577}> => <{4846,      0.5          1    2 \n",
      "                   6578}>    \n",
      "  23 <{6312}> => <{4846,      0.5          1    2 \n",
      "                   6578}>    \n",
      "  24 <{6305}> => <{4846,      0.5          1    2 \n",
      "                   6578}>    \n",
      "  25 <{5187}> => <{4846,      0.5          1    2 \n",
      "                   6578}>    \n",
      "  26 <{5019}> => <{4846,      0.5          1    2 \n",
      "                   6578}>    \n",
      "  27 <{3896}> => <{4846,      0.5          1    2 \n",
      "                   6578}>    \n",
      "  28 <{3895}> => <{4846,      0.5          1    2 \n",
      "                   6578}>    \n",
      "  29 <{3804}> => <{4846,      0.5          1    2 \n",
      "                   6578}>    \n",
      "  30 <{3408}> => <{4846,      0.5          1    2 \n",
      "                   6578}>    \n",
      "  31 <{3345}> => <{4846,      0.5          1    2 \n",
      "                   6578}>    \n",
      "  32 <{3299}> => <{4846,      0.5          1    2 \n",
      "                   6578}>    \n",
      "  33 <{3291}> => <{4846,      0.5          1    2 \n",
      "                   6578}>    \n",
      "  34 <{2700}> => <{4846,      0.5          1    2 \n",
      "                   6578}>    \n",
      "  35 <{1677}> => <{4846,      0.5          1    2 \n",
      "                   6578}>    \n",
      "  36 <{1408}> => <{4846,      0.5          1    2 \n",
      "                   6578}>    \n",
      "  37 <{1233}> => <{4846,      0.5          1    2 \n",
      "                   6578}>    \n",
      "  38 <{3895,                 \n",
      "       6305}> => <{4846,      0.5          1    2 \n",
      "                   6578}>    \n",
      "  39 <{5019,                 \n",
      "       5187}> => <{4846,      0.5          1    2 \n",
      "                   6578}>    \n",
      "  40 <{3299,                 \n",
      "       3896}> => <{4846,      0.5          1    2 \n",
      "                   6578}>    \n",
      "  41 <{3408,                 \n",
      "       1677}> => <{4846,      0.5          1    2 \n",
      "                   6578}>    \n",
      "  42 <{3345,                 \n",
      "       1233}> => <{4846,      0.5          1    2 \n",
      "                   6578}>    \n",
      "  43 <{1233}> => <{6577}>     0.5          1    2 \n",
      "  44 <{1408}> => <{6577}>     0.5          1    2 \n",
      "  45 <{1677}> => <{6577}>     0.5          1    2 \n",
      "  46 <{2700}> => <{6577}>     0.5          1    2 \n",
      "  47 <{3291}> => <{6577}>     0.5          1    2 \n",
      "  48 <{3299}> => <{6577}>     0.5          1    2 \n",
      "  49 <{3345}> => <{6577}>     0.5          1    2 \n",
      "  50 <{3408}> => <{6577}>     0.5          1    2 \n",
      "  51 <{3804}> => <{6577}>     0.5          1    2 \n",
      "  52 <{3895}> => <{6577}>     0.5          1    2 \n",
      "  53 <{3896}> => <{6577}>     0.5          1    2 \n",
      "  54 <{5019}> => <{6577}>     0.5          1    2 \n",
      "  55 <{5187}> => <{6577}>     0.5          1    2 \n",
      "  56 <{6305}> => <{6577}>     0.5          1    2 \n",
      "  57 <{6312}> => <{6577}>     0.5          1    2 \n",
      "  58 <{3895,                 \n",
      "       6305}> => <{6577}>     0.5          1    2 \n",
      "  59 <{5019,                 \n",
      "       5187}> => <{6577}>     0.5          1    2 \n",
      "  60 <{3299,                 \n",
      "       3896}> => <{6577}>     0.5          1    2 \n",
      "  61 <{3408,                 \n",
      "       1677}> => <{6577}>     0.5          1    2 \n",
      "  62 <{3345,                 \n",
      "       1233}> => <{6577}>     0.5          1    2 \n",
      "  63 <{1233}> => <{6315}>     0.5          1    2 \n",
      "  64 <{1408}> => <{6315}>     0.5          1    2 \n",
      "  65 <{1677}> => <{6315}>     0.5          1    2 \n",
      "  66 <{2700}> => <{6315}>     0.5          1    2 \n",
      "  67 <{3291}> => <{6315}>     0.5          1    2 \n",
      "  68 <{3299}> => <{6315}>     0.5          1    2 \n",
      "  69 <{3345}> => <{6315}>     0.5          1    2 \n",
      "  70 <{3408}> => <{6315}>     0.5          1    2 \n",
      "  71 <{3804}> => <{6315}>     0.5          1    2 \n",
      "  72 <{3895}> => <{6315}>     0.5          1    2 \n",
      "  73 <{3896}> => <{6315}>     0.5          1    2 \n",
      "  74 <{4846}> => <{6315}>     0.5          1    2 \n",
      "  75 <{5019}> => <{6315}>     0.5          1    2 \n",
      "  76 <{5187}> => <{6315}>     0.5          1    2 \n",
      "  77 <{6305}> => <{6315}>     0.5          1    2 \n",
      "  78 <{6312}> => <{6315}>     0.5          1    2 \n",
      "  79 <{6577}> => <{6315}>     0.5          1    2 \n",
      "  80 <{6578}> => <{6315}>     0.5          1    2 \n",
      "  81 <{4846,                 \n",
      "       6578}> => <{6315}>     0.5          1    2 \n",
      "  82 <{3895,                 \n",
      "       6305}> => <{6315}>     0.5          1    2 \n",
      "  83 <{5019,                 \n",
      "       5187}> => <{6315}>     0.5          1    2 \n",
      "  84 <{3299,                 \n",
      "       3896}> => <{6315}>     0.5          1    2 \n",
      "  85 <{3408,                 \n",
      "       1677}> => <{6315}>     0.5          1    2 \n",
      "  86 <{3345,                 \n",
      "       1233}> => <{6315}>     0.5          1    2 \n",
      "  87 <{6578}> => <{3516,      0.5          1    2 \n",
      "                   6315}>    \n",
      "  88 <{6577}> => <{3516,      0.5          1    2 \n",
      "                   6315}>    \n",
      "  89 <{6312}> => <{3516,      0.5          1    2 \n",
      "                   6315}>    \n",
      "  90 <{6305}> => <{3516,      0.5          1    2 \n",
      "                   6315}>    \n",
      "  91 <{5187}> => <{3516,      0.5          1    2 \n",
      "                   6315}>    \n",
      "  92 <{5019}> => <{3516,      0.5          1    2 \n",
      "                   6315}>    \n",
      "  93 <{4846}> => <{3516,      0.5          1    2 \n",
      "                   6315}>    \n",
      "  94 <{3896}> => <{3516,      0.5          1    2 \n",
      "                   6315}>    \n",
      "  95 <{3895}> => <{3516,      0.5          1    2 \n",
      "                   6315}>    \n",
      "  96 <{3804}> => <{3516,      0.5          1    2 \n",
      "                   6315}>    \n",
      "  97 <{3408}> => <{3516,      0.5          1    2 \n",
      "                   6315}>    \n",
      "  98 <{3345}> => <{3516,      0.5          1    2 \n",
      "                   6315}>    \n",
      "  99 <{3299}> => <{3516,      0.5          1    2 \n",
      "                   6315}>    \n",
      " 100 <{3291}> => <{3516,      0.5          1    2 \n",
      "                   6315}>    \n",
      " 101 <{2700}> => <{3516,      0.5          1    2 \n",
      "                   6315}>    \n",
      " 102 <{1677}> => <{3516,      0.5          1    2 \n",
      "                   6315}>    \n",
      " 103 <{1408}> => <{3516,      0.5          1    2 \n",
      "                   6315}>    \n",
      " 104 <{1233}> => <{3516,      0.5          1    2 \n",
      "                   6315}>    \n",
      " 105 <{4846,                 \n",
      "       6578}> => <{3516,      0.5          1    2 \n",
      "                   6315}>    \n",
      " 106 <{3895,                 \n",
      "       6305}> => <{3516,      0.5          1    2 \n",
      "                   6315}>    \n",
      " 107 <{5019,                 \n",
      "       5187}> => <{3516,      0.5          1    2 \n",
      "                   6315}>    \n",
      " 108 <{3299,                 \n",
      "       3896}> => <{3516,      0.5          1    2 \n",
      "                   6315}>    \n",
      " 109 <{3408,                 \n",
      "       1677}> => <{3516,      0.5          1    2 \n",
      "                   6315}>    \n",
      " 110 <{3345,                 \n",
      "       1233}> => <{3516,      0.5          1    2 \n",
      "                   6315}>    \n",
      " 111 <{1408}> => <{6312}>     0.5          1    2 \n",
      " 112 <{3291}> => <{6312}>     0.5          1    2 \n",
      " 113 <{1233}> => <{6305}>     0.5          1    2 \n",
      " 114 <{1408}> => <{6305}>     0.5          1    2 \n",
      " 115 <{1677}> => <{6305}>     0.5          1    2 \n",
      " 116 <{2700}> => <{6305}>     0.5          1    2 \n",
      " 117 <{3291}> => <{6305}>     0.5          1    2 \n",
      " 118 <{3299}> => <{6305}>     0.5          1    2 \n",
      " 119 <{3345}> => <{6305}>     0.5          1    2 \n",
      " 120 <{3408}> => <{6305}>     0.5          1    2 \n",
      " 121 <{3804}> => <{6305}>     0.5          1    2 \n",
      " 122 <{3896}> => <{6305}>     0.5          1    2 \n",
      " 123 <{5019}> => <{6305}>     0.5          1    2 \n",
      " 124 <{5187}> => <{6305}>     0.5          1    2 \n",
      " 125 <{6312}> => <{6305}>     0.5          1    2 \n",
      " 126 <{5019,                 \n",
      "       5187}> => <{6305}>     0.5          1    2 \n",
      " 127 <{3299,                 \n",
      "       3896}> => <{6305}>     0.5          1    2 \n",
      " 128 <{3408,                 \n",
      "       1677}> => <{6305}>     0.5          1    2 \n",
      " 129 <{3345,                 \n",
      "       1233}> => <{6305}>     0.5          1    2 \n",
      " 130 <{6312}> => <{3895,      0.5          1    2 \n",
      "                   6305}>    \n",
      " 131 <{5187}> => <{3895,      0.5          1    2 \n",
      "                   6305}>    \n",
      " 132 <{5019}> => <{3895,      0.5          1    2 \n",
      "                   6305}>    \n",
      " 133 <{3896}> => <{3895,      0.5          1    2 \n",
      "                   6305}>    \n",
      " 134 <{3804}> => <{3895,      0.5          1    2 \n",
      "                   6305}>    \n",
      " 135 <{3408}> => <{3895,      0.5          1    2 \n",
      "                   6305}>    \n",
      " 136 <{3345}> => <{3895,      0.5          1    2 \n",
      "                   6305}>    \n",
      " 137 <{3299}> => <{3895,      0.5          1    2 \n",
      "                   6305}>    \n",
      " 138 <{3291}> => <{3895,      0.5          1    2 \n",
      "                   6305}>    \n",
      " 139 <{2700}> => <{3895,      0.5          1    2 \n",
      "                   6305}>    \n",
      " 140 <{1677}> => <{3895,      0.5          1    2 \n",
      "                   6305}>    \n",
      " 141 <{1408}> => <{3895,      0.5          1    2 \n",
      "                   6305}>    \n",
      " 142 <{1233}> => <{3895,      0.5          1    2 \n",
      "                   6305}>    \n",
      " 143 <{5019,                 \n",
      "       5187}> => <{3895,      0.5          1    2 \n",
      "                   6305}>    \n",
      " 144 <{3299,                 \n",
      "       3896}> => <{3895,      0.5          1    2 \n",
      "                   6305}>    \n",
      " 145 <{3408,                 \n",
      "       1677}> => <{3895,      0.5          1    2 \n",
      "                   6305}>    \n",
      " 146 <{3345,                 \n",
      "       1233}> => <{3895,      0.5          1    2 \n",
      "                   6305}>    \n",
      " 147 <{1233}> => <{5187}>     0.5          1    2 \n",
      " 148 <{1408}> => <{5187}>     0.5          1    2 \n",
      " 149 <{1677}> => <{5187}>     0.5          1    2 \n",
      " 150 <{2700}> => <{5187}>     0.5          1    2 \n",
      " 151 <{3291}> => <{5187}>     0.5          1    2 \n",
      " 152 <{3299}> => <{5187}>     0.5          1    2 \n",
      " 153 <{3345}> => <{5187}>     0.5          1    2 \n",
      " 154 <{3408}> => <{5187}>     0.5          1    2 \n",
      " 155 <{3804}> => <{5187}>     0.5          1    2 \n",
      " 156 <{3896}> => <{5187}>     0.5          1    2 \n",
      " 157 <{6312}> => <{5187}>     0.5          1    2 \n",
      " 158 <{3299,                 \n",
      "       3896}> => <{5187}>     0.5          1    2 \n",
      " 159 <{3408,                 \n",
      "       1677}> => <{5187}>     0.5          1    2 \n",
      " 160 <{3345,                 \n",
      "       1233}> => <{5187}>     0.5          1    2 \n",
      " 161 <{6312}> => <{5019,      0.5          1    2 \n",
      "                   5187}>    \n",
      " 162 <{3896}> => <{5019,      0.5          1    2 \n",
      "                   5187}>    \n",
      " 163 <{3804}> => <{5019,      0.5          1    2 \n",
      "                   5187}>    \n",
      " 164 <{3408}> => <{5019,      0.5          1    2 \n",
      "                   5187}>    \n",
      " 165 <{3345}> => <{5019,      0.5          1    2 \n",
      "                   5187}>    \n",
      " 166 <{3299}> => <{5019,      0.5          1    2 \n",
      "                   5187}>    \n",
      " 167 <{3291}> => <{5019,      0.5          1    2 \n",
      "                   5187}>    \n",
      " 168 <{2700}> => <{5019,      0.5          1    2 \n",
      "                   5187}>    \n",
      " 169 <{1677}> => <{5019,      0.5          1    2 \n",
      "                   5187}>    \n",
      " 170 <{1408}> => <{5019,      0.5          1    2 \n",
      "                   5187}>    \n",
      " 171 <{1233}> => <{5019,      0.5          1    2 \n",
      "                   5187}>    \n",
      " 172 <{3299,                 \n",
      "       3896}> => <{5019,      0.5          1    2 \n",
      "                   5187}>    \n",
      " 173 <{3408,                 \n",
      "       1677}> => <{5019,      0.5          1    2 \n",
      "                   5187}>    \n",
      " 174 <{3345,                 \n",
      "       1233}> => <{5019,      0.5          1    2 \n",
      "                   5187}>    \n",
      " 175 <{1233}> => <{5019}>     0.5          1    2 \n",
      " 176 <{1408}> => <{5019}>     0.5          1    2 \n",
      " 177 <{1677}> => <{5019}>     0.5          1    2 \n",
      " 178 <{2700}> => <{5019}>     0.5          1    2 \n",
      " 179 <{3291}> => <{5019}>     0.5          1    2 \n",
      " 180 <{3299}> => <{5019}>     0.5          1    2 \n",
      " 181 <{3345}> => <{5019}>     0.5          1    2 \n",
      " 182 <{3408}> => <{5019}>     0.5          1    2 \n",
      " 183 <{3804}> => <{5019}>     0.5          1    2 \n",
      " 184 <{3896}> => <{5019}>     0.5          1    2 \n",
      " 185 <{6312}> => <{5019}>     0.5          1    2 \n",
      " 186 <{3299,                 \n",
      "       3896}> => <{5019}>     0.5          1    2 \n",
      " 187 <{3408,                 \n",
      "       1677}> => <{5019}>     0.5          1    2 \n",
      " 188 <{3345,                 \n",
      "       1233}> => <{5019}>     0.5          1    2 \n",
      " 189 <{1095}> => <{4847}>     0.5          1    2 \n",
      " 190 <{1233}> => <{4847}>     0.5          1    2 \n",
      " 191 <{1408}> => <{4847}>     0.5          1    2 \n",
      " 192 <{1525}> => <{4847}>     0.5          1    2 \n",
      " 193 <{1677}> => <{4847}>     0.5          1    2 \n",
      " 194 <{1679}> => <{4847}>     0.5          1    2 \n",
      " 195 <{2700}> => <{4847}>     0.5          1    2 \n",
      " 196 <{3291}> => <{4847}>     0.5          1    2 \n",
      " 197 <{3299}> => <{4847}>     0.5          1    2 \n",
      " 198 <{3345}> => <{4847}>     0.5          1    2 \n",
      " 199 <{3408}> => <{4847}>     0.5          1    2 \n",
      " 200 <{3516}> => <{4847}>     0.5          1    2 \n",
      " 201 <{3662}> => <{4847}>     0.5          1    2 \n",
      " 202 <{3804}> => <{4847}>     0.5          1    2 \n",
      " 203 <{3895}> => <{4847}>     0.5          1    2 \n",
      " 204 <{3896}> => <{4847}>     0.5          1    2 \n",
      " 205 <{4488}> => <{4847}>     0.5          1    2 \n",
      " 206 <{4846}> => <{4847}>     0.5          1    2 \n",
      " 207 <{5019}> => <{4847}>     0.5          1    2 \n",
      " 208 <{5187}> => <{4847}>     0.5          1    2 \n",
      " 209 <{6305}> => <{4847}>     0.5          1    2 \n",
      " 210 <{6312}> => <{4847}>     0.5          1    2 \n",
      " 211 <{6315}> => <{4847}>     0.5          1    2 \n",
      " 212 <{6577}> => <{4847}>     0.5          1    2 \n",
      " 213 <{6578}> => <{4847}>     0.5          1    2 \n",
      " 214 <{4846,                 \n",
      "       6578}> => <{4847}>     0.5          1    2 \n",
      " 215 <{3516,                 \n",
      "       6315}> => <{4847}>     0.5          1    2 \n",
      " 216 <{3895,                 \n",
      "       6305}> => <{4847}>     0.5          1    2 \n",
      " 217 <{5019,                 \n",
      "       5187}> => <{4847}>     0.5          1    2 \n",
      " 218 <{3662,                 \n",
      "       4488}> => <{4847}>     0.5          1    2 \n",
      " 219 <{3299,                 \n",
      "       3896}> => <{4847}>     0.5          1    2 \n",
      " 220 <{3408,                 \n",
      "       1677}> => <{4847}>     0.5          1    2 \n",
      " 221 <{3345,                 \n",
      "       1233}> => <{4847}>     0.5          1    2 \n",
      " 222 <{1679,                 \n",
      "       1525}> => <{4847}>     0.5          1    2 \n",
      " 223 <{6578}> => <{4847,      0.5          1    2 \n",
      "                   1329}>    \n",
      " 224 <{6577}> => <{4847,      0.5          1    2 \n",
      "                   1329}>    \n",
      " 225 <{6315}> => <{4847,      0.5          1    2 \n",
      "                   1329}>    \n",
      " 226 <{6312}> => <{4847,      0.5          1    2 \n",
      "                   1329}>    \n",
      " 227 <{6305}> => <{4847,      0.5          1    2 \n",
      "                   1329}>    \n",
      " 228 <{5187}> => <{4847,      0.5          1    2 \n",
      "                   1329}>    \n",
      " 229 <{5019}> => <{4847,      0.5          1    2 \n",
      "                   1329}>    \n",
      " 230 <{4846}> => <{4847,      0.5          1    2 \n",
      "                   1329}>    \n",
      " 231 <{4488}> => <{4847,      0.5          1    2 \n",
      "                   1329}>    \n",
      " 232 <{3896}> => <{4847,      0.5          1    2 \n",
      "                   1329}>    \n",
      " 233 <{3895}> => <{4847,      0.5          1    2 \n",
      "                   1329}>    \n",
      " 234 <{3804}> => <{4847,      0.5          1    2 \n",
      "                   1329}>    \n",
      " 235 <{3662}> => <{4847,      0.5          1    2 \n",
      "                   1329}>    \n",
      " 236 <{3516}> => <{4847,      0.5          1    2 \n",
      "                   1329}>    \n",
      " 237 <{3408}> => <{4847,      0.5          1    2 \n",
      "                   1329}>    \n",
      " 238 <{3345}> => <{4847,      0.5          1    2 \n",
      "                   1329}>    \n",
      " 239 <{3299}> => <{4847,      0.5          1    2 \n",
      "                   1329}>    \n",
      " 240 <{3291}> => <{4847,      0.5          1    2 \n",
      "                   1329}>    \n",
      " 241 <{2700}> => <{4847,      0.5          1    2 \n",
      "                   1329}>    \n",
      " 242 <{1679}> => <{4847,      0.5          1    2 \n",
      "                   1329}>    \n",
      " 243 <{1677}> => <{4847,      0.5          1    2 \n",
      "                   1329}>    \n",
      " 244 <{1525}> => <{4847,      0.5          1    2 \n",
      "                   1329}>    \n",
      " 245 <{1408}> => <{4847,      0.5          1    2 \n",
      "                   1329}>    \n",
      " 246 <{1233}> => <{4847,      0.5          1    2 \n",
      "                   1329}>    \n",
      " 247 <{1095}> => <{4847,      0.5          1    2 \n",
      "                   1329}>    \n",
      " 248 <{4846,                 \n",
      "       6578}> => <{4847,      0.5          1    2 \n",
      "                   1329}>    \n",
      " 249 <{3516,                 \n",
      "       6315}> => <{4847,      0.5          1    2 \n",
      "                   1329}>    \n",
      " 250 <{3895,                 \n",
      "       6305}> => <{4847,      0.5          1    2 \n",
      "                   1329}>    \n",
      " 251 <{5019,                 \n",
      "       5187}> => <{4847,      0.5          1    2 \n",
      "                   1329}>    \n",
      " 252 <{3662,                 \n",
      "       4488}> => <{4847,      0.5          1    2 \n",
      "                   1329}>    \n",
      " 253 <{3299,                 \n",
      "       3896}> => <{4847,      0.5          1    2 \n",
      "                   1329}>    \n",
      " 254 <{3408,                 \n",
      "       1677}> => <{4847,      0.5          1    2 \n",
      "                   1329}>    \n",
      " 255 <{3345,                 \n",
      "       1233}> => <{4847,      0.5          1    2 \n",
      "                   1329}>    \n",
      " 256 <{1679,                 \n",
      "       1525}> => <{4847,      0.5          1    2 \n",
      "                   1329}>    \n",
      " 257 <{6578}> => <{1098,      0.5          1    2 \n",
      "                   4847}>    \n",
      " 258 <{6577}> => <{1098,      0.5          1    2 \n",
      "                   4847}>    \n",
      " 259 <{6315}> => <{1098,      0.5          1    2 \n",
      "                   4847}>    \n",
      " 260 <{6312}> => <{1098,      0.5          1    2 \n",
      "                   4847}>    \n",
      " 261 <{6305}> => <{1098,      0.5          1    2 \n",
      "                   4847}>    \n",
      " 262 <{5187}> => <{1098,      0.5          1    2 \n",
      "                   4847}>    \n",
      " 263 <{5019}> => <{1098,      0.5          1    2 \n",
      "                   4847}>    \n",
      " 264 <{4846}> => <{1098,      0.5          1    2 \n",
      "                   4847}>    \n",
      " 265 <{4488}> => <{1098,      0.5          1    2 \n",
      "                   4847}>    \n",
      " 266 <{3896}> => <{1098,      0.5          1    2 \n",
      "                   4847}>    \n",
      " 267 <{3895}> => <{1098,      0.5          1    2 \n",
      "                   4847}>    \n",
      " 268 <{3804}> => <{1098,      0.5          1    2 \n",
      "                   4847}>    \n",
      " 269 <{3662}> => <{1098,      0.5          1    2 \n",
      "                   4847}>    \n",
      " 270 <{3516}> => <{1098,      0.5          1    2 \n",
      "                   4847}>    \n",
      " 271 <{3408}> => <{1098,      0.5          1    2 \n",
      "                   4847}>    \n",
      " 272 <{3345}> => <{1098,      0.5          1    2 \n",
      "                   4847}>    \n",
      " 273 <{3299}> => <{1098,      0.5          1    2 \n",
      "                   4847}>    \n",
      " 274 <{3291}> => <{1098,      0.5          1    2 \n",
      "                   4847}>    \n",
      " 275 <{2700}> => <{1098,      0.5          1    2 \n",
      "                   4847}>    \n",
      " 276 <{1679}> => <{1098,      0.5          1    2 \n",
      "                   4847}>    \n",
      " 277 <{1677}> => <{1098,      0.5          1    2 \n",
      "                   4847}>    \n",
      " 278 <{1525}> => <{1098,      0.5          1    2 \n",
      "                   4847}>    \n",
      " 279 <{1408}> => <{1098,      0.5          1    2 \n",
      "                   4847}>    \n",
      " 280 <{1233}> => <{1098,      0.5          1    2 \n",
      "                   4847}>    \n",
      " 281 <{1095}> => <{1098,      0.5          1    2 \n",
      "                   4847}>    \n",
      " 282 <{4846,                 \n",
      "       6578}> => <{1098,      0.5          1    2 \n",
      "                   4847}>    \n",
      " 283 <{3516,                 \n",
      "       6315}> => <{1098,      0.5          1    2 \n",
      "                   4847}>    \n",
      " 284 <{3895,                 \n",
      "       6305}> => <{1098,      0.5          1    2 \n",
      "                   4847}>    \n",
      " 285 <{5019,                 \n",
      "       5187}> => <{1098,      0.5          1    2 \n",
      "                   4847}>    \n",
      " 286 <{3662,                 \n",
      "       4488}> => <{1098,      0.5          1    2 \n",
      "                   4847}>    \n",
      " 287 <{3299,                 \n",
      "       3896}> => <{1098,      0.5          1    2 \n",
      "                   4847}>    \n",
      " 288 <{3408,                 \n",
      "       1677}> => <{1098,      0.5          1    2 \n",
      "                   4847}>    \n",
      " 289 <{3345,                 \n",
      "       1233}> => <{1098,      0.5          1    2 \n",
      "                   4847}>    \n",
      " 290 <{1679,                 \n",
      "       1525}> => <{1098,      0.5          1    2 \n",
      "                   4847}>    \n",
      " 291 <{1233}> => <{4846}>     0.5          1    2 \n",
      " 292 <{1408}> => <{4846}>     0.5          1    2 \n",
      " 293 <{1677}> => <{4846}>     0.5          1    2 \n",
      " 294 <{2700}> => <{4846}>     0.5          1    2 \n",
      " 295 <{3291}> => <{4846}>     0.5          1    2 \n",
      " 296 <{3299}> => <{4846}>     0.5          1    2 \n",
      " 297 <{3345}> => <{4846}>     0.5          1    2 \n",
      " 298 <{3408}> => <{4846}>     0.5          1    2 \n",
      " 299 <{3804}> => <{4846}>     0.5          1    2 \n",
      " 300 <{3895}> => <{4846}>     0.5          1    2 \n",
      " 301 <{3896}> => <{4846}>     0.5          1    2 \n",
      " 302 <{5019}> => <{4846}>     0.5          1    2 \n",
      " 303 <{5187}> => <{4846}>     0.5          1    2 \n",
      " 304 <{6305}> => <{4846}>     0.5          1    2 \n",
      " 305 <{6312}> => <{4846}>     0.5          1    2 \n",
      " 306 <{6577}> => <{4846}>     0.5          1    2 \n",
      " 307 <{3895,                 \n",
      "       6305}> => <{4846}>     0.5          1    2 \n",
      " 308 <{5019,                 \n",
      "       5187}> => <{4846}>     0.5          1    2 \n",
      " 309 <{3299,                 \n",
      "       3896}> => <{4846}>     0.5          1    2 \n",
      " 310 <{3408,                 \n",
      "       1677}> => <{4846}>     0.5          1    2 \n",
      " 311 <{3345,                 \n",
      "       1233}> => <{4846}>     0.5          1    2 \n",
      " 312 <{1233}> => <{4488}>     0.5          1    2 \n",
      " 313 <{1408}> => <{4488}>     0.5          1    2 \n",
      " 314 <{1677}> => <{4488}>     0.5          1    2 \n",
      " 315 <{2700}> => <{4488}>     0.5          1    2 \n",
      " 316 <{3291}> => <{4488}>     0.5          1    2 \n",
      " 317 <{3299}> => <{4488}>     0.5          1    2 \n",
      " 318 <{3345}> => <{4488}>     0.5          1    2 \n",
      " 319 <{3408}> => <{4488}>     0.5          1    2 \n",
      " 320 <{3516}> => <{4488}>     0.5          1    2 \n",
      " 321 <{3804}> => <{4488}>     0.5          1    2 \n",
      " 322 <{3895}> => <{4488}>     0.5          1    2 \n",
      " 323 <{3896}> => <{4488}>     0.5          1    2 \n",
      " 324 <{4846}> => <{4488}>     0.5          1    2 \n",
      " 325 <{5019}> => <{4488}>     0.5          1    2 \n",
      " 326 <{5187}> => <{4488}>     0.5          1    2 \n",
      " 327 <{6305}> => <{4488}>     0.5          1    2 \n",
      " 328 <{6312}> => <{4488}>     0.5          1    2 \n",
      " 329 <{6315}> => <{4488}>     0.5          1    2 \n",
      " 330 <{6577}> => <{4488}>     0.5          1    2 \n",
      " 331 <{6578}> => <{4488}>     0.5          1    2 \n",
      " 332 <{4846,                 \n",
      "       6578}> => <{4488}>     0.5          1    2 \n",
      " 333 <{3516,                 \n",
      "       6315}> => <{4488}>     0.5          1    2 \n",
      " 334 <{3895,                 \n",
      "       6305}> => <{4488}>     0.5          1    2 \n",
      " 335 <{5019,                 \n",
      "       5187}> => <{4488}>     0.5          1    2 \n",
      " 336 <{3299,                 \n",
      "       3896}> => <{4488}>     0.5          1    2 \n",
      " 337 <{3408,                 \n",
      "       1677}> => <{4488}>     0.5          1    2 \n",
      " 338 <{3345,                 \n",
      "       1233}> => <{4488}>     0.5          1    2 \n",
      " 339 <{6578}> => <{3662,      0.5          1    2 \n",
      "                   4488}>    \n",
      " 340 <{6577}> => <{3662,      0.5          1    2 \n",
      "                   4488}>    \n",
      " 341 <{6315}> => <{3662,      0.5          1    2 \n",
      "                   4488}>    \n",
      " 342 <{6312}> => <{3662,      0.5          1    2 \n",
      "                   4488}>    \n",
      " 343 <{6305}> => <{3662,      0.5          1    2 \n",
      "                   4488}>    \n",
      " 344 <{5187}> => <{3662,      0.5          1    2 \n",
      "                   4488}>    \n",
      " 345 <{5019}> => <{3662,      0.5          1    2 \n",
      "                   4488}>    \n",
      " 346 <{4846}> => <{3662,      0.5          1    2 \n",
      "                   4488}>    \n",
      " 347 <{3896}> => <{3662,      0.5          1    2 \n",
      "                   4488}>    \n",
      " 348 <{3895}> => <{3662,      0.5          1    2 \n",
      "                   4488}>    \n",
      " 349 <{3804}> => <{3662,      0.5          1    2 \n",
      "                   4488}>    \n",
      " 350 <{3516}> => <{3662,      0.5          1    2 \n",
      "                   4488}>    \n",
      " 351 <{3408}> => <{3662,      0.5          1    2 \n",
      "                   4488}>    \n",
      " 352 <{3345}> => <{3662,      0.5          1    2 \n",
      "                   4488}>    \n",
      " 353 <{3299}> => <{3662,      0.5          1    2 \n",
      "                   4488}>    \n",
      " 354 <{3291}> => <{3662,      0.5          1    2 \n",
      "                   4488}>    \n",
      " 355 <{2700}> => <{3662,      0.5          1    2 \n",
      "                   4488}>    \n",
      " 356 <{1677}> => <{3662,      0.5          1    2 \n",
      "                   4488}>    \n",
      " 357 <{1408}> => <{3662,      0.5          1    2 \n",
      "                   4488}>    \n",
      " 358 <{1233}> => <{3662,      0.5          1    2 \n",
      "                   4488}>    \n",
      " 359 <{4846,                 \n",
      "       6578}> => <{3662,      0.5          1    2 \n",
      "                   4488}>    \n",
      " 360 <{3516,                 \n",
      "       6315}> => <{3662,      0.5          1    2 \n",
      "                   4488}>    \n",
      " 361 <{3895,                 \n",
      "       6305}> => <{3662,      0.5          1    2 \n",
      "                   4488}>    \n",
      " 362 <{5019,                 \n",
      "       5187}> => <{3662,      0.5          1    2 \n",
      "                   4488}>    \n",
      " 363 <{3299,                 \n",
      "       3896}> => <{3662,      0.5          1    2 \n",
      "                   4488}>    \n",
      " 364 <{3408,                 \n",
      "       1677}> => <{3662,      0.5          1    2 \n",
      "                   4488}>    \n",
      " 365 <{3345,                 \n",
      "       1233}> => <{3662,      0.5          1    2 \n",
      "                   4488}>    \n",
      " 366 <{1700}> => <{4120}>     0.5          1    2 \n",
      " 367 <{1703}> => <{4120}>     0.5          1    2 \n",
      " 368 <{2185}> => <{4120}>     0.5          1    2 \n",
      " 369 <{3344}> => <{4120}>     0.5          1    2 \n",
      " 370 <{3378}> => <{4120}>     0.5          1    2 \n",
      " 371 <{1703,                 \n",
      "       3378}> => <{4120}>     0.5          1    2 \n",
      " 372 <{1700,                 \n",
      "       3378}> => <{4120}>     0.5          1    2 \n",
      " 373 <{1700,                 \n",
      "       1703}> => <{4120}>     0.5          1    2 \n",
      " 374 <{1408}> => <{3896}>     0.5          1    2 \n",
      " 375 <{3291}> => <{3896}>     0.5          1    2 \n",
      " 376 <{6312}> => <{3896}>     0.5          1    2 \n",
      " 377 <{6312}> => <{3299,      0.5          1    2 \n",
      "                   3896}>    \n",
      " 378 <{3291}> => <{3299,      0.5          1    2 \n",
      "                   3896}>    \n",
      " 379 <{1408}> => <{3299,      0.5          1    2 \n",
      "                   3896}>    \n",
      " 380 <{1233}> => <{3895}>     0.5          1    2 \n",
      " 381 <{1408}> => <{3895}>     0.5          1    2 \n",
      " 382 <{1677}> => <{3895}>     0.5          1    2 \n",
      " 383 <{2700}> => <{3895}>     0.5          1    2 \n",
      " 384 <{3291}> => <{3895}>     0.5          1    2 \n",
      " 385 <{3299}> => <{3895}>     0.5          1    2 \n",
      " 386 <{3345}> => <{3895}>     0.5          1    2 \n",
      " 387 <{3408}> => <{3895}>     0.5          1    2 \n",
      " 388 <{3804}> => <{3895}>     0.5          1    2 \n",
      " 389 <{3896}> => <{3895}>     0.5          1    2 \n",
      " 390 <{5019}> => <{3895}>     0.5          1    2 \n",
      " 391 <{5187}> => <{3895}>     0.5          1    2 \n",
      " 392 <{6312}> => <{3895}>     0.5          1    2 \n",
      " 393 <{5019,                 \n",
      "       5187}> => <{3895}>     0.5          1    2 \n",
      " 394 <{3299,                 \n",
      "       3896}> => <{3895}>     0.5          1    2 \n",
      " 395 <{3408,                 \n",
      "       1677}> => <{3895}>     0.5          1    2 \n",
      " 396 <{3345,                 \n",
      "       1233}> => <{3895}>     0.5          1    2 \n",
      " 397 <{1408}> => <{3804}>     0.5          1    2 \n",
      " 398 <{1677}> => <{3804}>     0.5          1    2 \n",
      " 399 <{2700}> => <{3804}>     0.5          1    2 \n",
      " 400 <{3291}> => <{3804}>     0.5          1    2 \n",
      " 401 <{3299}> => <{3804}>     0.5          1    2 \n",
      " 402 <{3408}> => <{3804}>     0.5          1    2 \n",
      " 403 <{3896}> => <{3804}>     0.5          1    2 \n",
      " 404 <{6312}> => <{3804}>     0.5          1    2 \n",
      " 405 <{3299,                 \n",
      "       3896}> => <{3804}>     0.5          1    2 \n",
      " 406 <{3408,                 \n",
      "       1677}> => <{3804}>     0.5          1    2 \n",
      " 407 <{1095}> => <{3669}>     0.5          1    2 \n",
      " 408 <{1098}> => <{3669}>     0.5          1    2 \n",
      " 409 <{1233}> => <{3669}>     0.5          1    2 \n",
      " 410 <{1329}> => <{3669}>     0.5          1    2 \n",
      " 411 <{1408}> => <{3669}>     0.5          1    2 \n",
      " 412 <{1525}> => <{3669}>     0.5          1    2 \n",
      " 413 <{1620}> => <{3669}>     0.5          1    2 \n",
      " 414 <{1677}> => <{3669}>     0.5          1    2 \n",
      " 415 <{1679}> => <{3669}>     0.5          1    2 \n",
      " 416 <{2700}> => <{3669}>     0.5          1    2 \n",
      " 417 <{3291}> => <{3669}>     0.5          1    2 \n",
      " 418 <{3299}> => <{3669}>     0.5          1    2 \n",
      " 419 <{3345}> => <{3669}>     0.5          1    2 \n",
      " 420 <{3408}> => <{3669}>     0.5          1    2 \n",
      " 421 <{3516}> => <{3669}>     0.5          1    2 \n",
      " 422 <{3662}> => <{3669}>     0.5          1    2 \n",
      " 423 <{3804}> => <{3669}>     0.5          1    2 \n",
      " 424 <{3895}> => <{3669}>     0.5          1    2 \n",
      " 425 <{3896}> => <{3669}>     0.5          1    2 \n",
      " 426 <{4488}> => <{3669}>     0.5          1    2 \n",
      " 427 <{4846}> => <{3669}>     0.5          1    2 \n",
      " 428 <{4847}> => <{3669}>     0.5          1    2 \n",
      " 429 <{5019}> => <{3669}>     0.5          1    2 \n",
      " 430 <{5187}> => <{3669}>     0.5          1    2 \n",
      " 431 <{6305}> => <{3669}>     0.5          1    2 \n",
      " 432 <{6312}> => <{3669}>     0.5          1    2 \n",
      " 433 <{6315}> => <{3669}>     0.5          1    2 \n",
      " 434 <{6577}> => <{3669}>     0.5          1    2 \n",
      " 435 <{6578}> => <{3669}>     0.5          1    2 \n",
      " 436 <{4846,                 \n",
      "       6578}> => <{3669}>     0.5          1    2 \n",
      " 437 <{3516,                 \n",
      "       6315}> => <{3669}>     0.5          1    2 \n",
      " 438 <{3895,                 \n",
      "       6305}> => <{3669}>     0.5          1    2 \n",
      " 439 <{5019,                 \n",
      "       5187}> => <{3669}>     0.5          1    2 \n",
      " 440 <{4847,                 \n",
      "       1329}> => <{3669}>     0.5          1    2 \n",
      " 441 <{1098,                 \n",
      "       4847}> => <{3669}>     0.5          1    2 \n",
      " 442 <{3662,                 \n",
      "       4488}> => <{3669}>     0.5          1    2 \n",
      " 443 <{3299,                 \n",
      "       3896}> => <{3669}>     0.5          1    2 \n",
      " 444 <{3408,                 \n",
      "       1677}> => <{3669}>     0.5          1    2 \n",
      " 445 <{3345,                 \n",
      "       1233}> => <{3669}>     0.5          1    2 \n",
      " 446 <{1679,                 \n",
      "       1525}> => <{3669}>     0.5          1    2 \n",
      " 447 <{1098,                 \n",
      "       1329}> => <{3669}>     0.5          1    2 \n",
      " 448 <{6578}> => <{3669,      0.5          1    2 \n",
      "                   1419}>    \n",
      " 449 <{6577}> => <{3669,      0.5          1    2 \n",
      "                   1419}>    \n",
      " 450 <{6315}> => <{3669,      0.5          1    2 \n",
      "                   1419}>    \n",
      " 451 <{6312}> => <{3669,      0.5          1    2 \n",
      "                   1419}>    \n",
      " 452 <{6305}> => <{3669,      0.5          1    2 \n",
      "                   1419}>    \n",
      " 453 <{5187}> => <{3669,      0.5          1    2 \n",
      "                   1419}>    \n",
      " 454 <{5019}> => <{3669,      0.5          1    2 \n",
      "                   1419}>    \n",
      " 455 <{4847}> => <{3669,      0.5          1    2 \n",
      "                   1419}>    \n",
      " 456 <{4846}> => <{3669,      0.5          1    2 \n",
      "                   1419}>    \n",
      " 457 <{4488}> => <{3669,      0.5          1    2 \n",
      "                   1419}>    \n",
      " 458 <{3896}> => <{3669,      0.5          1    2 \n",
      "                   1419}>    \n",
      " 459 <{3895}> => <{3669,      0.5          1    2 \n",
      "                   1419}>    \n",
      " 460 <{3804}> => <{3669,      0.5          1    2 \n",
      "                   1419}>    \n",
      " 461 <{3662}> => <{3669,      0.5          1    2 \n",
      "                   1419}>    \n",
      " 462 <{3516}> => <{3669,      0.5          1    2 \n",
      "                   1419}>    \n",
      " 463 <{3408}> => <{3669,      0.5          1    2 \n",
      "                   1419}>    \n",
      " 464 <{3345}> => <{3669,      0.5          1    2 \n",
      "                   1419}>    \n",
      " 465 <{3299}> => <{3669,      0.5          1    2 \n",
      "                   1419}>    \n",
      " 466 <{3291}> => <{3669,      0.5          1    2 \n",
      "                   1419}>    \n",
      " 467 <{2700}> => <{3669,      0.5          1    2 \n",
      "                   1419}>    \n",
      " 468 <{1679}> => <{3669,      0.5          1    2 \n",
      "                   1419}>    \n",
      " 469 <{1677}> => <{3669,      0.5          1    2 \n",
      "                   1419}>    \n",
      " 470 <{1620}> => <{3669,      0.5          1    2 \n",
      "                   1419}>    \n",
      " 471 <{1525}> => <{3669,      0.5          1    2 \n",
      "                   1419}>    \n",
      " 472 <{1408}> => <{3669,      0.5          1    2 \n",
      "                   1419}>    \n",
      " 473 <{1329}> => <{3669,      0.5          1    2 \n",
      "                   1419}>    \n",
      " 474 <{1233}> => <{3669,      0.5          1    2 \n",
      "                   1419}>    \n",
      " 475 <{1098}> => <{3669,      0.5          1    2 \n",
      "                   1419}>    \n",
      " 476 <{1095}> => <{3669,      0.5          1    2 \n",
      "                   1419}>    \n",
      " 477 <{4846,                 \n",
      "       6578}> => <{3669,      0.5          1    2 \n",
      "                   1419}>    \n",
      " 478 <{3516,                 \n",
      "       6315}> => <{3669,      0.5          1    2 \n",
      "                   1419}>    \n",
      " 479 <{3895,                 \n",
      "       6305}> => <{3669,      0.5          1    2 \n",
      "                   1419}>    \n",
      " 480 <{5019,                 \n",
      "       5187}> => <{3669,      0.5          1    2 \n",
      "                   1419}>    \n",
      " 481 <{4847,                 \n",
      "       1329}> => <{3669,      0.5          1    2 \n",
      "                   1419}>    \n",
      " 482 <{1098,                 \n",
      "       4847}> => <{3669,      0.5          1    2 \n",
      "                   1419}>    \n",
      " 483 <{3662,                 \n",
      "       4488}> => <{3669,      0.5          1    2 \n",
      "                   1419}>    \n",
      " 484 <{3299,                 \n",
      "       3896}> => <{3669,      0.5          1    2 \n",
      "                   1419}>    \n",
      " 485 <{3408,                 \n",
      "       1677}> => <{3669,      0.5          1    2 \n",
      "                   1419}>    \n",
      " 486 <{3345,                 \n",
      "       1233}> => <{3669,      0.5          1    2 \n",
      "                   1419}>    \n",
      " 487 <{1679,                 \n",
      "       1525}> => <{3669,      0.5          1    2 \n",
      "                   1419}>    \n",
      " 488 <{1098,                 \n",
      "       1329}> => <{3669,      0.5          1    2 \n",
      "                   1419}>    \n",
      " 489 <{1233}> => <{3662}>     0.5          1    2 \n",
      " 490 <{1408}> => <{3662}>     0.5          1    2 \n",
      " 491 <{1677}> => <{3662}>     0.5          1    2 \n",
      " 492 <{2700}> => <{3662}>     0.5          1    2 \n",
      " 493 <{3291}> => <{3662}>     0.5          1    2 \n",
      " 494 <{3299}> => <{3662}>     0.5          1    2 \n",
      " 495 <{3345}> => <{3662}>     0.5          1    2 \n",
      " 496 <{3408}> => <{3662}>     0.5          1    2 \n",
      " 497 <{3516}> => <{3662}>     0.5          1    2 \n",
      " 498 <{3804}> => <{3662}>     0.5          1    2 \n",
      " 499 <{3895}> => <{3662}>     0.5          1    2 \n",
      " 500 <{3896}> => <{3662}>     0.5          1    2 \n",
      " 501 <{4846}> => <{3662}>     0.5          1    2 \n",
      " 502 <{5019}> => <{3662}>     0.5          1    2 \n",
      " 503 <{5187}> => <{3662}>     0.5          1    2 \n",
      " 504 <{6305}> => <{3662}>     0.5          1    2 \n",
      " 505 <{6312}> => <{3662}>     0.5          1    2 \n",
      " 506 <{6315}> => <{3662}>     0.5          1    2 \n",
      " 507 <{6577}> => <{3662}>     0.5          1    2 \n",
      " 508 <{6578}> => <{3662}>     0.5          1    2 \n",
      " 509 <{4846,                 \n",
      "       6578}> => <{3662}>     0.5          1    2 \n",
      " 510 <{3516,                 \n",
      "       6315}> => <{3662}>     0.5          1    2 \n",
      " 511 <{3895,                 \n",
      "       6305}> => <{3662}>     0.5          1    2 \n",
      " 512 <{5019,                 \n",
      "       5187}> => <{3662}>     0.5          1    2 \n",
      " 513 <{3299,                 \n",
      "       3896}> => <{3662}>     0.5          1    2 \n",
      " 514 <{3408,                 \n",
      "       1677}> => <{3662}>     0.5          1    2 \n",
      " 515 <{3345,                 \n",
      "       1233}> => <{3662}>     0.5          1    2 \n",
      " 516 <{1233}> => <{3516}>     0.5          1    2 \n",
      " 517 <{1408}> => <{3516}>     0.5          1    2 \n",
      " 518 <{1677}> => <{3516}>     0.5          1    2 \n",
      " 519 <{2700}> => <{3516}>     0.5          1    2 \n",
      " 520 <{3291}> => <{3516}>     0.5          1    2 \n",
      " 521 <{3299}> => <{3516}>     0.5          1    2 \n",
      " 522 <{3345}> => <{3516}>     0.5          1    2 \n",
      " 523 <{3408}> => <{3516}>     0.5          1    2 \n",
      " 524 <{3804}> => <{3516}>     0.5          1    2 \n",
      " 525 <{3895}> => <{3516}>     0.5          1    2 \n",
      " 526 <{3896}> => <{3516}>     0.5          1    2 \n",
      " 527 <{4846}> => <{3516}>     0.5          1    2 \n",
      " 528 <{5019}> => <{3516}>     0.5          1    2 \n",
      " 529 <{5187}> => <{3516}>     0.5          1    2 \n",
      " 530 <{6305}> => <{3516}>     0.5          1    2 \n",
      " 531 <{6312}> => <{3516}>     0.5          1    2 \n",
      " 532 <{6577}> => <{3516}>     0.5          1    2 \n",
      " 533 <{6578}> => <{3516}>     0.5          1    2 \n",
      " 534 <{4846,                 \n",
      "       6578}> => <{3516}>     0.5          1    2 \n",
      " 535 <{3895,                 \n",
      "       6305}> => <{3516}>     0.5          1    2 \n",
      " 536 <{5019,                 \n",
      "       5187}> => <{3516}>     0.5          1    2 \n",
      " 537 <{3299,                 \n",
      "       3896}> => <{3516}>     0.5          1    2 \n",
      " 538 <{3408,                 \n",
      "       1677}> => <{3516}>     0.5          1    2 \n",
      " 539 <{3345,                 \n",
      "       1233}> => <{3516}>     0.5          1    2 \n",
      " 540 <{1408}> => <{3408}>     0.5          1    2 \n",
      " 541 <{2700}> => <{3408}>     0.5          1    2 \n",
      " 542 <{3291}> => <{3408}>     0.5          1    2 \n",
      " 543 <{3299}> => <{3408}>     0.5          1    2 \n",
      " 544 <{3896}> => <{3408}>     0.5          1    2 \n",
      " 545 <{6312}> => <{3408}>     0.5          1    2 \n",
      " 546 <{3299,                 \n",
      "       3896}> => <{3408}>     0.5          1    2 \n",
      " 547 <{6312}> => <{3408,      0.5          1    2 \n",
      "                   1677}>    \n",
      " 548 <{3896}> => <{3408,      0.5          1    2 \n",
      "                   1677}>    \n",
      " 549 <{3299}> => <{3408,      0.5          1    2 \n",
      "                   1677}>    \n",
      " 550 <{3291}> => <{3408,      0.5          1    2 \n",
      "                   1677}>    \n",
      " 551 <{2700}> => <{3408,      0.5          1    2 \n",
      "                   1677}>    \n",
      " 552 <{1408}> => <{3408,      0.5          1    2 \n",
      "                   1677}>    \n",
      " 553 <{3299,                 \n",
      "       3896}> => <{3408,      0.5          1    2 \n",
      "                   1677}>    \n",
      " 554 <{3344}> => <{3378}>     0.5          1    2 \n",
      " 555 <{3344}> => <{1703,      0.5          1    2 \n",
      "                   3378}>    \n",
      " 556 <{3344}> => <{1700,      0.5          1    2 \n",
      "                   3378}>    \n",
      " 557 <{1408}> => <{3345}>     0.5          1    2 \n",
      " 558 <{1677}> => <{3345}>     0.5          1    2 \n",
      " 559 <{2700}> => <{3345}>     0.5          1    2 \n",
      " 560 <{3291}> => <{3345}>     0.5          1    2 \n",
      " 561 <{3299}> => <{3345}>     0.5          1    2 \n",
      " 562 <{3408}> => <{3345}>     0.5          1    2 \n",
      " 563 <{3804}> => <{3345}>     0.5          1    2 \n",
      " 564 <{3896}> => <{3345}>     0.5          1    2 \n",
      " 565 <{6312}> => <{3345}>     0.5          1    2 \n",
      " 566 <{3299,                 \n",
      "       3896}> => <{3345}>     0.5          1    2 \n",
      " 567 <{3408,                 \n",
      "       1677}> => <{3345}>     0.5          1    2 \n",
      " 568 <{6312}> => <{3345,      0.5          1    2 \n",
      "                   1233}>    \n",
      " 569 <{3896}> => <{3345,      0.5          1    2 \n",
      "                   1233}>    \n",
      " 570 <{3804}> => <{3345,      0.5          1    2 \n",
      "                   1233}>    \n",
      " 571 <{3408}> => <{3345,      0.5          1    2 \n",
      "                   1233}>    \n",
      " 572 <{3299}> => <{3345,      0.5          1    2 \n",
      "                   1233}>    \n",
      " 573 <{3291}> => <{3345,      0.5          1    2 \n",
      "                   1233}>    \n",
      " 574 <{2700}> => <{3345,      0.5          1    2 \n",
      "                   1233}>    \n",
      " 575 <{1677}> => <{3345,      0.5          1    2 \n",
      "                   1233}>    \n",
      " 576 <{1408}> => <{3345,      0.5          1    2 \n",
      "                   1233}>    \n",
      " 577 <{3299,                 \n",
      "       3896}> => <{3345,      0.5          1    2 \n",
      "                   1233}>    \n",
      " 578 <{3408,                 \n",
      "       1677}> => <{3345,      0.5          1    2 \n",
      "                   1233}>    \n",
      " 579 <{1700}> => <{3326}>     0.5          1    2 \n",
      " 580 <{1703}> => <{3326}>     0.5          1    2 \n",
      " 581 <{2185}> => <{3326}>     0.5          1    2 \n",
      " 582 <{3344}> => <{3326}>     0.5          1    2 \n",
      " 583 <{3378}> => <{3326}>     0.5          1    2 \n",
      " 584 <{4120}> => <{3326}>     0.5          1    2 \n",
      " 585 <{1703,                 \n",
      "       3378}> => <{3326}>     0.5          1    2 \n",
      " 586 <{1700,                 \n",
      "       3378}> => <{3326}>     0.5          1    2 \n",
      " 587 <{1700,                 \n",
      "       1703}> => <{3326}>     0.5          1    2 \n",
      " 588 <{1408}> => <{3299}>     0.5          1    2 \n",
      " 589 <{3291}> => <{3299}>     0.5          1    2 \n",
      " 590 <{6312}> => <{3299}>     0.5          1    2 \n",
      " 591 <{1408}> => <{2700}>     0.5          1    2 \n",
      " 592 <{3291}> => <{2700}>     0.5          1    2 \n",
      " 593 <{3299}> => <{2700}>     0.5          1    2 \n",
      " 594 <{3896}> => <{2700}>     0.5          1    2 \n",
      " 595 <{6312}> => <{2700}>     0.5          1    2 \n",
      " 596 <{3299,                 \n",
      "       3896}> => <{2700}>     0.5          1    2 \n",
      " 597 <{1700}> => <{2185}>     0.5          1    2 \n",
      " 598 <{1703}> => <{2185}>     0.5          1    2 \n",
      " 599 <{3344}> => <{2185}>     0.5          1    2 \n",
      " 600 <{3378}> => <{2185}>     0.5          1    2 \n",
      " 601 <{1703,                 \n",
      "       3378}> => <{2185}>     0.5          1    2 \n",
      " 602 <{1700,                 \n",
      "       3378}> => <{2185}>     0.5          1    2 \n",
      " 603 <{1700,                 \n",
      "       1703}> => <{2185}>     0.5          1    2 \n",
      " 604 <{1700}> => <{1913}>     0.5          1    2 \n",
      " 605 <{1703}> => <{1913}>     0.5          1    2 \n",
      " 606 <{2185}> => <{1913}>     0.5          1    2 \n",
      " 607 <{3326}> => <{1913}>     0.5          1    2 \n",
      " 608 <{3344}> => <{1913}>     0.5          1    2 \n",
      " 609 <{3378}> => <{1913}>     0.5          1    2 \n",
      " 610 <{4120}> => <{1913}>     0.5          1    2 \n",
      " 611 <{1703,                 \n",
      "       3378}> => <{1913}>     0.5          1    2 \n",
      " 612 <{1700,                 \n",
      "       3378}> => <{1913}>     0.5          1    2 \n",
      " 613 <{1700,                 \n",
      "       1703}> => <{1913}>     0.5          1    2 \n",
      " 614 <{1700}> => <{1833}>     0.5          1    2 \n",
      " 615 <{1703}> => <{1833}>     0.5          1    2 \n",
      " 616 <{1913}> => <{1833}>     0.5          1    2 \n",
      " 617 <{2185}> => <{1833}>     0.5          1    2 \n",
      " 618 <{3326}> => <{1833}>     0.5          1    2 \n",
      " 619 <{3344}> => <{1833}>     0.5          1    2 \n",
      " 620 <{3378}> => <{1833}>     0.5          1    2 \n",
      " 621 <{4120}> => <{1833}>     0.5          1    2 \n",
      " 622 <{1703,                 \n",
      "       3378}> => <{1833}>     0.5          1    2 \n",
      " 623 <{1700,                 \n",
      "       3378}> => <{1833}>     0.5          1    2 \n",
      " 624 <{1700,                 \n",
      "       1703}> => <{1833}>     0.5          1    2 \n",
      " 625 <{3344}> => <{1703}>     0.5          1    2 \n",
      " 626 <{3344}> => <{1700,      0.5          1    2 \n",
      "                   1703}>    \n",
      " 627 <{3344}> => <{1700}>     0.5          1    2 \n",
      " 628 <{1095}> => <{1679}>     0.5          1    2 \n",
      " 629 <{1233}> => <{1679}>     0.5          1    2 \n",
      " 630 <{1408}> => <{1679}>     0.5          1    2 \n",
      " 631 <{1677}> => <{1679}>     0.5          1    2 \n",
      " 632 <{2700}> => <{1679}>     0.5          1    2 \n",
      " 633 <{3291}> => <{1679}>     0.5          1    2 \n",
      " 634 <{3299}> => <{1679}>     0.5          1    2 \n",
      " 635 <{3345}> => <{1679}>     0.5          1    2 \n",
      " 636 <{3408}> => <{1679}>     0.5          1    2 \n",
      " 637 <{3516}> => <{1679}>     0.5          1    2 \n",
      " 638 <{3662}> => <{1679}>     0.5          1    2 \n",
      " 639 <{3804}> => <{1679}>     0.5          1    2 \n",
      " 640 <{3895}> => <{1679}>     0.5          1    2 \n",
      " 641 <{3896}> => <{1679}>     0.5          1    2 \n",
      " 642 <{4488}> => <{1679}>     0.5          1    2 \n",
      " 643 <{4846}> => <{1679}>     0.5          1    2 \n",
      " 644 <{5019}> => <{1679}>     0.5          1    2 \n",
      " 645 <{5187}> => <{1679}>     0.5          1    2 \n",
      " 646 <{6305}> => <{1679}>     0.5          1    2 \n",
      " 647 <{6312}> => <{1679}>     0.5          1    2 \n",
      " 648 <{6315}> => <{1679}>     0.5          1    2 \n",
      " 649 <{6577}> => <{1679}>     0.5          1    2 \n",
      " 650 <{6578}> => <{1679}>     0.5          1    2 \n",
      " 651 <{4846,                 \n",
      "       6578}> => <{1679}>     0.5          1    2 \n",
      " 652 <{3516,                 \n",
      "       6315}> => <{1679}>     0.5          1    2 \n",
      " 653 <{3895,                 \n",
      "       6305}> => <{1679}>     0.5          1    2 \n",
      " 654 <{5019,                 \n",
      "       5187}> => <{1679}>     0.5          1    2 \n",
      " 655 <{3662,                 \n",
      "       4488}> => <{1679}>     0.5          1    2 \n",
      " 656 <{3299,                 \n",
      "       3896}> => <{1679}>     0.5          1    2 \n",
      " 657 <{3408,                 \n",
      "       1677}> => <{1679}>     0.5          1    2 \n",
      " 658 <{3345,                 \n",
      "       1233}> => <{1679}>     0.5          1    2 \n",
      " 659 <{6578}> => <{1679,      0.5          1    2 \n",
      "                   1525}>    \n",
      " 660 <{6577}> => <{1679,      0.5          1    2 \n",
      "                   1525}>    \n",
      " 661 <{6315}> => <{1679,      0.5          1    2 \n",
      "                   1525}>    \n",
      " 662 <{6312}> => <{1679,      0.5          1    2 \n",
      "                   1525}>    \n",
      " 663 <{6305}> => <{1679,      0.5          1    2 \n",
      "                   1525}>    \n",
      " 664 <{5187}> => <{1679,      0.5          1    2 \n",
      "                   1525}>    \n",
      " 665 <{5019}> => <{1679,      0.5          1    2 \n",
      "                   1525}>    \n",
      " 666 <{4846}> => <{1679,      0.5          1    2 \n",
      "                   1525}>    \n",
      " 667 <{4488}> => <{1679,      0.5          1    2 \n",
      "                   1525}>    \n",
      " 668 <{3896}> => <{1679,      0.5          1    2 \n",
      "                   1525}>    \n",
      " 669 <{3895}> => <{1679,      0.5          1    2 \n",
      "                   1525}>    \n",
      " 670 <{3804}> => <{1679,      0.5          1    2 \n",
      "                   1525}>    \n",
      " 671 <{3662}> => <{1679,      0.5          1    2 \n",
      "                   1525}>    \n",
      " 672 <{3516}> => <{1679,      0.5          1    2 \n",
      "                   1525}>    \n",
      " 673 <{3408}> => <{1679,      0.5          1    2 \n",
      "                   1525}>    \n",
      " 674 <{3345}> => <{1679,      0.5          1    2 \n",
      "                   1525}>    \n",
      " 675 <{3299}> => <{1679,      0.5          1    2 \n",
      "                   1525}>    \n",
      " 676 <{3291}> => <{1679,      0.5          1    2 \n",
      "                   1525}>    \n",
      " 677 <{2700}> => <{1679,      0.5          1    2 \n",
      "                   1525}>    \n",
      " 678 <{1677}> => <{1679,      0.5          1    2 \n",
      "                   1525}>    \n",
      " 679 <{1408}> => <{1679,      0.5          1    2 \n",
      "                   1525}>    \n",
      " 680 <{1233}> => <{1679,      0.5          1    2 \n",
      "                   1525}>    \n",
      " 681 <{1095}> => <{1679,      0.5          1    2 \n",
      "                   1525}>    \n",
      " 682 <{4846,                 \n",
      "       6578}> => <{1679,      0.5          1    2 \n",
      "                   1525}>    \n",
      " 683 <{3516,                 \n",
      "       6315}> => <{1679,      0.5          1    2 \n",
      "                   1525}>    \n",
      " 684 <{3895,                 \n",
      "       6305}> => <{1679,      0.5          1    2 \n",
      "                   1525}>    \n",
      " 685 <{5019,                 \n",
      "       5187}> => <{1679,      0.5          1    2 \n",
      "                   1525}>    \n",
      " 686 <{3662,                 \n",
      "       4488}> => <{1679,      0.5          1    2 \n",
      "                   1525}>    \n",
      " 687 <{3299,                 \n",
      "       3896}> => <{1679,      0.5          1    2 \n",
      "                   1525}>    \n",
      " 688 <{3408,                 \n",
      "       1677}> => <{1679,      0.5          1    2 \n",
      "                   1525}>    \n",
      " 689 <{3345,                 \n",
      "       1233}> => <{1679,      0.5          1    2 \n",
      "                   1525}>    \n",
      " 690 <{1408}> => <{1677}>     0.5          1    2 \n",
      " 691 <{2700}> => <{1677}>     0.5          1    2 \n",
      " 692 <{3291}> => <{1677}>     0.5          1    2 \n",
      " 693 <{3299}> => <{1677}>     0.5          1    2 \n",
      " 694 <{3896}> => <{1677}>     0.5          1    2 \n",
      " 695 <{6312}> => <{1677}>     0.5          1    2 \n",
      " 696 <{3299,                 \n",
      "       3896}> => <{1677}>     0.5          1    2 \n",
      " 697 <{1095}> => <{1620}>     0.5          1    2 \n",
      " 698 <{1098}> => <{1620}>     0.5          1    2 \n",
      " 699 <{1233}> => <{1620}>     0.5          1    2 \n",
      " 700 <{1329}> => <{1620}>     0.5          1    2 \n",
      " 701 <{1408}> => <{1620}>     0.5          1    2 \n",
      " 702 <{1525}> => <{1620}>     0.5          1    2 \n",
      " 703 <{1677}> => <{1620}>     0.5          1    2 \n",
      " 704 <{1679}> => <{1620}>     0.5          1    2 \n",
      " 705 <{2700}> => <{1620}>     0.5          1    2 \n",
      " 706 <{3291}> => <{1620}>     0.5          1    2 \n",
      " 707 <{3299}> => <{1620}>     0.5          1    2 \n",
      " 708 <{3345}> => <{1620}>     0.5          1    2 \n",
      " 709 <{3408}> => <{1620}>     0.5          1    2 \n",
      " 710 <{3516}> => <{1620}>     0.5          1    2 \n",
      " 711 <{3662}> => <{1620}>     0.5          1    2 \n",
      " 712 <{3804}> => <{1620}>     0.5          1    2 \n",
      " 713 <{3895}> => <{1620}>     0.5          1    2 \n",
      " 714 <{3896}> => <{1620}>     0.5          1    2 \n",
      " 715 <{4488}> => <{1620}>     0.5          1    2 \n",
      " 716 <{4846}> => <{1620}>     0.5          1    2 \n",
      " 717 <{4847}> => <{1620}>     0.5          1    2 \n",
      " 718 <{5019}> => <{1620}>     0.5          1    2 \n",
      " 719 <{5187}> => <{1620}>     0.5          1    2 \n",
      " 720 <{6305}> => <{1620}>     0.5          1    2 \n",
      " 721 <{6312}> => <{1620}>     0.5          1    2 \n",
      " 722 <{6315}> => <{1620}>     0.5          1    2 \n",
      " 723 <{6577}> => <{1620}>     0.5          1    2 \n",
      " 724 <{6578}> => <{1620}>     0.5          1    2 \n",
      " 725 <{4846,                 \n",
      "       6578}> => <{1620}>     0.5          1    2 \n",
      " 726 <{3516,                 \n",
      "       6315}> => <{1620}>     0.5          1    2 \n",
      " 727 <{3895,                 \n",
      "       6305}> => <{1620}>     0.5          1    2 \n",
      " 728 <{5019,                 \n",
      "       5187}> => <{1620}>     0.5          1    2 \n",
      " 729 <{4847,                 \n",
      "       1329}> => <{1620}>     0.5          1    2 \n",
      " 730 <{1098,                 \n",
      "       4847}> => <{1620}>     0.5          1    2 \n",
      " 731 <{3662,                 \n",
      "       4488}> => <{1620}>     0.5          1    2 \n",
      " 732 <{3299,                 \n",
      "       3896}> => <{1620}>     0.5          1    2 \n",
      " 733 <{3408,                 \n",
      "       1677}> => <{1620}>     0.5          1    2 \n",
      " 734 <{3345,                 \n",
      "       1233}> => <{1620}>     0.5          1    2 \n",
      " 735 <{1679,                 \n",
      "       1525}> => <{1620}>     0.5          1    2 \n",
      " 736 <{1098,                 \n",
      "       1329}> => <{1620}>     0.5          1    2 \n",
      " 737 <{1095}> => <{1525}>     0.5          1    2 \n",
      " 738 <{1233}> => <{1525}>     0.5          1    2 \n",
      " 739 <{1408}> => <{1525}>     0.5          1    2 \n",
      " 740 <{1677}> => <{1525}>     0.5          1    2 \n",
      " 741 <{2700}> => <{1525}>     0.5          1    2 \n",
      " 742 <{3291}> => <{1525}>     0.5          1    2 \n",
      " 743 <{3299}> => <{1525}>     0.5          1    2 \n",
      " 744 <{3345}> => <{1525}>     0.5          1    2 \n",
      " 745 <{3408}> => <{1525}>     0.5          1    2 \n",
      " 746 <{3516}> => <{1525}>     0.5          1    2 \n",
      " 747 <{3662}> => <{1525}>     0.5          1    2 \n",
      " 748 <{3804}> => <{1525}>     0.5          1    2 \n",
      " 749 <{3895}> => <{1525}>     0.5          1    2 \n",
      " 750 <{3896}> => <{1525}>     0.5          1    2 \n",
      " 751 <{4488}> => <{1525}>     0.5          1    2 \n",
      " 752 <{4846}> => <{1525}>     0.5          1    2 \n",
      " 753 <{5019}> => <{1525}>     0.5          1    2 \n",
      " 754 <{5187}> => <{1525}>     0.5          1    2 \n",
      " 755 <{6305}> => <{1525}>     0.5          1    2 \n",
      " 756 <{6312}> => <{1525}>     0.5          1    2 \n",
      " 757 <{6315}> => <{1525}>     0.5          1    2 \n",
      " 758 <{6577}> => <{1525}>     0.5          1    2 \n",
      " 759 <{6578}> => <{1525}>     0.5          1    2 \n",
      " 760 <{4846,                 \n",
      "       6578}> => <{1525}>     0.5          1    2 \n",
      " 761 <{3516,                 \n",
      "       6315}> => <{1525}>     0.5          1    2 \n",
      " 762 <{3895,                 \n",
      "       6305}> => <{1525}>     0.5          1    2 \n",
      " 763 <{5019,                 \n",
      "       5187}> => <{1525}>     0.5          1    2 \n",
      " 764 <{3662,                 \n",
      "       4488}> => <{1525}>     0.5          1    2 \n",
      " 765 <{3299,                 \n",
      "       3896}> => <{1525}>     0.5          1    2 \n",
      " 766 <{3408,                 \n",
      "       1677}> => <{1525}>     0.5          1    2 \n",
      " 767 <{3345,                 \n",
      "       1233}> => <{1525}>     0.5          1    2 \n",
      " 768 <{1095}> => <{1419}>     0.5          1    2 \n",
      " 769 <{1098}> => <{1419}>     0.5          1    2 \n",
      " 770 <{1233}> => <{1419}>     0.5          1    2 \n",
      " 771 <{1329}> => <{1419}>     0.5          1    2 \n",
      " 772 <{1408}> => <{1419}>     0.5          1    2 \n",
      " 773 <{1525}> => <{1419}>     0.5          1    2 \n",
      " 774 <{1620}> => <{1419}>     0.5          1    2 \n",
      " 775 <{1677}> => <{1419}>     0.5          1    2 \n",
      " 776 <{1679}> => <{1419}>     0.5          1    2 \n",
      " 777 <{2700}> => <{1419}>     0.5          1    2 \n",
      " 778 <{3291}> => <{1419}>     0.5          1    2 \n",
      " 779 <{3299}> => <{1419}>     0.5          1    2 \n",
      " 780 <{3345}> => <{1419}>     0.5          1    2 \n",
      " 781 <{3408}> => <{1419}>     0.5          1    2 \n",
      " 782 <{3516}> => <{1419}>     0.5          1    2 \n",
      " 783 <{3662}> => <{1419}>     0.5          1    2 \n",
      " 784 <{3804}> => <{1419}>     0.5          1    2 \n",
      " 785 <{3895}> => <{1419}>     0.5          1    2 \n",
      " 786 <{3896}> => <{1419}>     0.5          1    2 \n",
      " 787 <{4488}> => <{1419}>     0.5          1    2 \n",
      " 788 <{4846}> => <{1419}>     0.5          1    2 \n",
      " 789 <{4847}> => <{1419}>     0.5          1    2 \n",
      " 790 <{5019}> => <{1419}>     0.5          1    2 \n",
      " 791 <{5187}> => <{1419}>     0.5          1    2 \n",
      " 792 <{6305}> => <{1419}>     0.5          1    2 \n",
      " 793 <{6312}> => <{1419}>     0.5          1    2 \n",
      " 794 <{6315}> => <{1419}>     0.5          1    2 \n",
      " 795 <{6577}> => <{1419}>     0.5          1    2 \n",
      " 796 <{6578}> => <{1419}>     0.5          1    2 \n",
      " 797 <{4846,                 \n",
      "       6578}> => <{1419}>     0.5          1    2 \n",
      " 798 <{3516,                 \n",
      "       6315}> => <{1419}>     0.5          1    2 \n",
      " 799 <{3895,                 \n",
      "       6305}> => <{1419}>     0.5          1    2 \n",
      " 800 <{5019,                 \n",
      "       5187}> => <{1419}>     0.5          1    2 \n",
      " 801 <{4847,                 \n",
      "       1329}> => <{1419}>     0.5          1    2 \n",
      " 802 <{1098,                 \n",
      "       4847}> => <{1419}>     0.5          1    2 \n",
      " 803 <{3662,                 \n",
      "       4488}> => <{1419}>     0.5          1    2 \n",
      " 804 <{3299,                 \n",
      "       3896}> => <{1419}>     0.5          1    2 \n",
      " 805 <{3408,                 \n",
      "       1677}> => <{1419}>     0.5          1    2 \n",
      " 806 <{3345,                 \n",
      "       1233}> => <{1419}>     0.5          1    2 \n",
      " 807 <{1679,                 \n",
      "       1525}> => <{1419}>     0.5          1    2 \n",
      " 808 <{1098,                 \n",
      "       1329}> => <{1419}>     0.5          1    2 \n",
      " 809 <{3291}> => <{1408}>     0.5          1    2 \n",
      " 810 <{1095}> => <{1329}>     0.5          1    2 \n",
      " 811 <{1233}> => <{1329}>     0.5          1    2 \n",
      " 812 <{1408}> => <{1329}>     0.5          1    2 \n",
      " 813 <{1525}> => <{1329}>     0.5          1    2 \n",
      " 814 <{1677}> => <{1329}>     0.5          1    2 \n",
      " 815 <{1679}> => <{1329}>     0.5          1    2 \n",
      " 816 <{2700}> => <{1329}>     0.5          1    2 \n",
      " 817 <{3291}> => <{1329}>     0.5          1    2 \n",
      " 818 <{3299}> => <{1329}>     0.5          1    2 \n",
      " 819 <{3345}> => <{1329}>     0.5          1    2 \n",
      " 820 <{3408}> => <{1329}>     0.5          1    2 \n",
      " 821 <{3516}> => <{1329}>     0.5          1    2 \n",
      " 822 <{3662}> => <{1329}>     0.5          1    2 \n",
      " 823 <{3804}> => <{1329}>     0.5          1    2 \n",
      " 824 <{3895}> => <{1329}>     0.5          1    2 \n",
      " 825 <{3896}> => <{1329}>     0.5          1    2 \n",
      " 826 <{4488}> => <{1329}>     0.5          1    2 \n",
      " 827 <{4846}> => <{1329}>     0.5          1    2 \n",
      " 828 <{5019}> => <{1329}>     0.5          1    2 \n",
      " 829 <{5187}> => <{1329}>     0.5          1    2 \n",
      " 830 <{6305}> => <{1329}>     0.5          1    2 \n",
      " 831 <{6312}> => <{1329}>     0.5          1    2 \n",
      " 832 <{6315}> => <{1329}>     0.5          1    2 \n",
      " 833 <{6577}> => <{1329}>     0.5          1    2 \n",
      " 834 <{6578}> => <{1329}>     0.5          1    2 \n",
      " 835 <{4846,                 \n",
      "       6578}> => <{1329}>     0.5          1    2 \n",
      " 836 <{3516,                 \n",
      "       6315}> => <{1329}>     0.5          1    2 \n",
      " 837 <{3895,                 \n",
      "       6305}> => <{1329}>     0.5          1    2 \n",
      " 838 <{5019,                 \n",
      "       5187}> => <{1329}>     0.5          1    2 \n",
      " 839 <{3662,                 \n",
      "       4488}> => <{1329}>     0.5          1    2 \n",
      " 840 <{3299,                 \n",
      "       3896}> => <{1329}>     0.5          1    2 \n",
      " 841 <{3408,                 \n",
      "       1677}> => <{1329}>     0.5          1    2 \n",
      " 842 <{3345,                 \n",
      "       1233}> => <{1329}>     0.5          1    2 \n",
      " 843 <{1679,                 \n",
      "       1525}> => <{1329}>     0.5          1    2 \n",
      " 844 <{6578}> => <{1098,      0.5          1    2 \n",
      "                   1329}>    \n",
      " 845 <{6577}> => <{1098,      0.5          1    2 \n",
      "                   1329}>    \n",
      " 846 <{6315}> => <{1098,      0.5          1    2 \n",
      "                   1329}>    \n",
      " 847 <{6312}> => <{1098,      0.5          1    2 \n",
      "                   1329}>    \n",
      " 848 <{6305}> => <{1098,      0.5          1    2 \n",
      "                   1329}>    \n",
      " 849 <{5187}> => <{1098,      0.5          1    2 \n",
      "                   1329}>    \n",
      " 850 <{5019}> => <{1098,      0.5          1    2 \n",
      "                   1329}>    \n",
      " 851 <{4846}> => <{1098,      0.5          1    2 \n",
      "                   1329}>    \n",
      " 852 <{4488}> => <{1098,      0.5          1    2 \n",
      "                   1329}>    \n",
      " 853 <{3896}> => <{1098,      0.5          1    2 \n",
      "                   1329}>    \n",
      " 854 <{3895}> => <{1098,      0.5          1    2 \n",
      "                   1329}>    \n",
      " 855 <{3804}> => <{1098,      0.5          1    2 \n",
      "                   1329}>    \n",
      " 856 <{3662}> => <{1098,      0.5          1    2 \n",
      "                   1329}>    \n",
      " 857 <{3516}> => <{1098,      0.5          1    2 \n",
      "                   1329}>    \n",
      " 858 <{3408}> => <{1098,      0.5          1    2 \n",
      "                   1329}>    \n",
      " 859 <{3345}> => <{1098,      0.5          1    2 \n",
      "                   1329}>    \n",
      " 860 <{3299}> => <{1098,      0.5          1    2 \n",
      "                   1329}>    \n",
      " 861 <{3291}> => <{1098,      0.5          1    2 \n",
      "                   1329}>    \n",
      " 862 <{2700}> => <{1098,      0.5          1    2 \n",
      "                   1329}>    \n",
      " 863 <{1679}> => <{1098,      0.5          1    2 \n",
      "                   1329}>    \n",
      " 864 <{1677}> => <{1098,      0.5          1    2 \n",
      "                   1329}>    \n",
      " 865 <{1525}> => <{1098,      0.5          1    2 \n",
      "                   1329}>    \n",
      " 866 <{1408}> => <{1098,      0.5          1    2 \n",
      "                   1329}>    \n",
      " 867 <{1233}> => <{1098,      0.5          1    2 \n",
      "                   1329}>    \n",
      " 868 <{1095}> => <{1098,      0.5          1    2 \n",
      "                   1329}>    \n",
      " 869 <{4846,                 \n",
      "       6578}> => <{1098,      0.5          1    2 \n",
      "                   1329}>    \n",
      " 870 <{3516,                 \n",
      "       6315}> => <{1098,      0.5          1    2 \n",
      "                   1329}>    \n",
      " 871 <{3895,                 \n",
      "       6305}> => <{1098,      0.5          1    2 \n",
      "                   1329}>    \n",
      " 872 <{5019,                 \n",
      "       5187}> => <{1098,      0.5          1    2 \n",
      "                   1329}>    \n",
      " 873 <{3662,                 \n",
      "       4488}> => <{1098,      0.5          1    2 \n",
      "                   1329}>    \n",
      " 874 <{3299,                 \n",
      "       3896}> => <{1098,      0.5          1    2 \n",
      "                   1329}>    \n",
      " 875 <{3408,                 \n",
      "       1677}> => <{1098,      0.5          1    2 \n",
      "                   1329}>    \n",
      " 876 <{3345,                 \n",
      "       1233}> => <{1098,      0.5          1    2 \n",
      "                   1329}>    \n",
      " 877 <{1679,                 \n",
      "       1525}> => <{1098,      0.5          1    2 \n",
      "                   1329}>    \n",
      " 878 <{1408}> => <{1233}>     0.5          1    2 \n",
      " 879 <{1677}> => <{1233}>     0.5          1    2 \n",
      " 880 <{2700}> => <{1233}>     0.5          1    2 \n",
      " 881 <{3291}> => <{1233}>     0.5          1    2 \n",
      " 882 <{3299}> => <{1233}>     0.5          1    2 \n",
      " 883 <{3408}> => <{1233}>     0.5          1    2 \n",
      " 884 <{3804}> => <{1233}>     0.5          1    2 \n",
      " 885 <{3896}> => <{1233}>     0.5          1    2 \n",
      " 886 <{6312}> => <{1233}>     0.5          1    2 \n",
      " 887 <{3299,                 \n",
      "       3896}> => <{1233}>     0.5          1    2 \n",
      " 888 <{3408,                 \n",
      "       1677}> => <{1233}>     0.5          1    2 \n",
      " 889 <{1095}> => <{1098}>     0.5          1    2 \n",
      " 890 <{1233}> => <{1098}>     0.5          1    2 \n",
      " 891 <{1408}> => <{1098}>     0.5          1    2 \n",
      " 892 <{1525}> => <{1098}>     0.5          1    2 \n",
      " 893 <{1677}> => <{1098}>     0.5          1    2 \n",
      " 894 <{1679}> => <{1098}>     0.5          1    2 \n",
      " 895 <{2700}> => <{1098}>     0.5          1    2 \n",
      " 896 <{3291}> => <{1098}>     0.5          1    2 \n",
      " 897 <{3299}> => <{1098}>     0.5          1    2 \n",
      " 898 <{3345}> => <{1098}>     0.5          1    2 \n",
      " 899 <{3408}> => <{1098}>     0.5          1    2 \n",
      " 900 <{3516}> => <{1098}>     0.5          1    2 \n",
      " 901 <{3662}> => <{1098}>     0.5          1    2 \n",
      " 902 <{3804}> => <{1098}>     0.5          1    2 \n",
      " 903 <{3895}> => <{1098}>     0.5          1    2 \n",
      " 904 <{3896}> => <{1098}>     0.5          1    2 \n",
      " 905 <{4488}> => <{1098}>     0.5          1    2 \n",
      " 906 <{4846}> => <{1098}>     0.5          1    2 \n",
      " 907 <{5019}> => <{1098}>     0.5          1    2 \n",
      " 908 <{5187}> => <{1098}>     0.5          1    2 \n",
      " 909 <{6305}> => <{1098}>     0.5          1    2 \n",
      " 910 <{6312}> => <{1098}>     0.5          1    2 \n",
      " 911 <{6315}> => <{1098}>     0.5          1    2 \n",
      " 912 <{6577}> => <{1098}>     0.5          1    2 \n",
      " 913 <{6578}> => <{1098}>     0.5          1    2 \n",
      " 914 <{4846,                 \n",
      "       6578}> => <{1098}>     0.5          1    2 \n",
      " 915 <{3516,                 \n",
      "       6315}> => <{1098}>     0.5          1    2 \n",
      " 916 <{3895,                 \n",
      "       6305}> => <{1098}>     0.5          1    2 \n",
      " 917 <{5019,                 \n",
      "       5187}> => <{1098}>     0.5          1    2 \n",
      " 918 <{3662,                 \n",
      "       4488}> => <{1098}>     0.5          1    2 \n",
      " 919 <{3299,                 \n",
      "       3896}> => <{1098}>     0.5          1    2 \n",
      " 920 <{3408,                 \n",
      "       1677}> => <{1098}>     0.5          1    2 \n",
      " 921 <{3345,                 \n",
      "       1233}> => <{1098}>     0.5          1    2 \n",
      " 922 <{1679,                 \n",
      "       1525}> => <{1098}>     0.5          1    2 \n",
      " 923 <{1233}> => <{1095}>     0.5          1    2 \n",
      " 924 <{1408}> => <{1095}>     0.5          1    2 \n",
      " 925 <{1677}> => <{1095}>     0.5          1    2 \n",
      " 926 <{2700}> => <{1095}>     0.5          1    2 \n",
      " 927 <{3291}> => <{1095}>     0.5          1    2 \n",
      " 928 <{3299}> => <{1095}>     0.5          1    2 \n",
      " 929 <{3345}> => <{1095}>     0.5          1    2 \n",
      " 930 <{3408}> => <{1095}>     0.5          1    2 \n",
      " 931 <{3516}> => <{1095}>     0.5          1    2 \n",
      " 932 <{3662}> => <{1095}>     0.5          1    2 \n",
      " 933 <{3804}> => <{1095}>     0.5          1    2 \n",
      " 934 <{3895}> => <{1095}>     0.5          1    2 \n",
      " 935 <{3896}> => <{1095}>     0.5          1    2 \n",
      " 936 <{4488}> => <{1095}>     0.5          1    2 \n",
      " 937 <{4846}> => <{1095}>     0.5          1    2 \n",
      " 938 <{5019}> => <{1095}>     0.5          1    2 \n",
      " 939 <{5187}> => <{1095}>     0.5          1    2 \n",
      " 940 <{6305}> => <{1095}>     0.5          1    2 \n",
      " 941 <{6312}> => <{1095}>     0.5          1    2 \n",
      " 942 <{6315}> => <{1095}>     0.5          1    2 \n",
      " 943 <{6577}> => <{1095}>     0.5          1    2 \n",
      " 944 <{6578}> => <{1095}>     0.5          1    2 \n",
      " 945 <{4846,                 \n",
      "       6578}> => <{1095}>     0.5          1    2 \n",
      " 946 <{3516,                 \n",
      "       6315}> => <{1095}>     0.5          1    2 \n",
      " 947 <{3895,                 \n",
      "       6305}> => <{1095}>     0.5          1    2 \n",
      " 948 <{5019,                 \n",
      "       5187}> => <{1095}>     0.5          1    2 \n",
      " 949 <{3662,                 \n",
      "       4488}> => <{1095}>     0.5          1    2 \n",
      " 950 <{3299,                 \n",
      "       3896}> => <{1095}>     0.5          1    2 \n",
      " 951 <{3408,                 \n",
      "       1677}> => <{1095}>     0.5          1    2 \n",
      " 952 <{3345,                 \n",
      "       1233}> => <{1095}>     0.5          1    2 \n",
      " \n"
     ]
    }
   ],
   "source": [
    "inspect(sequenceRules)"
   ]
  },
  {
   "cell_type": "code",
   "execution_count": 58,
   "metadata": {
    "code_folding": [
     0
    ]
   },
   "outputs": [
    {
     "data": {
      "text/html": [
       "<table>\n",
       "<thead><tr><th scope=col>rule</th></tr></thead>\n",
       "<tbody>\n",
       "\t<tr><td><span style=white-space:pre-wrap>&lt;{3344}&gt; =&gt; &lt;{4120}&gt;     </span></td></tr>\n",
       "\t<tr><td><span style=white-space:pre-wrap>&lt;{3344}&gt; =&gt; &lt;{3378}&gt;     </span></td></tr>\n",
       "\t<tr><td>&lt;{3344}&gt; =&gt; &lt;{1703,3378}&gt;</td></tr>\n",
       "\t<tr><td>&lt;{3344}&gt; =&gt; &lt;{1700,3378}&gt;</td></tr>\n",
       "\t<tr><td><span style=white-space:pre-wrap>&lt;{3344}&gt; =&gt; &lt;{3326}&gt;     </span></td></tr>\n",
       "\t<tr><td><span style=white-space:pre-wrap>&lt;{3344}&gt; =&gt; &lt;{2185}&gt;     </span></td></tr>\n",
       "\t<tr><td><span style=white-space:pre-wrap>&lt;{3344}&gt; =&gt; &lt;{1913}&gt;     </span></td></tr>\n",
       "\t<tr><td><span style=white-space:pre-wrap>&lt;{3344}&gt; =&gt; &lt;{1833}&gt;     </span></td></tr>\n",
       "\t<tr><td><span style=white-space:pre-wrap>&lt;{3344}&gt; =&gt; &lt;{1703}&gt;     </span></td></tr>\n",
       "\t<tr><td>&lt;{3344}&gt; =&gt; &lt;{1700,1703}&gt;</td></tr>\n",
       "\t<tr><td><span style=white-space:pre-wrap>&lt;{3344}&gt; =&gt; &lt;{1700}&gt;     </span></td></tr>\n",
       "</tbody>\n",
       "</table>\n"
      ],
      "text/latex": [
       "\\begin{tabular}{r|l}\n",
       " rule\\\\\n",
       "\\hline\n",
       "\t <\\{3344\\}> => <\\{4120\\}>     \\\\\n",
       "\t <\\{3344\\}> => <\\{3378\\}>     \\\\\n",
       "\t <\\{3344\\}> => <\\{1703,3378\\}>\\\\\n",
       "\t <\\{3344\\}> => <\\{1700,3378\\}>\\\\\n",
       "\t <\\{3344\\}> => <\\{3326\\}>     \\\\\n",
       "\t <\\{3344\\}> => <\\{2185\\}>     \\\\\n",
       "\t <\\{3344\\}> => <\\{1913\\}>     \\\\\n",
       "\t <\\{3344\\}> => <\\{1833\\}>     \\\\\n",
       "\t <\\{3344\\}> => <\\{1703\\}>     \\\\\n",
       "\t <\\{3344\\}> => <\\{1700,1703\\}>\\\\\n",
       "\t <\\{3344\\}> => <\\{1700\\}>     \\\\\n",
       "\\end{tabular}\n"
      ],
      "text/markdown": [
       "\n",
       "rule | \n",
       "|---|---|---|---|---|---|---|---|---|---|---|\n",
       "| <{3344}> => <{4120}>      | \n",
       "| <{3344}> => <{3378}>      | \n",
       "| <{3344}> => <{1703,3378}> | \n",
       "| <{3344}> => <{1700,3378}> | \n",
       "| <{3344}> => <{3326}>      | \n",
       "| <{3344}> => <{2185}>      | \n",
       "| <{3344}> => <{1913}>      | \n",
       "| <{3344}> => <{1833}>      | \n",
       "| <{3344}> => <{1703}>      | \n",
       "| <{3344}> => <{1700,1703}> | \n",
       "| <{3344}> => <{1700}>      | \n",
       "\n",
       "\n"
      ],
      "text/plain": [
       "   rule                     \n",
       "1  <{3344}> => <{4120}>     \n",
       "2  <{3344}> => <{3378}>     \n",
       "3  <{3344}> => <{1703,3378}>\n",
       "4  <{3344}> => <{1700,3378}>\n",
       "5  <{3344}> => <{3326}>     \n",
       "6  <{3344}> => <{2185}>     \n",
       "7  <{3344}> => <{1913}>     \n",
       "8  <{3344}> => <{1833}>     \n",
       "9  <{3344}> => <{1703}>     \n",
       "10 <{3344}> => <{1700,1703}>\n",
       "11 <{3344}> => <{1700}>     "
      ]
     },
     "metadata": {},
     "output_type": "display_data"
    }
   ],
   "source": [
    "# r3344\n",
    "sr<-as(sequenceRules,\"data.frame\")\n",
    "\n",
    "query<-\"select rule from sr where rule like '<{3344}%'\"\n",
    "\n",
    "r3344<-sqldf(query)\n",
    "r3344"
   ]
  },
  {
   "cell_type": "code",
   "execution_count": 59,
   "metadata": {
    "code_folding": [
     0
    ]
   },
   "outputs": [
    {
     "data": {
      "text/html": [
       "<table>\n",
       "<thead><tr><th scope=col>rule</th></tr></thead>\n",
       "<tbody>\n",
       "\t<tr><td><span style=white-space:pre-wrap>&lt;{3345}&gt; =&gt; &lt;{6578}&gt;     </span></td></tr>\n",
       "\t<tr><td>&lt;{3345}&gt; =&gt; &lt;{4846,6578}&gt;</td></tr>\n",
       "\t<tr><td><span style=white-space:pre-wrap>&lt;{3345}&gt; =&gt; &lt;{6577}&gt;     </span></td></tr>\n",
       "\t<tr><td><span style=white-space:pre-wrap>&lt;{3345}&gt; =&gt; &lt;{6315}&gt;     </span></td></tr>\n",
       "\t<tr><td>&lt;{3345}&gt; =&gt; &lt;{3516,6315}&gt;</td></tr>\n",
       "\t<tr><td><span style=white-space:pre-wrap>&lt;{3345}&gt; =&gt; &lt;{6305}&gt;     </span></td></tr>\n",
       "\t<tr><td>&lt;{3345}&gt; =&gt; &lt;{3895,6305}&gt;</td></tr>\n",
       "\t<tr><td><span style=white-space:pre-wrap>&lt;{3345}&gt; =&gt; &lt;{5187}&gt;     </span></td></tr>\n",
       "\t<tr><td>&lt;{3345}&gt; =&gt; &lt;{5019,5187}&gt;</td></tr>\n",
       "\t<tr><td><span style=white-space:pre-wrap>&lt;{3345}&gt; =&gt; &lt;{5019}&gt;     </span></td></tr>\n",
       "\t<tr><td><span style=white-space:pre-wrap>&lt;{3345}&gt; =&gt; &lt;{4847}&gt;     </span></td></tr>\n",
       "\t<tr><td>&lt;{3345}&gt; =&gt; &lt;{4847,1329}&gt;</td></tr>\n",
       "\t<tr><td>&lt;{3345}&gt; =&gt; &lt;{1098,4847}&gt;</td></tr>\n",
       "\t<tr><td><span style=white-space:pre-wrap>&lt;{3345}&gt; =&gt; &lt;{4846}&gt;     </span></td></tr>\n",
       "\t<tr><td><span style=white-space:pre-wrap>&lt;{3345}&gt; =&gt; &lt;{4488}&gt;     </span></td></tr>\n",
       "\t<tr><td>&lt;{3345}&gt; =&gt; &lt;{3662,4488}&gt;</td></tr>\n",
       "\t<tr><td><span style=white-space:pre-wrap>&lt;{3345}&gt; =&gt; &lt;{3895}&gt;     </span></td></tr>\n",
       "\t<tr><td><span style=white-space:pre-wrap>&lt;{3345}&gt; =&gt; &lt;{3669}&gt;     </span></td></tr>\n",
       "\t<tr><td>&lt;{3345}&gt; =&gt; &lt;{3669,1419}&gt;</td></tr>\n",
       "\t<tr><td><span style=white-space:pre-wrap>&lt;{3345}&gt; =&gt; &lt;{3662}&gt;     </span></td></tr>\n",
       "\t<tr><td><span style=white-space:pre-wrap>&lt;{3345}&gt; =&gt; &lt;{3516}&gt;     </span></td></tr>\n",
       "\t<tr><td><span style=white-space:pre-wrap>&lt;{3345}&gt; =&gt; &lt;{1679}&gt;     </span></td></tr>\n",
       "\t<tr><td>&lt;{3345}&gt; =&gt; &lt;{1679,1525}&gt;</td></tr>\n",
       "\t<tr><td><span style=white-space:pre-wrap>&lt;{3345}&gt; =&gt; &lt;{1620}&gt;     </span></td></tr>\n",
       "\t<tr><td><span style=white-space:pre-wrap>&lt;{3345}&gt; =&gt; &lt;{1525}&gt;     </span></td></tr>\n",
       "\t<tr><td><span style=white-space:pre-wrap>&lt;{3345}&gt; =&gt; &lt;{1419}&gt;     </span></td></tr>\n",
       "\t<tr><td><span style=white-space:pre-wrap>&lt;{3345}&gt; =&gt; &lt;{1329}&gt;     </span></td></tr>\n",
       "\t<tr><td>&lt;{3345}&gt; =&gt; &lt;{1098,1329}&gt;</td></tr>\n",
       "\t<tr><td><span style=white-space:pre-wrap>&lt;{3345}&gt; =&gt; &lt;{1098}&gt;     </span></td></tr>\n",
       "\t<tr><td><span style=white-space:pre-wrap>&lt;{3345}&gt; =&gt; &lt;{1095}&gt;     </span></td></tr>\n",
       "</tbody>\n",
       "</table>\n"
      ],
      "text/latex": [
       "\\begin{tabular}{r|l}\n",
       " rule\\\\\n",
       "\\hline\n",
       "\t <\\{3345\\}> => <\\{6578\\}>     \\\\\n",
       "\t <\\{3345\\}> => <\\{4846,6578\\}>\\\\\n",
       "\t <\\{3345\\}> => <\\{6577\\}>     \\\\\n",
       "\t <\\{3345\\}> => <\\{6315\\}>     \\\\\n",
       "\t <\\{3345\\}> => <\\{3516,6315\\}>\\\\\n",
       "\t <\\{3345\\}> => <\\{6305\\}>     \\\\\n",
       "\t <\\{3345\\}> => <\\{3895,6305\\}>\\\\\n",
       "\t <\\{3345\\}> => <\\{5187\\}>     \\\\\n",
       "\t <\\{3345\\}> => <\\{5019,5187\\}>\\\\\n",
       "\t <\\{3345\\}> => <\\{5019\\}>     \\\\\n",
       "\t <\\{3345\\}> => <\\{4847\\}>     \\\\\n",
       "\t <\\{3345\\}> => <\\{4847,1329\\}>\\\\\n",
       "\t <\\{3345\\}> => <\\{1098,4847\\}>\\\\\n",
       "\t <\\{3345\\}> => <\\{4846\\}>     \\\\\n",
       "\t <\\{3345\\}> => <\\{4488\\}>     \\\\\n",
       "\t <\\{3345\\}> => <\\{3662,4488\\}>\\\\\n",
       "\t <\\{3345\\}> => <\\{3895\\}>     \\\\\n",
       "\t <\\{3345\\}> => <\\{3669\\}>     \\\\\n",
       "\t <\\{3345\\}> => <\\{3669,1419\\}>\\\\\n",
       "\t <\\{3345\\}> => <\\{3662\\}>     \\\\\n",
       "\t <\\{3345\\}> => <\\{3516\\}>     \\\\\n",
       "\t <\\{3345\\}> => <\\{1679\\}>     \\\\\n",
       "\t <\\{3345\\}> => <\\{1679,1525\\}>\\\\\n",
       "\t <\\{3345\\}> => <\\{1620\\}>     \\\\\n",
       "\t <\\{3345\\}> => <\\{1525\\}>     \\\\\n",
       "\t <\\{3345\\}> => <\\{1419\\}>     \\\\\n",
       "\t <\\{3345\\}> => <\\{1329\\}>     \\\\\n",
       "\t <\\{3345\\}> => <\\{1098,1329\\}>\\\\\n",
       "\t <\\{3345\\}> => <\\{1098\\}>     \\\\\n",
       "\t <\\{3345\\}> => <\\{1095\\}>     \\\\\n",
       "\\end{tabular}\n"
      ],
      "text/markdown": [
       "\n",
       "rule | \n",
       "|---|---|---|---|---|---|---|---|---|---|---|---|---|---|---|---|---|---|---|---|---|---|---|---|---|---|---|---|---|---|\n",
       "| <{3345}> => <{6578}>      | \n",
       "| <{3345}> => <{4846,6578}> | \n",
       "| <{3345}> => <{6577}>      | \n",
       "| <{3345}> => <{6315}>      | \n",
       "| <{3345}> => <{3516,6315}> | \n",
       "| <{3345}> => <{6305}>      | \n",
       "| <{3345}> => <{3895,6305}> | \n",
       "| <{3345}> => <{5187}>      | \n",
       "| <{3345}> => <{5019,5187}> | \n",
       "| <{3345}> => <{5019}>      | \n",
       "| <{3345}> => <{4847}>      | \n",
       "| <{3345}> => <{4847,1329}> | \n",
       "| <{3345}> => <{1098,4847}> | \n",
       "| <{3345}> => <{4846}>      | \n",
       "| <{3345}> => <{4488}>      | \n",
       "| <{3345}> => <{3662,4488}> | \n",
       "| <{3345}> => <{3895}>      | \n",
       "| <{3345}> => <{3669}>      | \n",
       "| <{3345}> => <{3669,1419}> | \n",
       "| <{3345}> => <{3662}>      | \n",
       "| <{3345}> => <{3516}>      | \n",
       "| <{3345}> => <{1679}>      | \n",
       "| <{3345}> => <{1679,1525}> | \n",
       "| <{3345}> => <{1620}>      | \n",
       "| <{3345}> => <{1525}>      | \n",
       "| <{3345}> => <{1419}>      | \n",
       "| <{3345}> => <{1329}>      | \n",
       "| <{3345}> => <{1098,1329}> | \n",
       "| <{3345}> => <{1098}>      | \n",
       "| <{3345}> => <{1095}>      | \n",
       "\n",
       "\n"
      ],
      "text/plain": [
       "   rule                     \n",
       "1  <{3345}> => <{6578}>     \n",
       "2  <{3345}> => <{4846,6578}>\n",
       "3  <{3345}> => <{6577}>     \n",
       "4  <{3345}> => <{6315}>     \n",
       "5  <{3345}> => <{3516,6315}>\n",
       "6  <{3345}> => <{6305}>     \n",
       "7  <{3345}> => <{3895,6305}>\n",
       "8  <{3345}> => <{5187}>     \n",
       "9  <{3345}> => <{5019,5187}>\n",
       "10 <{3345}> => <{5019}>     \n",
       "11 <{3345}> => <{4847}>     \n",
       "12 <{3345}> => <{4847,1329}>\n",
       "13 <{3345}> => <{1098,4847}>\n",
       "14 <{3345}> => <{4846}>     \n",
       "15 <{3345}> => <{4488}>     \n",
       "16 <{3345}> => <{3662,4488}>\n",
       "17 <{3345}> => <{3895}>     \n",
       "18 <{3345}> => <{3669}>     \n",
       "19 <{3345}> => <{3669,1419}>\n",
       "20 <{3345}> => <{3662}>     \n",
       "21 <{3345}> => <{3516}>     \n",
       "22 <{3345}> => <{1679}>     \n",
       "23 <{3345}> => <{1679,1525}>\n",
       "24 <{3345}> => <{1620}>     \n",
       "25 <{3345}> => <{1525}>     \n",
       "26 <{3345}> => <{1419}>     \n",
       "27 <{3345}> => <{1329}>     \n",
       "28 <{3345}> => <{1098,1329}>\n",
       "29 <{3345}> => <{1098}>     \n",
       "30 <{3345}> => <{1095}>     "
      ]
     },
     "metadata": {},
     "output_type": "display_data"
    }
   ],
   "source": [
    "# r3345\n",
    "query<-\"select rule from sr where rule like '<{3345}%'\"\n",
    "\n",
    "r3345<-sqldf(query)\n",
    "r3345"
   ]
  },
  {
   "cell_type": "markdown",
   "metadata": {},
   "source": [
    "Analisando-se as regras acima, destaca-se o seguinte exemplo:<BR><BR>\n",
    "O voo 3344 partiu de Guarulhos-SP(SBGR) com atraso de 21 minutos com destino Belo Horizonte-Confins(SBCF) e esse atraso\n",
    "propagou-se para os seguintes voos:<BR><BR>\n",
    "    <b>PARTIDAS</b><BR>\n",
    "    <b>-------------------------------------------------------------------------------------</b><BR>\n",
    "<b>VOO&nbsp;&nbsp;&nbsp;ORIGEM&nbsp;&nbsp;&nbsp;&nbsp;&nbsp;&nbsp;&nbsp;&nbsp;\n",
    "    &nbsp;&nbsp;&nbsp;&nbsp;&nbsp;&nbsp;&nbsp;&nbsp;\n",
    "    &nbsp;&nbsp;&nbsp;&nbsp;&nbsp;&nbsp;&nbsp;&nbsp;\n",
    "    &nbsp;&nbsp;&nbsp;&nbsp;&nbsp;&nbsp;&nbsp;&nbsp;\n",
    "    &nbsp;&nbsp;&nbsp;&nbsp;&nbsp;&nbsp;&nbsp;DESTINO</b><BR>\n",
    "    <b>-------------------------------------------------------------------------------------</b><BR>\n",
    "4120    Belo Horizonte-Confins-MG(SBCF)&nbsp;&nbsp;&nbsp;&nbsp;Campinas-Vira Copos-SP(SBKP)<BR>\n",
    "3378    Belo Horizonte-Confins-MG(SBCF)&nbsp;&nbsp;&nbsp;&nbsp;Recife-PE(SBRF)<BR>\n",
    "3326    Guarulhos-SP(SBGR)&nbsp;&nbsp;&nbsp;&nbsp;&nbsp;&nbsp;&nbsp;&nbsp;\n",
    "    &nbsp;&nbsp;&nbsp;&nbsp;&nbsp;&nbsp;&nbsp;&nbsp;&nbsp;&nbsp;&nbsp;&nbsp;\n",
    "    &nbsp;&nbsp;Belo Horizonte-Confins-MG(SBCF)<BR>\n",
    "2185    Belo Horizonte-Confins-MG(SBCF)&nbsp;&nbsp;&nbsp;&nbsp;Galeão-RJ(SBGL)<BR>\n",
    "1913    Belo Horizonte-Confins-MG(SBCF)&nbsp;&nbsp;&nbsp;&nbsp;Galeão-RJ(SBGL)<BR>\n",
    "1703    Belo Horizonte-Confins-MG(SBCF)&nbsp;&nbsp;&nbsp;&nbsp;Brasília-DF(SBBR)<BR><BR><BR>\n",
    "    <b>CHEGADAS</b><BR>\n",
    "    <b>------------------------------------------------------------------------------------</b><BR>\n",
    "<b>VOO&nbsp;&nbsp;&nbsp;ORIGEM&nbsp;&nbsp;&nbsp;&nbsp;&nbsp;&nbsp;&nbsp;&nbsp;\n",
    "    &nbsp;&nbsp;&nbsp;&nbsp;&nbsp;&nbsp;&nbsp;&nbsp;\n",
    "    &nbsp;&nbsp;&nbsp;&nbsp;&nbsp;&nbsp;&nbsp;&nbsp;\n",
    "    DESTINO</b><BR>\n",
    "    <b>------------------------------------------------------------------------------------</b><BR>\n",
    "1833    Salvador-BA(SBSV)&nbsp;&nbsp;&nbsp;&nbsp;&nbsp;&nbsp;&nbsp;&nbsp;&nbsp;&nbsp;&nbsp;&nbsp;Belo Horizonte-Confins-MG(SBCF)<BR>\n",
    "1700    Brasília-DF(SBBR)&nbsp;&nbsp;&nbsp;&nbsp;&nbsp;&nbsp;&nbsp;&nbsp;&nbsp;&nbsp;&nbsp;&nbsp;\n",
    "    &nbsp;Belo Horizonte-Confins-MG(SBCF)<BR>"
   ]
  },
  {
   "cell_type": "markdown",
   "metadata": {},
   "source": [
    "**Grafo de Propagação de Atrasos entre aeroportos.**"
   ]
  },
  {
   "cell_type": "markdown",
   "metadata": {},
   "source": [
    "<img src=\"dataset/grafo.jpg\">"
   ]
  }
 ],
 "metadata": {
  "kernelspec": {
   "display_name": "R",
   "language": "R",
   "name": "ir"
  },
  "language_info": {
   "codemirror_mode": "r",
   "file_extension": ".r",
   "mimetype": "text/x-r-source",
   "name": "R",
   "pygments_lexer": "r",
   "version": "3.4.3"
  }
 },
 "nbformat": 4,
 "nbformat_minor": 2
}
