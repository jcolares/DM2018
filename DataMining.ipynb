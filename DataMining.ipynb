{
 "cells": [
  {
   "cell_type": "code",
   "execution_count": 1,
   "metadata": {},
   "outputs": [],
   "source": [
    "options(warn=-1)"
   ]
  },
  {
   "cell_type": "code",
   "execution_count": null,
   "metadata": {},
   "outputs": [],
   "source": [
    "# instala o pacote sqldf # insta \n",
    "# INSTALLING FROM CRAN\n",
    "# Executar apenas na primeira vez\n",
    "install.packages(\"sqldf\")"
   ]
  },
  {
   "cell_type": "code",
   "execution_count": null,
   "metadata": {},
   "outputs": [],
   "source": [
    "install.packagesinstall (\"data.table\")\n",
    "install.packages(\"DataExplorer\")\n",
    "\n",
    "library(data.table)\n",
    "library(DataExplorer)"
   ]
  },
  {
   "cell_type": "code",
   "execution_count": null,
   "metadata": {},
   "outputs": [],
   "source": [
    "source(\"https://raw.githubusercontent.com/claudioteix/RLibrary/master/MyLibrary.R\")"
   ]
  },
  {
   "cell_type": "code",
   "execution_count": null,
   "metadata": {},
   "outputs": [],
   "source": [
    "library(sqldf)"
   ]
  },
  {
   "cell_type": "code",
   "execution_count": null,
   "metadata": {},
   "outputs": [],
   "source": [
    "# Carrega o dataset criado no RStudio no servidor CEFET\n",
    "# já com todas as cláusulas de data cleaning \n",
    "load(\"flights.Rda\")"
   ]
  },
  {
   "cell_type": "code",
   "execution_count": null,
   "metadata": {},
   "outputs": [],
   "source": [
    "nrow(df10)"
   ]
  },
  {
   "cell_type": "code",
   "execution_count": null,
   "metadata": {},
   "outputs": [],
   "source": [
    "head(df10)"
   ]
  },
  {
   "cell_type": "code",
   "execution_count": null,
   "metadata": {},
   "outputs": [],
   "source": [
    "str(df10)"
   ]
  },
  {
   "cell_type": "code",
   "execution_count": null,
   "metadata": {},
   "outputs": [],
   "source": [
    "# Transforma o formato POSIXlt em chr\n",
    "# para que possa ser trabalhado em conjunto com o sqldf\n",
    "df10$depart_expect <- as.character(df10$depart_expect)\n",
    "df10$depart <- as.character(df10$depart)\n",
    "df10$arrival_expect <- as.character(df10$arrival_expect)\n",
    "df10$arrival <- as.character(df10$arrival)"
   ]
  },
  {
   "cell_type": "code",
   "execution_count": null,
   "metadata": {},
   "outputs": [],
   "source": [
    "str(df10)"
   ]
  },
  {
   "cell_type": "code",
   "execution_count": null,
   "metadata": {},
   "outputs": [],
   "source": [
    "query<-\"select destiny, origin, airline, flight, depart, arrival, departure_delay, arrival_delay,\"\n",
    "query<-paste(query,\"depart_temperature, depart_dew_point, depart_humidity, depart_pressure, depart_visibility, depart_conditions,\", sep=\" \")\n",
    "query<-paste(query,\"arrival_temperature, arrival_dew_point, arrival_humidity, arrival_pressure, arrival_visibility, arrival_conditions\", sep=\" \")\n",
    "query<-paste(query, \"from df10\", sep=\" \")\n",
    "print(query)"
   ]
  },
  {
   "cell_type": "code",
   "execution_count": null,
   "metadata": {},
   "outputs": [],
   "source": [
    "train_set<-sqldf(query)"
   ]
  },
  {
   "cell_type": "code",
   "execution_count": null,
   "metadata": {},
   "outputs": [],
   "source": [
    "str(train_set)"
   ]
  },
  {
   "cell_type": "code",
   "execution_count": null,
   "metadata": {},
   "outputs": [],
   "source": [
    "\n",
    "# Carrega as bibliotecas necessárias para trabalhar com as transações e os algoritmos# Carre \n",
    "library(\"arules\")\n",
    "library(\"arulesSequences\")\n",
    "library(\"arulesViz\")"
   ]
  },
  {
   "cell_type": "code",
   "execution_count": null,
   "metadata": {},
   "outputs": [],
   "source": [
    "# Remove as características que não serão analisadas\n",
    "train_set$depart_temperature <- NULL\n",
    "train_set$depart_dew_point <- NULL\n",
    "train_set$depart_humidity <- NULL\n",
    "train_set$depart_pressure <- NULL\n",
    "train_set$depart_visibility <- NULL\n",
    "train_set$arrival_temperature <- NULL\n",
    "train_set$arrival_dew_point <- NULL\n",
    "train_set$arrival_humidity <- NULL\n",
    "train_set$arrival_pressure <- NULL\n",
    "train_set$arrival_visibility <- NULL"
   ]
  },
  {
   "cell_type": "code",
   "execution_count": null,
   "metadata": {},
   "outputs": [],
   "source": [
    "str(train_set)"
   ]
  },
  {
   "cell_type": "code",
   "execution_count": null,
   "metadata": {},
   "outputs": [],
   "source": [
    "\n",
    "# cria duas listas com todos os valores da coluna depart (index column=5)# cria  \n",
    "# já separados nos formatos YYYY-MM-DD e HH:MM:SS respectivamente\n",
    "depart_d<-sapply(strsplit(train_set[,5], \" \", fixed = TRUE), \"[\", 1)\n",
    "depart_h<-sapply(strsplit(train_set[,5], \" \", fixed = TRUE), \"[\", 2)\n",
    "\n",
    "# cria duas listas com todos os valores da coluna arrival (index column=6)\n",
    "# já separados nos formatos YYYY-MM-DD e HH:MM:SS respectivamente\n",
    "arrival_d<-sapply(strsplit(train_set[,6], \" \", fixed = TRUE), \"[\", 1)\n",
    "arrival_h<-sapply(strsplit(train_set[,6], \" \", fixed = TRUE), \"[\", 2)\n",
    "\n",
    "# cria um novo dataframe com essas duas novas colunas\n",
    "x <- data.frame(\"depart_date\" = depart_d, \"depart_time\" = depart_h, \"arrival_date\" = arrival_d, \"arrival_time\" = arrival_h)\n",
    "\n",
    "# cria um novo dataframe com a combinação do dataframe train_set e x\n",
    "flights <- cbind(train_set,x)"
   ]
  },
  {
   "cell_type": "code",
   "execution_count": null,
   "metadata": {},
   "outputs": [],
   "source": [
    "str(flights)\n"
   ]
  },
  {
   "cell_type": "code",
   "execution_count": null,
   "metadata": {},
   "outputs": [],
   "source": [
    "head(flights)"
   ]
  },
  {
   "cell_type": "code",
   "execution_count": null,
   "metadata": {},
   "outputs": [],
   "source": [
    "# Remove as características que não serão analisadas\n",
    "flights$depart <- NULL\n",
    "flights$arrival <- NULL"
   ]
  },
  {
   "cell_type": "code",
   "execution_count": null,
   "metadata": {},
   "outputs": [],
   "source": [
    "str(flights)"
   ]
  },
  {
   "cell_type": "code",
   "execution_count": null,
   "metadata": {},
   "outputs": [],
   "source": [
    "introduce(flights)"
   ]
  },
  {
   "cell_type": "code",
   "execution_count": null,
   "metadata": {},
   "outputs": [],
   "source": [
    "PlotMissing(flights)"
   ]
  },
  {
   "cell_type": "code",
   "execution_count": null,
   "metadata": {},
   "outputs": [],
   "source": [
    "BarDiscrete(flights$origin)"
   ]
  },
  {
   "cell_type": "code",
   "execution_count": null,
   "metadata": {},
   "outputs": [],
   "source": [
    "counts <- table(flights$depart_time)\n",
    "barplot(counts, main=\"Flights Distribution by Departure Time\", \n",
    "  \txlab=\"Departure Time\")"
   ]
  },
  {
   "cell_type": "code",
   "execution_count": null,
   "metadata": {},
   "outputs": [],
   "source": [
    "HistogramContinuous(flights)"
   ]
  },
  {
   "cell_type": "code",
   "execution_count": null,
   "metadata": {},
   "outputs": [],
   "source": [
    "CorrelationDiscrete(flights)"
   ]
  },
  {
   "cell_type": "code",
   "execution_count": null,
   "metadata": {},
   "outputs": [],
   "source": [
    "CorrelationContinuous(flights)"
   ]
  },
  {
   "cell_type": "code",
   "execution_count": null,
   "metadata": {},
   "outputs": [],
   "source": [
    "counts <- table(flights$departure_delay)\n",
    "barplot(counts, main=\"Flights Distribution by Departure Delay\", \n",
    "  \txlab=\"Departure Delay\")"
   ]
  },
  {
   "cell_type": "code",
   "execution_count": null,
   "metadata": {},
   "outputs": [],
   "source": [
    "# Sum the flights delayed by departure time (HH)\n",
    "query<-\"select depart_time_HH, count(flight) as total_flights\n",
    "        from (select substr(depart_time,1,2) as depart_time_HH, flight\n",
    "              from   flights) \n",
    "        group by depart_time_HH\n",
    "        order by total_flights\"\n",
    "print(query)"
   ]
  },
  {
   "cell_type": "code",
   "execution_count": null,
   "metadata": {},
   "outputs": [],
   "source": [
    "result<-sqldf(query)"
   ]
  },
  {
   "cell_type": "code",
   "execution_count": null,
   "metadata": {},
   "outputs": [],
   "source": [
    "result"
   ]
  },
  {
   "cell_type": "code",
   "execution_count": null,
   "metadata": {},
   "outputs": [],
   "source": [
    "# Analisa a estatística descritiva das características departure_delay e arrival_delay que serão categorizadas\n",
    "summary(flights$departure_delay)\n",
    "summary(flights$arrival_delay)"
   ]
  },
  {
   "cell_type": "code",
   "execution_count": null,
   "metadata": {},
   "outputs": [],
   "source": [
    "flights$depart_conditions <- as.factor(flights$depart_conditions)\n",
    "flights$arrival_conditions <- as.factor(flights$arrival_conditions)"
   ]
  },
  {
   "cell_type": "code",
   "execution_count": null,
   "metadata": {},
   "outputs": [],
   "source": [
    "str(flights)\n"
   ]
  },
  {
   "cell_type": "markdown",
   "metadata": {},
   "source": [
    "**Departure Time** is a key factor that we are going to examine.\n",
    "We want to know which time is the best time for flight."
   ]
  },
  {
   "cell_type": "code",
   "execution_count": null,
   "metadata": {},
   "outputs": [],
   "source": [
    "## Categoriza as variáveis departure_delay e arrival_delay\n",
    "flights$departure_delay <- ordered(cut(flights$departure_delay, c(60,75,125,240)),\n",
    "                              labels = c(\"None\", \"Low\", \"High\"))\n",
    "\n",
    "flights$arrival_delay <- ordered(cut(flights$arrival_delay, c(60,75,125,240)),\n",
    "                              labels = c(\"None\", \"Low\", \"High\"))"
   ]
  },
  {
   "cell_type": "code",
   "execution_count": null,
   "metadata": {},
   "outputs": [],
   "source": [
    "## Categoriza a variável depart_time\n",
    "flights$depart_time <- ordered(cut(as.integer(substr(flights$depart_time,1,2)), c(00,06,12,18,23)),\n",
    "                              labels = c(\"Overnight\", \"Morning\", \"Afternoon\", \"Evening\"))"
   ]
  },
  {
   "cell_type": "code",
   "execution_count": null,
   "metadata": {},
   "outputs": [],
   "source": [
    "head(flights)\n"
   ]
  },
  {
   "cell_type": "code",
   "execution_count": null,
   "metadata": {},
   "outputs": [],
   "source": [
    "\n",
    "# Sum the flights delayed during Overnight# Sum the \n",
    "query<-\"select count(flight) from flights where depart_time='Overnight'\"\n",
    "print(query)"
   ]
  },
  {
   "cell_type": "code",
   "execution_count": null,
   "metadata": {},
   "outputs": [],
   "source": [
    "result<-sqldf(query)\n"
   ]
  },
  {
   "cell_type": "code",
   "execution_count": null,
   "metadata": {},
   "outputs": [],
   "source": [
    "result"
   ]
  },
  {
   "cell_type": "code",
   "execution_count": null,
   "metadata": {},
   "outputs": [],
   "source": [
    "# Sum the flights delayed during Overnight and departure_delay='None'\n",
    "query<-\"select count(flight) from flights where depart_time='Overnight' and departure_delay='None'\"\n",
    "print(query)"
   ]
  },
  {
   "cell_type": "code",
   "execution_count": null,
   "metadata": {},
   "outputs": [],
   "source": [
    "result_2<-sqldf(query)\n"
   ]
  },
  {
   "cell_type": "code",
   "execution_count": null,
   "metadata": {},
   "outputs": [],
   "source": [
    "result_2"
   ]
  },
  {
   "cell_type": "code",
   "execution_count": null,
   "metadata": {},
   "outputs": [],
   "source": [
    "# Sum the flights delayed during Morning\n",
    "query<-\"select count(flight) from flights where depart_time='Morning'\"\n",
    "result_3<-sqldf(query)\n",
    "result_3"
   ]
  },
  {
   "cell_type": "code",
   "execution_count": null,
   "metadata": {},
   "outputs": [],
   "source": [
    "# Sum the flights delayed during Morning and departure_delay='None'\n",
    "query<-\"select count(flight) from flights where depart_time='Morning' and departure_delay='None'\"\n",
    "result_4<-sqldf(query)\n",
    "result_4"
   ]
  },
  {
   "cell_type": "code",
   "execution_count": null,
   "metadata": {},
   "outputs": [],
   "source": [
    "\n",
    "# Sum the flights delayed during Afternoon# Sum the \n",
    "query<-\"select count(flight) from flights where depart_time='Afternoon'\"\n",
    "result_5<-sqldf(query)\n",
    "result_5"
   ]
  },
  {
   "cell_type": "code",
   "execution_count": null,
   "metadata": {},
   "outputs": [],
   "source": [
    "# Sum the flights delayed during Afternoon and departure_delay='None'\n",
    "query<-\"select count(flight) from flights where depart_time='Afternoon' and departure_delay='None'\"\n",
    "result_6<-sqldf(query)\n",
    "result_6"
   ]
  },
  {
   "cell_type": "code",
   "execution_count": null,
   "metadata": {},
   "outputs": [],
   "source": [
    "\n",
    "# Sum the flights delayed during Evening# Sum the \n",
    "query<-\"select count(flight) from flights where depart_time='Evening'\"\n",
    "result_7<-sqldf(query)\n",
    "result_7"
   ]
  },
  {
   "cell_type": "code",
   "execution_count": null,
   "metadata": {},
   "outputs": [],
   "source": [
    "# Sum the flights delayed during Evening and departure_delay='None'\n",
    "query<-\"select count(flight) from flights where depart_time='Evening' and departure_delay='None'\"\n",
    "result_8<-sqldf(query)\n",
    "result_8"
   ]
  },
  {
   "cell_type": "code",
   "execution_count": null,
   "metadata": {},
   "outputs": [],
   "source": [
    "## Cria as transações\n",
    "train_set_transactions <- as(flights, \"transactions\")"
   ]
  },
  {
   "cell_type": "code",
   "execution_count": null,
   "metadata": {},
   "outputs": [],
   "source": [
    "train_set_transactions"
   ]
  },
  {
   "cell_type": "code",
   "execution_count": null,
   "metadata": {},
   "outputs": [],
   "source": [
    "str(train_set_transactions)\n"
   ]
  },
  {
   "cell_type": "code",
   "execution_count": null,
   "metadata": {},
   "outputs": [],
   "source": [
    "head(train_set_transactions@data)\n",
    "head(train_set_transactions@itemInfo)\n",
    "head(train_set_transactions@itemsetInf"
   ]
  },
  {
   "cell_type": "code",
   "execution_count": null,
   "metadata": {},
   "outputs": [],
   "source": [
    "# Nesta parte do trabalho, executar-se-á o algoritmo APRIORI\n",
    "# para gerar regras com a seguinte especificcação:\n",
    "#\n",
    "# 1. com suporte de 0,5, confiança de 0,9 e tamanho minimo = 2\n",
    "# 2. com um atributo do lado esquerdo e um do lado direito e tamanho maximo=3\n",
    "# 3. com lado direito limitado ao valor do atributo arrival_delay=None Arrival Delay\n",
    "# 4. e lado esquerdo livre.\n",
    "#\n",
    "# Isso significa que estamos interessados em qualquer causa que provoque\n",
    "# a consequência arrival_delay=High Arrival Delay. \n",
    "#rules <- apriori(train_set_transactions, parameter=list(supp = 0.01, conf = 0.8, minlen=1, maxlen= 10, target = \"rules\"), appearance=list(rhs = c(\"arrival_delay=High\"),default=\"lhs\"),control=NULL)\n",
    "#rules <- apriori(train_set_transactions, parameter=list(conf = 0.9, minlen=1, maxlen= 10, target = \"rules\"), appearance=list(rhs = c(\"arrival_delay=None\"),default=\"lhs\"),control=NULL)\n",
    "#rules <- apriori(train_set_transactions, parameter = list(supp = 0.9, conf = 0.9, target = \"rules\"), appearance=list(rhs = c(\"arrival_delay=High\"),default=\"lhs\"),control=NULL)\n",
    "rules <- apriori(train_set_transactions, parameter = list(supp = 0.01, conf = 0.1, target = \"rules\"), appearance=list(lhs = c(\"depart_time=Evening\"), rhs = c(\"departure_delay=None\")),control=NULL)\n",
    "rules_a <- as(rules, \"data.frame\")\n",
    "head(rules_a)"
   ]
  },
  {
   "cell_type": "code",
   "execution_count": null,
   "metadata": {},
   "outputs": [],
   "source": [
    "irules <- inspect(rules)\n"
   ]
  },
  {
   "cell_type": "code",
   "execution_count": null,
   "metadata": {},
   "outputs": [],
   "source": [
    "rules.sorted <- sort(rules, by=\"lift\")\n",
    "inspect(rules.sorted)"
   ]
  },
  {
   "cell_type": "markdown",
   "metadata": {},
   "source": [
    "Interpretando o resultado da primeira regra, temos:\n",
    "\n",
    "SUPPORT = 0,015 significa que 1,5% das 53.705 transações, representam o padrão {airline=WEB, departure_delay=High}\n",
    "\n",
    "CONFIDENCE = 0,92 significa que 92% das 53.705 transações que contém o padrão {airline=WEB, departure_delay=High} também contém o padrão {arrival_delay=High}\n",
    "\n",
    "O lift de uma regra de associação A Þ B indica o quanto mais freqüente torna-se B, quando A ocorre.\n",
    "\n",
    "Esta medida é computada por: Lift(A Þ B) = Conf(A Þ B) ÷ Sup(B).\n",
    "\n",
    "Indica que quando ocorre um voo com o padrão {airline=WEB, departure_delay=High} existe chance 4(quatro) vezes maior de ocorrer o padrão {arrival_delay=High}\n",
    "\n",
    "{arrival_delay=High} significa um atraso entre 2 até 4 horas."
   ]
  },
  {
   "cell_type": "markdown",
   "metadata": {},
   "source": [
    "##############################################################################################################\n",
    "##############################################################################################################\n"
   ]
  },
  {
   "cell_type": "code",
   "execution_count": 3,
   "metadata": {},
   "outputs": [],
   "source": [
    "load(\"dataset/vrawu17.RData\")"
   ]
  },
  {
   "cell_type": "markdown",
   "metadata": {},
   "source": [
    "# Analisando os atrasos de partida\n",
    "\n",
    "Para esta análise utilizaremos atrasos, de voos realizados, em um intervalo de 15m até 4h, pois são os atrasos mais comuns, os maiores que 4 horas apresentão consequências mais severas as empresas de aviação, de acordo com a ANAC as empresas tem que tomar as seguintes providências:\n",
    "\n",
    "> - **A partir de 1 hora**: comunicação (internet, telefonemas, etc).\n",
    ">- **A partir de 2 horas**: alimentação (voucher, lanche, bebidas, etc).\n",
    ">- **A partir de 4 horas**: acomodação ou hospedagem (se for o caso) e transporte do aeroporto ao local de acomodação. Se você estiver no local de seu domicílio, a empresa poderá oferecer apenas o transporte para sua residência e desta para o aeroporto.\n",
    "\n",
    "\n",
    "> **O passageiro pode solicitar reembolso quando ocorrer:**\n",
    "> - a) Atraso do voo por mais de quatro horas;\n",
    "\n",
    "\n",
    "\n",
    "Fonte: http://www.anac.gov.br/assuntos/passageiros/atrasos-cancelamento-e-pretericao-de-embarque"
   ]
  },
  {
   "cell_type": "code",
   "execution_count": 17,
   "metadata": {},
   "outputs": [],
   "source": [
    "vw_c = vrawu17[,c(\"icao_origem\",\"atraso_partida\",\"situacao_voo\")]\n",
    "vw_c = vw_c[rowSums(is.na(vw_c))==0,]"
   ]
  },
  {
   "cell_type": "code",
   "execution_count": 19,
   "metadata": {},
   "outputs": [
    {
     "data": {
      "text/html": [
       "<ol class=list-inline>\n",
       "\t<li>929924</li>\n",
       "\t<li>3</li>\n",
       "</ol>\n"
      ],
      "text/latex": [
       "\\begin{enumerate*}\n",
       "\\item 929924\n",
       "\\item 3\n",
       "\\end{enumerate*}\n"
      ],
      "text/markdown": [
       "1. 929924\n",
       "2. 3\n",
       "\n",
       "\n"
      ],
      "text/plain": [
       "[1] 929924      3"
      ]
     },
     "metadata": {},
     "output_type": "display_data"
    }
   ],
   "source": [
    "dim(vw_c)"
   ]
  },
  {
   "cell_type": "code",
   "execution_count": 20,
   "metadata": {},
   "outputs": [],
   "source": [
    "atrasos = vw_c[vw_c$atraso_partida >15 & \n",
    "                  vw_c$atraso_partida <=240 & \n",
    "                  vw_c$situacao_voo==\"REALIZADO\",]"
   ]
  },
  {
   "cell_type": "markdown",
   "metadata": {},
   "source": [
    "library(dplyr) #%>%\n",
    "\n",
    "#count atrasos realziados\n",
    "vw_g = atrasos[c(\"icao_origem\")]\n",
    "vw_g = vw_g %>% group_by(icao_origem) %>% summarize(Count = n())\n",
    "\n",
    "#count totais realizados\n",
    "vw_t = vw_c[vw_c$situacao_voo==\"REALIZADO\",c(\"icao_origem\")]\n",
    "vw_t = vw_t %>% group_by(vw_t) %>% summarize(Count = n())\n",
    "\n",
    "vw_m = merge(vw_g,vw_t, by ='icao_origem')\n",
    "head(vw_m)"
   ]
  },
  {
   "cell_type": "code",
   "execution_count": null,
   "metadata": {},
   "outputs": [],
   "source": [
    "x = atrasos$partida_real\n",
    "y = atrasos$atraso_partida\n",
    "plot(x,y,pch=16 , cex=0.3, ylab='Atraso (min)', xlab='2017')"
   ]
  },
  {
   "cell_type": "markdown",
   "metadata": {},
   "source": [
    "Podemos notar neste gráfico que existe uma concentração maior no período de férias escolares, entre dezembro e fevereiro. Também é interessante notar algumas 'linhas' em datas específicas, isso pode ser explciado com algum feríado ou possívelmente algum problema que tenha ocorrido no aeroporto. Ex:\n",
    "\n",
    " - Final de ferereiro - onde acontece o carnaval (dia 28), \n",
    " - Final de abril que pode ser explicado pelo dia do trabalhador em primeiro de maio (segunda feira)"
   ]
  },
  {
   "cell_type": "markdown",
   "metadata": {},
   "source": [
    "### Histograma de atrasos de partida"
   ]
  },
  {
   "cell_type": "code",
   "execution_count": null,
   "metadata": {},
   "outputs": [],
   "source": [
    "hist(as.numeric(atrasos$atraso_partida)\n",
    "     ,breaks=seq(15,240,15)\n",
    "     ,ylim=c(0,0.04)\n",
    "     ,xlim=c(0,250)\n",
    "     ,xlab=\"atraso (min)\"\n",
    "     ,main=\"Voos atrasados\"\n",
    "     ,freq=FALSE\n",
    "     )"
   ]
  },
  {
   "cell_type": "markdown",
   "metadata": {},
   "source": [
    "#### Histograma de horas mais comuns de voos com atraso"
   ]
  },
  {
   "cell_type": "code",
   "execution_count": null,
   "metadata": {},
   "outputs": [],
   "source": [
    "deh = as.POSIXlt(atrasos$partida_prevista)\n",
    "\n",
    "h=hist(deh$hour+deh$min/60\n",
    "     ,breaks=seq(0, 24, 0.5)\n",
    "     ,xlim=c(0,25)\n",
    "     ,xlab=\"Hour of the day\"\n",
    "     ,main=\"Most frequent departure expected hours\"\n",
    "     )\n",
    "rm(deh)"
   ]
  },
  {
   "cell_type": "markdown",
   "metadata": {},
   "source": [
    "#### Horas do dia com maior atraso (** tem que ajustar o gráfico, tem a janela de 1 da manhã que é pulada**)\n",
    "\n",
    "Para essa análise foi usado os dados inclusive que tiveram atraso, apenas foi retirado os voos adiantados (atraso negativo), pois essa análise tem como objetivo encontrar quais horários são mais propensos a atraso, para entender qual horário deve ser evitado pelo passageiro na hora de comprar uma passagem.\n",
    "\n",
    "A fim de evitar atrasos tentamos entender melhor qual hora do dia os voos costumam atrasar mais, para isso pegamos os horários de partida previsto e verificamos em média quanto tempo voos nessa hora costumam atrasar"
   ]
  },
  {
   "cell_type": "code",
   "execution_count": null,
   "metadata": {},
   "outputs": [],
   "source": [
    "library(dplyr) #%>%\n",
    "d_h = vrawu17[,c('partida_prevista','atraso_partida')]\n",
    "d_h = d_h[rowSums(is.na(d_h))==0,]\n",
    "d_h = d_h[d_h$atraso_partida>=0,]\n",
    "\n",
    "d_h$por_hora_tempo_partida=cut(as.integer(format(d_h$partida_prevista, \"%H\")), seq(0,24,1), include.lowest=TRUE, labels=seq(0,23,1))  #seq(0,23,1) )\n",
    "d_h = d_h %>% group_by(por_hora_tempo_partida) %>% summarize(avg = mean(atraso_partida))"
   ]
  },
  {
   "cell_type": "code",
   "execution_count": null,
   "metadata": {},
   "outputs": [],
   "source": [
    "barplot(as.numeric(d_h$avg),names.arg=seq(0,22,1), ylim=c(0,60), ylab='atraso (min)')\n",
    "rm(d_h)"
   ]
  },
  {
   "cell_type": "markdown",
   "metadata": {},
   "source": [
    "### Densidade de distribuição PROBLEMA\n"
   ]
  },
  {
   "cell_type": "code",
   "execution_count": null,
   "metadata": {},
   "outputs": [],
   "source": [
    "source(\"https://raw.githubusercontent.com/eogasawara/mylibrary/master/myGraphics.R\")\n",
    "library(RColorBrewer)\n",
    "library(gridExtra)\n",
    "\n",
    "col.set <- brewer.pal(11, 'Spectral')\n",
    "mycolors <- col.set[seq(0,36,1)]#c(1,3,5,7,9,11)]\n",
    "\n",
    "value=vrawu17[vrawu17$atraso_partida >=15 & vrawu17$atraso_partida <=240,]\n",
    "series <- data.frame(variable=value$origem_condicoes, value=value$atraso_partida)\n",
    "grfB <- plot.density(series, colors=mycolors)\n",
    "\n",
    "options(repr.plot.width=10, repr.plot.height=4)\n",
    "grid.arrange( grfB, ncol=2)\n",
    "#summary(vrawu17)"
   ]
  },
  {
   "cell_type": "code",
   "execution_count": null,
   "metadata": {},
   "outputs": [],
   "source": [
    "vrawu17$origem_condicoes[1:100]\n",
    "vrawu17$origem_condicoes[96] == \"\\xc2\""
   ]
  },
  {
   "cell_type": "code",
   "execution_count": null,
   "metadata": {},
   "outputs": [],
   "source": [
    "library(stringr)\n",
    "usableText=str_replace_all(vrawu17$origem_condicoes,\"[^[:graph:]]\", \"NA\")"
   ]
  },
  {
   "cell_type": "code",
   "execution_count": null,
   "metadata": {},
   "outputs": [],
   "source": [
    "delays = vrawu17[vrawu17$atraso_partida >=0  & vrawu17$atraso_partida <= 240,]\n",
    "options(repr.plot.width=4, repr.plot.height=3)\n",
    "qqplot(delays$atraso_partida, delays$origem_visibilidade)\n",
    "fm <- lm(delays$atraso_partida ~ delays$origem_visibilidade)\n",
    "abline(coef(fm), lty=4)\n",
    "\n",
    "options(repr.plot.width=4, repr.plot.height=3)\n",
    "qqplot(delays$atraso_partida, delays$origem_pressao)\n",
    "fm <- lm(delays$atraso_partida ~ delays$origem_pressao)\n",
    "abline(coef(fm), lty=4)\n",
    "\n",
    "options(repr.plot.width=4, repr.plot.height=3)\n",
    "qqplot(delays$atraso_partida, delays$origem_dew_point)\n",
    "fm <- lm(delays$atraso_partida ~ delays$origem_dew_point)\n",
    "abline(coef(fm), lty=4)\n",
    "\n",
    "options(repr.plot.width=4, repr.plot.height=3)\n",
    "qqplot(delays$atraso_partida, delays$origem_temperatura)\n",
    "fm <- lm(delays$atraso_partida ~ delays$origem_temperatura)\n",
    "abline(coef(fm), lty=4)"
   ]
  },
  {
   "cell_type": "markdown",
   "metadata": {},
   "source": [
    "### Mapa do Brasil\n",
    "Fonte: https://downloads.ibge.gov.br/downloads_geociencias.htm\n",
    "\n",
    "Primeiro temos que obter os dados de localização dos aeroportos"
   ]
  },
  {
   "cell_type": "code",
   "execution_count": null,
   "metadata": {},
   "outputs": [],
   "source": [
    "message=FALSE\n",
    "library(data.table)\n",
    "library(dplyr) #select %>%\n",
    "airport = fread(\"dataset/airports_simplified.csv\")\n",
    "\n",
    "br_airport = select(airport[country == 'Brazil'],ICAO) \n",
    "\n",
    "vw = merge( atrasos, br_airport, by.x = \"icao_destino\", by.y = \"ICAO\")\n",
    "vw = merge( atrasos, br_airport, by.x = \"icao_origem\", by.y = \"ICAO\")\n",
    "\n",
    "\n",
    "vw = vw[c(\"icao_origem\", \"icao_destino\")]\n",
    "vw = vw %>% group_by(icao_destino,icao_origem) %>% summarize(Count = n())\n",
    "\n",
    "library(tidyverse)\n",
    "vw$icao_destino = as.character(vw$icao_destino)\n",
    "vw$icao_origem = as.character(vw$icao_origem)\n",
    "vw = vw %>%\n",
    "    rowwise() %>%\n",
    "    mutate(grp = paste0(sort(c(icao_destino, icao_origem)), collapse = \"_\")) %>%\n",
    "    ungroup() %>%\n",
    "    group_by(grp) %>%\n",
    "    summarise(Count = sum(Count)) %>%\n",
    "    separate(grp, into = c(\"icao_destino\", \"icao_origem\"))"
   ]
  },
  {
   "cell_type": "code",
   "execution_count": null,
   "metadata": {},
   "outputs": [],
   "source": [
    "#Join Departure\n",
    "vra_wu<-vw\n",
    "vra_wu= merge(vra_wu,airport, by.x=\"icao_destino\", by.y=\"ICAO\")\n",
    "colnames(vra_wu)[colnames(vra_wu) == \"name\"] = \"destiny_airport_name\"\n",
    "colnames(vra_wu)[colnames(vra_wu) == \"city\"] = \"destiny_city\"\n",
    "colnames(vra_wu)[colnames(vra_wu) == \"country\"] = \"destiny_country\"\n",
    "colnames(vra_wu)[colnames(vra_wu) == \"latitude\"] = \"destiny_latitude\"\n",
    "colnames(vra_wu)[colnames(vra_wu) == \"longitude\"] = \"destiny_longitude\"\n",
    "\n",
    "#Join Origin\n",
    "vra_wu= merge(vra_wu,airport, by.x=\"icao_origem\", by.y=\"ICAO\")\n",
    "colnames(vra_wu)[colnames(vra_wu) == \"name\"] = \"origin_airport_name\"\n",
    "colnames(vra_wu)[colnames(vra_wu) == \"city\"] = \"origin_city\"\n",
    "colnames(vra_wu)[colnames(vra_wu) == \"country\"] = \"origin_country\"\n",
    "colnames(vra_wu)[colnames(vra_wu) == \"latitude\"] = \"origin_latitude\"\n",
    "colnames(vra_wu)[colnames(vra_wu) == \"longitude\"] = \"origin_longitude\""
   ]
  },
  {
   "cell_type": "code",
   "execution_count": null,
   "metadata": {},
   "outputs": [],
   "source": [
    "library(ggplot2)\n",
    "library(maptools)\n",
    "\n",
    "\n",
    "mapa <- borders(database =\"world\", regions = \"Brazil\", fill = \"grey70\", colour = \"black\")\n",
    "\n",
    "brazil <- ggplot() + mapa + theme_bw() + xlab(\"Longitude (decimals)\") + ylab(\"Latitude (decimals)\") + \n",
    "  theme(panel.border = element_blank(), panel.grid.major = element_line(colour = \"grey80\"), panel.grid.minor = element_blank())\n",
    "\n",
    "estados <- readShapePoly(\"dataset/br_unidades_da_federacao/BRUFE250GC_SIR.shp\")\n",
    "estados1 <- fortify(estados)\n",
    "\n",
    "br_est <- brazil + geom_path(data = estados1, aes(x = long, y = lat, group = group), colour = \"black\")\n",
    "br_est"
   ]
  },
  {
   "cell_type": "code",
   "execution_count": null,
   "metadata": {},
   "outputs": [],
   "source": [
    "#library(tidyverse)\n",
    "#library(maps)\n",
    "library(geosphere)\n",
    "\n",
    "vra_wu = vra_wu[vra_wu$icao_origem == 'SBGR',]\n",
    "\n",
    "par(mar=c(0,0,0,0))\n",
    "#map('world','Brazil',col=\"#f2f2f2\", fill=TRUE, bg=\"white\", lwd=0.05,mar=rep(0,4),border=0, resolution=0)\n",
    "pal <- colorRampPalette(c(\"#666666\", \"black\"))\n",
    "colors <- pal(30)\n",
    "\n",
    "max_cnt = max(vra_wu$Count)\n",
    "min_cnt = min(vra_wu$Count)\n",
    "lwd_max = 5\n",
    "lwd_min = 0.8\n",
    "\n",
    "\n",
    "for (j in 1:dim(vra_wu)[1]) {\n",
    "    #j=15*i\n",
    "    origin = c(vra_wu$origin_longitude[j],vra_wu$origin_latitude[j])\n",
    "    destiny = c(vra_wu$destiny_longitude[j],vra_wu$destiny_latitude[j])\n",
    "     \n",
    "    inter = as.data.frame(gcIntermediate(origin, destiny, n=100, addStartEnd=TRUE))\n",
    "    pu = (vra_wu$Count[j] -min_cnt)/(max_cnt-min_cnt)\n",
    "    col_index =1+ round(pu*(length(colors)-1))\n",
    "    lin = pu*(lwd_max-lwd_min)+lwd_min\n",
    "    \n",
    "    names(inter) <- c(\"lon\", \"lat\")\n",
    "    br_est <- br_est + geom_line(data=inter, aes(x=lon, y=lat), color='#FFFFFF')\n",
    "    \n",
    "    #br_est <- br_est + inter\n",
    "    #lines(inter, col=colors[col_index],lwd=lin)\n",
    "    #lines(inter, col=\"#666666\",lwd=0.5)\n",
    "    #min=0.8\n",
    "    #if (i==100){break}\n",
    "}"
   ]
  }
 ],
 "metadata": {
  "kernelspec": {
   "display_name": "R",
   "language": "R",
   "name": "ir"
  },
  "language_info": {
   "codemirror_mode": "r",
   "file_extension": ".r",
   "mimetype": "text/x-r-source",
   "name": "R",
   "pygments_lexer": "r",
   "version": "3.4.3"
  }
 },
 "nbformat": 4,
 "nbformat_minor": 2
}
