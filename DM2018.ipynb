{
 "cells": [
  {
   "cell_type": "markdown",
   "metadata": {},
   "source": [
    "#DM2018\n",
    "Esse é o trabalho de data mining. \n",
    "\n",
    "Precisamos todos colaborar na elaboração dele, mas tendo o cuidado de não estragar o que os demais membros do grupo fizeram. Para isso, sugiro fazermos o seguinte:\n",
    "\n",
    "Esse aqui fica sendo o notebook \"oficial\", que será entregue ao professor. O conteúdo dele, decidiremos juntos qual será antes da entrega do trabalho.\n",
    "\n",
    "Cada um de nós usará um notebook com seu nome, que poderá ser editado à vontade pelo dono e consultado pelos colegas.\n",
    "\n",
    "Boa sorte pra nós. \n",
    "\n"
   ]
  },
  {
   "cell_type": "code",
   "execution_count": null,
   "metadata": {},
   "outputs": [],
   "source": []
  }
 ],
 "metadata": {
  "kernelspec": {
   "display_name": "R",
   "language": "R",
   "name": "ir"
  },
  "language_info": {
   "codemirror_mode": "r",
   "file_extension": ".r",
   "mimetype": "text/x-r-source",
   "name": "R",
   "pygments_lexer": "r",
   "version": "3.4.3"
  }
 },
 "nbformat": 4,
 "nbformat_minor": 2
}
