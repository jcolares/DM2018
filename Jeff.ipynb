{
 "cells": [
  {
   "cell_type": "markdown",
   "metadata": {},
   "source": [
    "# Notebook do Jeff.\n",
    "\n",
    "Atividades da análise exploratória, de acordo com as notas de aula do Ogasawara:\n",
    "\n",
    "## Identificar data objects (entidades e seus atributos)\n",
    "Registrar o tipo de cada atributo (Nominal, binário, numérico)\n",
    "*nominal: tipos de coisas\n",
    "*binary: 0 ou 1, S e N (lembrando que pode ser simétrico ou assimétrico)\n",
    "*ordinal: valores que representam relação de ordenação (ranking) das entidades ex: tamanho: p-m-g\n",
    "*quantidade: numeros não discretos\n",
    "*intervalo: medidas em uma escala sem um zero-point. ex> temperatura, datas do calendario, etc\n",
    "*razão:  medidas em uma escala com um zero-point: ex: graus em celsius, quantidades monetárias, etc.\n",
    "\n",
    "## Fazer descrições estatísticas dos dados:\n",
    "Centralidade e características de dispersão (Ex. mediana, max, min, quantis, outliers, variancia, etc).\n",
    "Dimensões numéricas: \n",
    "    dispersão em intervalos de multipla granularidade: boxplots em intervalos computados. \n",
    "    dispersão em métricas computadas: boxplots no cubo transformado (datawarehouse)\n",
    " \n",
    "Exemplos de aula: \n",
    "*média, mediana, moda\n",
    "*distribuição normal, assimétrica (positiva/negativa)\n",
    "*quartis, faixa inter-quartis, sumário de 5 numeros (min, q1, mediana, q2, max): boxplot\n",
    "*variância e desvio-padrão.\n",
    "\n",
    "Fazer a descrição através de gráficos boxplot, histogramas, qualtile plot, scatter plot.\n",
    "\n",
    "**Identificar outliers**: valores maiores que Q3 + 1,5*IQR ou menores que Q1 - 1,5*IQR\n",
    "\n",
    "## Aplicar outras técnicas\n",
    "Matriz de dados  \n",
    "Matriz de dissimilaridade  \n",
    " (ver slides sobre Medidas de proximidade e dissimilaridade)\n",
    "\n",
    "\n",
    "\n",
    "\n",
    "\n",
    "## Arquivos de dados  \n",
    "Conforme descrição do Ogasawara em [Brazilian Flight Dataset](http://eic.cefet-rj.br/~eogasawara/brazilian-flight-datasets/):  \n",
    "**airports-br.xlsx** - Lista de aeroportos. Não fornecido. Usaremos o do Gustavo: [airports.dat](https://openflights.org/data.html).  \n",
    "**vra.RData** - todos os dados sobre voos, de jan/2009 a dez/2017.  \n",
    "**airports_hist.xlsx** - Não fornecido. Seriam os histogramas das atividades dos 62 principis aeroportos, correspondendo a 92% do tráfego monitorado pela ANAC.  \n",
    "**wu.RData** - informações sobre o clima nos principais 62 aeroportos.  \n",
    "**vra-wu.RData** - informações sobre os voos, com dados do clima na partida e chegada nessses 62 aeroportos.  \n",
    "\n",
    "\n"
   ]
  },
  {
   "cell_type": "code",
   "execution_count": 2,
   "metadata": {
    "scrolled": false
   },
   "outputs": [
    {
     "data": {
      "text/html": [
       "<table>\n",
       "<thead><tr><th scope=col>destiny</th><th scope=col>origin</th><th scope=col>airlines</th><th scope=col>flight</th><th scope=col>autho_code</th><th scope=col>line_type</th><th scope=col>depart_expect</th><th scope=col>depart</th><th scope=col>arrival_expect</th><th scope=col>arrival</th><th scope=col>⋯</th><th scope=col>arrival_delay</th><th scope=col>duration_expect</th><th scope=col>duration</th><th scope=col>duration_delta</th><th scope=col>name.x</th><th scope=col>city.x</th><th scope=col>state.x</th><th scope=col>name.y</th><th scope=col>city.y</th><th scope=col>state.y</th></tr></thead>\n",
       "<tbody>\n",
       "\t<tr><td>CYYZ                                       </td><td>SBGR                                       </td><td>ACA                                        </td><td>91                                         </td><td>0                                          </td><td>I                                          </td><td>2009-01-11 22:30:00                        </td><td>2009-01-11 22:30:00                        </td><td>2009-01-12 08:35:00                        </td><td>2009-01-12 08:35:00                        </td><td>⋯                                          </td><td>0                                          </td><td>605                                        </td><td>605                                        </td><td>0                                          </td><td>GUARULHOS - GOVERNADOR ANDRÉ FRANCO MONTORO</td><td>GUARULHOS                                  </td><td>SP                                         </td><td>NA                                         </td><td>NA                                         </td><td>NA                                         </td></tr>\n",
       "\t<tr><td>CYYZ                                       </td><td>SBGR                                       </td><td>ACA                                        </td><td>91                                         </td><td>0                                          </td><td>I                                          </td><td>2009-01-05 22:30:00                        </td><td>2009-01-05 22:30:00                        </td><td>2009-01-06 08:35:00                        </td><td>2009-01-06 08:35:00                        </td><td>⋯                                          </td><td>0                                          </td><td>605                                        </td><td>605                                        </td><td>0                                          </td><td>GUARULHOS - GOVERNADOR ANDRÉ FRANCO MONTORO</td><td>GUARULHOS                                  </td><td>SP                                         </td><td>NA                                         </td><td>NA                                         </td><td>NA                                         </td></tr>\n",
       "\t<tr><td>CYYZ                                       </td><td>SBGR                                       </td><td>ACA                                        </td><td>91                                         </td><td>0                                          </td><td>I                                          </td><td>2009-01-26 22:30:00                        </td><td>2009-01-26 22:30:00                        </td><td>2009-01-27 08:35:00                        </td><td>2009-01-27 08:35:00                        </td><td>⋯                                          </td><td>0                                          </td><td>605                                        </td><td>605                                        </td><td>0                                          </td><td>GUARULHOS - GOVERNADOR ANDRÉ FRANCO MONTORO</td><td>GUARULHOS                                  </td><td>SP                                         </td><td>NA                                         </td><td>NA                                         </td><td>NA                                         </td></tr>\n",
       "\t<tr><td>CYYZ                                       </td><td>SAEZ                                       </td><td>ACA                                        </td><td>95                                         </td><td>0                                          </td><td>I                                          </td><td>2009-01-31 21:05:00                        </td><td>2009-01-31 21:05:00                        </td><td>2009-02-01 08:40:00                        </td><td>2009-02-01 08:40:00                        </td><td>⋯                                          </td><td>0                                          </td><td>695                                        </td><td>695                                        </td><td>0                                          </td><td>NA                                         </td><td>NA                                         </td><td>NA                                         </td><td>NA                                         </td><td>NA                                         </td><td>NA                                         </td></tr>\n",
       "\t<tr><td>CYYZ                                       </td><td>SBGR                                       </td><td>ACA                                        </td><td>91                                         </td><td>0                                          </td><td>I                                          </td><td>2009-01-31 22:30:00                        </td><td>2009-01-31 22:30:00                        </td><td>2009-02-01 08:35:00                        </td><td>2009-02-01 08:35:00                        </td><td>⋯                                          </td><td>0                                          </td><td>605                                        </td><td>605                                        </td><td>0                                          </td><td>GUARULHOS - GOVERNADOR ANDRÉ FRANCO MONTORO</td><td>GUARULHOS                                  </td><td>SP                                         </td><td>NA                                         </td><td>NA                                         </td><td>NA                                         </td></tr>\n",
       "\t<tr><td>CYYZ                                       </td><td>SBGR                                       </td><td>ACA                                        </td><td>91                                         </td><td>0                                          </td><td>I                                          </td><td>2009-01-14 22:30:00                        </td><td>2009-01-14 22:30:00                        </td><td>2009-01-15 08:35:00                        </td><td>2009-01-15 08:35:00                        </td><td>⋯                                          </td><td>0                                          </td><td>605                                        </td><td>605                                        </td><td>0                                          </td><td>GUARULHOS - GOVERNADOR ANDRÉ FRANCO MONTORO</td><td>GUARULHOS                                  </td><td>SP                                         </td><td>NA                                         </td><td>NA                                         </td><td>NA                                         </td></tr>\n",
       "</tbody>\n",
       "</table>\n"
      ],
      "text/latex": [
       "\\begin{tabular}{r|lllllllllllllllllllllllllll}\n",
       " destiny & origin & airlines & flight & autho\\_code & line\\_type & depart\\_expect & depart & arrival\\_expect & arrival & ⋯ & arrival\\_delay & duration\\_expect & duration & duration\\_delta & name.x & city.x & state.x & name.y & city.y & state.y\\\\\n",
       "\\hline\n",
       "\t CYYZ                                        & SBGR                                        & ACA                                         & 91                                          & 0                                           & I                                           & 2009-01-11 22:30:00                         & 2009-01-11 22:30:00                         & 2009-01-12 08:35:00                         & 2009-01-12 08:35:00                         & ⋯                                           & 0                                           & 605                                         & 605                                         & 0                                           & GUARULHOS - GOVERNADOR ANDRÉ FRANCO MONTORO & GUARULHOS                                   & SP                                          & NA                                          & NA                                          & NA                                         \\\\\n",
       "\t CYYZ                                        & SBGR                                        & ACA                                         & 91                                          & 0                                           & I                                           & 2009-01-05 22:30:00                         & 2009-01-05 22:30:00                         & 2009-01-06 08:35:00                         & 2009-01-06 08:35:00                         & ⋯                                           & 0                                           & 605                                         & 605                                         & 0                                           & GUARULHOS - GOVERNADOR ANDRÉ FRANCO MONTORO & GUARULHOS                                   & SP                                          & NA                                          & NA                                          & NA                                         \\\\\n",
       "\t CYYZ                                        & SBGR                                        & ACA                                         & 91                                          & 0                                           & I                                           & 2009-01-26 22:30:00                         & 2009-01-26 22:30:00                         & 2009-01-27 08:35:00                         & 2009-01-27 08:35:00                         & ⋯                                           & 0                                           & 605                                         & 605                                         & 0                                           & GUARULHOS - GOVERNADOR ANDRÉ FRANCO MONTORO & GUARULHOS                                   & SP                                          & NA                                          & NA                                          & NA                                         \\\\\n",
       "\t CYYZ                                        & SAEZ                                        & ACA                                         & 95                                          & 0                                           & I                                           & 2009-01-31 21:05:00                         & 2009-01-31 21:05:00                         & 2009-02-01 08:40:00                         & 2009-02-01 08:40:00                         & ⋯                                           & 0                                           & 695                                         & 695                                         & 0                                           & NA                                          & NA                                          & NA                                          & NA                                          & NA                                          & NA                                         \\\\\n",
       "\t CYYZ                                        & SBGR                                        & ACA                                         & 91                                          & 0                                           & I                                           & 2009-01-31 22:30:00                         & 2009-01-31 22:30:00                         & 2009-02-01 08:35:00                         & 2009-02-01 08:35:00                         & ⋯                                           & 0                                           & 605                                         & 605                                         & 0                                           & GUARULHOS - GOVERNADOR ANDRÉ FRANCO MONTORO & GUARULHOS                                   & SP                                          & NA                                          & NA                                          & NA                                         \\\\\n",
       "\t CYYZ                                        & SBGR                                        & ACA                                         & 91                                          & 0                                           & I                                           & 2009-01-14 22:30:00                         & 2009-01-14 22:30:00                         & 2009-01-15 08:35:00                         & 2009-01-15 08:35:00                         & ⋯                                           & 0                                           & 605                                         & 605                                         & 0                                           & GUARULHOS - GOVERNADOR ANDRÉ FRANCO MONTORO & GUARULHOS                                   & SP                                          & NA                                          & NA                                          & NA                                         \\\\\n",
       "\\end{tabular}\n"
      ],
      "text/markdown": [
       "\n",
       "destiny | origin | airlines | flight | autho_code | line_type | depart_expect | depart | arrival_expect | arrival | ⋯ | arrival_delay | duration_expect | duration | duration_delta | name.x | city.x | state.x | name.y | city.y | state.y | \n",
       "|---|---|---|---|---|---|\n",
       "| CYYZ                                        | SBGR                                        | ACA                                         | 91                                          | 0                                           | I                                           | 2009-01-11 22:30:00                         | 2009-01-11 22:30:00                         | 2009-01-12 08:35:00                         | 2009-01-12 08:35:00                         | ⋯                                           | 0                                           | 605                                         | 605                                         | 0                                           | GUARULHOS - GOVERNADOR ANDRÉ FRANCO MONTORO | GUARULHOS                                   | SP                                          | NA                                          | NA                                          | NA                                          | \n",
       "| CYYZ                                        | SBGR                                        | ACA                                         | 91                                          | 0                                           | I                                           | 2009-01-05 22:30:00                         | 2009-01-05 22:30:00                         | 2009-01-06 08:35:00                         | 2009-01-06 08:35:00                         | ⋯                                           | 0                                           | 605                                         | 605                                         | 0                                           | GUARULHOS - GOVERNADOR ANDRÉ FRANCO MONTORO | GUARULHOS                                   | SP                                          | NA                                          | NA                                          | NA                                          | \n",
       "| CYYZ                                        | SBGR                                        | ACA                                         | 91                                          | 0                                           | I                                           | 2009-01-26 22:30:00                         | 2009-01-26 22:30:00                         | 2009-01-27 08:35:00                         | 2009-01-27 08:35:00                         | ⋯                                           | 0                                           | 605                                         | 605                                         | 0                                           | GUARULHOS - GOVERNADOR ANDRÉ FRANCO MONTORO | GUARULHOS                                   | SP                                          | NA                                          | NA                                          | NA                                          | \n",
       "| CYYZ                                        | SAEZ                                        | ACA                                         | 95                                          | 0                                           | I                                           | 2009-01-31 21:05:00                         | 2009-01-31 21:05:00                         | 2009-02-01 08:40:00                         | 2009-02-01 08:40:00                         | ⋯                                           | 0                                           | 695                                         | 695                                         | 0                                           | NA                                          | NA                                          | NA                                          | NA                                          | NA                                          | NA                                          | \n",
       "| CYYZ                                        | SBGR                                        | ACA                                         | 91                                          | 0                                           | I                                           | 2009-01-31 22:30:00                         | 2009-01-31 22:30:00                         | 2009-02-01 08:35:00                         | 2009-02-01 08:35:00                         | ⋯                                           | 0                                           | 605                                         | 605                                         | 0                                           | GUARULHOS - GOVERNADOR ANDRÉ FRANCO MONTORO | GUARULHOS                                   | SP                                          | NA                                          | NA                                          | NA                                          | \n",
       "| CYYZ                                        | SBGR                                        | ACA                                         | 91                                          | 0                                           | I                                           | 2009-01-14 22:30:00                         | 2009-01-14 22:30:00                         | 2009-01-15 08:35:00                         | 2009-01-15 08:35:00                         | ⋯                                           | 0                                           | 605                                         | 605                                         | 0                                           | GUARULHOS - GOVERNADOR ANDRÉ FRANCO MONTORO | GUARULHOS                                   | SP                                          | NA                                          | NA                                          | NA                                          | \n",
       "\n",
       "\n"
      ],
      "text/plain": [
       "  destiny origin airlines flight autho_code line_type depart_expect      \n",
       "1 CYYZ    SBGR   ACA      91     0          I         2009-01-11 22:30:00\n",
       "2 CYYZ    SBGR   ACA      91     0          I         2009-01-05 22:30:00\n",
       "3 CYYZ    SBGR   ACA      91     0          I         2009-01-26 22:30:00\n",
       "4 CYYZ    SAEZ   ACA      95     0          I         2009-01-31 21:05:00\n",
       "5 CYYZ    SBGR   ACA      91     0          I         2009-01-31 22:30:00\n",
       "6 CYYZ    SBGR   ACA      91     0          I         2009-01-14 22:30:00\n",
       "  depart              arrival_expect      arrival             ⋯ arrival_delay\n",
       "1 2009-01-11 22:30:00 2009-01-12 08:35:00 2009-01-12 08:35:00 ⋯ 0            \n",
       "2 2009-01-05 22:30:00 2009-01-06 08:35:00 2009-01-06 08:35:00 ⋯ 0            \n",
       "3 2009-01-26 22:30:00 2009-01-27 08:35:00 2009-01-27 08:35:00 ⋯ 0            \n",
       "4 2009-01-31 21:05:00 2009-02-01 08:40:00 2009-02-01 08:40:00 ⋯ 0            \n",
       "5 2009-01-31 22:30:00 2009-02-01 08:35:00 2009-02-01 08:35:00 ⋯ 0            \n",
       "6 2009-01-14 22:30:00 2009-01-15 08:35:00 2009-01-15 08:35:00 ⋯ 0            \n",
       "  duration_expect duration duration_delta\n",
       "1 605             605      0             \n",
       "2 605             605      0             \n",
       "3 605             605      0             \n",
       "4 695             695      0             \n",
       "5 605             605      0             \n",
       "6 605             605      0             \n",
       "  name.x                                      city.x    state.x name.y city.y\n",
       "1 GUARULHOS - GOVERNADOR ANDRÉ FRANCO MONTORO GUARULHOS SP      NA     NA    \n",
       "2 GUARULHOS - GOVERNADOR ANDRÉ FRANCO MONTORO GUARULHOS SP      NA     NA    \n",
       "3 GUARULHOS - GOVERNADOR ANDRÉ FRANCO MONTORO GUARULHOS SP      NA     NA    \n",
       "4 NA                                          NA        NA      NA     NA    \n",
       "5 GUARULHOS - GOVERNADOR ANDRÉ FRANCO MONTORO GUARULHOS SP      NA     NA    \n",
       "6 GUARULHOS - GOVERNADOR ANDRÉ FRANCO MONTORO GUARULHOS SP      NA     NA    \n",
       "  state.y\n",
       "1 NA     \n",
       "2 NA     \n",
       "3 NA     \n",
       "4 NA     \n",
       "5 NA     \n",
       "6 NA     "
      ]
     },
     "metadata": {},
     "output_type": "display_data"
    }
   ],
   "source": [
    "load(\"../../dados/vra.RData\") \n",
    "head(vra)"
   ]
  },
  {
   "cell_type": "markdown",
   "metadata": {},
   "source": [
    "Yes! Deu certo."
   ]
  },
  {
   "cell_type": "code",
   "execution_count": null,
   "metadata": {},
   "outputs": [],
   "source": []
  }
 ],
 "metadata": {
  "kernelspec": {
   "display_name": "R",
   "language": "R",
   "name": "ir"
  },
  "language_info": {
   "codemirror_mode": "r",
   "file_extension": ".r",
   "mimetype": "text/x-r-source",
   "name": "R",
   "pygments_lexer": "r",
   "version": "3.4.3"
  }
 },
 "nbformat": 4,
 "nbformat_minor": 2
}
