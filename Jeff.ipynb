{
 "cells": [
  {
   "cell_type": "markdown",
   "metadata": {},
   "source": [
    "# Notebook do Jeff.\n",
    "\n",
    "Atividades da análise exploratória, de acordo com as notas de aula do Ogasawara:\n",
    "\n",
    "## Identificar data objects (entidades e seus atributos)\n",
    "Registrar o tipo de cada atributo (Nominal, binário, numérico)\n",
    "*nominal: tipos de coisas\n",
    "*binary: 0 ou 1, S e N (lembrando que pode ser simétrico ou assimétrico)\n",
    "*ordinal: valores que representam relação de ordenação (ranking) das entidades ex: tamanho: p-m-g\n",
    "*quantidade: numeros não discretos\n",
    "*intervalo: medidas em uma escala sem um zero-point. ex> temperatura, datas do calendario, etc\n",
    "*razão:  medidas em uma escala com um zero-point: ex: graus em celsius, quantidades monetárias, etc.\n",
    "\n",
    "## Fazer descrições estatísticas dos dados:\n",
    "Centralidade e características de dispersão (Ex. mediana, max, min, quantis, outliers, variancia, etc).\n",
    "Dimensões numéricas: \n",
    "    dispersão em intervalos de multipla granularidade: boxplots em intervalos computados. \n",
    "    dispersão em métricas computadas: boxplots no cubo transformado (datawarehouse)\n",
    " \n",
    "Exemplos de aula: \n",
    "*média, mediana, moda\n",
    "*distribuição normal, assimétrica (positiva/negativa)\n",
    "*quartis, faixa inter-quartis, sumário de 5 numeros (min, q1, mediana, q2, max): boxplot\n",
    "*variância e desvio-padrão.\n",
    "\n",
    "Fazer a descrição através de gráficos boxplot, histogramas, qualtile plot, scatter plot.\n",
    "\n",
    "**Identificar outliers**: valores maiores que Q3 + 1,5*IQR ou menores que Q1 - 1,5*IQR\n",
    "\n",
    "## Aplicar outras técnicas\n",
    "Matriz de dados  \n",
    "Matriz de dissimilaridade  \n",
    " (ver slides sobre Medidas de proximidade e dissimilaridade)\n",
    "\n",
    "\n",
    "\n",
    "\n",
    "\n",
    "## Arquivos de dados  \n",
    "Conforme descrição do Ogasawara em [Brazilian Flight Dataset](http://eic.cefet-rj.br/~eogasawara/brazilian-flight-datasets/):  \n",
    "**airports-br.xlsx** - Lista de aeroportos. Não fornecido. Usaremos o do Gustavo: [airports.dat](https://openflights.org/data.html).  \n",
    "**vra.RData** - todos os dados sobre voos, de jan/2009 a dez/2017.  \n",
    "**airports_hist.xlsx** - Não fornecido. Seriam os histogramas das atividades dos 62 principis aeroportos, correspondendo a 92% do tráfego monitorado pela ANAC.  \n",
    "**wu.RData** - informações sobre o clima nos principais 62 aeroportos.  \n",
    "**vra-wu.RData** - informações sobre os voos, com dados do clima na partida e chegada nessses 62 aeroportos.  \n",
    "\n",
    "\n"
   ]
  },
  {
   "cell_type": "markdown",
   "metadata": {},
   "source": [
    "### Arquivo **vra.RData**"
   ]
  },
  {
   "cell_type": "code",
   "execution_count": 8,
   "metadata": {
    "scrolled": true
   },
   "outputs": [
    {
     "data": {
      "text/html": [
       "<table>\n",
       "<thead><tr><th scope=col>destiny</th><th scope=col>origin</th><th scope=col>airlines</th><th scope=col>flight</th><th scope=col>autho_code</th><th scope=col>line_type</th><th scope=col>depart_expect</th><th scope=col>depart</th><th scope=col>arrival_expect</th><th scope=col>arrival</th><th scope=col>⋯</th><th scope=col>arrival_delay</th><th scope=col>duration_expect</th><th scope=col>duration</th><th scope=col>duration_delta</th><th scope=col>name.x</th><th scope=col>city.x</th><th scope=col>state.x</th><th scope=col>name.y</th><th scope=col>city.y</th><th scope=col>state.y</th></tr></thead>\n",
       "<tbody>\n",
       "\t<tr><td>CYYZ                                       </td><td>SBGR                                       </td><td>ACA                                        </td><td>91                                         </td><td>0                                          </td><td>I                                          </td><td>2009-01-11 22:30:00                        </td><td>2009-01-11 22:30:00                        </td><td>2009-01-12 08:35:00                        </td><td>2009-01-12 08:35:00                        </td><td>⋯                                          </td><td>0                                          </td><td>605                                        </td><td>605                                        </td><td>0                                          </td><td>GUARULHOS - GOVERNADOR ANDRÉ FRANCO MONTORO</td><td>GUARULHOS                                  </td><td>SP                                         </td><td>NA                                         </td><td>NA                                         </td><td>NA                                         </td></tr>\n",
       "\t<tr><td>CYYZ                                       </td><td>SBGR                                       </td><td>ACA                                        </td><td>91                                         </td><td>0                                          </td><td>I                                          </td><td>2009-01-05 22:30:00                        </td><td>2009-01-05 22:30:00                        </td><td>2009-01-06 08:35:00                        </td><td>2009-01-06 08:35:00                        </td><td>⋯                                          </td><td>0                                          </td><td>605                                        </td><td>605                                        </td><td>0                                          </td><td>GUARULHOS - GOVERNADOR ANDRÉ FRANCO MONTORO</td><td>GUARULHOS                                  </td><td>SP                                         </td><td>NA                                         </td><td>NA                                         </td><td>NA                                         </td></tr>\n",
       "\t<tr><td>CYYZ                                       </td><td>SBGR                                       </td><td>ACA                                        </td><td>91                                         </td><td>0                                          </td><td>I                                          </td><td>2009-01-26 22:30:00                        </td><td>2009-01-26 22:30:00                        </td><td>2009-01-27 08:35:00                        </td><td>2009-01-27 08:35:00                        </td><td>⋯                                          </td><td>0                                          </td><td>605                                        </td><td>605                                        </td><td>0                                          </td><td>GUARULHOS - GOVERNADOR ANDRÉ FRANCO MONTORO</td><td>GUARULHOS                                  </td><td>SP                                         </td><td>NA                                         </td><td>NA                                         </td><td>NA                                         </td></tr>\n",
       "\t<tr><td>CYYZ                                       </td><td>SAEZ                                       </td><td>ACA                                        </td><td>95                                         </td><td>0                                          </td><td>I                                          </td><td>2009-01-31 21:05:00                        </td><td>2009-01-31 21:05:00                        </td><td>2009-02-01 08:40:00                        </td><td>2009-02-01 08:40:00                        </td><td>⋯                                          </td><td>0                                          </td><td>695                                        </td><td>695                                        </td><td>0                                          </td><td>NA                                         </td><td>NA                                         </td><td>NA                                         </td><td>NA                                         </td><td>NA                                         </td><td>NA                                         </td></tr>\n",
       "\t<tr><td>CYYZ                                       </td><td>SBGR                                       </td><td>ACA                                        </td><td>91                                         </td><td>0                                          </td><td>I                                          </td><td>2009-01-31 22:30:00                        </td><td>2009-01-31 22:30:00                        </td><td>2009-02-01 08:35:00                        </td><td>2009-02-01 08:35:00                        </td><td>⋯                                          </td><td>0                                          </td><td>605                                        </td><td>605                                        </td><td>0                                          </td><td>GUARULHOS - GOVERNADOR ANDRÉ FRANCO MONTORO</td><td>GUARULHOS                                  </td><td>SP                                         </td><td>NA                                         </td><td>NA                                         </td><td>NA                                         </td></tr>\n",
       "\t<tr><td>CYYZ                                       </td><td>SBGR                                       </td><td>ACA                                        </td><td>91                                         </td><td>0                                          </td><td>I                                          </td><td>2009-01-14 22:30:00                        </td><td>2009-01-14 22:30:00                        </td><td>2009-01-15 08:35:00                        </td><td>2009-01-15 08:35:00                        </td><td>⋯                                          </td><td>0                                          </td><td>605                                        </td><td>605                                        </td><td>0                                          </td><td>GUARULHOS - GOVERNADOR ANDRÉ FRANCO MONTORO</td><td>GUARULHOS                                  </td><td>SP                                         </td><td>NA                                         </td><td>NA                                         </td><td>NA                                         </td></tr>\n",
       "</tbody>\n",
       "</table>\n"
      ],
      "text/latex": [
       "\\begin{tabular}{r|lllllllllllllllllllllllllll}\n",
       " destiny & origin & airlines & flight & autho\\_code & line\\_type & depart\\_expect & depart & arrival\\_expect & arrival & ⋯ & arrival\\_delay & duration\\_expect & duration & duration\\_delta & name.x & city.x & state.x & name.y & city.y & state.y\\\\\n",
       "\\hline\n",
       "\t CYYZ                                        & SBGR                                        & ACA                                         & 91                                          & 0                                           & I                                           & 2009-01-11 22:30:00                         & 2009-01-11 22:30:00                         & 2009-01-12 08:35:00                         & 2009-01-12 08:35:00                         & ⋯                                           & 0                                           & 605                                         & 605                                         & 0                                           & GUARULHOS - GOVERNADOR ANDRÉ FRANCO MONTORO & GUARULHOS                                   & SP                                          & NA                                          & NA                                          & NA                                         \\\\\n",
       "\t CYYZ                                        & SBGR                                        & ACA                                         & 91                                          & 0                                           & I                                           & 2009-01-05 22:30:00                         & 2009-01-05 22:30:00                         & 2009-01-06 08:35:00                         & 2009-01-06 08:35:00                         & ⋯                                           & 0                                           & 605                                         & 605                                         & 0                                           & GUARULHOS - GOVERNADOR ANDRÉ FRANCO MONTORO & GUARULHOS                                   & SP                                          & NA                                          & NA                                          & NA                                         \\\\\n",
       "\t CYYZ                                        & SBGR                                        & ACA                                         & 91                                          & 0                                           & I                                           & 2009-01-26 22:30:00                         & 2009-01-26 22:30:00                         & 2009-01-27 08:35:00                         & 2009-01-27 08:35:00                         & ⋯                                           & 0                                           & 605                                         & 605                                         & 0                                           & GUARULHOS - GOVERNADOR ANDRÉ FRANCO MONTORO & GUARULHOS                                   & SP                                          & NA                                          & NA                                          & NA                                         \\\\\n",
       "\t CYYZ                                        & SAEZ                                        & ACA                                         & 95                                          & 0                                           & I                                           & 2009-01-31 21:05:00                         & 2009-01-31 21:05:00                         & 2009-02-01 08:40:00                         & 2009-02-01 08:40:00                         & ⋯                                           & 0                                           & 695                                         & 695                                         & 0                                           & NA                                          & NA                                          & NA                                          & NA                                          & NA                                          & NA                                         \\\\\n",
       "\t CYYZ                                        & SBGR                                        & ACA                                         & 91                                          & 0                                           & I                                           & 2009-01-31 22:30:00                         & 2009-01-31 22:30:00                         & 2009-02-01 08:35:00                         & 2009-02-01 08:35:00                         & ⋯                                           & 0                                           & 605                                         & 605                                         & 0                                           & GUARULHOS - GOVERNADOR ANDRÉ FRANCO MONTORO & GUARULHOS                                   & SP                                          & NA                                          & NA                                          & NA                                         \\\\\n",
       "\t CYYZ                                        & SBGR                                        & ACA                                         & 91                                          & 0                                           & I                                           & 2009-01-14 22:30:00                         & 2009-01-14 22:30:00                         & 2009-01-15 08:35:00                         & 2009-01-15 08:35:00                         & ⋯                                           & 0                                           & 605                                         & 605                                         & 0                                           & GUARULHOS - GOVERNADOR ANDRÉ FRANCO MONTORO & GUARULHOS                                   & SP                                          & NA                                          & NA                                          & NA                                         \\\\\n",
       "\\end{tabular}\n"
      ],
      "text/markdown": [
       "\n",
       "destiny | origin | airlines | flight | autho_code | line_type | depart_expect | depart | arrival_expect | arrival | ⋯ | arrival_delay | duration_expect | duration | duration_delta | name.x | city.x | state.x | name.y | city.y | state.y | \n",
       "|---|---|---|---|---|---|\n",
       "| CYYZ                                        | SBGR                                        | ACA                                         | 91                                          | 0                                           | I                                           | 2009-01-11 22:30:00                         | 2009-01-11 22:30:00                         | 2009-01-12 08:35:00                         | 2009-01-12 08:35:00                         | ⋯                                           | 0                                           | 605                                         | 605                                         | 0                                           | GUARULHOS - GOVERNADOR ANDRÉ FRANCO MONTORO | GUARULHOS                                   | SP                                          | NA                                          | NA                                          | NA                                          | \n",
       "| CYYZ                                        | SBGR                                        | ACA                                         | 91                                          | 0                                           | I                                           | 2009-01-05 22:30:00                         | 2009-01-05 22:30:00                         | 2009-01-06 08:35:00                         | 2009-01-06 08:35:00                         | ⋯                                           | 0                                           | 605                                         | 605                                         | 0                                           | GUARULHOS - GOVERNADOR ANDRÉ FRANCO MONTORO | GUARULHOS                                   | SP                                          | NA                                          | NA                                          | NA                                          | \n",
       "| CYYZ                                        | SBGR                                        | ACA                                         | 91                                          | 0                                           | I                                           | 2009-01-26 22:30:00                         | 2009-01-26 22:30:00                         | 2009-01-27 08:35:00                         | 2009-01-27 08:35:00                         | ⋯                                           | 0                                           | 605                                         | 605                                         | 0                                           | GUARULHOS - GOVERNADOR ANDRÉ FRANCO MONTORO | GUARULHOS                                   | SP                                          | NA                                          | NA                                          | NA                                          | \n",
       "| CYYZ                                        | SAEZ                                        | ACA                                         | 95                                          | 0                                           | I                                           | 2009-01-31 21:05:00                         | 2009-01-31 21:05:00                         | 2009-02-01 08:40:00                         | 2009-02-01 08:40:00                         | ⋯                                           | 0                                           | 695                                         | 695                                         | 0                                           | NA                                          | NA                                          | NA                                          | NA                                          | NA                                          | NA                                          | \n",
       "| CYYZ                                        | SBGR                                        | ACA                                         | 91                                          | 0                                           | I                                           | 2009-01-31 22:30:00                         | 2009-01-31 22:30:00                         | 2009-02-01 08:35:00                         | 2009-02-01 08:35:00                         | ⋯                                           | 0                                           | 605                                         | 605                                         | 0                                           | GUARULHOS - GOVERNADOR ANDRÉ FRANCO MONTORO | GUARULHOS                                   | SP                                          | NA                                          | NA                                          | NA                                          | \n",
       "| CYYZ                                        | SBGR                                        | ACA                                         | 91                                          | 0                                           | I                                           | 2009-01-14 22:30:00                         | 2009-01-14 22:30:00                         | 2009-01-15 08:35:00                         | 2009-01-15 08:35:00                         | ⋯                                           | 0                                           | 605                                         | 605                                         | 0                                           | GUARULHOS - GOVERNADOR ANDRÉ FRANCO MONTORO | GUARULHOS                                   | SP                                          | NA                                          | NA                                          | NA                                          | \n",
       "\n",
       "\n"
      ],
      "text/plain": [
       "  destiny origin airlines flight autho_code line_type depart_expect      \n",
       "1 CYYZ    SBGR   ACA      91     0          I         2009-01-11 22:30:00\n",
       "2 CYYZ    SBGR   ACA      91     0          I         2009-01-05 22:30:00\n",
       "3 CYYZ    SBGR   ACA      91     0          I         2009-01-26 22:30:00\n",
       "4 CYYZ    SAEZ   ACA      95     0          I         2009-01-31 21:05:00\n",
       "5 CYYZ    SBGR   ACA      91     0          I         2009-01-31 22:30:00\n",
       "6 CYYZ    SBGR   ACA      91     0          I         2009-01-14 22:30:00\n",
       "  depart              arrival_expect      arrival             ⋯ arrival_delay\n",
       "1 2009-01-11 22:30:00 2009-01-12 08:35:00 2009-01-12 08:35:00 ⋯ 0            \n",
       "2 2009-01-05 22:30:00 2009-01-06 08:35:00 2009-01-06 08:35:00 ⋯ 0            \n",
       "3 2009-01-26 22:30:00 2009-01-27 08:35:00 2009-01-27 08:35:00 ⋯ 0            \n",
       "4 2009-01-31 21:05:00 2009-02-01 08:40:00 2009-02-01 08:40:00 ⋯ 0            \n",
       "5 2009-01-31 22:30:00 2009-02-01 08:35:00 2009-02-01 08:35:00 ⋯ 0            \n",
       "6 2009-01-14 22:30:00 2009-01-15 08:35:00 2009-01-15 08:35:00 ⋯ 0            \n",
       "  duration_expect duration duration_delta\n",
       "1 605             605      0             \n",
       "2 605             605      0             \n",
       "3 605             605      0             \n",
       "4 695             695      0             \n",
       "5 605             605      0             \n",
       "6 605             605      0             \n",
       "  name.x                                      city.x    state.x name.y city.y\n",
       "1 GUARULHOS - GOVERNADOR ANDRÉ FRANCO MONTORO GUARULHOS SP      NA     NA    \n",
       "2 GUARULHOS - GOVERNADOR ANDRÉ FRANCO MONTORO GUARULHOS SP      NA     NA    \n",
       "3 GUARULHOS - GOVERNADOR ANDRÉ FRANCO MONTORO GUARULHOS SP      NA     NA    \n",
       "4 NA                                          NA        NA      NA     NA    \n",
       "5 GUARULHOS - GOVERNADOR ANDRÉ FRANCO MONTORO GUARULHOS SP      NA     NA    \n",
       "6 GUARULHOS - GOVERNADOR ANDRÉ FRANCO MONTORO GUARULHOS SP      NA     NA    \n",
       "  state.y\n",
       "1 NA     \n",
       "2 NA     \n",
       "3 NA     \n",
       "4 NA     \n",
       "5 NA     \n",
       "6 NA     "
      ]
     },
     "metadata": {},
     "output_type": "display_data"
    }
   ],
   "source": [
    "load(\"dados/vra.RData\") \n",
    "head(vra)"
   ]
  },
  {
   "cell_type": "markdown",
   "metadata": {},
   "source": [
    "### Arquivo **wu.RData**"
   ]
  },
  {
   "cell_type": "code",
   "execution_count": 9,
   "metadata": {
    "scrolled": true
   },
   "outputs": [
    {
     "data": {
      "text/html": [
       "<table>\n",
       "<thead><tr><th scope=col>data.airport</th><th scope=col>data.date</th><th scope=col>data.hour</th><th scope=col>data.temperature</th><th scope=col>data.dew_point</th><th scope=col>data.humidity</th><th scope=col>data.pressure</th><th scope=col>data.visibility</th><th scope=col>data.events</th><th scope=col>data.conditions</th></tr></thead>\n",
       "<tbody>\n",
       "\t<tr><td>SBGR                  </td><td>2009-01-01            </td><td>00:00                 </td><td>20                    </td><td>19                    </td><td> 94                   </td><td>1016                  </td><td>NA                    </td><td>                      </td><td>Mist                  </td></tr>\n",
       "\t<tr><td>SBGR                  </td><td>2009-01-02            </td><td>00:00                 </td><td>20                    </td><td>19                    </td><td> 94                   </td><td>1015                  </td><td>NA                    </td><td>                      </td><td>Clear                 </td></tr>\n",
       "\t<tr><td>SBGR                  </td><td>2009-01-03            </td><td>00:00                 </td><td>21                    </td><td>20                    </td><td> 94                   </td><td>1012                  </td><td>10                    </td><td>Rain                  </td><td>Rain                  </td></tr>\n",
       "\t<tr><td>SBGR                  </td><td>2009-01-04            </td><td>00:00                 </td><td>21                    </td><td>19                    </td><td> 94                   </td><td>1008                  </td><td>10                    </td><td>Rain  , Thunderstorm  </td><td>Thunderstorms and Rain</td></tr>\n",
       "\t<tr><td>SBGR                  </td><td>2009-01-05            </td><td>00:00                 </td><td>16                    </td><td>16                    </td><td>100                   </td><td>1015                  </td><td>10                    </td><td>Rain                  </td><td>Mostly Cloudy         </td></tr>\n",
       "\t<tr><td>SBGR                  </td><td>2009-01-06            </td><td>00:00                 </td><td>16                    </td><td>14                    </td><td> 88                   </td><td>1017                  </td><td>10                    </td><td>                      </td><td>Mostly Cloudy         </td></tr>\n",
       "</tbody>\n",
       "</table>\n"
      ],
      "text/latex": [
       "\\begin{tabular}{r|llllllllll}\n",
       " data.airport & data.date & data.hour & data.temperature & data.dew\\_point & data.humidity & data.pressure & data.visibility & data.events & data.conditions\\\\\n",
       "\\hline\n",
       "\t SBGR                   & 2009-01-01             & 00:00                  & 20                     & 19                     &  94                    & 1016                   & NA                     &                        & Mist                  \\\\\n",
       "\t SBGR                   & 2009-01-02             & 00:00                  & 20                     & 19                     &  94                    & 1015                   & NA                     &                        & Clear                 \\\\\n",
       "\t SBGR                   & 2009-01-03             & 00:00                  & 21                     & 20                     &  94                    & 1012                   & 10                     & Rain                   & Rain                  \\\\\n",
       "\t SBGR                   & 2009-01-04             & 00:00                  & 21                     & 19                     &  94                    & 1008                   & 10                     & Rain  , Thunderstorm   & Thunderstorms and Rain\\\\\n",
       "\t SBGR                   & 2009-01-05             & 00:00                  & 16                     & 16                     & 100                    & 1015                   & 10                     & Rain                   & Mostly Cloudy         \\\\\n",
       "\t SBGR                   & 2009-01-06             & 00:00                  & 16                     & 14                     &  88                    & 1017                   & 10                     &                        & Mostly Cloudy         \\\\\n",
       "\\end{tabular}\n"
      ],
      "text/markdown": [
       "\n",
       "data.airport | data.date | data.hour | data.temperature | data.dew_point | data.humidity | data.pressure | data.visibility | data.events | data.conditions | \n",
       "|---|---|---|---|---|---|\n",
       "| SBGR                   | 2009-01-01             | 00:00                  | 20                     | 19                     |  94                    | 1016                   | NA                     |                        | Mist                   | \n",
       "| SBGR                   | 2009-01-02             | 00:00                  | 20                     | 19                     |  94                    | 1015                   | NA                     |                        | Clear                  | \n",
       "| SBGR                   | 2009-01-03             | 00:00                  | 21                     | 20                     |  94                    | 1012                   | 10                     | Rain                   | Rain                   | \n",
       "| SBGR                   | 2009-01-04             | 00:00                  | 21                     | 19                     |  94                    | 1008                   | 10                     | Rain  , Thunderstorm   | Thunderstorms and Rain | \n",
       "| SBGR                   | 2009-01-05             | 00:00                  | 16                     | 16                     | 100                    | 1015                   | 10                     | Rain                   | Mostly Cloudy          | \n",
       "| SBGR                   | 2009-01-06             | 00:00                  | 16                     | 14                     |  88                    | 1017                   | 10                     |                        | Mostly Cloudy          | \n",
       "\n",
       "\n"
      ],
      "text/plain": [
       "  data.airport data.date  data.hour data.temperature data.dew_point\n",
       "1 SBGR         2009-01-01 00:00     20               19            \n",
       "2 SBGR         2009-01-02 00:00     20               19            \n",
       "3 SBGR         2009-01-03 00:00     21               20            \n",
       "4 SBGR         2009-01-04 00:00     21               19            \n",
       "5 SBGR         2009-01-05 00:00     16               16            \n",
       "6 SBGR         2009-01-06 00:00     16               14            \n",
       "  data.humidity data.pressure data.visibility data.events         \n",
       "1  94           1016          NA                                  \n",
       "2  94           1015          NA                                  \n",
       "3  94           1012          10              Rain                \n",
       "4  94           1008          10              Rain  , Thunderstorm\n",
       "5 100           1015          10              Rain                \n",
       "6  88           1017          10                                  \n",
       "  data.conditions       \n",
       "1 Mist                  \n",
       "2 Clear                 \n",
       "3 Rain                  \n",
       "4 Thunderstorms and Rain\n",
       "5 Mostly Cloudy         \n",
       "6 Mostly Cloudy         "
      ]
     },
     "metadata": {},
     "output_type": "display_data"
    }
   ],
   "source": [
    "load(\"dados/wu.RData\") \n",
    "head(wu)"
   ]
  },
  {
   "cell_type": "markdown",
   "metadata": {},
   "source": [
    "## Questões suscitadas\n",
    "1. Qual é o percentual de voos atrasados em relação ao total \n",
    "  1. por ano?\n",
    "  1. por aeroporto?\n",
    "  1. por companhia aérea?\n",
    "  1. por mês do ano?\n",
    "  1. por umidade/temperatura/pressão?\n",
    "  1. por visibilidade?\n",
    "  1. por condições climáticas?\n",
    "1. É possível identificar a propagação de atrasos (ex. atraso em POA = atraso em CGH)?\n",
    "1. É possível identificar algum *trigger* meteorologico que sirva como preditor de atrasos?\n",
    "1. É possível correlacionar esse trigger com os atrasos (Ex. CHUVA em POA = atraso em CGH)?\n",
    "1. Quais foram as datas com maior quantidade de delays?\n",
    "1. Há correlação entre as condições meteorológicas e os atrasos? (ou haverá outros motivos que os expliquem?)\n",
    "1. Quais são as justificativas mais frequentes para os atrasos?\n"
   ]
  },
  {
   "cell_type": "code",
   "execution_count": 10,
   "metadata": {
    "scrolled": true
   },
   "outputs": [
    {
     "data": {
      "text/plain": [
       " data.airport        data.date          data.hour         data.temperature\n",
       " Length:4438934     Length:4438934     Length:4438934     Min.   : 0.00   \n",
       " Class :character   Class :character   Class :character   1st Qu.:20.00   \n",
       " Mode  :character   Mode  :character   Mode  :character   Median :24.00   \n",
       "                                                          Mean   :23.39   \n",
       "                                                          3rd Qu.:27.00   \n",
       "                                                          Max.   :90.00   \n",
       "                                                          NA's   :56735   \n",
       " data.dew_point   data.humidity    data.pressure    data.visibility  \n",
       " Min.   : 0.00    Min.   :  0.00   Min.   :   0.0   Min.   :    0.0  \n",
       " 1st Qu.:15.00    1st Qu.: 60.00   1st Qu.:1011.0   1st Qu.:   10.0  \n",
       " Median :19.00    Median : 74.00   Median :1014.0   Median :   10.0  \n",
       " Mean   :18.19    Mean   : 70.78   Mean   : 972.9   Mean   :   64.8  \n",
       " 3rd Qu.:22.00    3rd Qu.: 88.00   3rd Qu.:1017.0   3rd Qu.:   10.0  \n",
       " Max.   :81.00    Max.   :999.00   Max.   :1100.0   Max.   :14481.0  \n",
       " NA's   :185961   NA's   :59859    NA's   :131282   NA's   :1178872  \n",
       " data.events        data.conditions   \n",
       " Length:4438934     Length:4438934    \n",
       " Class :character   Class :character  \n",
       " Mode  :character   Mode  :character  \n",
       "                                      \n",
       "                                      \n",
       "                                      \n",
       "                                      "
      ]
     },
     "metadata": {},
     "output_type": "display_data"
    }
   ],
   "source": [
    "summary(wu)"
   ]
  },
  {
   "cell_type": "markdown",
   "metadata": {},
   "source": [
    "WU: \n",
    "1. converter o campo *data.date* de character para date \n",
    "1. decompor o novo campo em ano, mes, dia\n",
    "1. converter o campo *data.time* de character para time\n",
    "1. decompor o novo campo em hora, minuto\n"
   ]
  },
  {
   "cell_type": "code",
   "execution_count": 11,
   "metadata": {},
   "outputs": [
    {
     "data": {
      "text/plain": [
       "    destiny            origin           airlines           flight        \n",
       " SBGR   :1207826   SBGR   :1205293   GLO    :2876430   3893   :   14602  \n",
       " SBSP   : 786220   SBSP   : 783266   TAM    :2583614   3892   :   13973  \n",
       " SBBR   : 705285   SBBR   : 707281   AZU    :1720838   1939   :   13062  \n",
       " SBGL   : 613967   SBGL   : 612576   TIB    : 584460   1938   :   12948  \n",
       " SBKP   : 523274   SBKP   : 523276   ONE    : 534429   922    :   11912  \n",
       " SBCF   : 488655   SBCF   : 488099   PTB    : 247070   1501   :   11189  \n",
       " (Other):6192001   (Other):6197437   (Other):1970387   (Other):10439542  \n",
       "   autho_code        line_type       depart_expect                \n",
       " 0      :9990125   N      :6142110   Min.   :2009-01-01 00:00:00  \n",
       " 2      : 225985   R      :1766731   1st Qu.:2011-06-14 14:44:30  \n",
       " 4      : 132722   I      :1462271   Median :2013-06-30 17:25:00  \n",
       " 9      :  46157   E      : 652614   Mean   :2013-07-19 15:40:17  \n",
       " 6      :  43028   G      : 335633   3rd Qu.:2015-09-13 22:30:00  \n",
       " 7      :  37319   C      :  87713   Max.   :2018-01-02 10:30:00  \n",
       " (Other):  41892   (Other):  70156   NA's   :519084               \n",
       "     depart                    arrival_expect               \n",
       " Min.   :2000-05-21 22:05:00   Min.   :2009-01-01 00:45:00  \n",
       " 1st Qu.:2011-06-06 11:20:00   1st Qu.:2011-06-14 16:26:00  \n",
       " Median :2013-06-13 10:20:30   Median :2013-06-30 19:30:00  \n",
       " Mean   :2013-07-11 14:05:39   Mean   :2013-07-19 18:04:28  \n",
       " 3rd Qu.:2015-09-07 17:08:00   3rd Qu.:2015-09-14 02:20:30  \n",
       " Max.   :2018-01-02 20:45:00   Max.   :2018-01-02 11:00:00  \n",
       " NA's   :1114986               NA's   :519084               \n",
       "    arrival                          status         observation     \n",
       " Min.   :2001-10-01 19:37:00   Cancelado: 853504          :5534203  \n",
       " 1st Qu.:2011-06-06 13:17:00   Realizado:7424848          :1352523  \n",
       " Median :2013-06-13 12:21:00   CANCELADO: 261525   XN     : 738619  \n",
       " Mean   :2013-07-11 16:41:44   REALIZADO:1977351   HD     : 574023  \n",
       " 3rd Qu.:2015-09-07 19:12:00                       AR     : 364752  \n",
       " Max.   :2020-02-20 15:45:00                       MX     : 244584  \n",
       " NA's   :1114987                                   (Other):1708524  \n",
       " depart_expect_date depart_expect_hour arrival_expect_date arrival_expect_hour\n",
       " Length:10517228    Length:10517228    Length:10517228     Length:10517228    \n",
       " Class :character   Class :character   Class :character    Class :character   \n",
       " Mode  :character   Mode  :character   Mode  :character    Mode  :character   \n",
       "                                                                              \n",
       "                                                                              \n",
       "                                                                              \n",
       "                                                                              \n",
       " departure_delay    arrival_delay     duration_expect       duration       \n",
       " Min.   :-4733282   Min.   :-526245   Min.   :-19980.0   Min.   :-5258880  \n",
       " 1st Qu.:       0   1st Qu.:      0   1st Qu.:    65.0   1st Qu.:      67  \n",
       " Median :       0   Median :      0   Median :    93.0   Median :      95  \n",
       " Mean   :      -7   Mean   :      1   Mean   :   144.2   Mean   :     156  \n",
       " 3rd Qu.:       0   3rd Qu.:      0   3rd Qu.:   151.0   3rd Qu.:     155  \n",
       " Max.   :  830982   Max.   :4733403   Max.   : 46080.0   Max.   : 5258905  \n",
       " NA's   :1634064    NA's   :1634065   NA's   :519084     NA's   :1114987   \n",
       " duration_delta       name.x             city.x            state.x         \n",
       " Min.   :-830866   Length:10517228    Length:10517228    Length:10517228   \n",
       " 1st Qu.:      0   Class :character   Class :character   Class :character  \n",
       " Median :      0   Mode  :character   Mode  :character   Mode  :character  \n",
       " Mean   :      9                                                           \n",
       " 3rd Qu.:      0                                                           \n",
       " Max.   :4733546                                                           \n",
       " NA's   :1634065                                                           \n",
       "    name.y             city.y            state.y         \n",
       " Length:10517228    Length:10517228    Length:10517228   \n",
       " Class :character   Class :character   Class :character  \n",
       " Mode  :character   Mode  :character   Mode  :character  \n",
       "                                                         \n",
       "                                                         \n",
       "                                                         \n",
       "                                                         "
      ]
     },
     "metadata": {},
     "output_type": "display_data"
    }
   ],
   "source": [
    "summary(vra)"
   ]
  },
  {
   "cell_type": "code",
   "execution_count": null,
   "metadata": {},
   "outputs": [],
   "source": []
  }
 ],
 "metadata": {
  "kernelspec": {
   "display_name": "R",
   "language": "R",
   "name": "ir"
  },
  "language_info": {
   "codemirror_mode": "r",
   "file_extension": ".r",
   "mimetype": "text/x-r-source",
   "name": "R",
   "pygments_lexer": "r",
   "version": "3.4.3"
  }
 },
 "nbformat": 4,
 "nbformat_minor": 2
}
