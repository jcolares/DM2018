{
 "cells": [
  {
   "cell_type": "markdown",
   "metadata": {},
   "source": [
    "# Notebook do Jeff.\n",
    "\n",
    "Atividades da análise exploratória, de acordo com as notas de aula do Ogasawara:\n",
    "\n",
    "## Identificar data objects (entidades e seus atributos)\n",
    "Registrar o tipo de cada atributo (Nominal, binário, numérico)\n",
    "*nominal: tipos de coisas\n",
    "*binary: 0 ou 1, S e N (lembrando que pode ser simétrico ou assimétrico)\n",
    "*ordinal: valores que representam relação de ordenação (ranking) das entidades ex: tamanho: p-m-g\n",
    "*quantidade: numeros não discretos\n",
    "*intervalo: medidas em uma escala sem um zero-point. ex> temperatura, datas do calendario, etc\n",
    "*razão:  medidas em uma escala com um zero-point: ex: graus em celsius, quantidades monetárias, etc.\n",
    "\n",
    "## Fazer descrições estatísticas dos dados:\n",
    "Centralidade e características de dispersão (Ex. mediana, max, min, quantis, outliers, variancia, etc).\n",
    "Dimensões numéricas: \n",
    "    dispersão em intervalos de multipla granularidade: boxplots em intervalos computados. \n",
    "    dispersão em métricas computadas: boxplots no cubo transformado (datawarehouse)\n",
    " \n",
    "Exemplos de aula: \n",
    "*média, mediana, moda\n",
    "*distribuição normal, assimétrica (positiva/negativa)\n",
    "*quartis, faixa inter-quartis, sumário de 5 numeros (min, q1, mediana, q2, max): boxplot\n",
    "*variância e desvio-padrão.\n",
    "\n",
    "Fazer a descrição através de gráficos boxplot, histogramas, qualtile plot, scatter plot.\n",
    "\n",
    "**Identificar outliers**: valores maiores que Q3 + 1,5*IQR ou menores que Q1 - 1,5*IQR\n",
    "\n",
    "## Aplicar outras técnicas\n",
    "Matriz de dados\n",
    "Matriz de dissimilaridade\n",
    " (ver slides sobre Medidas de proximidade e dissimilaridade)\n",
    "\n",
    "\n",
    "\n",
    "\n",
    "\n",
    "## Arquivos de dados  \n",
    "Conforme descrição do Ogasawara em [Brazilian Flight Dataset](http://eic.cefet-rj.br/~eogasawara/brazilian-flight-datasets/):  \n",
    "**airports-br.xlsx** - Lista de aeroportos. Não fornecido. Usaremos o do Gustavo: [airports.dat](https://openflights.org/data.html).  \n",
    "**vra.RData** - todos os dados sobre voos, de jan/2009 a dez/2017.  \n",
    "**airports_hist.xlsx** - Não fornecido. Seriam os histogramas das atividades dos 62 principis aeroportos, correspondendo a 92% do tráfego monitorado pela ANAC.  \n",
    "**wu.RData** - informações sobre o clima nos principais 62 aeroportos.  \n",
    "**vra-wu.RData** - informações sobre os voos, com dados do clima na partida e chegada nessses 62 aeroportos.  \n",
    "\n",
    "\n"
   ]
  },
  {
   "cell_type": "code",
   "execution_count": null,
   "metadata": {
    "scrolled": true
   },
   "outputs": [
    {
     "name": "stderr",
     "output_type": "stream",
     "text": [
      "Warning message in read.table(file = file, header = header, sep = sep, quote = quote, :\n",
      "“line 3 appears to contain embedded nulls”Warning message in read.table(file = file, header = header, sep = sep, quote = quote, :\n",
      "“line 4 appears to contain embedded nulls”Warning message in read.table(file = file, header = header, sep = sep, quote = quote, :\n",
      "“line 5 appears to contain embedded nulls”"
     ]
    }
   ],
   "source": [
    "mydata = read.csv(\"../../dados/vra.RData\", fileEncoding=\"ISO-8859-1\")\n",
    "head(mydata, n=10)"
   ]
  },
  {
   "cell_type": "code",
   "execution_count": null,
   "metadata": {},
   "outputs": [],
   "source": []
  },
  {
   "cell_type": "code",
   "execution_count": null,
   "metadata": {},
   "outputs": [],
   "source": []
  },
  {
   "cell_type": "code",
   "execution_count": null,
   "metadata": {},
   "outputs": [],
   "source": []
  }
 ],
 "metadata": {
  "kernelspec": {
   "display_name": "R",
   "language": "R",
   "name": "ir"
  },
  "language_info": {
   "codemirror_mode": "r",
   "file_extension": ".r",
   "mimetype": "text/x-r-source",
   "name": "R",
   "pygments_lexer": "r",
   "version": "3.4.3"
  }
 },
 "nbformat": 4,
 "nbformat_minor": 2
}
