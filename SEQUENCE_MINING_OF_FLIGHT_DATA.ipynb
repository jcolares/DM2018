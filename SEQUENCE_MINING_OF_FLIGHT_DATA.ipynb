{
 "cells": [
  {
   "cell_type": "markdown",
   "metadata": {},
   "source": [
    "<html>\n",
    "    <head>\n",
    "        <style>\n",
    "            .titulo {\n",
    "                color: white;\n",
    "                align: center;\n",
    "                width: 100%;\n",
    "            }\n",
    "        </style>\n",
    "    </head>\n",
    "    <body>\n",
    "        <table style=\"background-color:white; color: black;\">\n",
    "            <tr style=\"background-color:white; color: black;\">\n",
    "                <td width=\"100%\"><img src=\"cefet.jpg\" width=\"100%\"></td>\n",
    "            </tr>\n",
    "            <tr style=\"background-color:white; color: black;\">\n",
    "                <td width=\"100%\"></td>\n",
    "            </tr>\n",
    "            <tr style=\"background-color:white; color: black;\">\n",
    "                <td width=\"100%\"></td>\n",
    "            </tr>\n",
    "            <tr style=\"background-color:#23238E; color: white;\">\n",
    "                <td class=\"titulo\">\n",
    "                    <p style=\"font-size: 28px; text-align:center;\">\n",
    "                        <b>Sequence Mining of Flight Data</b>\n",
    "                    </p>\n",
    "                </td>\n",
    "            </tr>\n",
    "            <tr style=\"background-color:white; color: black;\">\n",
    "                <td width=\"100%\"></td>\n",
    "            </tr>\n",
    "            <tr style=\"background-color:white; color: black;\">\n",
    "                <td width=\"100%\"></td>\n",
    "            </tr>\n",
    "            <tr style=\"background-color:white; color:#23238E;\">\n",
    "                <td width=\"100%\">\n",
    "                    <p style=\"font-size: 24px; text-align:center;\">\n",
    "                        <b>Project Assignment for the Data Mining Class</b>\n",
    "                    </p>\n",
    "                </td>\n",
    "            </tr>\n",
    "            <tr style=\"background-color:white; color: black;\">\n",
    "                <td width=\"100%\"></td>\n",
    "            </tr>\n",
    "            <tr style=\"background-color:white; color: black;\">\n",
    "                <td width=\"100%\"></td>\n",
    "            </tr>\n",
    "            <tr style=\"background-color:white; color: #23238E;\">\n",
    "                <td width=\"100%\">\n",
    "                    <p style=\"font-size: 20px; text-align:left;\">\n",
    "                        <b>Group Project:</b>\n",
    "                    </p>\n",
    "                </td>\n",
    "            </tr>\n",
    "            <tr style=\"background-color:white; color: black;\">\n",
    "                <td align=\"left\" width=\"40%\">\n",
    "                    <table align=\"left\" width=\"40%\" style=\"background-color:white; color: black; border: 1px solid black;\">\n",
    "                        <tr>\n",
    "                            <td><p style=\"font-size: 18px; text-align:left;\">Claudio Teixeira</p></td>\n",
    "                            <td><p style=\"font-size: 18px; text-align:left;\">PPPRO</p></td>\n",
    "                        </tr>\n",
    "                        <tr>\n",
    "                            <td><p style=\"font-size: 18px; text-align:left;\">Jefferson Collares</p></td>\n",
    "                            <td><p style=\"font-size: 18px; text-align:left;\">PPCIC</p></td>\n",
    "                        </tr>\n",
    "                        <tr>\n",
    "                            <td><p style=\"font-size: 18px; text-align:left;\">Gustavo</p></td>\n",
    "                            <td><p style=\"font-size: 18px; text-align:left;\">PPCIC</p></td>\n",
    "                        </tr>\n",
    "                        <tr>\n",
    "                            <td><p style=\"font-size: 18px; text-align:left;\">Rafael Fialho</p></td>\n",
    "                            <td><p style=\"font-size: 18px; text-align:left;\">PPCIC</p></td>\n",
    "                        </tr>\n",
    "                    </table>    \n",
    "                </td>\n",
    "                <td width=\"60%\">&nbsp;</td>\n",
    "            </tr>\n",
    "            <tr style=\"background-color:white; color: black;\">\n",
    "                <td width=\"100%\"></td>\n",
    "            </tr>\n",
    "            <tr style=\"background-color:white; color: black;\">\n",
    "                <td width=\"100%\"></td>\n",
    "            </tr>\n",
    "            <tr>\n",
    "                <td>\n",
    "                    <table align=\"right\" style=\"background-color:white; border: 0px;\">\n",
    "                        <tr style=\"background-color:white; border: 0px;\">\n",
    "                            <td style=\"background-color:white; border: 0px;\">\n",
    "                                <img style=\"width:300px;height:64px;\" src=\"eogasawara.jpg\">\n",
    "                            </td>\n",
    "                        </tr>    \n",
    "                    </table>    \n",
    "                </td>\n",
    "            </tr>\n",
    "        </table>\n",
    "    </body>\n",
    "</html>    \n",
    "    \n",
    "\n"
   ]
  },
  {
   "cell_type": "markdown",
   "metadata": {},
   "source": [
    "-----------------------------------------------------------------------------------------------------------------------"
   ]
  },
  {
   "cell_type": "markdown",
   "metadata": {},
   "source": [
    "# Scope\n",
    "### ▪ Exploratory Analysis<br>\n",
    "### ▪ Data Preprocessing<br>\n",
    "### ▪ Data Mining Function<br>\n",
    "### ▪ Analysis of Results<br>"
   ]
  },
  {
   "cell_type": "markdown",
   "metadata": {},
   "source": [
    "-----------------------------------------------------------------------------------------------------------------------"
   ]
  },
  {
   "cell_type": "markdown",
   "metadata": {},
   "source": [
    "### Exploratory Analysis"
   ]
  },
  {
   "cell_type": "markdown",
   "metadata": {},
   "source": [
    "Insira a sua codificação R aqui. **Responsável:** Rafael Fialho"
   ]
  },
  {
   "cell_type": "markdown",
   "metadata": {},
   "source": [
    "### Data Preprocessing"
   ]
  },
  {
   "cell_type": "markdown",
   "metadata": {},
   "source": [
    "Insira a sua codificação R aqui. **Responsável:** Jefferson Colares e Gustavo"
   ]
  },
  {
   "cell_type": "markdown",
   "metadata": {},
   "source": [
    "### Data Mining Function"
   ]
  },
  {
   "cell_type": "markdown",
   "metadata": {},
   "source": [
    "Insira a sua codificação R aqui. **Responsável:** Claudio Teixeira"
   ]
  },
  {
   "cell_type": "markdown",
   "metadata": {},
   "source": [
    "### Analysis of Results"
   ]
  },
  {
   "cell_type": "markdown",
   "metadata": {},
   "source": [
    "Insira a sua codificação R aqui. **Responsável:** TODOS"
   ]
  },
  {
   "cell_type": "code",
   "execution_count": null,
   "metadata": {},
   "outputs": [],
   "source": []
  }
 ],
 "metadata": {
  "kernelspec": {
   "display_name": "R",
   "language": "R",
   "name": "ir"
  },
  "language_info": {
   "codemirror_mode": "r",
   "file_extension": ".r",
   "mimetype": "text/x-r-source",
   "name": "R",
   "pygments_lexer": "r",
   "version": "3.4.3"
  }
 },
 "nbformat": 4,
 "nbformat_minor": 2
}
